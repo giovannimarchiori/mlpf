{
 "cells": [
  {
   "cell_type": "code",
   "execution_count": null,
   "id": "initial_id",
   "metadata": {
    "collapsed": true
   },
   "outputs": [],
   "source": [
    ""
   ]
  },
  {
   "metadata": {
    "ExecuteTime": {
     "end_time": "2024-05-26T20:29:54.727417Z",
     "start_time": "2024-05-26T20:29:52.713289Z"
    }
   },
   "cell_type": "code",
   "source": [
    "import pickle\n",
    "dir = \"/eos/user/g/gkrzmanc/2024/cluster_features_filt_2305_correct_thetaphi/cluster_features_filt/c9kmgl3r9s.pkl\"\n",
    "with open(dir, 'rb') as f:\n",
    "    data = pickle.load(f)\n",
    "    "
   ],
   "id": "ef5d7c117ad2c836",
   "outputs": [],
   "execution_count": 1
  },
  {
   "metadata": {
    "ExecuteTime": {
     "end_time": "2024-05-26T20:35:36.711216Z",
     "start_time": "2024-05-26T20:35:36.704173Z"
    }
   },
   "cell_type": "code",
   "source": "data[\"pid_y\"][8]",
   "id": "ddde11ab6de1a55f",
   "outputs": [
    {
     "data": {
      "text/plain": [
       "211.0"
      ]
     },
     "execution_count": 36,
     "metadata": {},
     "output_type": "execute_result"
    }
   ],
   "execution_count": 36
  },
  {
   "metadata": {
    "ExecuteTime": {
     "end_time": "2024-05-26T20:36:55.790734Z",
     "start_time": "2024-05-26T20:36:55.785380Z"
    }
   },
   "cell_type": "code",
   "source": [
    "data[\"x\"]\n",
    "coords = data[\"x\"][:, [9, 10, 11]]"
   ],
   "id": "ec1d1e3503caed48",
   "outputs": [],
   "execution_count": 37
  },
  {
   "metadata": {
    "ExecuteTime": {
     "end_time": "2024-05-26T20:36:57.869372Z",
     "start_time": "2024-05-26T20:36:57.862279Z"
    }
   },
   "cell_type": "code",
   "source": "coords[8]",
   "id": "2ab5e5d9762f0cd9",
   "outputs": [
    {
     "data": {
      "text/plain": [
       "tensor([ 0.1412, -0.7180,  0.0442])"
      ]
     },
     "execution_count": 38,
     "metadata": {},
     "output_type": "execute_result"
    }
   ],
   "execution_count": 38
  },
  {
   "metadata": {
    "ExecuteTime": {
     "end_time": "2024-05-26T20:37:03.304610Z",
     "start_time": "2024-05-26T20:37:03.296877Z"
    }
   },
   "cell_type": "code",
   "source": [
    "import torch\n",
    "# normalize\n",
    "coords[8] / torch.norm(coords[8])"
   ],
   "id": "e25cc0457b41cf11",
   "outputs": [
    {
     "data": {
      "text/plain": [
       "tensor([ 0.1927, -0.9794,  0.0602])"
      ]
     },
     "execution_count": 39,
     "metadata": {},
     "output_type": "execute_result"
    }
   ],
   "execution_count": 39
  },
  {
   "metadata": {
    "ExecuteTime": {
     "end_time": "2024-05-26T20:37:07.583218Z",
     "start_time": "2024-05-26T20:37:07.576481Z"
    }
   },
   "cell_type": "code",
   "source": [
    "import numpy as np\n",
    "data[\"coords_y\"][8] / np.linalg.norm(data[\"coords_y\"][8])"
   ],
   "id": "a749ef99d14c4fac",
   "outputs": [
    {
     "data": {
      "text/plain": [
       "array([ 0.647511  , -0.7590584 ,  0.06752625], dtype=float32)"
      ]
     },
     "execution_count": 40,
     "metadata": {},
     "output_type": "execute_result"
    }
   ],
   "execution_count": 40
  },
  {
   "metadata": {},
   "cell_type": "code",
   "outputs": [],
   "execution_count": null,
   "source": "",
   "id": "8a5bbba055425ca9"
  }
 ],
 "metadata": {
  "kernelspec": {
   "display_name": "Python 3",
   "language": "python",
   "name": "python3"
  },
  "language_info": {
   "codemirror_mode": {
    "name": "ipython",
    "version": 2
   },
   "file_extension": ".py",
   "mimetype": "text/x-python",
   "name": "python",
   "nbconvert_exporter": "python",
   "pygments_lexer": "ipython2",
   "version": "2.7.6"
  }
 },
 "nbformat": 4,
 "nbformat_minor": 5
}
