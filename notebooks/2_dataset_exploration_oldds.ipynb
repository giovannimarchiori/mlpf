{
 "cells": [
  {
   "cell_type": "code",
   "execution_count": 1,
   "metadata": {
    "collapsed": true,
    "ExecuteTime": {
     "end_time": "2023-08-30T14:45:51.137783600Z",
     "start_time": "2023-08-30T14:45:47.305852600Z"
    }
   },
   "outputs": [],
   "source": [
    "import torch\n",
    "import sys\n",
    "import os.path as osp\n",
    "import os\n",
    "import sys\n",
    "import numpy as np\n",
    "\n",
    "sys.path.append(\"/eos/home-g/gkrzmanc/mlpf_data\")\n",
    "from src.dataset.dataset import SimpleIterDataset\n",
    "from src.utils.utils import to_filelist\n",
    "from torch.utils.data import DataLoader\n",
    "#import dgl  # CPU only version for now\n",
    "from tqdm import tqdm\n",
    "from torch_scatter import scatter_sum\n",
    "import matplotlib.pyplot as plt\n",
    "import pickle\n",
    "import numpy as np\n",
    "import mplhep as hep\n",
    "\n",
    "hep.style.use(\"CMS\")\n",
    "import matplotlib\n",
    "matplotlib.rc('font', size=13)"
   ]
  },
  {
   "cell_type": "code",
   "execution_count": 2,
   "outputs": [],
   "source": [
    "# This block is the same as 1_dataset.ipynb\n",
    "\n",
    "#dataset = \"/eos/home-g/gkrzmanc/dataset_1408_CLIC_more_particles_DS.root\"\n",
    "dataset = \"/eos/user/g/gkrzmanc/ClicDet_v1_25_07_2023_full.root\"\n",
    "\n",
    "class Args:\n",
    "    def __init__(self):\n",
    "        self.data_train = [dataset]\n",
    "        self.data_val = [dataset]\n",
    "        #self.data_train = files_train\n",
    "        self.data_config = '/eos/home-g/gkrzmanc/mlpf_data/config_files/config_2_newlinks.yaml'\n",
    "        self.extra_selection = None\n",
    "        self.train_val_split = 0.8\n",
    "        self.data_fraction = 1\n",
    "        self.file_fraction = 1\n",
    "        self.fetch_by_files = False\n",
    "        self.fetch_step = 0.01\n",
    "        self.steps_per_epoch = None\n",
    "        self.in_memory = False\n",
    "        self.local_rank = None\n",
    "        self.copy_inputs = False\n",
    "        self.no_remake_weights = False\n",
    "        self.batch_size = 10\n",
    "        self.num_workers = 0\n",
    "        self.demo = False\n",
    "        self.laplace = False\n",
    "        self.diffs = False\n",
    "        self.class_edges = False\n",
    "\n",
    "\n",
    "args = Args()\n",
    "train_range = (0, args.train_val_split)\n",
    "train_file_dict, train_files = to_filelist(args, 'train')\n",
    "train_data = SimpleIterDataset(train_file_dict, args.data_config, for_training=True,\n",
    "                               extra_selection=args.extra_selection,\n",
    "                               remake_weights=True,\n",
    "                               load_range_and_fraction=(train_range, args.data_fraction),\n",
    "                               file_fraction=args.file_fraction,\n",
    "                               fetch_by_files=args.fetch_by_files,\n",
    "                               fetch_step=args.fetch_step,\n",
    "                               infinity_mode=False,\n",
    "                               in_memory=args.in_memory,\n",
    "                               async_load=False,\n",
    "                               name='train')"
   ],
   "metadata": {
    "collapsed": false,
    "ExecuteTime": {
     "end_time": "2023-08-30T14:45:51.492191100Z",
     "start_time": "2023-08-30T14:45:51.146986700Z"
    }
   }
  },
  {
   "cell_type": "code",
   "execution_count": 3,
   "outputs": [
    {
     "name": "stdout",
     "output_type": "stream",
     "text": [
      "=== Restarting DataIter train, seed=None ===\n",
      "=== Restarting DataIter train, seed=None ===\n"
     ]
    }
   ],
   "source": [
    "iterator = iter(train_data)\n",
    "g, gt = next(iterator)\n",
    "g\n",
    "g.ndata['particle_number'].unique()\n",
    "gt\n",
    "from src.dataset.functions_graph import graph_batch_func\n",
    "\n",
    "train_loader = DataLoader(train_data, batch_size=1, drop_last=True, pin_memory=True,\n",
    "                          num_workers=min(args.num_workers, int(len(train_files) * args.file_fraction)),\n",
    "                          collate_fn=graph_batch_func,\n",
    "                          persistent_workers=args.num_workers > 0 and args.steps_per_epoch is not None)\n",
    "iterator = iter(train_loader)\n"
   ],
   "metadata": {
    "collapsed": false,
    "ExecuteTime": {
     "end_time": "2023-08-30T14:45:52.605608600Z",
     "start_time": "2023-08-30T14:45:51.497252800Z"
    }
   }
  },
  {
   "cell_type": "code",
   "execution_count": 4,
   "outputs": [
    {
     "data": {
      "text/plain": "tensor([[ 3.4327e-03,  1.0513e-01,  9.9445e-01,  2.6067e+01,  2.6062e+01,\n          4.9760e-01,  1.3000e+02],\n        [ 1.3362e-01, -3.0234e-01,  9.4379e-01,  1.4874e+00,  1.4808e+00,\n          1.3957e-01,  2.1100e+02],\n        [ 2.2088e-01, -3.1768e-01,  9.2211e-01,  1.7064e+00,  1.7064e+00,\n          2.9077e-04, -2.1100e+02],\n        [ 1.5798e-01, -3.4019e-01,  9.2699e-01,  2.4464e+00,  2.2588e+00,\n          9.3957e-01,  2.1120e+03],\n        [ 3.1689e-02, -1.7300e-01,  9.8441e-01,  5.7499e+00,  5.7283e+00,\n          4.9761e-01,  1.3000e+02]])"
     },
     "execution_count": 4,
     "metadata": {},
     "output_type": "execute_result"
    }
   ],
   "source": [
    "g, y = next(iterator)\n",
    "y.shape\n",
    "y"
   ],
   "metadata": {
    "collapsed": false,
    "ExecuteTime": {
     "end_time": "2023-08-30T14:45:55.413814Z",
     "start_time": "2023-08-30T14:45:52.610490100Z"
    }
   }
  },
  {
   "cell_type": "code",
   "execution_count": 5,
   "outputs": [
    {
     "data": {
      "text/plain": "tensor([[0, 0, 1, 0],\n        [0, 0, 1, 0],\n        [0, 0, 1, 0],\n        ...,\n        [0, 0, 1, 0],\n        [0, 0, 1, 0],\n        [0, 0, 1, 0]])"
     },
     "execution_count": 5,
     "metadata": {},
     "output_type": "execute_result"
    }
   ],
   "source": [
    "ht = g.ndata[\"hit_type\"]\n",
    "ht[ht[:, 2]==1]"
   ],
   "metadata": {
    "collapsed": false,
    "ExecuteTime": {
     "end_time": "2023-08-30T14:45:55.426903600Z",
     "start_time": "2023-08-30T14:45:55.418903700Z"
    }
   }
  },
  {
   "cell_type": "code",
   "execution_count": 6,
   "outputs": [],
   "source": [
    "#print(g.ndata[\"e_hits\"].flatten())\n",
    "#print(g.ndata[\"h\"][:, 7])\n",
    "hit_energies = g.ndata[\"e_hits\"].flatten()\n",
    "part_idx = g.ndata[\"particle_number\"]\n",
    "energy_from_showers = scatter_sum(hit_energies, part_idx.long(), dim=0)[1:]\n",
    "y_energy = y[:, 3]"
   ],
   "metadata": {
    "collapsed": false,
    "ExecuteTime": {
     "end_time": "2023-08-30T14:45:55.486895Z",
     "start_time": "2023-08-30T14:45:55.430902700Z"
    }
   }
  },
  {
   "cell_type": "code",
   "execution_count": 7,
   "outputs": [
    {
     "data": {
      "text/plain": "tensor([26.0666,  1.4874,  1.7064,  2.4464,  5.7499])"
     },
     "execution_count": 7,
     "metadata": {},
     "output_type": "execute_result"
    }
   ],
   "source": [
    "y_energy"
   ],
   "metadata": {
    "collapsed": false,
    "ExecuteTime": {
     "end_time": "2023-08-30T14:45:55.500450700Z",
     "start_time": "2023-08-30T14:45:55.446183600Z"
    }
   }
  },
  {
   "cell_type": "code",
   "execution_count": 8,
   "outputs": [
    {
     "data": {
      "text/plain": "tensor([0.9721, 2.0439, 0.8456, 0.6114, 1.1101])"
     },
     "execution_count": 8,
     "metadata": {},
     "output_type": "execute_result"
    }
   ],
   "source": [
    "energy_from_showers/y_energy"
   ],
   "metadata": {
    "collapsed": false,
    "ExecuteTime": {
     "end_time": "2023-08-30T14:45:55.561263Z",
     "start_time": "2023-08-30T14:45:55.476059100Z"
    }
   }
  },
  {
   "cell_type": "code",
   "execution_count": 9,
   "outputs": [
    {
     "data": {
      "text/plain": "tensor([[ 0.5632, -0.2732, -0.2658,  0.0000,  0.0000,  0.0000,  1.0000,  0.0175,\n          0.0000],\n        [ 0.5605, -0.2300, -0.2748,  0.0000,  0.0000,  0.0000,  1.0000,  0.1244,\n          0.0000],\n        [ 0.5605, -0.2300, -0.2838,  0.0000,  0.0000,  0.0000,  1.0000,  0.0416,\n          0.0000],\n        [ 0.5674, -0.2340, -0.2928,  0.0000,  0.0000,  0.0000,  1.0000,  0.0457,\n          0.0000],\n        [ 0.5743, -0.2380, -0.3018,  0.0000,  0.0000,  0.0000,  1.0000,  0.0364,\n          0.0000],\n        [ 0.5812, -0.2419, -0.3018,  0.0000,  0.0000,  0.0000,  1.0000,  0.0449,\n          0.0000],\n        [ 0.5881, -0.2459, -0.3108,  0.0000,  0.0000,  0.0000,  1.0000,  0.0637,\n          0.0000],\n        [ 0.5950, -0.2499, -0.3198,  0.0000,  0.0000,  0.0000,  1.0000,  0.0447,\n          0.0000],\n        [ 0.6019, -0.2539, -0.3288,  0.0000,  0.0000,  0.0000,  1.0000,  0.0498,\n          0.0000],\n        [ 0.6043, -0.2657, -0.3378,  0.0000,  0.0000,  0.0000,  1.0000,  0.0486,\n          0.0000],\n        [ 0.6112, -0.2696, -0.3468,  0.0000,  0.0000,  0.0000,  1.0000,  0.0556,\n          0.0000],\n        [ 0.6181, -0.2736, -0.3559,  0.0000,  0.0000,  0.0000,  1.0000,  0.0543,\n          0.0000],\n        [ 0.6205, -0.2854, -0.3649,  0.0000,  0.0000,  0.0000,  1.0000,  0.0669,\n          0.0000],\n        [ 0.6273, -0.2894, -0.3739,  0.0000,  0.0000,  0.0000,  1.0000,  0.0641,\n          0.0000],\n        [ 0.6342, -0.2934, -0.3829,  0.0000,  0.0000,  0.0000,  1.0000,  0.6564,\n          0.0000],\n        [ 0.6276, -0.3207, -0.3919,  0.0000,  0.0000,  0.0000,  1.0000,  0.0173,\n          0.0000],\n        [ 0.5929, -0.2695, -0.4009,  0.0000,  0.0000,  0.0000,  1.0000,  0.0638,\n          0.0000]])"
     },
     "execution_count": 9,
     "metadata": {},
     "output_type": "execute_result"
    }
   ],
   "source": [
    "g.ndata[\"h\"][part_idx == 4]"
   ],
   "metadata": {
    "collapsed": false,
    "ExecuteTime": {
     "end_time": "2023-08-30T14:45:55.562255100Z",
     "start_time": "2023-08-30T14:45:55.520347100Z"
    }
   }
  },
  {
   "cell_type": "code",
   "execution_count": 10,
   "outputs": [
    {
     "data": {
      "text/plain": "tensor([26.0666,  1.4874,  1.7064,  2.4464,  5.7499])"
     },
     "execution_count": 10,
     "metadata": {},
     "output_type": "execute_result"
    }
   ],
   "source": [
    "y_energy"
   ],
   "metadata": {
    "collapsed": false,
    "ExecuteTime": {
     "end_time": "2023-08-30T14:45:55.562255100Z",
     "start_time": "2023-08-30T14:45:55.520347100Z"
    }
   }
  },
  {
   "cell_type": "code",
   "execution_count": 10,
   "outputs": [],
   "source": [],
   "metadata": {
    "collapsed": false,
    "ExecuteTime": {
     "end_time": "2023-08-30T14:45:55.562255100Z",
     "start_time": "2023-08-30T14:45:55.550240700Z"
    }
   }
  },
  {
   "cell_type": "code",
   "execution_count": 11,
   "outputs": [],
   "source": [
    "from torch_scatter import scatter_sum\n",
    "def get_ratios(g, y, corr_w_mass=False, return_pid_dict=False):\n",
    "    part_idx = g.ndata[\"particle_number\"]\n",
    "    true_idx = np.arange(len(part_idx))\n",
    "    part_idx = part_idx[true_idx]\n",
    "    hit_types = g.ndata[\"hit_type\"][true_idx]\n",
    "    hit_idx = torch.where((hit_types[:, 2] == 1) | (hit_types[:, 3] == 1))[0]\n",
    "    track_idx = torch.where((hit_types[:, 0] == 1) | (hit_types[:, 1] == 1))[0]\n",
    "    hit_energies = g.ndata[\"e_hits\"].flatten()#[true_idx]  #[hit_idx]\n",
    "    where_e_zero = hit_energies == 0\n",
    "    hit_momenta = g.ndata[\"p_hits\"].flatten()[true_idx]#[track_idx]\n",
    "    energy_from_showers = scatter_sum(hit_energies, part_idx.long(), dim=0)\n",
    "    y_energy = y[:, 3]\n",
    "    y_pid = y[:, -1].to(torch.long)\n",
    "    energy_from_showers = energy_from_showers[1:]\n",
    "    assert len(energy_from_showers) > 0\n",
    "    if return_pid_dict:\n",
    "        pids = y_pid.unique().long()\n",
    "        pid_dict = {int(pid): (energy_from_showers[y_pid == pid] / y_energy[y_pid == pid]).tolist() for pid in pids}\n",
    "        pid_dict[\"ALL\"] = (energy_from_showers / y_energy).tolist()\n",
    "        return pid_dict\n",
    "    return (energy_from_showers / y_energy).tolist()\n"
   ],
   "metadata": {
    "collapsed": false,
    "ExecuteTime": {
     "end_time": "2023-08-30T14:45:55.562255100Z",
     "start_time": "2023-08-30T14:45:55.551240900Z"
    }
   }
  },
  {
   "cell_type": "code",
   "execution_count": 12,
   "outputs": [
    {
     "name": "stderr",
     "output_type": "stream",
     "text": [
      " 63%|██████████████████████████████████████████████████████████████████████████▎                                           | 63/100 [00:03<00:01, 21.36it/s]/home/gkrzmanc/env/lib/python3.10/site-packages/dgl/transforms/functional.py:308: DGLWarning: 'k' should be less than or equal to the number of points in 'x'expect k <= 23, got k = 41, use k = 23\n",
      "  dgl_warning(\n",
      " 90%|██████████████████████████████████████████████████████████████████████████████████████████████████████████▏           | 90/100 [00:04<00:00, 15.57it/s]/home/gkrzmanc/env/lib/python3.10/site-packages/dgl/transforms/functional.py:308: DGLWarning: 'k' should be less than or equal to the number of points in 'x'expect k <= 40, got k = 41, use k = 40\n",
      "  dgl_warning(\n",
      "100%|█████████████████████████████████████████████████████████████████████████████████████████████████████████████████████| 100/100 [00:04<00:00, 20.13it/s]\n"
     ]
    }
   ],
   "source": [
    "all_ratios = {}\n",
    "num_particles = []\n",
    "\n",
    "def upd_dict(d, small_dict):\n",
    "    for k in small_dict:\n",
    "        if k not in d:\n",
    "            d[k] = []\n",
    "        d[k] += small_dict[k]\n",
    "    return d\n",
    "\n",
    "for i in tqdm(range(100)):\n",
    "    g, y = next(iterator)\n",
    "    num_part = y.shape[0]\n",
    "    num_particles.append(num_part)\n",
    "    ratios = get_ratios(g, y, corr_w_mass=True, return_pid_dict=True)\n",
    "    all_ratios = upd_dict(all_ratios, ratios)\n",
    "    #TODOs tmrw: check particle number dist., how many are we throwing away\n",
    "\n"
   ],
   "metadata": {
    "collapsed": false,
    "ExecuteTime": {
     "end_time": "2023-08-30T14:46:00.513497600Z",
     "start_time": "2023-08-30T14:45:55.551240900Z"
    }
   }
  },
  {
   "cell_type": "code",
   "execution_count": 13,
   "outputs": [
    {
     "data": {
      "text/plain": "<Figure size 500x300 with 1 Axes>",
      "image/png": "[encoded data removed]"
     },
     "metadata": {},
     "output_type": "display_data"
    }
   ],
   "source": [
    "fig, ax = plt.subplots(figsize=(5, 3))\n",
    "ax.set_xlabel(\"Number of particles\")\n",
    "ax.hist(num_particles, bins=15, density=True)\n",
    "ax.set_ylabel(\"Event density\")\n",
    "fig.show()\n"
   ],
   "metadata": {
    "collapsed": false,
    "ExecuteTime": {
     "end_time": "2023-08-30T14:46:00.868123700Z",
     "start_time": "2023-08-30T14:46:00.515486600Z"
    }
   }
  },
  {
   "cell_type": "code",
   "execution_count": 14,
   "outputs": [
    {
     "name": "stdout",
     "output_type": "stream",
     "text": [
      "2112 0.0625\n",
      "2212 0.0\n",
      "ALL 0.019543973941368076\n",
      "-2212 0.0\n",
      "211 0.0\n",
      "-211 0.024390243902439025\n",
      "130 0.0\n"
     ]
    }
   ],
   "source": [
    "for key in all_ratios:\n",
    "    print(key, len([x for x in all_ratios[key] if x <= 0.05])/len(all_ratios[key]))"
   ],
   "metadata": {
    "collapsed": false,
    "ExecuteTime": {
     "end_time": "2023-08-30T14:46:00.869141700Z",
     "start_time": "2023-08-30T14:46:00.868123700Z"
    }
   }
  },
  {
   "cell_type": "code",
   "execution_count": 15,
   "outputs": [
    {
     "data": {
      "text/plain": "<Figure size 500x1300 with 7 Axes>",
      "image/png": "[encoded data removed]"
     },
     "metadata": {},
     "output_type": "display_data"
    }
   ],
   "source": [
    "import matplotlib.pyplot as plt\n",
    "all_ratios = {str(k): v for k, v in all_ratios.items()}\n",
    "keys = sorted(list(all_ratios.keys()))\n",
    "fig, ax = plt.subplots(len(keys), figsize=(5, 13))\n",
    "\n",
    "for i in range(len(keys)):\n",
    "    ax[i].hist(all_ratios[keys[i]], bins=400)\n",
    "    ax[i].set_xlim(-0.5, 2)\n",
    "    ax[i].set_ylabel(\"count\")\n",
    "    ax[i].set_xlabel(r\"$E_{sum}/E_{true}$\")\n",
    "    ax[i].set_title(f\"{keys[i]}\")\n",
    "\n",
    "fig.tight_layout()\n",
    "\n",
    "#fig.savefig(\"/eos/home-g/gkrzmanc/PF_reports/initial_histograms/new_dataset/energy_hist_corr1.pdf\")\n",
    "fig.show()"
   ],
   "metadata": {
    "collapsed": false,
    "ExecuteTime": {
     "end_time": "2023-08-30T14:46:06.952651800Z",
     "start_time": "2023-08-30T14:46:00.924618800Z"
    }
   }
  },
  {
   "cell_type": "code",
   "execution_count": 16,
   "outputs": [],
   "source": [
    "#import pickle\n",
    "#pickle.dump(all_ratios, open(\"/eos/home-g/gkrzmanc/PF_reports/initial_histograms/corr_ds/PID_filtered_energy_sum_vs_true.pkl\", \"wb\"))"
   ],
   "metadata": {
    "collapsed": false,
    "ExecuteTime": {
     "end_time": "2023-08-30T14:46:06.953656Z",
     "start_time": "2023-08-30T14:46:06.941144600Z"
    }
   }
  },
  {
   "cell_type": "code",
   "execution_count": null,
   "outputs": [],
   "source": [],
   "metadata": {
    "collapsed": false,
    "ExecuteTime": {
     "start_time": "2023-07-25T13:35:27.855640500Z"
    }
   }
  },
  {
   "cell_type": "code",
   "execution_count": 17,
   "outputs": [
    {
     "name": "stdout",
     "output_type": "stream",
     "text": [
      "2112 0.0625\n",
      "2212 0.0\n",
      "ALL 0.019543973941368076\n",
      "-2212 0.0\n",
      "211 0.0\n",
      "-211 0.024390243902439025\n",
      "130 0.0\n"
     ]
    }
   ],
   "source": [
    "for key in all_ratios:\n",
    "    print(key, len([x for x in all_ratios[key] if x <= 0.05])/len(all_ratios[key]))"
   ],
   "metadata": {
    "collapsed": false,
    "ExecuteTime": {
     "end_time": "2023-08-30T15:04:38.441877600Z",
     "start_time": "2023-08-30T15:04:38.382324600Z"
    }
   }
  },
  {
   "cell_type": "code",
   "execution_count": null,
   "outputs": [],
   "source": [],
   "metadata": {
    "collapsed": false
   }
  }
 ],
 "metadata": {
  "kernelspec": {
   "display_name": "Python 3",
   "language": "python",
   "name": "python3"
  },
  "language_info": {
   "codemirror_mode": {
    "name": "ipython",
    "version": 2
   },
   "file_extension": ".py",
   "mimetype": "text/x-python",
   "name": "python",
   "nbconvert_exporter": "python",
   "pygments_lexer": "ipython2",
   "version": "2.7.6"
  }
 },
 "nbformat": 4,
 "nbformat_minor": 0
}
