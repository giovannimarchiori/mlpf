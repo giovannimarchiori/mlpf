{
 "cells": [
  {
   "cell_type": "code",
   "metadata": {
    "collapsed": true,
    "ExecuteTime": {
     "end_time": "2024-05-22T17:01:04.844785Z",
     "start_time": "2024-05-22T17:01:04.837919Z"
    }
   },
   "source": [
    "import torch\n",
    "import sys\n",
    "import os.path as osp\n",
    "import os\n",
    "import sys\n",
    "import numpy as np\n",
    "\n",
    "sys.path.append(\"/eos/home-g/gkrzmanc/mlpf_data\")\n",
    "from src.dataset.dataset import SimpleIterDataset\n",
    "from src.utils.utils import to_filelist\n",
    "from torch.utils.data import DataLoader\n",
    "#import dgl  # CPU only version for now\n",
    "from tqdm import tqdm\n",
    "from torch_scatter import scatter_sum, scatter_mean\n",
    "import matplotlib.pyplot as plt\n",
    "import pickle\n",
    "import numpy as np\n",
    "import mplhep as hep\n",
    "\n",
    "hep.style.use(\"CMS\")\n",
    "import matplotlib\n",
    "matplotlib.rc('font', size=13)\n",
    "\n"
   ],
   "outputs": [],
   "execution_count": 91
  },
  {
   "cell_type": "code",
   "source": [
    "# This block is the same as 1_dataset.ipynb\n",
    "\n",
    "#datasets = os.listdir(\"/eos/user/m/mgarciam/datasets_mlpf/230923_20_25\")\n",
    "#dataset = \"/eos/user/g/gkrzmanc/ClicDet_v1_25_07_2023_full.root\"\n",
    "\n",
    "def remove_from_list(lst):\n",
    "    out = []\n",
    "    for item in lst:\n",
    "        if item in [\"hgcal\", \"data.txt\", \"test_file.root\"]:\n",
    "            continue\n",
    "        out.append(item)\n",
    "    return out\n",
    "\n",
    "#datasets = [os.path.join(\"/eos/user/m/mgarciam/datasets_mlpf/230923_20_25\", x) for x in remove_from_list(datasets)]\n",
    "datasets = [\"/eos/experiment/fcc/ee/datasets/mlpf/CLD/eval/300424/Ks_v1/pf_tree_1.root\",\n",
    "            \"/eos/experiment/fcc/ee/datasets/mlpf/CLD/eval/300424/Ks_v1/pf_tree_2.root\",\n",
    "            \"/eos/experiment/fcc/ee/datasets/mlpf/CLD/eval/300424/Ks_v1/pf_tree_3.root\",\n",
    "            \"/eos/experiment/fcc/ee/datasets/mlpf/CLD/eval/300424/Ks_v1/pf_tree_4.root\",]\n",
    "class Args:\n",
    "    def __init__(self):\n",
    "        self.data_train = datasets\n",
    "        self.data_val = datasets\n",
    "        #self.data_train = files_train\n",
    "        self.data_config = '/afs/cern.ch/work/g/gkrzmanc/mlpf_2024/config_files/config_hits_track_ks_v1.yaml'\n",
    "        self.extra_selection = None\n",
    "        self.train_val_split = 0.8\n",
    "        self.data_fraction = 1\n",
    "        self.file_fraction = 1\n",
    "        self.fetch_by_files = False\n",
    "        self.fetch_step = 0.01\n",
    "        self.steps_per_epoch = None\n",
    "        self.in_memory = False\n",
    "        self.local_rank = None\n",
    "        self.copy_inputs = False\n",
    "        self.no_remake_weights = False\n",
    "        self.batch_size = 10\n",
    "        self.num_workers = 0\n",
    "        self.demo = False\n",
    "        self.laplace = False\n",
    "        self.diffs = False\n",
    "        self.class_edges = False\n",
    "\n",
    "\n",
    "args = Args()\n",
    "train_range = (0, args.train_val_split)\n",
    "train_file_dict, train_files = to_filelist(args, 'train')\n",
    "train_data = SimpleIterDataset(train_file_dict, args.data_config, for_training=True,\n",
    "                               extra_selection=args.extra_selection,\n",
    "                               remake_weights=True,\n",
    "                               load_range_and_fraction=(train_range, args.data_fraction),\n",
    "                               file_fraction=args.file_fraction,\n",
    "                               fetch_by_files=args.fetch_by_files,\n",
    "                               fetch_step=args.fetch_step,\n",
    "                               infinity_mode=False,\n",
    "                               in_memory=args.in_memory,\n",
    "                               async_load=False,\n",
    "                               name='train')"
   ],
   "metadata": {
    "collapsed": false,
    "ExecuteTime": {
     "end_time": "2024-05-22T16:19:53.056874Z",
     "start_time": "2024-05-22T16:19:52.987929Z"
    }
   },
   "outputs": [
    {
     "name": "stdout",
     "output_type": "stream",
     "text": [
      "['/eos/experiment/fcc/ee/datasets/mlpf/CLD/eval/300424/Ks_v1/pf_tree_1.root', '/eos/experiment/fcc/ee/datasets/mlpf/CLD/eval/300424/Ks_v1/pf_tree_2.root', '/eos/experiment/fcc/ee/datasets/mlpf/CLD/eval/300424/Ks_v1/pf_tree_3.root', '/eos/experiment/fcc/ee/datasets/mlpf/CLD/eval/300424/Ks_v1/pf_tree_4.root']\n"
     ]
    }
   ],
   "execution_count": 2
  },
  {
   "cell_type": "code",
   "source": [
    "iterator = iter(train_data)\n",
    "g, gt = next(iterator)\n",
    "g.ndata['particle_number'].unique()\n",
    "from src.dataset.functions_graph import graph_batch_func\n",
    "\n",
    "train_loader = DataLoader(train_data, batch_size=1, drop_last=True, pin_memory=True,\n",
    "                          num_workers=min(args.num_workers, int(len(train_files) * args.file_fraction)),\n",
    "                          collate_fn=graph_batch_func,\n",
    "                          persistent_workers=args.num_workers > 0 and args.steps_per_epoch is not None)\n",
    "iterator = iter(train_loader)\n"
   ],
   "metadata": {
    "collapsed": false,
    "ExecuteTime": {
     "end_time": "2024-05-22T16:25:38.242898Z",
     "start_time": "2024-05-22T16:25:36.443467Z"
    }
   },
   "outputs": [
    {
     "name": "stdout",
     "output_type": "stream",
     "text": [
      "=== Restarting DataIter train, seed=None ===\n",
      "Using config with part_pxyz and part_vertex_xyz\n",
      "=== Restarting DataIter train, seed=None ===\n"
     ]
    }
   ],
   "execution_count": 20
  },
  {
   "cell_type": "code",
   "source": "g, y = next(iterator)",
   "metadata": {
    "collapsed": false,
    "ExecuteTime": {
     "end_time": "2024-05-22T16:19:58.648656Z",
     "start_time": "2024-05-22T16:19:58.118631Z"
    }
   },
   "outputs": [
    {
     "name": "stdout",
     "output_type": "stream",
     "text": [
      "Using config with part_pxyz and part_vertex_xyz\n",
      "Using config with part_pxyz and part_vertex_xyz\n"
     ]
    }
   ],
   "execution_count": 4
  },
  {
   "metadata": {
    "ExecuteTime": {
     "end_time": "2024-05-22T16:24:52.880161Z",
     "start_time": "2024-05-22T16:24:52.870003Z"
    }
   },
   "cell_type": "code",
   "source": "g.ndata[\"pandora_reference_point\"]",
   "outputs": [
    {
     "data": {
      "text/plain": [
       "tensor([[-1.0000e+00, -1.0000e+00, -1.0000e+00],\n",
       "        [-1.0000e+00, -1.0000e+00, -1.0000e+00],\n",
       "        [-1.7512e+03, -1.3619e+03, -1.2109e+02],\n",
       "        [-1.7512e+03, -1.3619e+03, -1.2109e+02],\n",
       "        [-1.7512e+03, -1.3619e+03, -1.2109e+02],\n",
       "        [-1.7512e+03, -1.3619e+03, -1.2109e+02],\n",
       "        [-1.7512e+03, -1.3619e+03, -1.2109e+02],\n",
       "        [-1.7512e+03, -1.3619e+03, -1.2109e+02],\n",
       "        [-1.7512e+03, -1.3619e+03, -1.2109e+02],\n",
       "        [-1.7512e+03, -1.3619e+03, -1.2109e+02],\n",
       "        [-1.7512e+03, -1.3619e+03, -1.2109e+02],\n",
       "        [-1.7512e+03, -1.3619e+03, -1.2109e+02],\n",
       "        [-1.7512e+03, -1.3619e+03, -1.2109e+02],\n",
       "        [-1.7512e+03, -1.3619e+03, -1.2109e+02],\n",
       "        [-1.7512e+03, -1.3619e+03, -1.2109e+02],\n",
       "        [-1.7512e+03, -1.3619e+03, -1.2109e+02],\n",
       "        [-1.0000e+00, -1.0000e+00, -1.0000e+00],\n",
       "        [-1.7512e+03, -1.3619e+03, -1.2109e+02],\n",
       "        [-1.7512e+03, -1.3619e+03, -1.2109e+02],\n",
       "        [-3.1492e+01, -2.7350e+03,  3.9844e+02],\n",
       "        [-3.1492e+01, -2.7350e+03,  3.9844e+02],\n",
       "        [-3.1492e+01, -2.7350e+03,  3.9844e+02],\n",
       "        [-3.1492e+01, -2.7350e+03,  3.9844e+02],\n",
       "        [-3.1492e+01, -2.7350e+03,  3.9844e+02],\n",
       "        [-3.1492e+01, -2.7350e+03,  3.9844e+02],\n",
       "        [-1.0000e+00, -1.0000e+00, -1.0000e+00],\n",
       "        [-1.0000e+00, -1.0000e+00, -1.0000e+00],\n",
       "        [-3.1492e+01, -2.7350e+03,  3.9844e+02],\n",
       "        [-3.1492e+01, -2.7350e+03,  3.9844e+02],\n",
       "        [-1.0000e+00, -1.0000e+00, -1.0000e+00],\n",
       "        [-1.0000e+00, -1.0000e+00, -1.0000e+00],\n",
       "        [-3.1492e+01, -2.7350e+03,  3.9844e+02],\n",
       "        [-3.1492e+01, -2.7350e+03,  3.9844e+02],\n",
       "        [-3.1492e+01, -2.7350e+03,  3.9844e+02],\n",
       "        [-1.0000e+00, -1.0000e+00, -1.0000e+00],\n",
       "        [-1.0000e+00, -1.0000e+00, -1.0000e+00],\n",
       "        [-3.1492e+01, -2.7350e+03,  3.9844e+02],\n",
       "        [-1.0000e+00, -1.0000e+00, -1.0000e+00],\n",
       "        [-1.0000e+00, -1.0000e+00, -1.0000e+00],\n",
       "        [-1.0000e+00, -1.0000e+00, -1.0000e+00],\n",
       "        [-1.0000e+00, -1.0000e+00, -1.0000e+00],\n",
       "        [-3.1492e+01, -2.7350e+03,  3.9844e+02],\n",
       "        [-1.0000e+00, -1.0000e+00, -1.0000e+00],\n",
       "        [-1.0000e+00, -1.0000e+00, -1.0000e+00],\n",
       "        [-1.0000e+00, -1.0000e+00, -1.0000e+00],\n",
       "        [-1.0000e+00, -1.0000e+00, -1.0000e+00],\n",
       "        [-1.0000e+00, -1.0000e+00, -1.0000e+00],\n",
       "        [-1.0000e+00, -1.0000e+00, -1.0000e+00],\n",
       "        [-3.1492e+01, -2.7350e+03,  3.9844e+02],\n",
       "        [-1.0000e+00, -1.0000e+00, -1.0000e+00],\n",
       "        [-1.0000e+00, -1.0000e+00, -1.0000e+00],\n",
       "        [-3.1492e+01, -2.7350e+03,  3.9844e+02],\n",
       "        [-1.0000e+00, -1.0000e+00, -1.0000e+00],\n",
       "        [-1.0000e+00, -1.0000e+00, -1.0000e+00],\n",
       "        [-1.0000e+00, -1.0000e+00, -1.0000e+00],\n",
       "        [-3.1492e+01, -2.7350e+03,  3.9844e+02],\n",
       "        [-3.1492e+01, -2.7350e+03,  3.9844e+02],\n",
       "        [-1.0000e+00, -1.0000e+00, -1.0000e+00],\n",
       "        [-3.1492e+01, -2.7350e+03,  3.9844e+02],\n",
       "        [-1.0000e+00, -1.0000e+00, -1.0000e+00],\n",
       "        [-3.1492e+01, -2.7350e+03,  3.9844e+02],\n",
       "        [-1.0000e+00, -1.0000e+00, -1.0000e+00],\n",
       "        [-3.1492e+01, -2.7350e+03,  3.9844e+02],\n",
       "        [-3.1492e+01, -2.7350e+03,  3.9844e+02],\n",
       "        [-3.1492e+01, -2.7350e+03,  3.9844e+02],\n",
       "        [-3.1492e+01, -2.7350e+03,  3.9844e+02],\n",
       "        [-3.1492e+01, -2.7350e+03,  3.9844e+02],\n",
       "        [-3.1492e+01, -2.7350e+03,  3.9844e+02],\n",
       "        [-3.1492e+01, -2.7350e+03,  3.9844e+02],\n",
       "        [-3.1492e+01, -2.7350e+03,  3.9844e+02],\n",
       "        [-3.1492e+01, -2.7350e+03,  3.9844e+02],\n",
       "        [-3.1492e+01, -2.7350e+03,  3.9844e+02],\n",
       "        [-3.1492e+01, -2.7350e+03,  3.9844e+02],\n",
       "        [-3.1492e+01, -2.7350e+03,  3.9844e+02],\n",
       "        [-3.1492e+01, -2.7350e+03,  3.9844e+02],\n",
       "        [-3.1492e+01, -2.7350e+03,  3.9844e+02],\n",
       "        [-3.1492e+01, -2.7350e+03,  3.9844e+02],\n",
       "        [-3.1492e+01, -2.7350e+03,  3.9844e+02],\n",
       "        [-3.1492e+01, -2.7350e+03,  3.9844e+02],\n",
       "        [-3.1492e+01, -2.7350e+03,  3.9844e+02],\n",
       "        [-3.1492e+01, -2.7350e+03,  3.9844e+02],\n",
       "        [-3.1492e+01, -2.7350e+03,  3.9844e+02],\n",
       "        [-3.1492e+01, -2.7350e+03,  3.9844e+02],\n",
       "        [-3.1492e+01, -2.7350e+03,  3.9844e+02],\n",
       "        [-3.1492e+01, -2.7350e+03,  3.9844e+02],\n",
       "        [-3.1492e+01, -2.7350e+03,  3.9844e+02],\n",
       "        [-3.1492e+01, -2.7350e+03,  3.9844e+02],\n",
       "        [-3.1492e+01, -2.7350e+03,  3.9844e+02],\n",
       "        [-3.1492e+01, -2.7350e+03,  3.9844e+02],\n",
       "        [-3.1492e+01, -2.7350e+03,  3.9844e+02],\n",
       "        [-3.1492e+01, -2.7350e+03,  3.9844e+02],\n",
       "        [-3.1492e+01, -2.7350e+03,  3.9844e+02],\n",
       "        [-3.1492e+01, -2.7350e+03,  3.9844e+02],\n",
       "        [-1.0000e+00, -1.0000e+00, -1.0000e+00],\n",
       "        [-1.0000e+00, -1.0000e+00, -1.0000e+00],\n",
       "        [-1.0000e+00, -1.0000e+00, -1.0000e+00],\n",
       "        [-1.0000e+00, -1.0000e+00, -1.0000e+00],\n",
       "        [-1.0000e+00, -1.0000e+00, -1.0000e+00],\n",
       "        [-3.1492e+01, -2.7350e+03,  3.9844e+02],\n",
       "        [-3.1492e+01, -2.7350e+03,  3.9844e+02],\n",
       "        [-3.1492e+01, -2.7350e+03,  3.9844e+02]])"
      ]
     },
     "execution_count": 17,
     "metadata": {},
     "output_type": "execute_result"
    }
   ],
   "execution_count": 17
  },
  {
   "metadata": {
    "ExecuteTime": {
     "end_time": "2024-05-22T17:08:11.699808Z",
     "start_time": "2024-05-22T17:08:11.687204Z"
    }
   },
   "cell_type": "code",
   "source": [
    "tracks = g.ndata[\"h\"][:, 7] != 0\n",
    "tracks_vectors = g.ndata[\"pos_pxpypz\"][tracks]\n",
    "# normalize\n",
    "particles = g.ndata[\"particle_number\"].long()\n",
    "tracks_vectors = tracks_vectors / torch.norm(tracks_vectors, dim=1)[:, None]\n",
    "tracks_part_num = particles[tracks]\n",
    "\n",
    "avg_particles_tracks = scatter_sum(tracks_vectors, tracks_part_num, dim=0)\n",
    "avg_hits_pos_particle = scatter_sum(g.ndata[\"pos_hits_xyz\"], particles, dim=0, dim_size=particles.max() + 1)\n",
    "if tracks.sum() > 0:\n",
    "    avg_hits_pos_track = scatter_sum(g.ndata[\"pos_hits_xyz\"][tracks], tracks_part_num, dim=0, dim_size=particles.max() + 1)\n",
    "else:\n",
    "    avg_hits_pos_track = []\n",
    "hits_vectors = avg_hits_pos_track[1:] - y.vertex\n",
    "hits_vectors = hits_vectors / torch.norm(hits_vectors, dim=1)[:, None]\n",
    "true_vectors = y.coord"
   ],
   "outputs": [],
   "execution_count": 93
  },
  {
   "metadata": {
    "ExecuteTime": {
     "end_time": "2024-05-22T17:08:12.887069Z",
     "start_time": "2024-05-22T17:08:12.878974Z"
    }
   },
   "cell_type": "code",
   "source": "tracks_part_num",
   "outputs": [
    {
     "data": {
      "text/plain": [
       "tensor([1, 2])"
      ]
     },
     "execution_count": 94,
     "metadata": {},
     "output_type": "execute_result"
    }
   ],
   "execution_count": 94
  },
  {
   "metadata": {
    "ExecuteTime": {
     "end_time": "2024-05-22T17:08:13.135660Z",
     "start_time": "2024-05-22T17:08:13.128715Z"
    }
   },
   "cell_type": "code",
   "source": "tracks_vectors",
   "outputs": [
    {
     "data": {
      "text/plain": [
       "tensor([[-0.7831,  0.3050, -0.5421],\n",
       "        [-0.5807, -0.7483,  0.3208]])"
      ]
     },
     "execution_count": 95,
     "metadata": {},
     "output_type": "execute_result"
    }
   ],
   "execution_count": 95
  },
  {
   "metadata": {
    "ExecuteTime": {
     "end_time": "2024-05-22T16:38:49.084848Z",
     "start_time": "2024-05-22T16:38:49.077277Z"
    }
   },
   "cell_type": "code",
   "source": [
    "distances_tracks = (true_vectors - tracks_vectors).norm(dim=1)\n",
    "distances_hits = (true_vectors - avg_particles_tracks[1:]).norm(dim=1)"
   ],
   "outputs": [],
   "execution_count": 56
  },
  {
   "metadata": {
    "ExecuteTime": {
     "end_time": "2024-05-22T16:38:41.066757Z",
     "start_time": "2024-05-22T16:38:41.058013Z"
    }
   },
   "cell_type": "code",
   "source": "",
   "outputs": [
    {
     "data": {
      "text/plain": [
       "tensor([[-0.2587, -0.9518,  0.1649],\n",
       "        [-0.2699, -0.9613, -0.0548]])"
      ]
     },
     "execution_count": 55,
     "metadata": {},
     "output_type": "execute_result"
    }
   ],
   "execution_count": 55
  },
  {
   "cell_type": "code",
   "source": [
    "num_particles = []\n",
    "ys = []\n",
    "\n",
    "num_tracks = []\n",
    "hits_dist, tracks_dist = [], []\n",
    "\n",
    "# num particles\n",
    "for g, y  in tqdm(train_loader):\n",
    "    pids = y.pid.shape[0]\n",
    "    num_particles.append(pids)\n",
    "    ys.append(y)\n",
    "    tracks = g.ndata[\"h\"][:, 7] != 0\n",
    "    tracks_vectors = g.ndata[\"pos_pxpypz\"][tracks]\n",
    "    # normalize\n",
    "    particles = g.ndata[\"particle_number\"].long()\n",
    "    tracks_vectors = tracks_vectors / torch.norm(tracks_vectors, dim=1)[:, None]\n",
    "    tracks_part_num = particles[tracks]\n",
    "    avg_particles_tracks = scatter_sum(tracks_vectors, tracks_part_num, dim=0, dim_size=particles.max() + 1)\n",
    "    avg_hits_pos_particle = scatter_sum(g.ndata[\"pos_hits_xyz\"], particles, dim=0, dim_size=particles.max() + 1)\n",
    "    true_vectors = y.coord\n",
    "    if tracks.sum() > 0:\n",
    "        avg_hits_pos_track = scatter_mean(tracks_vectors, tracks_part_num, dim=0, dim_size=particles.max() + 1)\n",
    "        print(true_vectors.shape)\n",
    "        print(avg_hits_pos_track[1:].shape)\n",
    "        distances_tracks = (true_vectors - avg_hits_pos_track[1:]).norm(dim=1)\n",
    "    else:\n",
    "        avg_hits_pos_track = []\n",
    "        distances_tracks = None\n",
    "    hits_vectors = avg_hits_pos_particle[1:] - y.vertex\n",
    "    hits_vectors = hits_vectors / torch.norm(hits_vectors, dim=1)[:, None]\n",
    "    \n",
    "    #print(\"TV\", true_vectors)\n",
    "    #print(\"a\", avg_particles_tracks[1:])\n",
    "    distances_hits = (true_vectors - hits_vectors).norm(dim=1)\n",
    "    hits_dist.append(distances_hits)\n",
    "    tracks_dist.append(distances_tracks)\n",
    "    num_tracks.append(tracks_vectors.shape[0])\n"
   ],
   "metadata": {
    "collapsed": false,
    "ExecuteTime": {
     "end_time": "2024-05-22T17:09:28.593172Z",
     "start_time": "2024-05-22T17:08:30.422769Z"
    }
   },
   "outputs": [
    {
     "name": "stderr",
     "output_type": "stream",
     "text": [
      "0it [00:00, ?it/s]"
     ]
    },
    {
     "name": "stdout",
     "output_type": "stream",
     "text": [
      "=== Restarting DataIter train, seed=None ===\n"
     ]
    },
    {
     "name": "stderr",
     "output_type": "stream",
     "text": [
      "1it [00:01,  1.22s/it]"
     ]
    },
    {
     "name": "stdout",
     "output_type": "stream",
     "text": [
      "Using config with part_pxyz and part_vertex_xyz\n",
      "Using config with part_pxyz and part_vertex_xyz\n",
      "torch.Size([2, 3])\n",
      "torch.Size([2, 3])\n",
      "Using config with part_pxyz and part_vertex_xyz\n",
      "Using config with part_pxyz and part_vertex_xyz\n",
      "torch.Size([2, 3])\n",
      "torch.Size([2, 3])\n"
     ]
    },
    {
     "name": "stderr",
     "output_type": "stream",
     "text": [
      "4it [00:01,  2.48it/s]"
     ]
    },
    {
     "name": "stdout",
     "output_type": "stream",
     "text": [
      "Using config with part_pxyz and part_vertex_xyz\n",
      "Using config with part_pxyz and part_vertex_xyz\n",
      "Using config with part_pxyz and part_vertex_xyz\n",
      "torch.Size([2, 3])\n",
      "torch.Size([2, 3])\n",
      "Using config with part_pxyz and part_vertex_xyz\n",
      "torch.Size([2, 3])\n",
      "torch.Size([2, 3])\n"
     ]
    },
    {
     "name": "stderr",
     "output_type": "stream",
     "text": [
      "8it [00:02,  4.08it/s]"
     ]
    },
    {
     "name": "stdout",
     "output_type": "stream",
     "text": [
      "Using config with part_pxyz and part_vertex_xyz\n",
      "torch.Size([2, 3])\n",
      "torch.Size([2, 3])\n",
      "Using config with part_pxyz and part_vertex_xyz\n",
      "Using config with part_pxyz and part_vertex_xyz\n",
      "torch.Size([2, 3])\n",
      "torch.Size([2, 3])\n",
      "Using config with part_pxyz and part_vertex_xyz\n"
     ]
    },
    {
     "name": "stderr",
     "output_type": "stream",
     "text": [
      "11it [00:02,  4.50it/s]"
     ]
    },
    {
     "name": "stdout",
     "output_type": "stream",
     "text": [
      "Using config with part_pxyz and part_vertex_xyz\n",
      "torch.Size([2, 3])\n",
      "torch.Size([2, 3])\n",
      "Using config with part_pxyz and part_vertex_xyz\n",
      "Using config with part_pxyz and part_vertex_xyz\n",
      "torch.Size([2, 3])\n",
      "torch.Size([2, 3])\n",
      "Using config with part_pxyz and part_vertex_xyz\n"
     ]
    },
    {
     "name": "stderr",
     "output_type": "stream",
     "text": [
      "15it [00:03,  4.30it/s]"
     ]
    },
    {
     "name": "stdout",
     "output_type": "stream",
     "text": [
      "Using config with part_pxyz and part_vertex_xyz\n",
      "Using config with part_pxyz and part_vertex_xyz\n",
      "torch.Size([1, 3])\n",
      "torch.Size([1, 3])\n",
      "Using config with part_pxyz and part_vertex_xyz\n",
      "torch.Size([2, 3])\n",
      "torch.Size([2, 3])\n",
      "Using config with part_pxyz and part_vertex_xyz\n",
      "torch.Size([1, 3])\n",
      "torch.Size([1, 3])\n"
     ]
    },
    {
     "name": "stderr",
     "output_type": "stream",
     "text": [
      "19it [00:04,  4.93it/s]"
     ]
    },
    {
     "name": "stdout",
     "output_type": "stream",
     "text": [
      "Using config with part_pxyz and part_vertex_xyz\n",
      "torch.Size([3, 3])\n",
      "torch.Size([3, 3])\n",
      "Using config with part_pxyz and part_vertex_xyz\n",
      "Using config with part_pxyz and part_vertex_xyz\n",
      "torch.Size([2, 3])\n",
      "torch.Size([2, 3])\n",
      "Using config with part_pxyz and part_vertex_xyz\n"
     ]
    },
    {
     "name": "stderr",
     "output_type": "stream",
     "text": [
      "22it [00:05,  5.03it/s]"
     ]
    },
    {
     "name": "stdout",
     "output_type": "stream",
     "text": [
      "Using config with part_pxyz and part_vertex_xyz\n",
      "Using config with part_pxyz and part_vertex_xyz\n",
      "torch.Size([2, 3])\n",
      "torch.Size([2, 3])\n",
      "Using config with part_pxyz and part_vertex_xyz\n",
      "torch.Size([1, 3])\n",
      "torch.Size([1, 3])\n",
      "Using config with part_pxyz and part_vertex_xyz\n"
     ]
    },
    {
     "name": "stderr",
     "output_type": "stream",
     "text": [
      "26it [00:05,  5.63it/s]"
     ]
    },
    {
     "name": "stdout",
     "output_type": "stream",
     "text": [
      "Using config with part_pxyz and part_vertex_xyz\n",
      "torch.Size([1, 3])\n",
      "torch.Size([1, 3])\n",
      "Using config with part_pxyz and part_vertex_xyz\n",
      "Using config with part_pxyz and part_vertex_xyz\n",
      "Using config with part_pxyz and part_vertex_xyz\n"
     ]
    },
    {
     "name": "stderr",
     "output_type": "stream",
     "text": [
      "29it [00:06,  5.51it/s]"
     ]
    },
    {
     "name": "stdout",
     "output_type": "stream",
     "text": [
      "Using config with part_pxyz and part_vertex_xyz\n",
      "Using config with part_pxyz and part_vertex_xyz\n",
      "torch.Size([1, 3])\n",
      "torch.Size([1, 3])\n",
      "Using config with part_pxyz and part_vertex_xyz\n",
      "Using config with part_pxyz and part_vertex_xyz\n",
      "torch.Size([2, 3])\n",
      "torch.Size([2, 3])\n"
     ]
    },
    {
     "name": "stderr",
     "output_type": "stream",
     "text": [
      "33it [00:06,  5.92it/s]"
     ]
    },
    {
     "name": "stdout",
     "output_type": "stream",
     "text": [
      "Using config with part_pxyz and part_vertex_xyz\n",
      "Using config with part_pxyz and part_vertex_xyz\n",
      "torch.Size([2, 3])\n",
      "torch.Size([2, 3])\n",
      "Using config with part_pxyz and part_vertex_xyz\n",
      "torch.Size([1, 3])\n",
      "torch.Size([1, 3])\n",
      "Using config with part_pxyz and part_vertex_xyz\n",
      "torch.Size([2, 3])\n",
      "torch.Size([2, 3])\n"
     ]
    },
    {
     "name": "stderr",
     "output_type": "stream",
     "text": [
      "37it [00:07,  5.18it/s]"
     ]
    },
    {
     "name": "stdout",
     "output_type": "stream",
     "text": [
      "Using config with part_pxyz and part_vertex_xyz\n",
      "Using config with part_pxyz and part_vertex_xyz\n",
      "Using config with part_pxyz and part_vertex_xyz\n",
      "Using config with part_pxyz and part_vertex_xyz\n"
     ]
    },
    {
     "name": "stderr",
     "output_type": "stream",
     "text": [
      "41it [00:08,  5.61it/s]"
     ]
    },
    {
     "name": "stdout",
     "output_type": "stream",
     "text": [
      "Using config with part_pxyz and part_vertex_xyz\n",
      "Using config with part_pxyz and part_vertex_xyz\n",
      "Using config with part_pxyz and part_vertex_xyz\n",
      "torch.Size([3, 3])\n",
      "torch.Size([3, 3])\n",
      "Using config with part_pxyz and part_vertex_xyz\n"
     ]
    },
    {
     "name": "stderr",
     "output_type": "stream",
     "text": [
      "45it [00:09,  5.96it/s]"
     ]
    },
    {
     "name": "stdout",
     "output_type": "stream",
     "text": [
      "Using config with part_pxyz and part_vertex_xyz\n",
      "torch.Size([2, 3])\n",
      "torch.Size([2, 3])\n",
      "Using config with part_pxyz and part_vertex_xyz\n",
      "torch.Size([1, 3])\n",
      "torch.Size([1, 3])\n",
      "Using config with part_pxyz and part_vertex_xyz\n",
      "torch.Size([2, 3])\n",
      "torch.Size([2, 3])\n",
      "Using config with part_pxyz and part_vertex_xyz\n"
     ]
    },
    {
     "name": "stderr",
     "output_type": "stream",
     "text": [
      "51it [00:09,  6.63it/s]"
     ]
    },
    {
     "name": "stdout",
     "output_type": "stream",
     "text": [
      "Using config with part_pxyz and part_vertex_xyz\n",
      "Using config with part_pxyz and part_vertex_xyz\n",
      "Using config with part_pxyz and part_vertex_xyz\n",
      "Using config with part_pxyz and part_vertex_xyz\n"
     ]
    },
    {
     "name": "stderr",
     "output_type": "stream",
     "text": [
      "54it [00:10,  5.39it/s]"
     ]
    },
    {
     "name": "stdout",
     "output_type": "stream",
     "text": [
      "Using config with part_pxyz and part_vertex_xyz\n",
      "Using config with part_pxyz and part_vertex_xyz\n",
      "Using config with part_pxyz and part_vertex_xyz\n",
      "Using config with part_pxyz and part_vertex_xyz\n",
      "torch.Size([2, 3])\n",
      "torch.Size([2, 3])\n",
      "Using config with part_pxyz and part_vertex_xyz\n"
     ]
    },
    {
     "name": "stderr",
     "output_type": "stream",
     "text": [
      "58it [00:11,  5.60it/s]"
     ]
    },
    {
     "name": "stdout",
     "output_type": "stream",
     "text": [
      "Using config with part_pxyz and part_vertex_xyz\n",
      "Using config with part_pxyz and part_vertex_xyz\n",
      "torch.Size([3, 3])\n",
      "torch.Size([3, 3])\n",
      "Using config with part_pxyz and part_vertex_xyz\n",
      "Using config with part_pxyz and part_vertex_xyz\n"
     ]
    },
    {
     "name": "stderr",
     "output_type": "stream",
     "text": [
      "62it [00:12,  4.79it/s]"
     ]
    },
    {
     "name": "stdout",
     "output_type": "stream",
     "text": [
      "Using config with part_pxyz and part_vertex_xyz\n",
      "torch.Size([4, 3])\n",
      "torch.Size([4, 3])\n",
      "Using config with part_pxyz and part_vertex_xyz\n",
      "torch.Size([3, 3])\n",
      "torch.Size([3, 3])\n",
      "Using config with part_pxyz and part_vertex_xyz\n",
      "torch.Size([1, 3])\n",
      "torch.Size([1, 3])\n",
      "Using config with part_pxyz and part_vertex_xyz\n"
     ]
    },
    {
     "name": "stderr",
     "output_type": "stream",
     "text": [
      "65it [00:12,  4.78it/s]"
     ]
    },
    {
     "name": "stdout",
     "output_type": "stream",
     "text": [
      "Using config with part_pxyz and part_vertex_xyz\n",
      "Using config with part_pxyz and part_vertex_xyz\n",
      "Using config with part_pxyz and part_vertex_xyz\n",
      "Using config with part_pxyz and part_vertex_xyz\n"
     ]
    },
    {
     "name": "stderr",
     "output_type": "stream",
     "text": [
      "69it [00:13,  5.35it/s]"
     ]
    },
    {
     "name": "stdout",
     "output_type": "stream",
     "text": [
      "Using config with part_pxyz and part_vertex_xyz\n",
      "Using config with part_pxyz and part_vertex_xyz\n",
      "Using config with part_pxyz and part_vertex_xyz\n",
      "torch.Size([2, 3])\n",
      "torch.Size([2, 3])\n",
      "Using config with part_pxyz and part_vertex_xyz\n"
     ]
    },
    {
     "name": "stderr",
     "output_type": "stream",
     "text": [
      "73it [00:14,  5.80it/s]"
     ]
    },
    {
     "name": "stdout",
     "output_type": "stream",
     "text": [
      "Using config with part_pxyz and part_vertex_xyz\n",
      "Using config with part_pxyz and part_vertex_xyz\n",
      "torch.Size([2, 3])\n",
      "torch.Size([2, 3])\n",
      "Using config with part_pxyz and part_vertex_xyz\n",
      "torch.Size([1, 3])\n",
      "torch.Size([1, 3])\n",
      "Using config with part_pxyz and part_vertex_xyz\n"
     ]
    },
    {
     "name": "stderr",
     "output_type": "stream",
     "text": [
      "78it [00:14,  6.03it/s]"
     ]
    },
    {
     "name": "stdout",
     "output_type": "stream",
     "text": [
      "Using config with part_pxyz and part_vertex_xyz\n",
      "torch.Size([2, 3])\n",
      "torch.Size([2, 3])\n",
      "Using config with part_pxyz and part_vertex_xyz\n",
      "Using config with part_pxyz and part_vertex_xyz\n",
      "torch.Size([2, 3])\n",
      "torch.Size([2, 3])\n",
      "Using config with part_pxyz and part_vertex_xyz\n"
     ]
    },
    {
     "name": "stderr",
     "output_type": "stream",
     "text": [
      "81it [00:15,  5.45it/s]"
     ]
    },
    {
     "name": "stdout",
     "output_type": "stream",
     "text": [
      "Using config with part_pxyz and part_vertex_xyz\n",
      "torch.Size([2, 3])\n",
      "torch.Size([2, 3])\n",
      "Using config with part_pxyz and part_vertex_xyz\n",
      "Using config with part_pxyz and part_vertex_xyz\n",
      "torch.Size([2, 3])\n",
      "torch.Size([2, 3])\n",
      "Using config with part_pxyz and part_vertex_xyz\n"
     ]
    },
    {
     "name": "stderr",
     "output_type": "stream",
     "text": [
      "85it [00:16,  4.91it/s]"
     ]
    },
    {
     "name": "stdout",
     "output_type": "stream",
     "text": [
      "Using config with part_pxyz and part_vertex_xyz\n",
      "torch.Size([2, 3])\n",
      "torch.Size([2, 3])\n",
      "Using config with part_pxyz and part_vertex_xyz\n",
      "Using config with part_pxyz and part_vertex_xyz\n",
      "torch.Size([2, 3])\n",
      "torch.Size([2, 3])\n",
      "Using config with part_pxyz and part_vertex_xyz\n"
     ]
    },
    {
     "name": "stderr",
     "output_type": "stream",
     "text": [
      "91it [00:17,  6.05it/s]"
     ]
    },
    {
     "name": "stdout",
     "output_type": "stream",
     "text": [
      "Using config with part_pxyz and part_vertex_xyz\n",
      "torch.Size([1, 3])\n",
      "torch.Size([1, 3])\n",
      "Using config with part_pxyz and part_vertex_xyz\n",
      "Using config with part_pxyz and part_vertex_xyz\n",
      "Using config with part_pxyz and part_vertex_xyz\n",
      "torch.Size([1, 3])\n",
      "torch.Size([1, 3])\n"
     ]
    },
    {
     "name": "stderr",
     "output_type": "stream",
     "text": [
      "93it [00:17,  4.89it/s]"
     ]
    },
    {
     "name": "stdout",
     "output_type": "stream",
     "text": [
      "Using config with part_pxyz and part_vertex_xyz\n",
      "Using config with part_pxyz and part_vertex_xyz\n",
      "Using config with part_pxyz and part_vertex_xyz\n",
      "Using config with part_pxyz and part_vertex_xyz\n",
      "torch.Size([2, 3])\n",
      "torch.Size([2, 3])\n"
     ]
    },
    {
     "name": "stderr",
     "output_type": "stream",
     "text": [
      "97it [00:18,  5.28it/s]"
     ]
    },
    {
     "name": "stdout",
     "output_type": "stream",
     "text": [
      "Using config with part_pxyz and part_vertex_xyz\n",
      "Using config with part_pxyz and part_vertex_xyz\n",
      "Using config with part_pxyz and part_vertex_xyz\n",
      "Using config with part_pxyz and part_vertex_xyz\n",
      "torch.Size([2, 3])\n",
      "torch.Size([2, 3])\n"
     ]
    },
    {
     "name": "stderr",
     "output_type": "stream",
     "text": [
      "101it [00:19,  5.78it/s]"
     ]
    },
    {
     "name": "stdout",
     "output_type": "stream",
     "text": [
      "Using config with part_pxyz and part_vertex_xyz\n",
      "Using config with part_pxyz and part_vertex_xyz\n",
      "Using config with part_pxyz and part_vertex_xyz\n",
      "Using config with part_pxyz and part_vertex_xyz\n"
     ]
    },
    {
     "name": "stderr",
     "output_type": "stream",
     "text": [
      "105it [00:19,  5.57it/s]"
     ]
    },
    {
     "name": "stdout",
     "output_type": "stream",
     "text": [
      "Using config with part_pxyz and part_vertex_xyz\n",
      "Using config with part_pxyz and part_vertex_xyz\n",
      "Using config with part_pxyz and part_vertex_xyz\n",
      "Using config with part_pxyz and part_vertex_xyz\n"
     ]
    },
    {
     "name": "stderr",
     "output_type": "stream",
     "text": [
      "109it [00:21,  4.83it/s]"
     ]
    },
    {
     "name": "stdout",
     "output_type": "stream",
     "text": [
      "Using config with part_pxyz and part_vertex_xyz\n",
      "Using config with part_pxyz and part_vertex_xyz\n",
      "torch.Size([2, 3])\n",
      "torch.Size([2, 3])\n",
      "Using config with part_pxyz and part_vertex_xyz\n",
      "torch.Size([2, 3])\n",
      "torch.Size([2, 3])\n",
      "Using config with part_pxyz and part_vertex_xyz\n",
      "torch.Size([2, 3])\n",
      "torch.Size([2, 3])\n"
     ]
    },
    {
     "name": "stderr",
     "output_type": "stream",
     "text": [
      "113it [00:21,  5.23it/s]"
     ]
    },
    {
     "name": "stdout",
     "output_type": "stream",
     "text": [
      "Using config with part_pxyz and part_vertex_xyz\n",
      "torch.Size([2, 3])\n",
      "torch.Size([2, 3])\n",
      "Using config with part_pxyz and part_vertex_xyz\n",
      "torch.Size([4, 3])\n",
      "torch.Size([4, 3])\n",
      "Using config with part_pxyz and part_vertex_xyz\n",
      "torch.Size([6, 3])\n",
      "torch.Size([6, 3])\n",
      "Using config with part_pxyz and part_vertex_xyz\n"
     ]
    },
    {
     "name": "stderr",
     "output_type": "stream",
     "text": [
      "117it [00:22,  5.67it/s]"
     ]
    },
    {
     "name": "stdout",
     "output_type": "stream",
     "text": [
      "Using config with part_pxyz and part_vertex_xyz\n",
      "Using config with part_pxyz and part_vertex_xyz\n",
      "torch.Size([2, 3])\n",
      "torch.Size([2, 3])\n",
      "Using config with part_pxyz and part_vertex_xyz\n"
     ]
    },
    {
     "name": "stderr",
     "output_type": "stream",
     "text": [
      "119it [00:22,  6.14it/s]"
     ]
    },
    {
     "name": "stdout",
     "output_type": "stream",
     "text": [
      "Using config with part_pxyz and part_vertex_xyz\n",
      "torch.Size([2, 3])\n",
      "torch.Size([2, 3])\n"
     ]
    },
    {
     "name": "stderr",
     "output_type": "stream",
     "text": [
      "121it [00:23,  5.08it/s]"
     ]
    },
    {
     "name": "stdout",
     "output_type": "stream",
     "text": [
      "Using config with part_pxyz and part_vertex_xyz\n",
      "Using config with part_pxyz and part_vertex_xyz\n",
      "Using config with part_pxyz and part_vertex_xyz\n",
      "Using config with part_pxyz and part_vertex_xyz\n",
      "torch.Size([2, 3])\n",
      "torch.Size([2, 3])\n"
     ]
    },
    {
     "name": "stderr",
     "output_type": "stream",
     "text": [
      "125it [00:23,  5.06it/s]"
     ]
    },
    {
     "name": "stdout",
     "output_type": "stream",
     "text": [
      "Using config with part_pxyz and part_vertex_xyz\n",
      "Using config with part_pxyz and part_vertex_xyz\n",
      "Using config with part_pxyz and part_vertex_xyz\n",
      "torch.Size([2, 3])\n",
      "torch.Size([2, 3])\n",
      "Using config with part_pxyz and part_vertex_xyz\n"
     ]
    },
    {
     "name": "stderr",
     "output_type": "stream",
     "text": [
      "128it [00:24,  4.93it/s]"
     ]
    },
    {
     "name": "stdout",
     "output_type": "stream",
     "text": [
      "Using config with part_pxyz and part_vertex_xyz\n",
      "torch.Size([2, 3])\n",
      "torch.Size([2, 3])\n",
      "Using config with part_pxyz and part_vertex_xyz\n",
      "torch.Size([2, 3])\n",
      "torch.Size([2, 3])\n",
      "Using config with part_pxyz and part_vertex_xyz\n",
      "torch.Size([2, 3])\n",
      "torch.Size([2, 3])\n",
      "Using config with part_pxyz and part_vertex_xyz\n",
      "torch.Size([2, 3])\n",
      "torch.Size([2, 3])\n"
     ]
    },
    {
     "name": "stderr",
     "output_type": "stream",
     "text": [
      "132it [00:25,  4.57it/s]"
     ]
    },
    {
     "name": "stdout",
     "output_type": "stream",
     "text": [
      "Using config with part_pxyz and part_vertex_xyz\n",
      "Using config with part_pxyz and part_vertex_xyz\n",
      "torch.Size([2, 3])\n",
      "torch.Size([2, 3])\n",
      "Using config with part_pxyz and part_vertex_xyz\n",
      "torch.Size([2, 3])\n",
      "torch.Size([2, 3])\n",
      "Using config with part_pxyz and part_vertex_xyz\n"
     ]
    },
    {
     "name": "stderr",
     "output_type": "stream",
     "text": [
      "136it [00:26,  5.12it/s]"
     ]
    },
    {
     "name": "stdout",
     "output_type": "stream",
     "text": [
      "Using config with part_pxyz and part_vertex_xyz\n",
      "Using config with part_pxyz and part_vertex_xyz\n",
      "Using config with part_pxyz and part_vertex_xyz\n"
     ]
    },
    {
     "name": "stderr",
     "output_type": "stream",
     "text": [
      "137it [00:26,  5.05it/s]"
     ]
    },
    {
     "name": "stdout",
     "output_type": "stream",
     "text": [
      "Using config with part_pxyz and part_vertex_xyz\n",
      "torch.Size([3, 3])\n",
      "torch.Size([3, 3])\n"
     ]
    },
    {
     "name": "stderr",
     "output_type": "stream",
     "text": [
      "139it [00:27,  4.29it/s]"
     ]
    },
    {
     "name": "stdout",
     "output_type": "stream",
     "text": [
      "Using config with part_pxyz and part_vertex_xyz\n",
      "Using config with part_pxyz and part_vertex_xyz\n",
      "torch.Size([2, 3])\n",
      "torch.Size([2, 3])\n",
      "Using config with part_pxyz and part_vertex_xyz\n",
      "Using config with part_pxyz and part_vertex_xyz\n",
      "torch.Size([2, 3])\n",
      "torch.Size([2, 3])\n"
     ]
    },
    {
     "name": "stderr",
     "output_type": "stream",
     "text": [
      "143it [00:27,  5.15it/s]"
     ]
    },
    {
     "name": "stdout",
     "output_type": "stream",
     "text": [
      "Using config with part_pxyz and part_vertex_xyz\n",
      "Using config with part_pxyz and part_vertex_xyz\n",
      "torch.Size([1, 3])\n",
      "torch.Size([1, 3])\n",
      "Using config with part_pxyz and part_vertex_xyz\n",
      "Using config with part_pxyz and part_vertex_xyz\n",
      "torch.Size([4, 3])\n",
      "torch.Size([4, 3])\n"
     ]
    },
    {
     "name": "stderr",
     "output_type": "stream",
     "text": [
      "147it [00:28,  5.75it/s]"
     ]
    },
    {
     "name": "stdout",
     "output_type": "stream",
     "text": [
      "Using config with part_pxyz and part_vertex_xyz\n",
      "Using config with part_pxyz and part_vertex_xyz\n",
      "torch.Size([1, 3])\n",
      "torch.Size([1, 3])\n",
      "Using config with part_pxyz and part_vertex_xyz\n",
      "Using config with part_pxyz and part_vertex_xyz\n",
      "torch.Size([2, 3])\n",
      "torch.Size([2, 3])\n"
     ]
    },
    {
     "name": "stderr",
     "output_type": "stream",
     "text": [
      "151it [00:28,  6.14it/s]"
     ]
    },
    {
     "name": "stdout",
     "output_type": "stream",
     "text": [
      "Using config with part_pxyz and part_vertex_xyz\n",
      "torch.Size([2, 3])\n",
      "torch.Size([2, 3])\n",
      "Using config with part_pxyz and part_vertex_xyz\n",
      "torch.Size([2, 3])\n",
      "torch.Size([2, 3])\n",
      "Using config with part_pxyz and part_vertex_xyz\n",
      "torch.Size([2, 3])\n",
      "torch.Size([2, 3])\n",
      "Using config with part_pxyz and part_vertex_xyz\n",
      "torch.Size([2, 3])\n",
      "torch.Size([2, 3])\n"
     ]
    },
    {
     "name": "stderr",
     "output_type": "stream",
     "text": [
      "156it [00:29,  5.45it/s]"
     ]
    },
    {
     "name": "stdout",
     "output_type": "stream",
     "text": [
      "Using config with part_pxyz and part_vertex_xyz\n",
      "Using config with part_pxyz and part_vertex_xyz\n",
      "Using config with part_pxyz and part_vertex_xyz\n",
      "Using config with part_pxyz and part_vertex_xyz\n"
     ]
    },
    {
     "name": "stderr",
     "output_type": "stream",
     "text": [
      "158it [00:30,  4.52it/s]"
     ]
    },
    {
     "name": "stdout",
     "output_type": "stream",
     "text": [
      "Using config with part_pxyz and part_vertex_xyz\n",
      "Using config with part_pxyz and part_vertex_xyz\n",
      "torch.Size([1, 3])\n",
      "torch.Size([1, 3])\n",
      "Using config with part_pxyz and part_vertex_xyz\n",
      "Using config with part_pxyz and part_vertex_xyz\n",
      "torch.Size([3, 3])\n",
      "torch.Size([3, 3])\n"
     ]
    },
    {
     "name": "stderr",
     "output_type": "stream",
     "text": [
      "162it [00:31,  5.22it/s]"
     ]
    },
    {
     "name": "stdout",
     "output_type": "stream",
     "text": [
      "Using config with part_pxyz and part_vertex_xyz\n",
      "torch.Size([1, 3])\n",
      "torch.Size([1, 3])\n",
      "Using config with part_pxyz and part_vertex_xyz\n",
      "torch.Size([2, 3])\n",
      "torch.Size([2, 3])\n",
      "Using config with part_pxyz and part_vertex_xyz\n",
      "torch.Size([3, 3])\n",
      "torch.Size([3, 3])\n",
      "Using config with part_pxyz and part_vertex_xyz\n"
     ]
    },
    {
     "name": "stderr",
     "output_type": "stream",
     "text": [
      "166it [00:31,  5.63it/s]"
     ]
    },
    {
     "name": "stdout",
     "output_type": "stream",
     "text": [
      "Using config with part_pxyz and part_vertex_xyz\n",
      "torch.Size([1, 3])\n",
      "torch.Size([1, 3])\n",
      "Using config with part_pxyz and part_vertex_xyz\n",
      "Using config with part_pxyz and part_vertex_xyz\n",
      "torch.Size([2, 3])\n",
      "torch.Size([2, 3])\n",
      "Using config with part_pxyz and part_vertex_xyz\n",
      "torch.Size([2, 3])\n",
      "torch.Size([2, 3])\n"
     ]
    },
    {
     "name": "stderr",
     "output_type": "stream",
     "text": [
      "170it [00:32,  5.98it/s]"
     ]
    },
    {
     "name": "stdout",
     "output_type": "stream",
     "text": [
      "Using config with part_pxyz and part_vertex_xyz\n",
      "Using config with part_pxyz and part_vertex_xyz\n",
      "torch.Size([1, 3])\n",
      "torch.Size([1, 3])\n",
      "Using config with part_pxyz and part_vertex_xyz\n",
      "Using config with part_pxyz and part_vertex_xyz\n",
      "torch.Size([2, 3])\n",
      "torch.Size([2, 3])\n"
     ]
    },
    {
     "name": "stderr",
     "output_type": "stream",
     "text": [
      "174it [00:32,  6.17it/s]"
     ]
    },
    {
     "name": "stdout",
     "output_type": "stream",
     "text": [
      "Using config with part_pxyz and part_vertex_xyz\n",
      "Using config with part_pxyz and part_vertex_xyz\n",
      "torch.Size([2, 3])\n",
      "torch.Size([2, 3])\n",
      "Using config with part_pxyz and part_vertex_xyz\n",
      "torch.Size([2, 3])\n",
      "torch.Size([2, 3])\n",
      "Using config with part_pxyz and part_vertex_xyz\n",
      "torch.Size([1, 3])\n",
      "torch.Size([1, 3])\n"
     ]
    },
    {
     "name": "stderr",
     "output_type": "stream",
     "text": [
      "178it [00:33,  5.35it/s]"
     ]
    },
    {
     "name": "stdout",
     "output_type": "stream",
     "text": [
      "Using config with part_pxyz and part_vertex_xyz\n",
      "Using config with part_pxyz and part_vertex_xyz\n",
      "Using config with part_pxyz and part_vertex_xyz\n",
      "Using config with part_pxyz and part_vertex_xyz\n",
      "torch.Size([2, 3])\n",
      "torch.Size([2, 3])\n"
     ]
    },
    {
     "name": "stderr",
     "output_type": "stream",
     "text": [
      "182it [00:34,  5.64it/s]"
     ]
    },
    {
     "name": "stdout",
     "output_type": "stream",
     "text": [
      "Using config with part_pxyz and part_vertex_xyz\n",
      "torch.Size([2, 3])\n",
      "torch.Size([2, 3])\n",
      "Using config with part_pxyz and part_vertex_xyz\n",
      "torch.Size([1, 3])\n",
      "torch.Size([1, 3])\n",
      "Using config with part_pxyz and part_vertex_xyz\n",
      "torch.Size([2, 3])\n",
      "torch.Size([2, 3])\n",
      "Using config with part_pxyz and part_vertex_xyz\n",
      "torch.Size([8, 3])\n",
      "torch.Size([8, 3])\n"
     ]
    },
    {
     "name": "stderr",
     "output_type": "stream",
     "text": [
      "186it [00:35,  5.85it/s]"
     ]
    },
    {
     "name": "stdout",
     "output_type": "stream",
     "text": [
      "Using config with part_pxyz and part_vertex_xyz\n",
      "torch.Size([1, 3])\n",
      "torch.Size([1, 3])\n",
      "Using config with part_pxyz and part_vertex_xyz\n",
      "Using config with part_pxyz and part_vertex_xyz\n",
      "Using config with part_pxyz and part_vertex_xyz\n",
      "torch.Size([2, 3])\n",
      "torch.Size([2, 3])\n"
     ]
    },
    {
     "name": "stderr",
     "output_type": "stream",
     "text": [
      "191it [00:35,  6.06it/s]"
     ]
    },
    {
     "name": "stdout",
     "output_type": "stream",
     "text": [
      "Using config with part_pxyz and part_vertex_xyz\n",
      "torch.Size([2, 3])\n",
      "torch.Size([2, 3])\n",
      "Using config with part_pxyz and part_vertex_xyz\n",
      "Using config with part_pxyz and part_vertex_xyz\n",
      "Using config with part_pxyz and part_vertex_xyz\n",
      "torch.Size([2, 3])\n",
      "torch.Size([2, 3])\n"
     ]
    },
    {
     "name": "stderr",
     "output_type": "stream",
     "text": [
      "194it [00:36,  5.50it/s]"
     ]
    },
    {
     "name": "stdout",
     "output_type": "stream",
     "text": [
      "Using config with part_pxyz and part_vertex_xyz\n",
      "Using config with part_pxyz and part_vertex_xyz\n",
      "Using config with part_pxyz and part_vertex_xyz\n",
      "torch.Size([3, 3])\n",
      "torch.Size([3, 3])\n",
      "Using config with part_pxyz and part_vertex_xyz\n",
      "torch.Size([2, 3])\n",
      "torch.Size([2, 3])\n"
     ]
    },
    {
     "name": "stderr",
     "output_type": "stream",
     "text": [
      "198it [00:37,  5.95it/s]"
     ]
    },
    {
     "name": "stdout",
     "output_type": "stream",
     "text": [
      "Using config with part_pxyz and part_vertex_xyz\n",
      "torch.Size([3, 3])\n",
      "torch.Size([3, 3])\n",
      "Using config with part_pxyz and part_vertex_xyz\n",
      "torch.Size([2, 3])\n",
      "torch.Size([2, 3])\n",
      "Using config with part_pxyz and part_vertex_xyz\n",
      "torch.Size([2, 3])\n",
      "torch.Size([2, 3])\n",
      "Using config with part_pxyz and part_vertex_xyz\n",
      "torch.Size([2, 3])\n",
      "torch.Size([2, 3])\n"
     ]
    },
    {
     "name": "stderr",
     "output_type": "stream",
     "text": [
      "202it [00:38,  5.23it/s]"
     ]
    },
    {
     "name": "stdout",
     "output_type": "stream",
     "text": [
      "Using config with part_pxyz and part_vertex_xyz\n",
      "Using config with part_pxyz and part_vertex_xyz\n",
      "Using config with part_pxyz and part_vertex_xyz\n",
      "Using config with part_pxyz and part_vertex_xyz\n"
     ]
    },
    {
     "name": "stderr",
     "output_type": "stream",
     "text": [
      "209it [00:38,  6.76it/s]"
     ]
    },
    {
     "name": "stdout",
     "output_type": "stream",
     "text": [
      "Using config with part_pxyz and part_vertex_xyz\n",
      "Using config with part_pxyz and part_vertex_xyz\n",
      "Using config with part_pxyz and part_vertex_xyz\n",
      "Using config with part_pxyz and part_vertex_xyz\n"
     ]
    },
    {
     "name": "stderr",
     "output_type": "stream",
     "text": [
      "212it [00:39,  5.63it/s]"
     ]
    },
    {
     "name": "stdout",
     "output_type": "stream",
     "text": [
      "Using config with part_pxyz and part_vertex_xyz\n",
      "torch.Size([2, 3])\n",
      "torch.Size([2, 3])\n",
      "Using config with part_pxyz and part_vertex_xyz\n",
      "Using config with part_pxyz and part_vertex_xyz\n",
      "Using config with part_pxyz and part_vertex_xyz\n"
     ]
    },
    {
     "name": "stderr",
     "output_type": "stream",
     "text": [
      "214it [00:40,  3.77it/s]"
     ]
    },
    {
     "name": "stdout",
     "output_type": "stream",
     "text": [
      "Using config with part_pxyz and part_vertex_xyz\n",
      "torch.Size([2, 3])\n",
      "torch.Size([2, 3])\n",
      "Using config with part_pxyz and part_vertex_xyz\n",
      "Using config with part_pxyz and part_vertex_xyz\n",
      "torch.Size([2, 3])\n",
      "torch.Size([2, 3])\n",
      "Using config with part_pxyz and part_vertex_xyz\n"
     ]
    },
    {
     "name": "stderr",
     "output_type": "stream",
     "text": [
      "218it [00:41,  4.90it/s]"
     ]
    },
    {
     "name": "stdout",
     "output_type": "stream",
     "text": [
      "Using config with part_pxyz and part_vertex_xyz\n",
      "torch.Size([2, 3])\n",
      "torch.Size([2, 3])\n",
      "Using config with part_pxyz and part_vertex_xyz\n",
      "Using config with part_pxyz and part_vertex_xyz\n",
      "Using config with part_pxyz and part_vertex_xyz\n",
      "torch.Size([2, 3])\n",
      "torch.Size([2, 3])\n"
     ]
    },
    {
     "name": "stderr",
     "output_type": "stream",
     "text": [
      "222it [00:41,  5.49it/s]"
     ]
    },
    {
     "name": "stdout",
     "output_type": "stream",
     "text": [
      "Using config with part_pxyz and part_vertex_xyz\n",
      "Using config with part_pxyz and part_vertex_xyz\n",
      "torch.Size([3, 3])\n",
      "torch.Size([3, 3])\n",
      "Using config with part_pxyz and part_vertex_xyz\n",
      "Using config with part_pxyz and part_vertex_xyz\n",
      "torch.Size([2, 3])\n",
      "torch.Size([2, 3])\n"
     ]
    },
    {
     "name": "stderr",
     "output_type": "stream",
     "text": [
      "226it [00:42,  4.89it/s]"
     ]
    },
    {
     "name": "stdout",
     "output_type": "stream",
     "text": [
      "Using config with part_pxyz and part_vertex_xyz\n",
      "torch.Size([2, 3])\n",
      "torch.Size([2, 3])\n",
      "Using config with part_pxyz and part_vertex_xyz\n",
      "Using config with part_pxyz and part_vertex_xyz\n"
     ]
    },
    {
     "name": "stderr",
     "output_type": "stream",
     "text": [
      "228it [00:42,  5.43it/s]"
     ]
    },
    {
     "name": "stdout",
     "output_type": "stream",
     "text": [
      "Using config with part_pxyz and part_vertex_xyz\n"
     ]
    },
    {
     "name": "stderr",
     "output_type": "stream",
     "text": [
      "230it [00:43,  4.53it/s]"
     ]
    },
    {
     "name": "stdout",
     "output_type": "stream",
     "text": [
      "Using config with part_pxyz and part_vertex_xyz\n",
      "torch.Size([4, 3])\n",
      "torch.Size([4, 3])\n",
      "Using config with part_pxyz and part_vertex_xyz\n",
      "torch.Size([4, 3])\n",
      "torch.Size([4, 3])\n",
      "Using config with part_pxyz and part_vertex_xyz\n",
      "torch.Size([2, 3])\n",
      "torch.Size([2, 3])\n",
      "Using config with part_pxyz and part_vertex_xyz\n"
     ]
    },
    {
     "name": "stderr",
     "output_type": "stream",
     "text": [
      "234it [00:44,  5.24it/s]"
     ]
    },
    {
     "name": "stdout",
     "output_type": "stream",
     "text": [
      "Using config with part_pxyz and part_vertex_xyz\n",
      "torch.Size([2, 3])\n",
      "torch.Size([2, 3])\n",
      "Using config with part_pxyz and part_vertex_xyz\n",
      "Using config with part_pxyz and part_vertex_xyz\n",
      "Using config with part_pxyz and part_vertex_xyz\n"
     ]
    },
    {
     "name": "stderr",
     "output_type": "stream",
     "text": [
      "238it [00:44,  5.72it/s]"
     ]
    },
    {
     "name": "stdout",
     "output_type": "stream",
     "text": [
      "Using config with part_pxyz and part_vertex_xyz\n",
      "Using config with part_pxyz and part_vertex_xyz\n",
      "torch.Size([2, 3])\n",
      "torch.Size([2, 3])\n",
      "Using config with part_pxyz and part_vertex_xyz\n",
      "Using config with part_pxyz and part_vertex_xyz\n"
     ]
    },
    {
     "name": "stderr",
     "output_type": "stream",
     "text": [
      "241it [00:45,  5.59it/s]"
     ]
    },
    {
     "name": "stdout",
     "output_type": "stream",
     "text": [
      "Using config with part_pxyz and part_vertex_xyz\n",
      "torch.Size([5, 3])\n",
      "torch.Size([5, 3])\n",
      "Using config with part_pxyz and part_vertex_xyz\n",
      "torch.Size([2, 3])\n",
      "torch.Size([2, 3])\n",
      "Using config with part_pxyz and part_vertex_xyz\n",
      "Using config with part_pxyz and part_vertex_xyz\n"
     ]
    },
    {
     "name": "stderr",
     "output_type": "stream",
     "text": [
      "245it [00:46,  4.86it/s]"
     ]
    },
    {
     "name": "stdout",
     "output_type": "stream",
     "text": [
      "Using config with part_pxyz and part_vertex_xyz\n",
      "Using config with part_pxyz and part_vertex_xyz\n",
      "torch.Size([1, 3])\n",
      "torch.Size([1, 3])\n",
      "Using config with part_pxyz and part_vertex_xyz\n",
      "Using config with part_pxyz and part_vertex_xyz\n"
     ]
    },
    {
     "name": "stderr",
     "output_type": "stream",
     "text": [
      "249it [00:47,  4.31it/s]"
     ]
    },
    {
     "name": "stdout",
     "output_type": "stream",
     "text": [
      "Using config with part_pxyz and part_vertex_xyz\n",
      "Using config with part_pxyz and part_vertex_xyz\n",
      "torch.Size([2, 3])\n",
      "torch.Size([2, 3])\n",
      "Using config with part_pxyz and part_vertex_xyz\n",
      "Using config with part_pxyz and part_vertex_xyz\n",
      "torch.Size([2, 3])\n",
      "torch.Size([2, 3])\n"
     ]
    },
    {
     "name": "stderr",
     "output_type": "stream",
     "text": [
      "254it [00:47,  5.24it/s]"
     ]
    },
    {
     "name": "stdout",
     "output_type": "stream",
     "text": [
      "Using config with part_pxyz and part_vertex_xyz\n",
      "torch.Size([2, 3])\n",
      "torch.Size([2, 3])\n",
      "Using config with part_pxyz and part_vertex_xyz\n",
      "torch.Size([1, 3])\n",
      "torch.Size([1, 3])\n",
      "Using config with part_pxyz and part_vertex_xyz\n",
      "Using config with part_pxyz and part_vertex_xyz\n"
     ]
    },
    {
     "name": "stderr",
     "output_type": "stream",
     "text": [
      "259it [00:48,  5.48it/s]"
     ]
    },
    {
     "name": "stdout",
     "output_type": "stream",
     "text": [
      "Using config with part_pxyz and part_vertex_xyz\n",
      "Using config with part_pxyz and part_vertex_xyz\n",
      "Using config with part_pxyz and part_vertex_xyz\n",
      "Using config with part_pxyz and part_vertex_xyz\n"
     ]
    },
    {
     "name": "stderr",
     "output_type": "stream",
     "text": [
      "261it [00:49,  4.26it/s]"
     ]
    },
    {
     "name": "stdout",
     "output_type": "stream",
     "text": [
      "Using config with part_pxyz and part_vertex_xyz\n",
      "Using config with part_pxyz and part_vertex_xyz\n",
      "Using config with part_pxyz and part_vertex_xyz\n"
     ]
    },
    {
     "name": "stderr",
     "output_type": "stream",
     "text": [
      "262it [00:50,  4.39it/s]"
     ]
    },
    {
     "name": "stdout",
     "output_type": "stream",
     "text": [
      "Using config with part_pxyz and part_vertex_xyz\n",
      "torch.Size([2, 3])\n",
      "torch.Size([2, 3])\n"
     ]
    },
    {
     "name": "stderr",
     "output_type": "stream",
     "text": [
      "265it [00:50,  3.98it/s]"
     ]
    },
    {
     "name": "stdout",
     "output_type": "stream",
     "text": [
      "Using config with part_pxyz and part_vertex_xyz\n",
      "Using config with part_pxyz and part_vertex_xyz\n",
      "Using config with part_pxyz and part_vertex_xyz\n",
      "torch.Size([2, 3])\n",
      "torch.Size([2, 3])\n",
      "Using config with part_pxyz and part_vertex_xyz\n",
      "torch.Size([2, 3])\n",
      "torch.Size([2, 3])\n"
     ]
    },
    {
     "name": "stderr",
     "output_type": "stream",
     "text": [
      "268it [00:51,  4.06it/s]"
     ]
    },
    {
     "name": "stdout",
     "output_type": "stream",
     "text": [
      "Using config with part_pxyz and part_vertex_xyz\n",
      "torch.Size([2, 3])\n",
      "torch.Size([2, 3])\n",
      "Using config with part_pxyz and part_vertex_xyz\n",
      "Using config with part_pxyz and part_vertex_xyz\n",
      "Using config with part_pxyz and part_vertex_xyz\n"
     ]
    },
    {
     "name": "stderr",
     "output_type": "stream",
     "text": [
      "271it [00:52,  3.60it/s]"
     ]
    },
    {
     "name": "stdout",
     "output_type": "stream",
     "text": [
      "Using config with part_pxyz and part_vertex_xyz\n",
      "torch.Size([2, 3])\n",
      "torch.Size([2, 3])\n",
      "Using config with part_pxyz and part_vertex_xyz\n",
      "Using config with part_pxyz and part_vertex_xyz\n",
      "torch.Size([13, 3])\n",
      "torch.Size([13, 3])\n",
      "Using config with part_pxyz and part_vertex_xyz\n"
     ]
    },
    {
     "name": "stderr",
     "output_type": "stream",
     "text": [
      "275it [00:53,  3.77it/s]"
     ]
    },
    {
     "name": "stdout",
     "output_type": "stream",
     "text": [
      "Using config with part_pxyz and part_vertex_xyz\n",
      "torch.Size([2, 3])\n",
      "torch.Size([2, 3])\n",
      "Using config with part_pxyz and part_vertex_xyz\n",
      "Using config with part_pxyz and part_vertex_xyz\n",
      "torch.Size([2, 3])\n",
      "torch.Size([2, 3])\n",
      "Using config with part_pxyz and part_vertex_xyz\n"
     ]
    },
    {
     "name": "stderr",
     "output_type": "stream",
     "text": [
      "278it [00:54,  4.17it/s]"
     ]
    },
    {
     "name": "stdout",
     "output_type": "stream",
     "text": [
      "Using config with part_pxyz and part_vertex_xyz\n",
      "torch.Size([2, 3])\n",
      "torch.Size([2, 3])\n",
      "Using config with part_pxyz and part_vertex_xyz\n",
      "Using config with part_pxyz and part_vertex_xyz\n",
      "Using config with part_pxyz and part_vertex_xyz\n",
      "torch.Size([2, 3])\n",
      "torch.Size([2, 3])\n"
     ]
    },
    {
     "name": "stderr",
     "output_type": "stream",
     "text": [
      "282it [00:54,  4.98it/s]"
     ]
    },
    {
     "name": "stdout",
     "output_type": "stream",
     "text": [
      "Using config with part_pxyz and part_vertex_xyz\n",
      "torch.Size([2, 3])\n",
      "torch.Size([2, 3])\n",
      "Using config with part_pxyz and part_vertex_xyz\n",
      "Using config with part_pxyz and part_vertex_xyz\n",
      "Using config with part_pxyz and part_vertex_xyz\n",
      "torch.Size([2, 3])\n",
      "torch.Size([2, 3])\n"
     ]
    },
    {
     "name": "stderr",
     "output_type": "stream",
     "text": [
      "286it [00:55,  5.58it/s]"
     ]
    },
    {
     "name": "stdout",
     "output_type": "stream",
     "text": [
      "Using config with part_pxyz and part_vertex_xyz\n",
      "torch.Size([5, 3])\n",
      "torch.Size([5, 3])\n",
      "Using config with part_pxyz and part_vertex_xyz\n",
      "Using config with part_pxyz and part_vertex_xyz\n",
      "Using config with part_pxyz and part_vertex_xyz\n"
     ]
    },
    {
     "name": "stderr",
     "output_type": "stream",
     "text": [
      "290it [00:55,  5.98it/s]"
     ]
    },
    {
     "name": "stdout",
     "output_type": "stream",
     "text": [
      "Using config with part_pxyz and part_vertex_xyz\n",
      "Using config with part_pxyz and part_vertex_xyz\n",
      "Using config with part_pxyz and part_vertex_xyz\n",
      "Using config with part_pxyz and part_vertex_xyz\n",
      "torch.Size([2, 3])\n",
      "torch.Size([2, 3])\n"
     ]
    },
    {
     "name": "stderr",
     "output_type": "stream",
     "text": [
      "293it [00:56,  4.78it/s]"
     ]
    },
    {
     "name": "stdout",
     "output_type": "stream",
     "text": [
      "Using config with part_pxyz and part_vertex_xyz\n",
      "torch.Size([1, 3])\n",
      "torch.Size([1, 3])\n",
      "Using config with part_pxyz and part_vertex_xyz\n",
      "Using config with part_pxyz and part_vertex_xyz\n",
      "torch.Size([2, 3])\n",
      "torch.Size([2, 3])\n",
      "Using config with part_pxyz and part_vertex_xyz\n",
      "torch.Size([2, 3])\n",
      "torch.Size([2, 3])\n"
     ]
    },
    {
     "name": "stderr",
     "output_type": "stream",
     "text": [
      "297it [00:57,  5.26it/s]"
     ]
    },
    {
     "name": "stdout",
     "output_type": "stream",
     "text": [
      "Using config with part_pxyz and part_vertex_xyz\n",
      "Using config with part_pxyz and part_vertex_xyz\n",
      "Using config with part_pxyz and part_vertex_xyz\n",
      "Using config with part_pxyz and part_vertex_xyz\n",
      "torch.Size([2, 3])\n",
      "torch.Size([2, 3])\n"
     ]
    },
    {
     "name": "stderr",
     "output_type": "stream",
     "text": [
      "302it [00:58,  5.66it/s]"
     ]
    },
    {
     "name": "stdout",
     "output_type": "stream",
     "text": [
      "Using config with part_pxyz and part_vertex_xyz\n",
      "torch.Size([2, 3])\n",
      "torch.Size([2, 3])\n",
      "Using config with part_pxyz and part_vertex_xyz\n"
     ]
    },
    {
     "name": "stderr",
     "output_type": "stream",
     "text": [
      "308it [00:58,  5.30it/s]"
     ]
    },
    {
     "name": "stdout",
     "output_type": "stream",
     "text": [
      "Using config with part_pxyz and part_vertex_xyz\n",
      "torch.Size([2, 3])\n",
      "torch.Size([2, 3])\n",
      "Using config with part_pxyz and part_vertex_xyz\n",
      "Using config with part_pxyz and part_vertex_xyz\n",
      "Using config with part_pxyz and part_vertex_xyz\n",
      "Using config with part_pxyz and part_vertex_xyz\n",
      "Using config with part_pxyz and part_vertex_xyz\n"
     ]
    },
    {
     "name": "stderr",
     "output_type": "stream",
     "text": [
      "\n"
     ]
    }
   ],
   "execution_count": 96
  },
  {
   "metadata": {
    "ExecuteTime": {
     "end_time": "2024-05-21T14:37:44.704327Z",
     "start_time": "2024-05-21T14:37:44.699537Z"
    }
   },
   "cell_type": "code",
   "source": [
    "res = {}   # number of particles to PIDs\n",
    "\n",
    "for i in range(len(num_particles)):\n",
    "    if num_particles[i] not in res:\n",
    "        res[num_particles[i]] = []\n",
    "    res[num_particles[i]].append(ys[i].pid.tolist())"
   ],
   "outputs": [],
   "execution_count": 5
  },
  {
   "metadata": {
    "ExecuteTime": {
     "end_time": "2024-05-21T14:37:44.917224Z",
     "start_time": "2024-05-21T14:37:44.706699Z"
    }
   },
   "cell_type": "code",
   "source": [
    "import pandas as pd\n",
    "pd.Series(num_particles).value_counts(normalize=True)"
   ],
   "outputs": [
    {
     "data": {
      "text/plain": [
       "2    0.421053\n",
       "4    0.276316\n",
       "1    0.131579\n",
       "3    0.078947\n",
       "5    0.052632\n",
       "6    0.039474\n",
       "dtype: float64"
      ]
     },
     "execution_count": 6,
     "metadata": {},
     "output_type": "execute_result"
    }
   ],
   "execution_count": 6
  },
  {
   "metadata": {
    "ExecuteTime": {
     "end_time": "2024-05-21T14:37:52.376796Z",
     "start_time": "2024-05-21T14:37:52.369389Z"
    }
   },
   "cell_type": "code",
   "source": "res.keys()",
   "outputs": [
    {
     "data": {
      "text/plain": [
       "dict_keys([2, 4, 1, 3, 5, 6])"
      ]
     },
     "execution_count": 7,
     "metadata": {},
     "output_type": "execute_result"
    }
   ],
   "execution_count": 7
  },
  {
   "metadata": {
    "ExecuteTime": {
     "end_time": "2024-05-21T14:37:58.666854Z",
     "start_time": "2024-05-21T14:37:58.658537Z"
    }
   },
   "cell_type": "code",
   "source": "res[2]",
   "outputs": [
    {
     "data": {
      "text/plain": [
       "[[[-211.0], [211.0]],\n",
       " [[-211.0], [211.0]],\n",
       " [[-211.0], [211.0]],\n",
       " [[-211.0], [211.0]],\n",
       " [[-211.0], [211.0]],\n",
       " [[-211.0], [211.0]],\n",
       " [[-211.0], [211.0]],\n",
       " [[-211.0], [211.0]],\n",
       " [[-211.0], [211.0]],\n",
       " [[-211.0], [211.0]],\n",
       " [[-211.0], [211.0]],\n",
       " [[-211.0], [211.0]],\n",
       " [[-211.0], [211.0]],\n",
       " [[-211.0], [211.0]],\n",
       " [[-211.0], [211.0]],\n",
       " [[-211.0], [211.0]],\n",
       " [[-211.0], [211.0]],\n",
       " [[-211.0], [211.0]],\n",
       " [[-211.0], [211.0]],\n",
       " [[-211.0], [211.0]],\n",
       " [[-211.0], [211.0]],\n",
       " [[-211.0], [211.0]],\n",
       " [[-211.0], [211.0]],\n",
       " [[-211.0], [211.0]],\n",
       " [[-211.0], [211.0]],\n",
       " [[22.0], [22.0]],\n",
       " [[-211.0], [211.0]],\n",
       " [[-211.0], [211.0]],\n",
       " [[-211.0], [211.0]],\n",
       " [[-211.0], [211.0]],\n",
       " [[-211.0], [211.0]],\n",
       " [[-211.0], [211.0]]]"
      ]
     },
     "execution_count": 9,
     "metadata": {},
     "output_type": "execute_result"
    }
   ],
   "execution_count": 9
  },
  {
   "metadata": {
    "ExecuteTime": {
     "end_time": "2024-05-21T14:37:58.960511Z",
     "start_time": "2024-05-21T14:37:58.952645Z"
    }
   },
   "cell_type": "code",
   "source": "res[4]",
   "outputs": [
    {
     "data": {
      "text/plain": [
       "[[[22.0], [22.0], [22.0], [22.0]],\n",
       " [[22.0], [22.0], [22.0], [22.0]],\n",
       " [[22.0], [22.0], [22.0], [22.0]],\n",
       " [[22.0], [22.0], [22.0], [22.0]],\n",
       " [[22.0], [22.0], [22.0], [22.0]],\n",
       " [[22.0], [22.0], [22.0], [22.0]],\n",
       " [[22.0], [22.0], [22.0], [22.0]],\n",
       " [[22.0], [22.0], [22.0], [22.0]],\n",
       " [[22.0], [22.0], [22.0], [22.0]],\n",
       " [[22.0], [22.0], [22.0], [22.0]],\n",
       " [[22.0], [22.0], [22.0], [22.0]],\n",
       " [[22.0], [22.0], [22.0], [22.0]],\n",
       " [[22.0], [22.0], [22.0], [22.0]],\n",
       " [[-211.0], [211.0], [22.0], [22.0]],\n",
       " [[22.0], [22.0], [22.0], [22.0]],\n",
       " [[22.0], [22.0], [22.0], [22.0]],\n",
       " [[22.0], [22.0], [22.0], [-11.0]],\n",
       " [[22.0], [22.0], [22.0], [-11.0]],\n",
       " [[22.0], [22.0], [22.0], [22.0]],\n",
       " [[22.0], [22.0], [22.0], [22.0]],\n",
       " [[22.0], [22.0], [22.0], [22.0]]]"
      ]
     },
     "execution_count": 10,
     "metadata": {},
     "output_type": "execute_result"
    }
   ],
   "execution_count": 10
  },
  {
   "metadata": {
    "ExecuteTime": {
     "end_time": "2024-05-21T14:37:59.263426Z",
     "start_time": "2024-05-21T14:37:59.258134Z"
    }
   },
   "cell_type": "code",
   "source": "res[5]",
   "outputs": [
    {
     "data": {
      "text/plain": [
       "[[[22.0], [22.0], [22.0], [22.0], [22.0]],\n",
       " [[22.0], [11.0], [22.0], [22.0], [22.0]],\n",
       " [[22.0], [11.0], [-11.0], [22.0], [22.0]],\n",
       " [[22.0], [11.0], [-11.0], [22.0], [22.0]]]"
      ]
     },
     "execution_count": 11,
     "metadata": {},
     "output_type": "execute_result"
    }
   ],
   "execution_count": 11
  },
  {
   "metadata": {
    "ExecuteTime": {
     "end_time": "2024-05-22T16:54:15.604104Z",
     "start_time": "2024-05-22T16:54:15.591617Z"
    }
   },
   "cell_type": "code",
   "source": "tracks_dist",
   "outputs": [
    {
     "data": {
      "text/plain": [
       "[tensor([0.4064, 1.2241]),\n",
       " None,\n",
       " tensor([1.5080, 0.3694]),\n",
       " None,\n",
       " tensor([1.5080, 0.3694]),\n",
       " tensor([0.4064, 1.2241]),\n",
       " None,\n",
       " None,\n",
       " tensor([0.2023, 0.0836]),\n",
       " tensor([0.8188, 0.6585]),\n",
       " None,\n",
       " tensor([1.9507, 1.1407]),\n",
       " None,\n",
       " tensor([0.7283, 1.7546]),\n",
       " tensor([0.7414]),\n",
       " None,\n",
       " tensor([0.9683, 1.9345]),\n",
       " tensor([0.6409]),\n",
       " tensor([0.3855, 0.8840, 0.3766]),\n",
       " None,\n",
       " tensor([0.5478, 0.3933]),\n",
       " None,\n",
       " None,\n",
       " tensor([1.2868]),\n",
       " tensor([0.6043, 0.3219]),\n",
       " None,\n",
       " tensor([1.0065]),\n",
       " None,\n",
       " tensor([1.4285]),\n",
       " None,\n",
       " tensor([0.4532, 0.6843]),\n",
       " None,\n",
       " tensor([0.1623, 0.3879]),\n",
       " tensor([1.0000, 0.5850]),\n",
       " tensor([1.2854]),\n",
       " None,\n",
       " None,\n",
       " None,\n",
       " None,\n",
       " None,\n",
       " None,\n",
       " None]"
      ]
     },
     "execution_count": 78,
     "metadata": {},
     "output_type": "execute_result"
    }
   ],
   "execution_count": 78
  },
  {
   "metadata": {
    "ExecuteTime": {
     "end_time": "2024-05-22T16:56:45.499811Z",
     "start_time": "2024-05-22T16:56:45.492449Z"
    }
   },
   "cell_type": "code",
   "source": "",
   "outputs": [
    {
     "data": {
      "text/plain": [
       "42"
      ]
     },
     "execution_count": 81,
     "metadata": {},
     "output_type": "execute_result"
    }
   ],
   "execution_count": 81
  },
  {
   "metadata": {
    "ExecuteTime": {
     "end_time": "2024-05-22T17:12:41.816151Z",
     "start_time": "2024-05-22T17:12:41.506155Z"
    }
   },
   "cell_type": "code",
   "source": [
    "nt = 0 # looking at events with 2 tracks\n",
    "fig, ax = plt.subplots(1, 1, figsize=(8, 6))\n",
    "_dists = []\n",
    "_dists_tracks = []\n",
    "for i in range(len(hits_dist)):\n",
    "    if num_tracks[i] == nt:\n",
    "        dists = hits_dist[i].tolist()\n",
    "        if tracks_dist[i] is not None:\n",
    "            dists_tracks = tracks_dist[i].tolist()\n",
    "            _dists_tracks += dists_tracks\n",
    "        _dists += dists\n",
    "# CMS color scheme\n",
    "colors = [\"#E37222\", \"#018BCF\", \"#58595B\", \"#FFDF35\", \"#4D4D4F\", \"#B0B1B2\", \"#646567\", \"#8F918B\", \"#CF8E21\", \"#A7A8AA\"]\n",
    "ax.hist(_dists, bins=100, histtype=\"step\", label=\"hits\", color=colors[0])\n",
    "ax.hist(_dists_tracks, bins=100, histtype=\"step\", label=\"tracks\", color=colors[1])\n",
    "ax.set_xlabel(\"r\")\n",
    "ax.legend()\n",
    "fig.show()"
   ],
   "outputs": [
    {
     "data": {
      "text/plain": [
       "<Figure size 800x600 with 1 Axes>"
      ],
      "image/png": "[encoded data removed]"
     },
     "metadata": {},
     "output_type": "display_data"
    }
   ],
   "execution_count": 109
  },
  {
   "metadata": {
    "ExecuteTime": {
     "end_time": "2024-05-22T17:12:35.858750Z",
     "start_time": "2024-05-22T17:12:35.336463Z"
    }
   },
   "cell_type": "code",
   "source": [
    "nt = 1 # looking at events with 2 tracks\n",
    "fig, ax = plt.subplots(1, 1, figsize=(8, 6))\n",
    "_dists = []\n",
    "_dists_tracks = []\n",
    "for i in range(len(hits_dist)):\n",
    "    if num_tracks[i] == nt:\n",
    "        dists = hits_dist[i].tolist()\n",
    "        if tracks_dist[i] is not None:\n",
    "            dists_tracks = tracks_dist[i].tolist()\n",
    "            _dists_tracks += dists_tracks\n",
    "        _dists += dists\n",
    "# CMS color scheme\n",
    "colors = [\"#E37222\", \"#018BCF\", \"#58595B\", \"#FFDF35\", \"#4D4D4F\", \"#B0B1B2\", \"#646567\", \"#8F918B\", \"#CF8E21\", \"#A7A8AA\"]\n",
    "ax.hist(_dists, bins=100, alpha=0.3, label=\"hits\", color=colors[0])\n",
    "ax.hist(_dists_tracks, bins=100, alpha=0.3, label=\"tracks\", color=colors[1])\n",
    "ax.set_xlabel(\"r\")\n",
    "ax.legend()\n",
    "fig.show()"
   ],
   "outputs": [
    {
     "data": {
      "text/plain": [
       "<Figure size 800x600 with 1 Axes>"
      ],
      "image/png": "[encoded data removed]"
     },
     "metadata": {},
     "output_type": "display_data"
    }
   ],
   "execution_count": 108
  },
  {
   "metadata": {
    "ExecuteTime": {
     "end_time": "2024-05-22T17:11:22.998514Z",
     "start_time": "2024-05-22T17:11:22.990414Z"
    }
   },
   "cell_type": "code",
   "source": "",
   "outputs": [
    {
     "data": {
      "text/plain": [
       "69"
      ]
     },
     "execution_count": 105,
     "metadata": {},
     "output_type": "execute_result"
    }
   ],
   "execution_count": 105
  },
  {
   "metadata": {
    "ExecuteTime": {
     "end_time": "2024-05-22T17:11:26.433299Z",
     "start_time": "2024-05-22T17:11:26.424970Z"
    }
   },
   "cell_type": "code",
   "source": "",
   "outputs": [
    {
     "data": {
      "text/plain": [
       "69"
      ]
     },
     "execution_count": 106,
     "metadata": {},
     "output_type": "execute_result"
    }
   ],
   "execution_count": 106
  },
  {
   "metadata": {},
   "cell_type": "code",
   "outputs": [],
   "execution_count": null,
   "source": ""
  }
 ],
 "metadata": {
  "kernelspec": {
   "display_name": "Python 3",
   "language": "python",
   "name": "python3"
  },
  "language_info": {
   "codemirror_mode": {
    "name": "ipython",
    "version": 2
   },
   "file_extension": ".py",
   "mimetype": "text/x-python",
   "name": "python",
   "nbconvert_exporter": "python",
   "pygments_lexer": "ipython2",
   "version": "2.7.6"
  }
 },
 "nbformat": 4,
 "nbformat_minor": 0
}
