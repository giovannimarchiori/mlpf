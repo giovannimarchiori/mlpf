{
 "cells": [
  {
   "cell_type": "code",
   "id": "initial_id",
   "metadata": {
    "collapsed": true,
    "ExecuteTime": {
     "end_time": "2024-11-12T14:37:46.360434Z",
     "start_time": "2024-11-12T14:37:46.357486Z"
    }
   },
   "source": [
    ""
   ],
   "outputs": [],
   "execution_count": null
  },
  {
   "metadata": {
    "ExecuteTime": {
     "end_time": "2024-11-12T14:38:52.047702Z",
     "start_time": "2024-11-12T14:38:44.455787Z"
    }
   },
   "cell_type": "code",
   "source": [
    "# Similar to evaluate_mix, but plots a comparison between different ML methods on the same plot\n",
    "\n",
    "import matplotlib\n",
    "import sys\n",
    "sys.path.append(\"/afs/cern.ch/work/m/mgarciam/private/mlpf/\")\n",
    "from src.utils.inference.per_particle_metrics import plot_per_energy_resolution, reco_hist\n",
    "import matplotlib.pyplot as plt\n",
    "from matplotlib.lines import Line2D\n",
    "import numpy as np\n",
    "import pandas as pd\n",
    "import mplhep as hep\n",
    "import os\n",
    "from src.utils.inference.pandas_helpers import open_hgcal, open_mlpf_dataframe\n",
    "from src.utils.inference.per_particle_metrics import (\n",
    "    plot_per_energy_resolution2_multiple, plot_confusion_matrix, plot_confusion_matrix_pandora,\n",
    "    plot_efficiency_all, calc_unit_circle_dist, plot_per_energy_resolution2, analyze_fakes\n",
    ")\n",
    "from src.utils.inference.event_Ks import get_decay_type\n",
    "import matplotlib.pyplot as plt\n",
    "import torch\n",
    "import pickle\n",
    "hep.style.use(\"CMS\")\n",
    "# set hep font size\n",
    "\n",
    "fs = 10\n",
    "font = {'size': fs}\n",
    "matplotlib.rc('font', **font)\n",
    "\n",
    "colors_list = [\"#deebf7\", \"#9ecae1\", \"#d415bd\"]  # color list Jan\n",
    "all_E = True\n",
    "\n",
    "neutrals_only = False\n",
    "log_scale = False\n",
    "tracks = True\n",
    "perfect_pid = False   # Pretend we got ideal PID and rescale the momentum vectors accordingly\n",
    "mass_zero = False    # Set the mass to zero for all particles\n",
    "ML_pid = True       # Use the PID from the ML classification head (electron/CH/NH/gamma)\n",
    "\n",
    "# Is there a problem with storing direction information with Pandora?\n",
    "# /eos/user/g/gkrzmanc/2024/Sept24/Eval_Hss_test_Neutrals_Avg_direction_1file\n",
    "path = \"/eos/home-g/gkrzmanc/results/2024/eval_clustering_plus_model_epoch4_Hss_300files\"\n",
    "if all_E:\n",
    "    PATH_store = (\n",
    "        #\"/eos/home-g/gkrzmanc/results/2024/eval_clustering_plus_model_epoch4_Hss/model_PID\"\n",
    "       path\n",
    "    )\n",
    "\n",
    "    if not os.path.exists(PATH_store):\n",
    "        os.makedirs(PATH_store)\n",
    "    PATH_store_individual_plots = os.path.join(PATH_store, \"individual_plots\")\n",
    "    PATH_store_detailed_plots = os.path.join(PATH_store, \"summary_plots\")\n",
    "    if not os.path.exists(PATH_store_individual_plots):\n",
    "        os.makedirs(PATH_store_individual_plots)\n",
    "    if not os.path.exists(PATH_store_detailed_plots):\n",
    "        os.makedirs(PATH_store_detailed_plots)\n",
    "\n",
    "    path_list = [\n",
    "        \"showers_df_evaluation/0_0_None_hdbscan.pt\"\n",
    "    ]\n",
    "    path_pandora = \"showers_df_evaluation/0_0_None_pandora.pt\"\n",
    "    dir_top = path\n",
    "    print(PATH_store)\n",
    "\n",
    "labels = [\n",
    "    \"ML\"\n",
    "]\n",
    "\n",
    "def renumber_batch_idx(df):\n",
    "    # batch_idx has missing numbers\n",
    "    # renumber it to be like 0,1,2...\n",
    "    batch_idx = df.number_batch\n",
    "    unique_batch_idx = np.unique(batch_idx)\n",
    "    new_to_old_batch_idx = {}\n",
    "    new_batch_idx = np.zeros(len(batch_idx))\n",
    "    for idx, i in enumerate(unique_batch_idx):\n",
    "        new_batch_idx[batch_idx == i] = idx\n",
    "        new_to_old_batch_idx[idx] = i\n",
    "    df.number_batch = new_batch_idx\n",
    "    return df\n",
    "\n",
    "def filter_df(df):\n",
    "    # quick filter to exclude problematic particles\n",
    "    df = df[(df.pid != 11) & (df.pid != 22) ]\n",
    "    return df\n",
    "\n",
    "df_list = []\n",
    "matched_all = {}\n",
    "for idx, i in enumerate(path_list):\n",
    "    path_hgcal = os.path.join(dir_top, i)\n",
    "    sd_hgb, matched_hgb = open_mlpf_dataframe(path_hgcal, neutrals_only)\n",
    "    #sd_hgb.pred_showers_E = sd_hgb.reco_showers_E\n",
    "    #print(\"!!!! Taking the sum of the hits for the energy !!!!\")\n",
    "    # sd_hgb = renumber_batch_idx(sd_hgb[(sd_hgb.pid==22) | (pd.isna(sd_hgb.pid))])\n",
    "    #sd_hgb.calibrated_E[(~np.isnan(sd_hgb.calibrated_E)) & (sd_hgb.pid==22)] = sd_hgb.pred_showers_E[(~np.isnan(sd_hgb.calibrated_E)) & ((sd_hgb.pid==22))]\n",
    "    sd_hgb[sd_hgb.pred_pid_matched == 3].calibrated_E = sd_hgb[sd_hgb.pred_pid_matched == 3].pred_showers_E\n",
    "    # set GT energy for 130, 2112, 22\n",
    "    #\n",
    "    ##sd_hgb.calibrated_E[(~np.isnan(sd_hgb.calibrated_E)) & (sd_hgb.pid==130)] = sd_hgb.true_showers_E[(~np.isnan(sd_hgb.calibrated_E)) & ((sd_hgb.pid==130))]\n",
    "    #sd_hgb.calibrated_E[(~np.isnan(sd_hgb.calibrated_E)) & (sd_hgb.pid==2112)] = sd_hgb.true_showers_E[(~np.isnan(sd_hgb.calibrated_E)) & ((sd_hgb.pid==2112))]\n",
    "    #sd_hgb.calibrated_E[(~np.isnan(sd_hgb.calibrated_E)) & (sd_hgb.pid==130)] = sd_hgb.pred_showers_E[(~np.isnan(sd_hgb.calibrated_E)) & ((sd_hgb.pid==130))]\n",
    "    #sd_hgb.calibrated_E[(~np.isnan(sd_hgb.calibrated_E)) & (sd_hgb.pid==2112)] = sd_hgb.pred_showers_E[(~np.isnan(sd_hgb.calibrated_E)) & ((sd_hgb.pid==2112))]\n",
    "    #sd_hgb.calibrated_E[~np.isnan(sd_hgb.calibrated_E) & (sd_hgb.pred_pid_matched==3)] = sd_hgb.reco_showers_E[~np.isnan(sd_hgb.calibrated_E) & (sd_hgb.pred_pid_matched==3)]\n",
    "    #sd_hgb.calibrated_E[~np.isnan(sd_hgb.calibrated_E) & (sd_hgb.pred_pid_matched==2)] = sd_hgb.reco_showers_E[~np.isnan(sd_hgb.calibrated_E) & (sd_hgb.pred_pid_matched==3)]\n",
    "    #sd_hgb.calibrated_E[(~np.isnan(sd_hgb.calibrated_E)) & (sd_hgb.pred_pid_matched==130)] = sd_hgb.reco_showers_E[(~np.isnan(sd_hgb.calibrated_E)) & ((sd_hgb.pid==130))]\n",
    "    df_list.append(sd_hgb)\n",
    "    matched_all[labels[idx]] = matched_hgb\n",
    "sd_pandora, matched_pandora = open_mlpf_dataframe(\n",
    "    os.path.join(dir_top, path_pandora), neutrals_only\n",
    ")\n"
   ],
   "id": "9f3c601fabc2a13e",
   "outputs": [
    {
     "name": "stdout",
     "output_type": "stream",
     "text": [
      "/eos/home-g/gkrzmanc/results/2024/eval_clustering_plus_model_epoch4_Hss_300files\n"
     ]
    },
    {
     "name": "stderr",
     "output_type": "stream",
     "text": [
      "/tmp/gkrzmanc/ipykernel_60538/1855101211.py:95: SettingWithCopyWarning: \n",
      "A value is trying to be set on a copy of a slice from a DataFrame.\n",
      "Try using .loc[row_indexer,col_indexer] = value instead\n",
      "\n",
      "See the caveats in the documentation: https://pandas.pydata.org/pandas-docs/stable/user_guide/indexing.html#returning-a-view-versus-a-copy\n",
      "  sd_hgb[sd_hgb.pred_pid_matched == 3].calibrated_E = sd_hgb[sd_hgb.pred_pid_matched == 3].pred_showers_E\n"
     ]
    }
   ],
   "execution_count": 5
  },
  {
   "metadata": {
    "ExecuteTime": {
     "end_time": "2024-11-12T14:41:00.787925Z",
     "start_time": "2024-11-12T14:41:00.770999Z"
    }
   },
   "cell_type": "code",
   "source": "df = sd_hgb[((sd_hgb.calibrated_E / sd_hgb.true_showers_E) < 0.12 )& (sd_hgb.pid==2112)][[\"reco_showers_E\", \"pred_showers_E\", \"calibrated_E\", \"true_showers_E\", \"number_batch\"]]",
   "id": "44268a3fab31af2d",
   "outputs": [],
   "execution_count": 16
  },
  {
   "metadata": {
    "ExecuteTime": {
     "end_time": "2024-11-12T14:41:02.210458Z",
     "start_time": "2024-11-12T14:41:02.202798Z"
    }
   },
   "cell_type": "code",
   "source": "len(df)",
   "id": "1b6467f4d4ae80fa",
   "outputs": [
    {
     "data": {
      "text/plain": [
       "361"
      ]
     },
     "execution_count": 17,
     "metadata": {},
     "output_type": "execute_result"
    }
   ],
   "execution_count": 17
  },
  {
   "metadata": {
    "ExecuteTime": {
     "end_time": "2024-11-12T14:41:03.016972Z",
     "start_time": "2024-11-12T14:41:02.740382Z"
    }
   },
   "cell_type": "code",
   "source": [
    "vals = (df.calibrated_E - df.reco_showers_E) / df.reco_showers_E\n",
    "fig, ax = plt.subplots()\n",
    "ax.hist(vals, bins=100)\n",
    "fig.show()"
   ],
   "id": "362cc00a26692b11",
   "outputs": [
    {
     "data": {
      "text/plain": [
       "<Figure size 1000x1000 with 1 Axes>"
      ],
      "image/png": "[encoded data removed]"
     },
     "metadata": {},
     "output_type": "display_data"
    }
   ],
   "execution_count": 18
  },
  {
   "metadata": {
    "ExecuteTime": {
     "end_time": "2024-11-12T14:41:03.420292Z",
     "start_time": "2024-11-12T14:41:03.405916Z"
    }
   },
   "cell_type": "code",
   "source": [
    "cutoff = 1.0\n",
    "print(len(df[vals > cutoff]))\n",
    "df[vals>cutoff]"
   ],
   "id": "cfdef1af12b010bd",
   "outputs": [
    {
     "name": "stdout",
     "output_type": "stream",
     "text": [
      "28\n"
     ]
    },
    {
     "data": {
      "text/plain": [
       "     reco_showers_E  pred_showers_E  calibrated_E  true_showers_E  \\\n",
       "66         0.058854        0.072833      0.147166        1.383615   \n",
       "20         0.051261        0.075771      0.131529        1.377412   \n",
       "2          0.019748        0.131651      0.133367        1.155459   \n",
       "56         0.036550        0.101189      0.138873        1.312037   \n",
       "28         0.054082        0.065446      0.119627        1.270958   \n",
       "14         0.050963        0.106586      0.120662        1.223944   \n",
       "8          0.058410        0.099829      0.122367        1.316355   \n",
       "25         0.033274        0.141718      0.124886        1.300115   \n",
       "8          0.032541        0.032541      0.116697        1.190384   \n",
       "208        0.050300        0.078718      0.120906        1.248973   \n",
       "179        0.020574        0.096899      0.137718        1.383728   \n",
       "85         0.038575        0.088729      0.115921        1.211206   \n",
       "30         0.048701        0.089390      0.109577        1.081240   \n",
       "15         0.066786        0.090827      0.145227        1.412277   \n",
       "38         0.041865        0.148854      0.134711        1.310218   \n",
       "44         0.020362        0.059260      0.110052        1.099115   \n",
       "25         0.018443        0.166030      0.119222        1.061149   \n",
       "24         0.066197        0.198367      0.139356        1.463472   \n",
       "73         0.050284        0.113888      0.127661        1.275969   \n",
       "4          0.038476        0.068969      0.093426        1.180174   \n",
       "34         0.043110        0.047150      0.119649        1.294014   \n",
       "37         0.040674        0.072835      0.115176        1.385847   \n",
       "44         0.059387        0.138496      0.122575        1.299721   \n",
       "13         0.057909        0.067014      0.126960        1.318965   \n",
       "32         0.011921        0.096883      0.104509        1.138372   \n",
       "42         0.042936        0.055055      0.114431        1.262897   \n",
       "32         0.028444        0.089666      0.105049        1.261481   \n",
       "33         0.034977        0.084159      0.112766        1.316004   \n",
       "\n",
       "     number_batch  \n",
       "66          276.0  \n",
       "20          590.0  \n",
       "2          1926.0  \n",
       "56         3594.0  \n",
       "28         4027.0  \n",
       "14         5022.0  \n",
       "8          5132.0  \n",
       "25         6409.0  \n",
       "8          9396.0  \n",
       "208        9503.0  \n",
       "179       11022.0  \n",
       "85        11709.0  \n",
       "30        12214.0  \n",
       "15        15735.0  \n",
       "38        16198.0  \n",
       "44        17938.0  \n",
       "25        17990.0  \n",
       "24        19834.0  \n",
       "73        20012.0  \n",
       "4         23001.0  \n",
       "34        23115.0  \n",
       "37        23860.0  \n",
       "44        25071.0  \n",
       "13        25198.0  \n",
       "32        25505.0  \n",
       "42        26249.0  \n",
       "32        26334.0  \n",
       "33        27757.0  "
      ],
      "text/html": [
       "<div>\n",
       "<style scoped>\n",
       "    .dataframe tbody tr th:only-of-type {\n",
       "        vertical-align: middle;\n",
       "    }\n",
       "\n",
       "    .dataframe tbody tr th {\n",
       "        vertical-align: top;\n",
       "    }\n",
       "\n",
       "    .dataframe thead th {\n",
       "        text-align: right;\n",
       "    }\n",
       "</style>\n",
       "<table border=\"1\" class=\"dataframe\">\n",
       "  <thead>\n",
       "    <tr style=\"text-align: right;\">\n",
       "      <th></th>\n",
       "      <th>reco_showers_E</th>\n",
       "      <th>pred_showers_E</th>\n",
       "      <th>calibrated_E</th>\n",
       "      <th>true_showers_E</th>\n",
       "      <th>number_batch</th>\n",
       "    </tr>\n",
       "  </thead>\n",
       "  <tbody>\n",
       "    <tr>\n",
       "      <th>66</th>\n",
       "      <td>0.058854</td>\n",
       "      <td>0.072833</td>\n",
       "      <td>0.147166</td>\n",
       "      <td>1.383615</td>\n",
       "      <td>276.0</td>\n",
       "    </tr>\n",
       "    <tr>\n",
       "      <th>20</th>\n",
       "      <td>0.051261</td>\n",
       "      <td>0.075771</td>\n",
       "      <td>0.131529</td>\n",
       "      <td>1.377412</td>\n",
       "      <td>590.0</td>\n",
       "    </tr>\n",
       "    <tr>\n",
       "      <th>2</th>\n",
       "      <td>0.019748</td>\n",
       "      <td>0.131651</td>\n",
       "      <td>0.133367</td>\n",
       "      <td>1.155459</td>\n",
       "      <td>1926.0</td>\n",
       "    </tr>\n",
       "    <tr>\n",
       "      <th>56</th>\n",
       "      <td>0.036550</td>\n",
       "      <td>0.101189</td>\n",
       "      <td>0.138873</td>\n",
       "      <td>1.312037</td>\n",
       "      <td>3594.0</td>\n",
       "    </tr>\n",
       "    <tr>\n",
       "      <th>28</th>\n",
       "      <td>0.054082</td>\n",
       "      <td>0.065446</td>\n",
       "      <td>0.119627</td>\n",
       "      <td>1.270958</td>\n",
       "      <td>4027.0</td>\n",
       "    </tr>\n",
       "    <tr>\n",
       "      <th>14</th>\n",
       "      <td>0.050963</td>\n",
       "      <td>0.106586</td>\n",
       "      <td>0.120662</td>\n",
       "      <td>1.223944</td>\n",
       "      <td>5022.0</td>\n",
       "    </tr>\n",
       "    <tr>\n",
       "      <th>8</th>\n",
       "      <td>0.058410</td>\n",
       "      <td>0.099829</td>\n",
       "      <td>0.122367</td>\n",
       "      <td>1.316355</td>\n",
       "      <td>5132.0</td>\n",
       "    </tr>\n",
       "    <tr>\n",
       "      <th>25</th>\n",
       "      <td>0.033274</td>\n",
       "      <td>0.141718</td>\n",
       "      <td>0.124886</td>\n",
       "      <td>1.300115</td>\n",
       "      <td>6409.0</td>\n",
       "    </tr>\n",
       "    <tr>\n",
       "      <th>8</th>\n",
       "      <td>0.032541</td>\n",
       "      <td>0.032541</td>\n",
       "      <td>0.116697</td>\n",
       "      <td>1.190384</td>\n",
       "      <td>9396.0</td>\n",
       "    </tr>\n",
       "    <tr>\n",
       "      <th>208</th>\n",
       "      <td>0.050300</td>\n",
       "      <td>0.078718</td>\n",
       "      <td>0.120906</td>\n",
       "      <td>1.248973</td>\n",
       "      <td>9503.0</td>\n",
       "    </tr>\n",
       "    <tr>\n",
       "      <th>179</th>\n",
       "      <td>0.020574</td>\n",
       "      <td>0.096899</td>\n",
       "      <td>0.137718</td>\n",
       "      <td>1.383728</td>\n",
       "      <td>11022.0</td>\n",
       "    </tr>\n",
       "    <tr>\n",
       "      <th>85</th>\n",
       "      <td>0.038575</td>\n",
       "      <td>0.088729</td>\n",
       "      <td>0.115921</td>\n",
       "      <td>1.211206</td>\n",
       "      <td>11709.0</td>\n",
       "    </tr>\n",
       "    <tr>\n",
       "      <th>30</th>\n",
       "      <td>0.048701</td>\n",
       "      <td>0.089390</td>\n",
       "      <td>0.109577</td>\n",
       "      <td>1.081240</td>\n",
       "      <td>12214.0</td>\n",
       "    </tr>\n",
       "    <tr>\n",
       "      <th>15</th>\n",
       "      <td>0.066786</td>\n",
       "      <td>0.090827</td>\n",
       "      <td>0.145227</td>\n",
       "      <td>1.412277</td>\n",
       "      <td>15735.0</td>\n",
       "    </tr>\n",
       "    <tr>\n",
       "      <th>38</th>\n",
       "      <td>0.041865</td>\n",
       "      <td>0.148854</td>\n",
       "      <td>0.134711</td>\n",
       "      <td>1.310218</td>\n",
       "      <td>16198.0</td>\n",
       "    </tr>\n",
       "    <tr>\n",
       "      <th>44</th>\n",
       "      <td>0.020362</td>\n",
       "      <td>0.059260</td>\n",
       "      <td>0.110052</td>\n",
       "      <td>1.099115</td>\n",
       "      <td>17938.0</td>\n",
       "    </tr>\n",
       "    <tr>\n",
       "      <th>25</th>\n",
       "      <td>0.018443</td>\n",
       "      <td>0.166030</td>\n",
       "      <td>0.119222</td>\n",
       "      <td>1.061149</td>\n",
       "      <td>17990.0</td>\n",
       "    </tr>\n",
       "    <tr>\n",
       "      <th>24</th>\n",
       "      <td>0.066197</td>\n",
       "      <td>0.198367</td>\n",
       "      <td>0.139356</td>\n",
       "      <td>1.463472</td>\n",
       "      <td>19834.0</td>\n",
       "    </tr>\n",
       "    <tr>\n",
       "      <th>73</th>\n",
       "      <td>0.050284</td>\n",
       "      <td>0.113888</td>\n",
       "      <td>0.127661</td>\n",
       "      <td>1.275969</td>\n",
       "      <td>20012.0</td>\n",
       "    </tr>\n",
       "    <tr>\n",
       "      <th>4</th>\n",
       "      <td>0.038476</td>\n",
       "      <td>0.068969</td>\n",
       "      <td>0.093426</td>\n",
       "      <td>1.180174</td>\n",
       "      <td>23001.0</td>\n",
       "    </tr>\n",
       "    <tr>\n",
       "      <th>34</th>\n",
       "      <td>0.043110</td>\n",
       "      <td>0.047150</td>\n",
       "      <td>0.119649</td>\n",
       "      <td>1.294014</td>\n",
       "      <td>23115.0</td>\n",
       "    </tr>\n",
       "    <tr>\n",
       "      <th>37</th>\n",
       "      <td>0.040674</td>\n",
       "      <td>0.072835</td>\n",
       "      <td>0.115176</td>\n",
       "      <td>1.385847</td>\n",
       "      <td>23860.0</td>\n",
       "    </tr>\n",
       "    <tr>\n",
       "      <th>44</th>\n",
       "      <td>0.059387</td>\n",
       "      <td>0.138496</td>\n",
       "      <td>0.122575</td>\n",
       "      <td>1.299721</td>\n",
       "      <td>25071.0</td>\n",
       "    </tr>\n",
       "    <tr>\n",
       "      <th>13</th>\n",
       "      <td>0.057909</td>\n",
       "      <td>0.067014</td>\n",
       "      <td>0.126960</td>\n",
       "      <td>1.318965</td>\n",
       "      <td>25198.0</td>\n",
       "    </tr>\n",
       "    <tr>\n",
       "      <th>32</th>\n",
       "      <td>0.011921</td>\n",
       "      <td>0.096883</td>\n",
       "      <td>0.104509</td>\n",
       "      <td>1.138372</td>\n",
       "      <td>25505.0</td>\n",
       "    </tr>\n",
       "    <tr>\n",
       "      <th>42</th>\n",
       "      <td>0.042936</td>\n",
       "      <td>0.055055</td>\n",
       "      <td>0.114431</td>\n",
       "      <td>1.262897</td>\n",
       "      <td>26249.0</td>\n",
       "    </tr>\n",
       "    <tr>\n",
       "      <th>32</th>\n",
       "      <td>0.028444</td>\n",
       "      <td>0.089666</td>\n",
       "      <td>0.105049</td>\n",
       "      <td>1.261481</td>\n",
       "      <td>26334.0</td>\n",
       "    </tr>\n",
       "    <tr>\n",
       "      <th>33</th>\n",
       "      <td>0.034977</td>\n",
       "      <td>0.084159</td>\n",
       "      <td>0.112766</td>\n",
       "      <td>1.316004</td>\n",
       "      <td>27757.0</td>\n",
       "    </tr>\n",
       "  </tbody>\n",
       "</table>\n",
       "</div>"
      ]
     },
     "execution_count": 19,
     "metadata": {},
     "output_type": "execute_result"
    }
   ],
   "execution_count": 19
  },
  {
   "metadata": {
    "ExecuteTime": {
     "end_time": "2024-11-12T14:51:50.968511Z",
     "start_time": "2024-11-12T14:51:50.953895Z"
    }
   },
   "cell_type": "code",
   "source": "sd_hgb[(sd_hgb.number_batch == 9503) & ((sd_hgb.pid==2112) | (pd.isna(sd_hgb.pid)))].pred_showers_E.sum() / sd_hgb[(sd_hgb.number_batch == 9503) & ((sd_hgb.pid==2112) | (pd.isna(sd_hgb.pid)))].true_showers_E.sum()",
   "id": "ecf13f106f7cbfe",
   "outputs": [
    {
     "data": {
      "text/plain": [
       "0.66554254"
      ]
     },
     "execution_count": 30,
     "metadata": {},
     "output_type": "execute_result"
    }
   ],
   "execution_count": 30
  },
  {
   "metadata": {
    "ExecuteTime": {
     "end_time": "2024-11-12T14:51:34.274077Z",
     "start_time": "2024-11-12T14:51:34.260202Z"
    }
   },
   "cell_type": "code",
   "source": [
    "sd_pandora[(sd_pandora.number_batch == 9503) & ((sd_pandora.pid==2112) | (pd.isna(sd_pandora.pid)))].pred_showers_E.sum() / sd_pandora[(sd_pandora.number_batch == 9503) & ((sd_pandora.pid==2112) | (pd.isna(sd_pandora.pid)))].true_showers_E.sum()\n",
    "\n"
   ],
   "id": "7285cecb02746c22",
   "outputs": [
    {
     "data": {
      "text/plain": [
       "0.23416682"
      ]
     },
     "execution_count": 29,
     "metadata": {},
     "output_type": "execute_result"
    }
   ],
   "execution_count": 29
  },
  {
   "metadata": {
    "ExecuteTime": {
     "end_time": "2024-11-12T14:53:03.563937Z",
     "start_time": "2024-11-12T14:53:03.540060Z"
    }
   },
   "cell_type": "code",
   "source": [
    " evt = get_response_for_event_energy(\n",
    "                sd_pandora, sd_hgb, perfect_pid=False, mass_zero=False, ML_pid=True\n",
    ")"
   ],
   "id": "523d092c348f6127",
   "outputs": [
    {
     "ename": "NameError",
     "evalue": "name 'get_response_for_event_energy' is not defined",
     "output_type": "error",
     "traceback": [
      "\u001B[0;31m---------------------------------------------------------------------------\u001B[0m",
      "\u001B[0;31mNameError\u001B[0m                                 Traceback (most recent call last)",
      "Cell \u001B[0;32mIn[31], line 1\u001B[0m\n\u001B[0;32m----> 1\u001B[0m evt \u001B[38;5;241m=\u001B[39m \u001B[43mget_response_for_event_energy\u001B[49m(\n\u001B[1;32m      2\u001B[0m                sd_pandora, sd_hgb, perfect_pid\u001B[38;5;241m=\u001B[39m\u001B[38;5;28;01mFalse\u001B[39;00m, mass_zero\u001B[38;5;241m=\u001B[39m\u001B[38;5;28;01mFalse\u001B[39;00m, ML_pid\u001B[38;5;241m=\u001B[39m\u001B[38;5;28;01mTrue\u001B[39;00m\n\u001B[1;32m      3\u001B[0m )\n",
      "\u001B[0;31mNameError\u001B[0m: name 'get_response_for_event_energy' is not defined"
     ]
    }
   ],
   "execution_count": 31
  },
  {
   "metadata": {},
   "cell_type": "code",
   "outputs": [],
   "execution_count": null,
   "source": "",
   "id": "54135c3ba29eabd5"
  }
 ],
 "metadata": {
  "kernelspec": {
   "display_name": "Python 3",
   "language": "python",
   "name": "python3"
  },
  "language_info": {
   "codemirror_mode": {
    "name": "ipython",
    "version": 2
   },
   "file_extension": ".py",
   "mimetype": "text/x-python",
   "name": "python",
   "nbconvert_exporter": "python",
   "pygments_lexer": "ipython2",
   "version": "2.7.6"
  }
 },
 "nbformat": 4,
 "nbformat_minor": 5
}
