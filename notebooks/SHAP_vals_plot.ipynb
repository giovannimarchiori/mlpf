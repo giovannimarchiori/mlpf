{
 "cells": [
  {
   "cell_type": "code",
   "id": "initial_id",
   "metadata": {
    "collapsed": true,
    "ExecuteTime": {
     "end_time": "2024-06-04T13:47:15.375290Z",
     "start_time": "2024-06-04T13:47:14.016609Z"
    }
   },
   "source": [
    "import torch\n",
    "a = torch.load(open(\"/eos/user/g/gkrzmanc/2024/eval_dnn_3004_l1_training_longereval/shap_vals.pkl\", \"rb\"))\n"
   ],
   "outputs": [],
   "execution_count": 1
  },
  {
   "metadata": {
    "ExecuteTime": {
     "end_time": "2024-06-04T13:47:15.384725Z",
     "start_time": "2024-06-04T13:47:15.377800Z"
    }
   },
   "cell_type": "code",
   "source": "a.shape",
   "id": "2e833a4dad6c394c",
   "outputs": [
    {
     "data": {
      "text/plain": [
       "(100, 46)"
      ]
     },
     "execution_count": 2,
     "metadata": {},
     "output_type": "execute_result"
    }
   ],
   "execution_count": 2
  },
  {
   "metadata": {
    "ExecuteTime": {
     "end_time": "2024-06-04T13:48:45.543384Z",
     "start_time": "2024-06-04T13:48:45.538568Z"
    }
   },
   "cell_type": "code",
   "source": [
    "import numpy as np\n",
    "mean_shap_vals = np.abs(a).mean(axis=0)"
   ],
   "id": "a3384aa36495481c",
   "outputs": [],
   "execution_count": 10
  },
  {
   "metadata": {
    "ExecuteTime": {
     "end_time": "2024-06-04T13:48:45.831459Z",
     "start_time": "2024-06-04T13:48:45.676787Z"
    }
   },
   "cell_type": "code",
   "source": [
    "# matplotlib bar chart with these vals\n",
    "import matplotlib.pyplot as plt\n",
    "plt.bar(range(len(mean_shap_vals)), mean_shap_vals)\n"
   ],
   "id": "9227bd8c157510fe",
   "outputs": [
    {
     "data": {
      "text/plain": [
       "<BarContainer object of 46 artists>"
      ]
     },
     "execution_count": 11,
     "metadata": {},
     "output_type": "execute_result"
    },
    {
     "data": {
      "text/plain": [
       "<Figure size 640x480 with 1 Axes>"
      ],
      "image/png": "[encoded data removed]"
     },
     "metadata": {},
     "output_type": "display_data"
    }
   ],
   "execution_count": 11
  },
  {
   "metadata": {},
   "cell_type": "code",
   "outputs": [],
   "execution_count": null,
   "source": "",
   "id": "6278565222dfc70a"
  }
 ],
 "metadata": {
  "kernelspec": {
   "display_name": "Python 3",
   "language": "python",
   "name": "python3"
  },
  "language_info": {
   "codemirror_mode": {
    "name": "ipython",
    "version": 2
   },
   "file_extension": ".py",
   "mimetype": "text/x-python",
   "name": "python",
   "nbconvert_exporter": "python",
   "pygments_lexer": "ipython2",
   "version": "2.7.6"
  }
 },
 "nbformat": 4,
 "nbformat_minor": 5
}
