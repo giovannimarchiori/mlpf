{
 "cells": [
  {
   "cell_type": "code",
   "execution_count": 1,
   "metadata": {
    "ExecuteTime": {
     "end_time": "2024-03-19T09:22:52.518980Z",
     "start_time": "2024-03-19T09:22:50.467553Z"
    },
    "collapsed": true
   },
   "outputs": [],
   "source": [
    "# can't reproduce the pandora resolution plots for electrons\n",
    "\n",
    "import torch\n",
    "import sys\n",
    "import os.path as osp\n",
    "import os\n",
    "import sys\n",
    "import numpy as np\n",
    "\n",
    "sys.path.append(\"/eos/home-g/gkrzmanc/mlpf_data\")\n",
    "from src.dataset.dataset import SimpleIterDataset\n",
    "from src.utils.utils import to_filelist\n",
    "from torch.utils.data import DataLoader\n",
    "#import dgl  # CPU only version for now\n",
    "from tqdm import tqdm\n",
    "from torch_scatter import scatter_sum\n",
    "import matplotlib.pyplot as plt\n",
    "import pickle\n",
    "import numpy as np\n",
    "import mplhep as hep\n",
    "\n",
    "\n",
    "hep.style.use(\"CMS\")\n",
    "import matplotlib\n",
    "matplotlib.rc('font', size=13)\n",
    "import os"
   ]
  },
  {
   "cell_type": "code",
   "execution_count": 2,
   "metadata": {
    "ExecuteTime": {
     "end_time": "2024-03-19T09:23:00.875641Z",
     "start_time": "2024-03-19T09:23:00.452796Z"
    },
    "collapsed": false
   },
   "outputs": [
    {
     "name": "stdout",
     "output_type": "stream",
     "text": [
      "['/eos/experiment/fcc/ee/datasets/mlpf/CLD/train/250124/pf_tree_1.root', '/eos/experiment/fcc/ee/datasets/mlpf/CLD/train/250124/pf_tree_10.root']\n",
      "['/eos/experiment/fcc/ee/datasets/mlpf/CLD/train/250124/pf_tree_1.root', '/eos/experiment/fcc/ee/datasets/mlpf/CLD/train/250124/pf_tree_10.root']\n"
     ]
    }
   ],
   "source": [
    "# This block is the same as 1_dataset.ipynb\n",
    "\n",
    "datasets = {\n",
    "    \"train\": os.listdir(\"/eos/experiment/fcc/ee/datasets/mlpf/CLD/train/250124\")\n",
    "   # \"test\": \"/eos/home-g/gkrzmanc/testing_ds_29082023.root\"\n",
    "}\n",
    "\n",
    "def remove_from_list(lst):\n",
    "    out = []\n",
    "    for item in lst:\n",
    "        if item in [\"hgcal\", \"data.txt\", \"test_file.root\"] or \"test\" in item:\n",
    "            continue\n",
    "        out.append(item)\n",
    "    return out\n",
    "\n",
    "datasets[\"train\"] = [os.path.join(\"/eos/experiment/fcc/ee/datasets/mlpf/CLD/train/250124\", x) for x in remove_from_list(datasets[\"train\"])]\n",
    "datasets[\"train\"] = datasets[\"train\"][:2]\n",
    "class Args:\n",
    "    def __init__(self, datasets):\n",
    "        self.data_train = datasets\n",
    "        self.data_val = datasets\n",
    "        #self.data_train = files_train\n",
    "        self.data_config = '/afs/cern.ch/work/g/gkrzmanc/mlpf_2024/config_files/config_hit_tracks.yaml'\n",
    "        self.extra_selection = None\n",
    "        self.train_val_split = 0.8\n",
    "        self.data_fraction = 1\n",
    "        self.file_fraction = 1\n",
    "        self.fetch_by_files = False\n",
    "        self.fetch_step = 0.01\n",
    "        self.steps_per_epoch = None\n",
    "        self.in_memory = False\n",
    "        self.local_rank = None\n",
    "        self.copy_inputs = False\n",
    "        self.no_remake_weights = False\n",
    "        self.batch_size = 10\n",
    "        self.num_workers = 0\n",
    "        self.demo = False\n",
    "        self.laplace = False\n",
    "        self.diffs = False\n",
    "        self.class_edges = False\n",
    "\n",
    "\n",
    "args = {key: Args(value) for key, value in datasets.items()}\n",
    "print(args[\"train\"].data_train)\n",
    "#args[\"train\"].data_train = args[\"train\"].data_train[:2]\n",
    "datas = {}\n",
    "files_dict = {}\n",
    "for key in datasets:\n",
    "    train_range = (0, args[key].train_val_split)\n",
    "    train_file_dict, train_files = to_filelist(args[key], 'train')\n",
    "    train_data = SimpleIterDataset(train_file_dict, args[key].data_config, for_training=True,\n",
    "                                   extra_selection=args[key].extra_selection,\n",
    "                                   remake_weights=True,\n",
    "                                   load_range_and_fraction=(train_range, args[key].data_fraction),\n",
    "                                   file_fraction=args[key].file_fraction,\n",
    "                                   fetch_by_files=args[key].fetch_by_files,\n",
    "                                   fetch_step=args[key].fetch_step,\n",
    "                                   infinity_mode=False,\n",
    "                                   in_memory=args[key].in_memory,\n",
    "                                   async_load=False,\n",
    "                                   name='train')\n",
    "    datas[key] = train_data\n",
    "    files_dict[key] = train_files"
   ]
  },
  {
   "cell_type": "code",
   "execution_count": 3,
   "metadata": {
    "ExecuteTime": {
     "end_time": "2024-03-19T09:23:11.393313Z",
     "start_time": "2024-03-19T09:23:11.367159Z"
    },
    "collapsed": false
   },
   "outputs": [
    {
     "ename": "NameError",
     "evalue": "name 'y' is not defined",
     "output_type": "error",
     "traceback": [
      "\u001b[0;31m---------------------------------------------------------------------------\u001b[0m",
      "\u001b[0;31mNameError\u001b[0m                                 Traceback (most recent call last)",
      "Cell \u001b[0;32mIn[3], line 1\u001b[0m\n\u001b[0;32m----> 1\u001b[0m \u001b[43my\u001b[49m\n",
      "\u001b[0;31mNameError\u001b[0m: name 'y' is not defined"
     ]
    }
   ],
   "source": [
    "y"
   ]
  },
  {
   "cell_type": "code",
   "execution_count": 4,
   "metadata": {
    "ExecuteTime": {
     "end_time": "2024-03-19T09:23:23.314434Z",
     "start_time": "2024-03-19T09:23:22.923378Z"
    },
    "collapsed": false
   },
   "outputs": [
    {
     "name": "stdout",
     "output_type": "stream",
     "text": [
      "=== Restarting DataIter train, seed=None ===\n",
      "=== Restarting DataIter train, seed=None ===\n"
     ]
    }
   ],
   "source": [
    "iterators = {key: iter(val) for key, val in datas.items()}\n",
    "\n",
    "from src.dataset.functions_graph import graph_batch_func\n",
    "\n",
    "train_loaders = {key: DataLoader(datas[key], batch_size=1, drop_last=True, pin_memory=True,\n",
    "                          num_workers=min(args[key].num_workers, int(len(files_dict[key]) * args[key].file_fraction)),\n",
    "                          collate_fn=graph_batch_func,\n",
    "                          persistent_workers=args[key].num_workers > 0 and args[key].steps_per_epoch is not None) for key in args}\n",
    "\n",
    "iterators = {key: iter(item) for key,item in train_loaders.items()}"
   ]
  },
  {
   "cell_type": "code",
   "execution_count": 16,
   "metadata": {
    "ExecuteTime": {
     "end_time": "2024-03-19T09:30:37.565773Z",
     "start_time": "2024-03-19T09:30:37.557507Z"
    },
    "collapsed": false
   },
   "outputs": [],
   "source": [
    "from torch_scatter import scatter_sum\n",
    "\n",
    "def get_energy(g, y, corr_w_mass=False, return_pid_dict=False):\n",
    "    part_idx = g.ndata[\"particle_number\"]\n",
    "    true_idx = np.arange(len(part_idx))\n",
    "    part_idx = part_idx[true_idx]\n",
    "    hit_energies = g.ndata[\"e_hits\"].flatten()[true_idx]  #[hit_idx]\n",
    "    hit_momenta = g.ndata[\"p_hits\"].flatten()[true_idx]#[track_idx]\n",
    "    y_pid = y[:, 6]\n",
    "    num_tracks = scatter_sum(torch.ones_like(hit_energies) * (hit_momenta != 0), part_idx.long(), dim=0)\n",
    "    y_energy = y[:, 3]\n",
    "    filter = (num_tracks[1:] == 1) & (y_pid == 11)\n",
    "    energy_from_tracks = scatter_sum(hit_momenta, part_idx.long(), dim=0)\n",
    "    return energy_from_tracks[1:][filter], y_energy[filter]\n",
    "\n"
   ]
  },
  {
   "cell_type": "code",
   "execution_count": 17,
   "metadata": {
    "ExecuteTime": {
     "end_time": "2024-03-19T09:32:05.060189Z",
     "start_time": "2024-03-19T09:30:47.610416Z"
    },
    "collapsed": false
   },
   "outputs": [
    {
     "name": "stderr",
     "output_type": "stream",
     "text": [
      "  3%|▎         | 130/5000 [01:17<48:19,  1.68it/s]  \n"
     ]
    },
    {
     "ename": "StopIteration",
     "evalue": "",
     "output_type": "error",
     "traceback": [
      "\u001b[0;31m---------------------------------------------------------------------------\u001b[0m",
      "\u001b[0;31mStopIteration\u001b[0m                             Traceback (most recent call last)",
      "Cell \u001b[0;32mIn[17], line 12\u001b[0m\n\u001b[1;32m     10\u001b[0m \u001b[38;5;28;01mfor\u001b[39;00m i \u001b[38;5;129;01min\u001b[39;00m tqdm(\u001b[38;5;28mrange\u001b[39m(\u001b[38;5;241m5000\u001b[39m)):\n\u001b[1;32m     11\u001b[0m     \u001b[38;5;28;01mfor\u001b[39;00m key \u001b[38;5;129;01min\u001b[39;00m iterators:\n\u001b[0;32m---> 12\u001b[0m         g, y \u001b[38;5;241m=\u001b[39m \u001b[38;5;28;43mnext\u001b[39;49m\u001b[43m(\u001b[49m\u001b[43miterators\u001b[49m\u001b[43m[\u001b[49m\u001b[43mkey\u001b[49m\u001b[43m]\u001b[49m\u001b[43m)\u001b[49m\n\u001b[1;32m     13\u001b[0m         energy_from_tracks, y_energy \u001b[38;5;241m=\u001b[39m get_energy(g, y)\n\u001b[1;32m     14\u001b[0m         etracks \u001b[38;5;241m+\u001b[39m\u001b[38;5;241m=\u001b[39m (energy_from_tracks\u001b[38;5;241m.\u001b[39mnumpy()\u001b[38;5;241m.\u001b[39mtolist())\n",
      "File \u001b[0;32m~/env/lib/python3.10/site-packages/torch/utils/data/dataloader.py:633\u001b[0m, in \u001b[0;36m_BaseDataLoaderIter.__next__\u001b[0;34m(self)\u001b[0m\n\u001b[1;32m    630\u001b[0m \u001b[38;5;28;01mif\u001b[39;00m \u001b[38;5;28mself\u001b[39m\u001b[38;5;241m.\u001b[39m_sampler_iter \u001b[38;5;129;01mis\u001b[39;00m \u001b[38;5;28;01mNone\u001b[39;00m:\n\u001b[1;32m    631\u001b[0m     \u001b[38;5;66;03m# TODO(https://github.com/pytorch/pytorch/issues/76750)\u001b[39;00m\n\u001b[1;32m    632\u001b[0m     \u001b[38;5;28mself\u001b[39m\u001b[38;5;241m.\u001b[39m_reset()  \u001b[38;5;66;03m# type: ignore[call-arg]\u001b[39;00m\n\u001b[0;32m--> 633\u001b[0m data \u001b[38;5;241m=\u001b[39m \u001b[38;5;28;43mself\u001b[39;49m\u001b[38;5;241;43m.\u001b[39;49m\u001b[43m_next_data\u001b[49m\u001b[43m(\u001b[49m\u001b[43m)\u001b[49m\n\u001b[1;32m    634\u001b[0m \u001b[38;5;28mself\u001b[39m\u001b[38;5;241m.\u001b[39m_num_yielded \u001b[38;5;241m+\u001b[39m\u001b[38;5;241m=\u001b[39m \u001b[38;5;241m1\u001b[39m\n\u001b[1;32m    635\u001b[0m \u001b[38;5;28;01mif\u001b[39;00m \u001b[38;5;28mself\u001b[39m\u001b[38;5;241m.\u001b[39m_dataset_kind \u001b[38;5;241m==\u001b[39m _DatasetKind\u001b[38;5;241m.\u001b[39mIterable \u001b[38;5;129;01mand\u001b[39;00m \\\n\u001b[1;32m    636\u001b[0m         \u001b[38;5;28mself\u001b[39m\u001b[38;5;241m.\u001b[39m_IterableDataset_len_called \u001b[38;5;129;01mis\u001b[39;00m \u001b[38;5;129;01mnot\u001b[39;00m \u001b[38;5;28;01mNone\u001b[39;00m \u001b[38;5;129;01mand\u001b[39;00m \\\n\u001b[1;32m    637\u001b[0m         \u001b[38;5;28mself\u001b[39m\u001b[38;5;241m.\u001b[39m_num_yielded \u001b[38;5;241m>\u001b[39m \u001b[38;5;28mself\u001b[39m\u001b[38;5;241m.\u001b[39m_IterableDataset_len_called:\n",
      "File \u001b[0;32m~/env/lib/python3.10/site-packages/torch/utils/data/dataloader.py:677\u001b[0m, in \u001b[0;36m_SingleProcessDataLoaderIter._next_data\u001b[0;34m(self)\u001b[0m\n\u001b[1;32m    675\u001b[0m \u001b[38;5;28;01mdef\u001b[39;00m \u001b[38;5;21m_next_data\u001b[39m(\u001b[38;5;28mself\u001b[39m):\n\u001b[1;32m    676\u001b[0m     index \u001b[38;5;241m=\u001b[39m \u001b[38;5;28mself\u001b[39m\u001b[38;5;241m.\u001b[39m_next_index()  \u001b[38;5;66;03m# may raise StopIteration\u001b[39;00m\n\u001b[0;32m--> 677\u001b[0m     data \u001b[38;5;241m=\u001b[39m \u001b[38;5;28;43mself\u001b[39;49m\u001b[38;5;241;43m.\u001b[39;49m\u001b[43m_dataset_fetcher\u001b[49m\u001b[38;5;241;43m.\u001b[39;49m\u001b[43mfetch\u001b[49m\u001b[43m(\u001b[49m\u001b[43mindex\u001b[49m\u001b[43m)\u001b[49m  \u001b[38;5;66;03m# may raise StopIteration\u001b[39;00m\n\u001b[1;32m    678\u001b[0m     \u001b[38;5;28;01mif\u001b[39;00m \u001b[38;5;28mself\u001b[39m\u001b[38;5;241m.\u001b[39m_pin_memory:\n\u001b[1;32m    679\u001b[0m         data \u001b[38;5;241m=\u001b[39m _utils\u001b[38;5;241m.\u001b[39mpin_memory\u001b[38;5;241m.\u001b[39mpin_memory(data, \u001b[38;5;28mself\u001b[39m\u001b[38;5;241m.\u001b[39m_pin_memory_device)\n",
      "File \u001b[0;32m~/env/lib/python3.10/site-packages/torch/utils/data/_utils/fetch.py:39\u001b[0m, in \u001b[0;36m_IterableDatasetFetcher.fetch\u001b[0;34m(self, possibly_batched_index)\u001b[0m\n\u001b[1;32m     35\u001b[0m             \u001b[38;5;28;01mbreak\u001b[39;00m\n\u001b[1;32m     36\u001b[0m     \u001b[38;5;28;01mif\u001b[39;00m \u001b[38;5;28mlen\u001b[39m(data) \u001b[38;5;241m==\u001b[39m \u001b[38;5;241m0\u001b[39m \u001b[38;5;129;01mor\u001b[39;00m (\n\u001b[1;32m     37\u001b[0m         \u001b[38;5;28mself\u001b[39m\u001b[38;5;241m.\u001b[39mdrop_last \u001b[38;5;129;01mand\u001b[39;00m \u001b[38;5;28mlen\u001b[39m(data) \u001b[38;5;241m<\u001b[39m \u001b[38;5;28mlen\u001b[39m(possibly_batched_index)\n\u001b[1;32m     38\u001b[0m     ):\n\u001b[0;32m---> 39\u001b[0m         \u001b[38;5;28;01mraise\u001b[39;00m \u001b[38;5;167;01mStopIteration\u001b[39;00m\n\u001b[1;32m     40\u001b[0m \u001b[38;5;28;01melse\u001b[39;00m:\n\u001b[1;32m     41\u001b[0m     data \u001b[38;5;241m=\u001b[39m \u001b[38;5;28mnext\u001b[39m(\u001b[38;5;28mself\u001b[39m\u001b[38;5;241m.\u001b[39mdataset_iter)\n",
      "\u001b[0;31mStopIteration\u001b[0m: "
     ]
    }
   ],
   "source": [
    "def upd_dict(d, small_dict):\n",
    "    for k in small_dict:\n",
    "        if k not in d:\n",
    "            d[k] = []\n",
    "        d[k] += small_dict[k]\n",
    "    return d\n",
    "\n",
    "etracks, yenergy = [], []\n",
    "\n",
    "for i in tqdm(range(5000)):\n",
    "    for key in iterators:\n",
    "        g, y = next(iterators[key])\n",
    "        energy_from_tracks, y_energy = get_energy(g, y)\n",
    "        etracks += (energy_from_tracks.numpy().tolist())\n",
    "        yenergy += (y_energy.numpy().tolist())\n"
   ]
  },
  {
   "cell_type": "code",
   "execution_count": 18,
   "metadata": {
    "ExecuteTime": {
     "end_time": "2024-03-19T09:32:17.790524Z",
     "start_time": "2024-03-19T09:32:17.784936Z"
    },
    "collapsed": false
   },
   "outputs": [],
   "source": [
    "etracks = torch.tensor(etracks)"
   ]
  },
  {
   "cell_type": "code",
   "execution_count": 19,
   "metadata": {
    "ExecuteTime": {
     "end_time": "2024-03-19T09:32:22.965812Z",
     "start_time": "2024-03-19T09:32:22.960889Z"
    },
    "collapsed": false
   },
   "outputs": [],
   "source": [
    "yenergy = torch.tensor(yenergy)"
   ]
  },
  {
   "cell_type": "code",
   "execution_count": 23,
   "metadata": {
    "ExecuteTime": {
     "end_time": "2024-03-19T09:33:05.963348Z",
     "start_time": "2024-03-19T09:33:05.519172Z"
    },
    "collapsed": false
   },
   "outputs": [
    {
     "data": {
      "image/png": "[encoded data removed]",
      "text/plain": [
       "<Figure size 1000x1000 with 1 Axes>"
      ]
     },
     "metadata": {},
     "output_type": "display_data"
    }
   ],
   "source": [
    "fig, ax = plt.subplots()\n",
    "ax.hist(etracks / yenergy, bins=1000, histtype=\"step\", label=\"tracks\")\n",
    "#ax.hist(yenergy, bins=100, range=(0, 100), histtype=\"step\", label=\"pandora\")\n",
    "ax.set_yscale(\"log\")\n",
    "fig.show()"
   ]
  },
  {
   "cell_type": "code",
   "execution_count": null,
   "metadata": {
    "collapsed": false
   },
   "outputs": [],
   "source": [
    "ranges = [0, 6, 12, 18, 24, 30, 36, 42, 48, 54]\n",
    "\n",
    "\n",
    "def get_std68(theHist, bin_edges, percentage=0.683, epsilon=0.01):\n",
    "    # theHist, bin_edges = np.histogram(data_for_hist, bins=bins, density=True)\n",
    "    wmin = 0.2\n",
    "    wmax = 1.0\n",
    "\n",
    "    weight = 0.0\n",
    "    points = []\n",
    "    sums = []\n",
    "\n",
    "    # fill list of bin centers and the integral up to those point\n",
    "    for i in range(len(bin_edges) - 1):\n",
    "        weight += theHist[i] * (bin_edges[i + 1] - bin_edges[i])\n",
    "        points.append([(bin_edges[i + 1] + bin_edges[i]) / 2, weight])\n",
    "        sums.append(weight)\n",
    "    low = wmin\n",
    "    high = wmax\n",
    "    width = 100\n",
    "    for i in range(len(points)):\n",
    "        for j in range(i, len(points)):\n",
    "            wy = points[j][1] - points[i][1]\n",
    "            if abs(wy - percentage) < epsilon:\n",
    "                wx = points[j][0] - points[i][0]\n",
    "                if wx < width:\n",
    "                    low = points[i][0]\n",
    "                    high = points[j][0]\n",
    "                    width = wx\n",
    "\n",
    "    return 0.5 * (high - low), low, high\n",
    "\n",
    "\n",
    "def obtain_MPV_and_68_raw(data_for_hist, bins_per_binned_E=np.arange(0, 2, 1e-3), epsilon=0.01):\n",
    "    hist, bin_edges = np.histogram(data_for_hist, bins=bins_per_binned_E, density=True)\n",
    "    ind_max_hist = np.argmax(hist)\n",
    "    #MPV = (bin_edges[ind_max_hist] + bin_edges[ind_max_hist + 1]) / 2\n",
    "    std68, low, high = get_std68(hist, bin_edges, epsilon=epsilon)\n",
    "    return std68\n",
    "\n",
    "sigmaE_over_E = []\n",
    "E = []\n",
    "\n",
    "for i in range(len(ranges) - 1):\n",
    "    filter = (yenergy > ranges[i]) & (yenergy < ranges[i + 1])\n",
    "    sigmaE_over_E.append(obtain_MPV_and_68_raw(etracks[filter], bins_per_binned_E=np.arange(0, 2, 1e-3)))\n",
    "    E.append((ranges[i] + ranges[i + 1]) / 2)\n",
    "    "
   ]
  }
 ],
 "metadata": {
  "kernelspec": {
   "display_name": "Python 3.10.12 ('graphgps0': conda)",
   "language": "python",
   "name": "python3"
  },
  "language_info": {
   "codemirror_mode": {
    "name": "ipython",
    "version": 2
   },
   "file_extension": ".py",
   "mimetype": "text/x-python",
   "name": "python",
   "nbconvert_exporter": "python",
   "pygments_lexer": "ipython2",
   "version": "3.10.12"
  },
  "vscode": {
   "interpreter": {
    "hash": "a1107a653693dccb220dbf9d4044a0dd74968504305347b8f2f45714f9be813b"
   }
  }
 },
 "nbformat": 4,
 "nbformat_minor": 0
}
