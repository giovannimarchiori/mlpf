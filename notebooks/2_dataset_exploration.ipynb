{
 "cells": [
  {
   "cell_type": "code",
   "execution_count": 80,
   "metadata": {
    "collapsed": true,
    "ExecuteTime": {
     "end_time": "2023-09-30T09:26:27.330268500Z",
     "start_time": "2023-09-30T09:26:27.321271Z"
    }
   },
   "source": [
    "import torch\n",
    "import sys\n",
    "import os.path as osp\n",
    "import os\n",
    "import sys\n",
    "import numpy as np\n",
    "\n",
    "sys.path.append(\"/eos/home-g/gkrzmanc/mlpf_data\")\n",
    "from src.dataset.dataset import SimpleIterDataset\n",
    "from src.utils.utils import to_filelist\n",
    "from torch.utils.data import DataLoader\n",
    "#import dgl  # CPU only version for now\n",
    "from tqdm import tqdm\n",
    "from torch_scatter import scatter_sum\n",
    "import matplotlib.pyplot as plt\n",
    "import pickle\n",
    "import numpy as np\n",
    "import mplhep as hep\n",
    "\n",
    "hep.style.use(\"CMS\")\n",
    "import matplotlib\n",
    "matplotlib.rc('font', size=13)"
   ],
   "outputs": []
  },
  {
   "cell_type": "code",
   "execution_count": 81,
   "source": [
    "# This block is the same as 1_dataset.ipynb\n",
    "\n",
    "datasets = os.listdir(\"/eos/user/m/mgarciam/datasets_mlpf/230923_20_25\")\n",
    "#dataset = \"/eos/user/g/gkrzmanc/ClicDet_v1_25_07_2023_full.root\"\n",
    "\n",
    "def remove_from_list(lst):\n",
    "    out = []\n",
    "    for item in lst:\n",
    "        if item in [\"hgcal\", \"data.txt\", \"test_file.root\"]:\n",
    "            continue\n",
    "        out.append(item)\n",
    "    return out\n",
    "\n",
    "datasets = [os.path.join(\"/eos/user/m/mgarciam/datasets_mlpf/230923_20_25\", x) for x in remove_from_list(datasets)]\n",
    "\n",
    "class Args:\n",
    "    def __init__(self):\n",
    "        self.data_train = datasets\n",
    "        self.data_val = datasets\n",
    "        #self.data_train = files_train\n",
    "        self.data_config = '/eos/home-g/gkrzmanc/mlpf_data/config_files/config_2_newlinks.yaml'\n",
    "        self.extra_selection = None\n",
    "        self.train_val_split = 0.8\n",
    "        self.data_fraction = 1\n",
    "        self.file_fraction = 1\n",
    "        self.fetch_by_files = False\n",
    "        self.fetch_step = 0.01\n",
    "        self.steps_per_epoch = None\n",
    "        self.in_memory = False\n",
    "        self.local_rank = None\n",
    "        self.copy_inputs = False\n",
    "        self.no_remake_weights = False\n",
    "        self.batch_size = 10\n",
    "        self.num_workers = 0\n",
    "        self.demo = False\n",
    "        self.laplace = False\n",
    "        self.diffs = False\n",
    "        self.class_edges = False\n",
    "\n",
    "\n",
    "args = Args()\n",
    "train_range = (0, args.train_val_split)\n",
    "train_file_dict, train_files = to_filelist(args, 'train')\n",
    "train_data = SimpleIterDataset(train_file_dict, args.data_config, for_training=True,\n",
    "                               extra_selection=args.extra_selection,\n",
    "                               remake_weights=True,\n",
    "                               load_range_and_fraction=(train_range, args.data_fraction),\n",
    "                               file_fraction=args.file_fraction,\n",
    "                               fetch_by_files=args.fetch_by_files,\n",
    "                               fetch_step=args.fetch_step,\n",
    "                               infinity_mode=False,\n",
    "                               in_memory=args.in_memory,\n",
    "                               async_load=False,\n",
    "                               name='train')"
   ],
   "metadata": {
    "collapsed": false,
    "ExecuteTime": {
     "end_time": "2023-09-30T09:26:31.392708100Z",
     "start_time": "2023-09-30T09:26:29.141507Z"
    }
   },
   "outputs": []
  },
  {
   "cell_type": "code",
   "execution_count": 82,
   "source": [
    "iterator = iter(train_data)\n",
    "g, gt = next(iterator)\n",
    "g\n",
    "g.ndata['particle_number'].unique()\n",
    "gt\n",
    "from src.dataset.functions_graph import graph_batch_func\n",
    "\n",
    "train_loader = DataLoader(train_data, batch_size=1, drop_last=True, pin_memory=True,\n",
    "                          num_workers=min(args.num_workers, int(len(train_files) * args.file_fraction)),\n",
    "                          collate_fn=graph_batch_func,\n",
    "                          persistent_workers=args.num_workers > 0 and args.steps_per_epoch is not None)\n",
    "iterator = iter(train_loader)\n"
   ],
   "metadata": {
    "collapsed": false,
    "ExecuteTime": {
     "end_time": "2023-09-30T09:30:31.161832700Z",
     "start_time": "2023-09-30T09:26:31.365956700Z"
    }
   },
   "outputs": []
  },
  {
   "cell_type": "code",
   "execution_count": 83,
   "source": [
    "g, y = next(iterator)\n",
    "y.shape\n",
    "y"
   ],
   "metadata": {
    "collapsed": false,
    "ExecuteTime": {
     "end_time": "2023-09-30T09:31:01.707259300Z",
     "start_time": "2023-09-30T09:30:31.202496Z"
    }
   },
   "outputs": []
  },
  {
   "cell_type": "code",
   "execution_count": 84,
   "source": [
    "ht = g.ndata[\"hit_type\"]\n",
    "ht[ht[:, 2]==1]"
   ],
   "metadata": {
    "collapsed": false,
    "ExecuteTime": {
     "end_time": "2023-09-30T09:31:01.727265500Z",
     "start_time": "2023-09-30T09:31:01.689300200Z"
    }
   },
   "outputs": []
  },
  {
   "cell_type": "code",
   "execution_count": 85,
   "source": [
    "#print(g.ndata[\"e_hits\"].flatten())\n",
    "#print(g.ndata[\"h\"][:, 7])\n",
    "hit_energies = g.ndata[\"e_hits\"].flatten()\n",
    "part_idx = g.ndata[\"particle_number\"]\n",
    "energy_from_showers = scatter_sum(hit_energies, part_idx.long(), dim=0)[1:]\n",
    "y_energy = y[:, 3]\n",
    "#print(y_energy)"
   ],
   "metadata": {
    "collapsed": false,
    "ExecuteTime": {
     "end_time": "2023-09-30T09:31:01.727265500Z",
     "start_time": "2023-09-30T09:31:01.689300200Z"
    }
   },
   "outputs": []
  },
  {
   "cell_type": "code",
   "execution_count": 86,
   "source": [
    "fracs1 = energy_from_showers/y_energy\n",
    "print(fracs1)"
   ],
   "metadata": {
    "collapsed": false,
    "ExecuteTime": {
     "end_time": "2023-09-30T09:31:01.727265500Z",
     "start_time": "2023-09-30T09:31:01.689300200Z"
    }
   },
   "outputs": []
  },
  {
   "cell_type": "code",
   "execution_count": 87,
   "source": [
    "low_frac_particles = np.where(fracs1 < 0.05)[0] + 1\n",
    "print(low_frac_particles)\n",
    "low_frac_part_idx = []\n",
    "for i in range(len(part_idx)):\n",
    "    #print(part_idx[i])\n",
    "    if part_idx[i].item() in low_frac_particles:\n",
    "        low_frac_part_idx.append(i)\n",
    "print(low_frac_part_idx)"
   ],
   "metadata": {
    "collapsed": false,
    "ExecuteTime": {
     "end_time": "2023-09-30T09:31:01.728278500Z",
     "start_time": "2023-09-30T09:31:01.689300200Z"
    }
   },
   "outputs": []
  },
  {
   "cell_type": "code",
   "execution_count": null,
   "source": [
    "g.ndata[\"hit_type\"].argmax(dim=1)"
   ],
   "metadata": {
    "collapsed": false,
    "ExecuteTime": {
     "start_time": "2023-09-30T09:31:01.696042700Z"
    }
   },
   "outputs": []
  },
  {
   "cell_type": "code",
   "execution_count": null,
   "source": [
    "# Plot an event example - to show how highly granular the calorimeter is\n",
    "import plotly\n",
    "import plotly.graph_objects as go\n",
    "import plotly.offline as pyo\n",
    "from plotly.subplots import make_subplots\n",
    "xhits, yhits, zhits = g.ndata[\"h\"][:, 0], g.ndata[\"h\"][:, 1], g.ndata[\"h\"][:, 2]\n",
    "color = g.ndata[\"particle_number\"]\n",
    "color_hittype = g.ndata[\"hit_type\"].argmax(dim=1)\n",
    "color_ht1 = []\n",
    "for i in color_hittype:\n",
    "    if i == 2:\n",
    "        color_ht1.append(\"red\")\n",
    "    else:\n",
    "        color_ht1.append(\"blue\") # HCAL\n",
    "# plot a 3d scatter plot with plotly\n",
    "\n",
    "import plotly.express as px\n",
    "#fig = px.scatter_3d(x=xhits, y=yhits, z=zhits, color=color_hittype, marker=dict(size=10))\n",
    "fig = go.Figure(data=[go.Scatter3d(\n",
    "    x=xhits,\n",
    "    y=yhits,\n",
    "    z=zhits,\n",
    "    mode='markers',\n",
    "    marker=dict(\n",
    "        size=3,\n",
    "        color=color_ht1,\n",
    "        colorscale='Viridis',\n",
    "        opacity=0.8\n",
    "    )\n",
    ")])\n",
    "fig.show()\n",
    "fig.write_html(\"/eos/home-g/gkrzmanc/summ_results/3d_scatter_example_event.html\")"
   ],
   "metadata": {
    "collapsed": false
   },
   "outputs": []
  },
  {
   "cell_type": "code",
   "execution_count": null,
   "source": [
    "fig, ax = plt.subplots(figsize=(5,5))\n",
    "ax.scatter(g.ndata[\"h\"][:, 0], g.ndata[\"h\"][:, 1], alpha=0.5, color=\"gray\")\n",
    "ax.scatter(g.ndata[\"h\"][low_frac_part_idx, 0], g.ndata[\"h\"][low_frac_part_idx, 1], alpha=0.5, c=part_idx[low_frac_part_idx].tolist())\n",
    "ax.set_xlabel(\"x\")\n",
    "ax.set_ylabel(\"y\")\n",
    "#ax.scatter(g.ndata[\"theta_hits\"], g.ndata[\"phi_hits\"], alpha=0.5, color=\"gray\")\n",
    "#ax.scatter(g.ndata[\"theta_hits\"][low_frac_part_idx], g.ndata[\"phi_hits\"][low_frac_part_idx], alpha=0.5, c=part_idx[low_frac_part_idx].tolist())\n",
    "fig.show()\n",
    "fig.savefig(\"/eos/home-g/gkrzmanc/summ_results/event_example_particle_FILTERED_low_energy_frac11.pdf\")"
   ],
   "metadata": {
    "collapsed": false
   },
   "outputs": []
  },
  {
   "cell_type": "code",
   "execution_count": null,
   "source": [
    "from torch_scatter import scatter_sum\n",
    "def get_ratios(g, y, corr_w_mass=False, return_pid_dict=False):\n",
    "    part_idx = g.ndata[\"particle_number\"]\n",
    "    true_idx = np.arange(len(part_idx))\n",
    "    part_idx = part_idx[true_idx]\n",
    "    hit_types = g.ndata[\"hit_type\"][true_idx]\n",
    "    hit_idx = torch.where((hit_types[:, 2] == 1) | (hit_types[:, 3] == 1))[0]\n",
    "    track_idx = torch.where((hit_types[:, 0] == 1) | (hit_types[:, 1] == 1))[0]\n",
    "    hit_energies = g.ndata[\"e_hits\"].flatten()#[true_idx]  #[hit_idx]\n",
    "    where_e_zero = hit_energies == 0\n",
    "    hit_momenta = g.ndata[\"p_hits\"].flatten()[true_idx]#[track_idx]\n",
    "    energy_from_showers = scatter_sum(hit_energies, part_idx.long(), dim=0)\n",
    "    y_energy = y[:, 3]\n",
    "    y_energy = y[:, 3]\n",
    "    y_pid = y[:, -1].to(torch.long)\n",
    "    energy_from_showers = energy_from_showers[1:]\n",
    "    assert len(energy_from_showers) > 0\n",
    "    if return_pid_dict:\n",
    "        pids = y_pid.unique().long()\n",
    "        pid_dict = {int(pid): (energy_from_showers[y_pid == pid] / y_energy[y_pid == pid]).tolist() for pid in pids}\n",
    "        pid_dict[\"ALL\"] = (energy_from_showers / y_energy).tolist()\n",
    "        return pid_dict\n",
    "    return (energy_from_showers / y_energy).tolist()\n"
   ],
   "metadata": {
    "collapsed": false,
    "ExecuteTime": {
     "start_time": "2023-09-30T09:31:01.696042700Z"
    }
   },
   "outputs": []
  },
  {
   "cell_type": "code",
   "execution_count": null,
   "source": [
    "import pickle\n",
    "part_numb_of_hits = pickle.load(open(\"/eos/home-g/gkrzmanc/summ_results_28092023/2part_numb_of_hits.pkl\", \"rb\"))\n",
    "part_energies = pickle.load(open(\"/eos/home-g/gkrzmanc/summ_results_28092023/21part_energies.pkl\", \"rb\"))\n",
    "num_hits = pickle.load(open(\"/eos/home-g/gkrzmanc/summ_results_28092023/21num_hits.pkl\", \"rb\"))\n",
    "num_particles = pickle.load(open(\"/eos/home-g/gkrzmanc/summ_results_28092023/21num_particles.pkl\", \"rb\"))\n",
    "all_ratios = pickle.load(open(\"/eos/home-g/gkrzmanc/summ_results_28092023/21all_ratios.pkl\", \"rb\"))\n",
    "part_pids = pickle.load(open(\"/eos/home-g/gkrzmanc/summ_results_28092023/21part_pids.pkl\", \"rb\"))\n",
    "\n",
    "#pickle.dump(part_numb_of_hits, open(\"/eos/home-g/gkrzmanc/summ_results_28092023/small_1part_numb_of_hits.pkl\", \"wb\"))\n",
    "#pickle.dump(part_energies, open(\"/eos/home-g/gkrzmanc/summ_results_28092023/small_1part_energies.pkl\", \"wb\"))\n",
    "#pickle.dump(num_hits, open(\"/eos/home-g/gkrzmanc/summ_results_28092023/small_1num_hits.pkl\", \"wb\"))\n",
    "#pickle.dump(num_particles, open(\"/eos/home-g/gkrzmanc/summ_results_28092023/small_1num_particles.pkl\", \"wb\"))\n",
    "#pickle.dump(all_ratios, open(\"/eos/home-g/gkrzmanc/summ_results_28092023/small_1all_ratios.pkl\", \"wb\"))\n"
   ],
   "metadata": {
    "collapsed": false
   },
   "outputs": []
  },
  {
   "cell_type": "code",
   "execution_count": 88,
   "source": [
    "all_ratios = {}\n",
    "num_particles = []\n",
    "part_energies = []\n",
    "part_numb_of_hits = []\n",
    "num_hits = []\n",
    "part_pids = []\n",
    "hit_types = []\n",
    "frac_ecal_hits_all = []\n",
    "\n",
    "num_ecal_hits_per_part_all = []\n",
    "num_all_hits_per_part_all = []\n",
    "\n",
    "def upd_dict(d, small_dict):\n",
    "    for k in small_dict:\n",
    "        if k not in d:\n",
    "            d[k] = []\n",
    "        d[k] += small_dict[k]\n",
    "    return d\n",
    "\n",
    "for i in tqdm(np.arange(1000)):\n",
    "    g, y = next(iterator)\n",
    "    num_part = y.shape[0]\n",
    "    num_particles.append(num_part)\n",
    "    nhit = g.ndata[\"h\"].shape[0]\n",
    "    num_hits.append(nhit)\n",
    "    ratios = get_ratios(g, y, corr_w_mass=True, return_pid_dict=True)\n",
    "    all_ratios = upd_dict(all_ratios, ratios)\n",
    "    part_energies += y[:, 3].tolist()\n",
    "    hits_per_part = scatter_sum(torch.ones_like(g.ndata[\"e_hits\"].flatten()), g.ndata[\"particle_number\"].long(), dim=0)[1:]\n",
    "\n",
    "    part_numb_of_hits += hits_per_part.tolist()\n",
    "    part_pid = y[:, -1].to(torch.long)\n",
    "    part_pids += part_pid.tolist()\n",
    "    hit_types += g.ndata[\"hit_type\"].argmax(dim=1).tolist()\n",
    "    ones = torch.zeros_like(g.ndata[\"e_hits\"].flatten())\n",
    "    ecal_filt = g.ndata[\"hit_type\"].argmax(dim=1) == 2\n",
    "    all_hits_per_part = scatter_sum((1-ones), g.ndata[\"particle_number\"].long(), dim=0)[1:]\n",
    "    ones[ecal_filt] = 1.\n",
    "    ecal_hits_per_part = scatter_sum(ones, g.ndata[\"particle_number\"].long(), dim=0)[1:]\n",
    "    y1a = g.ndata[\"e_hits\"].flatten().clone()\n",
    "    y1a[~ecal_filt] = 0.\n",
    "    ecal_energy_per_part = scatter_sum(y1a, g.ndata[\"particle_number\"].long(), dim=0)[1:]\n",
    "    total_energy_hits_per_part = scatter_sum(g.ndata[\"e_hits\"].flatten(), g.ndata[\"particle_number\"].long(), dim=0)[1:]\n",
    "    #print(total_energy_hits_per_part)\n",
    "    #print(ecal_energy_per_part)\n",
    "    #print(ecal_hits_per_part)\n",
    "    #print(all_hits_per_part)\n",
    "    #print(\"----\")\n",
    "    frac_ecal_energy = ecal_energy_per_part / total_energy_hits_per_part\n",
    "    frac_ecal_hits = ecal_hits_per_part / hits_per_part\n",
    "    frac_ecal_hits_all += frac_ecal_energy.tolist()\n",
    "    #print(frac_ecal_energy)\n",
    "    #print(frac_ecal_hits),\n",
    "    num_ecal_hits_per_part_all += ecal_hits_per_part.tolist()\n",
    "    num_all_hits_per_part_all += all_hits_per_part.tolist()\n",
    "\n",
    "\n",
    "    #TODOs tmrw: check particle number dist., how many are we throwing away\n",
    "\n"
   ],
   "metadata": {
    "collapsed": false,
    "ExecuteTime": {
     "end_time": "2023-09-30T09:57:43.133192200Z",
     "start_time": "2023-09-30T09:32:34.466949400Z"
    }
   },
   "outputs": []
  },
  {
   "cell_type": "code",
   "execution_count": 90,
   "source": [
    "\n",
    "import pickle\n",
    "pickle.dump(part_numb_of_hits, open(\"/eos/home-g/gkrzmanc/summ_results_28092023/622part_numb_of_hits.pkl\", \"wb\"))\n",
    "pickle.dump(part_energies, open(\"/eos/home-g/gkrzmanc/summ_results_28092023/6221part_energies.pkl\", \"wb\"))\n",
    "pickle.dump(num_hits, open(\"/eos/home-g/gkrzmanc/summ_results_28092023/6221num_hits.pkl\", \"wb\"))\n",
    "pickle.dump(num_particles, open(\"/eos/home-g/gkrzmanc/summ_results_28092023/6221num_particles.pkl\", \"wb\"))\n",
    "pickle.dump(all_ratios, open(\"/eos/home-g/gkrzmanc/summ_results_28092023/6221all_ratios.pkl\", \"wb\"))\n",
    "pickle.dump(part_pids, open(\"/eos/home-g/gkrzmanc/summ_results_28092023/6221part_pids.pkl\", \"wb\"))\n",
    "pickle.dump(hit_types, open(\"/eos/home-g/gkrzmanc/summ_results_28092023/6221hit_types.pkl\", \"wb\"))\n",
    "pickle.dump(frac_ecal_hits_all, open(\"/eos/home-g/gkrzmanc/summ_results_28092023/6221frac_ecal_hits_all.pkl\", \"wb\"))\n",
    "pickle.dump(num_ecal_hits_per_part_all, open(\"/eos/home-g/gkrzmanc/summ_results_28092023/6221num_ecal_hits_per_part_all.pkl\", \"wb\"))\n",
    "pickle.dump(num_all_hits_per_part_all, open(\"/eos/home-g/gkrzmanc/summ_results_28092023/6221num_all_hits_per_part_all.pkl\", \"wb\"))\n"
   ],
   "metadata": {
    "collapsed": false,
    "ExecuteTime": {
     "end_time": "2023-09-30T10:04:42.692142800Z",
     "start_time": "2023-09-30T10:04:42.107385Z"
    }
   },
   "outputs": []
  },
  {
   "cell_type": "code",
   "execution_count": null,
   "source": [
    "fig, ax = plt.subplots(figsize=(5, 3))\n",
    "ax.set_xlabel(\"Number of hits\")\n",
    "ax.hist(num_hits, bins=15, density=True)\n",
    "ax.set_ylabel(\"Event density\")\n",
    "fig.show()\n"
   ],
   "metadata": {
    "collapsed": false
   },
   "outputs": []
  },
  {
   "cell_type": "code",
   "execution_count": null,
   "source": [
    "fig, ax = plt.subplots(figsize=(5, 3))\n",
    "ax.set_xlabel(\"Number of particles\")\n",
    "ax.hist(num_particles, bins=15, density=True)\n",
    "ax.set_ylabel(\"Event density\")\n",
    "fig.show()\n"
   ],
   "metadata": {
    "collapsed": false
   },
   "outputs": []
  },
  {
   "cell_type": "code",
   "execution_count": null,
   "source": [
    "for key in all_ratios:\n",
    "    print(key, len([x for x in all_ratios[key] if x <= 0.05])/len(all_ratios[key]))"
   ],
   "metadata": {
    "collapsed": false
   },
   "outputs": []
  },
  {
   "cell_type": "code",
   "execution_count": 74,
   "source": [
    "import matplotlib.pyplot as plt\n",
    "all_ratios = {str(k): v for k, v in all_ratios.items()}\n",
    "keys = sorted(list(all_ratios.keys()))\n",
    "fig, ax = plt.subplots(len(keys), figsize=(5, 13))\n",
    "\n",
    "for i in np.arange(len(keys)):\n",
    "    ax[i].hist(all_ratios[keys[i]], bins=400, density=True)\n",
    "    ax[i].set_xlim(-0.3, 2)\n",
    "    ax[i].set_ylabel(\"Density (particles)\")\n",
    "    ax[i].set_xlabel(r\"$E_{sum\\_hits}/E_{true}$\")\n",
    "    #ax[i].set_title(f\"{keys[i]} {len(all_ratios[keys[i]])} particles\")\n",
    "    if keys[i] == \"ALL\":\n",
    "        ax[i].set_title(\"ALL\")\n",
    "    else:\n",
    "        ax[i].set_title(f\"PID: {keys[i]}\")\n",
    "\n",
    "fig.tight_layout()\n",
    "\n",
    "#fig.savefig(\"/eos/home-g/gkrzmanc/PF_reports/initial_histograms/new_dataset/energy_hist_corr1.pdf\")\n",
    "fig.show()\n",
    "fig.savefig(\"/eos/home-g/gkrzmanc/summ_results_28092023/fracs_large_ds.pdf\")"
   ],
   "metadata": {
    "collapsed": false,
    "ExecuteTime": {
     "end_time": "2023-09-29T21:59:30.772597700Z",
     "start_time": "2023-09-29T21:59:24.358555700Z"
    }
   },
   "outputs": []
  },
  {
   "cell_type": "code",
   "execution_count": null,
   "source": [
    "fig.savefig(\"/eos/home-g/gkrzmanc/summ_results/1000ev_15_20_part_ds_not_removed1.pdf\")"
   ],
   "metadata": {
    "collapsed": false
   },
   "outputs": []
  },
  {
   "cell_type": "code",
   "execution_count": null,
   "source": [],
   "metadata": {
    "collapsed": false
   },
   "outputs": []
  },
  {
   "cell_type": "code",
   "execution_count": null,
   "source": [
    "# Energy vs number of hits plots...\n",
    "\n",
    "import matplotlib as mpl\n",
    "list(mpl.colormaps.keys())"
   ],
   "metadata": {
    "collapsed": false
   },
   "outputs": []
  },
  {
   "cell_type": "code",
   "execution_count": 75,
   "source": [
    "fig, ax = plt.subplots(figsize=(5, 4))\n",
    "im = ax.hist2d(np.log10(part_numb_of_hits), np.log10(part_energies), bins=50, density=True, cmap=\"cividis\")\n",
    "ax.set_xlabel(\"$log_{10} (Number\\ of\\ hits)$\")\n",
    "ax.set_ylabel(\"$log_{10} (E_{true})$\")\n",
    "\n",
    "# add colorbar\n",
    "#im = ax.imshow(np.arange(100).reshape((10, 10)), cmap=\"viridis\")\n",
    "#cbar = fig.colorbar(im, ax=ax)\n",
    "cbar = fig.colorbar(im[3], ax=ax)\n",
    "cbar.set_label(\"Density\")\n",
    "#ax.yscale(\"log\")\n",
    "#ax.xscale(\"log\")\n",
    "fig.tight_layout()\n",
    "fig.show()\n",
    "#fig.savefig(\"/eos/home-g/gkrzmanc/summ_results_28092023/etrue_vs_nhits_100ev_unfiltered.pdf\")"
   ],
   "metadata": {
    "collapsed": false,
    "ExecuteTime": {
     "end_time": "2023-09-29T21:59:48.944121Z",
     "start_time": "2023-09-29T21:59:48.350471900Z"
    }
   },
   "outputs": []
  },
  {
   "cell_type": "code",
   "execution_count": null,
   "source": [
    "fig, ax = plt.subplots(figsize=(5, 4))\n",
    "im = ax.hist2d((part_numb_of_hits), (frac_ecal_hits_all), bins=50, density=True, cmap=\"cividis\")\n",
    "\n",
    "ax.set_xlabel(\"$(Number\\ of\\ hits)$\")\n",
    "ax.set_ylabel(\"$(E_{ecal}/E_{ecal+hcal})$\")\n",
    "# add colorbar\n",
    "#im = ax.imshow(np.arange(100).reshape((10, 10)), cmap=\"viridis\")\n",
    "#cbar = fig.colorbar(im, ax=ax)\n",
    "cbar = fig.colorbar(im[3], ax=ax)\n",
    "cbar.set_label(\"Density\")\n",
    "#ax.yscale(\"log\")\n",
    "#ax.xscale(\"log\")\n",
    "fig.tight_layout()\n",
    "fig.show()"
   ],
   "metadata": {
    "collapsed": false
   },
   "outputs": []
  },
  {
   "cell_type": "code",
   "execution_count": null,
   "source": [
    "fig, ax = plt.subplots(figsize=(4, 3))\n",
    "ax.hist(part_numb_of_hits, bins=50, density=True, histtype=\"step\")\n",
    "ax.set_xlabel(\"Number of hits\")\n",
    "ax.set_ylabel(\"Density (particles)\")\n",
    "fig.tight_layout()\n",
    "fig.show()\n",
    "#fig.savefig(\"/eos/home-g/gkrzmanc/summ_results_28092023/nhits-per-particle100ev_unfiltered.pdf\")"
   ],
   "metadata": {
    "collapsed": false
   },
   "outputs": []
  },
  {
   "cell_type": "code",
   "execution_count": 73,
   "source": [
    "unique_pids = list(set(part_pids))\n",
    "pid_hits = {}\n",
    "\n",
    "\n",
    "for pid in unique_pids:\n",
    "    idx = [i for i in range(len(part_pids)) if part_pids[i] == pid]\n",
    "    pid_hits[pid] = [part_numb_of_hits[i] for i in idx]\n",
    "\n",
    "# plot pid_hits on the same histogram\n",
    "fig, ax = plt.subplots(figsize=(4, 3))\n",
    "for pid in unique_pids:\n",
    "    ax.hist(pid_hits[pid], bins=50, density=True, histtype=\"step\", label=pid)\n",
    "ax.set_xlabel(\"Number of hits\")\n",
    "ax.set_ylabel(\"Density (particles)\")\n",
    "ax.legend()\n",
    "fig.tight_layout()\n",
    "fig.show()\n"
   ],
   "metadata": {
    "collapsed": false,
    "ExecuteTime": {
     "end_time": "2023-09-29T21:59:10.170203500Z",
     "start_time": "2023-09-29T21:59:10.117698Z"
    }
   },
   "outputs": []
  },
  {
   "cell_type": "code",
   "execution_count": null,
   "source": [
    "# same hist as above, but separate the histograms for each pid\n",
    "fig, ax = plt.subplots(len(unique_pids), figsize=(4, 10))\n",
    "\n",
    "for i in range(len(unique_pids)):\n",
    "    ax[i].hist(pid_hits[unique_pids[i]], bins=50, density=True, histtype=\"step\", label=unique_pids[i])\n",
    "    ax[i].set_xlabel(\"Number of hits\")\n",
    "    ax[i].set_ylabel(\"Density (particles)\")\n",
    "    ax[i].legend()\n",
    "fig.tight_layout()\n",
    "fig.show()\n"
   ],
   "metadata": {
    "collapsed": false
   },
   "outputs": []
  },
  {
   "cell_type": "code",
   "execution_count": null,
   "source": [
    "fig, ax = plt.subplots(figsize=(4,3))\n",
    "ranges_energy = [(0, 25), (25, 35), (35, 50)]\n",
    "for i , range1 in enumerate(ranges_energy):\n",
    "    range_filt = [i for i in np.arange(len(part_energies)) if range1[0] <= part_energies[i] <= range1[1]]\n",
    "    ax.hist(np.array(part_numb_of_hits)[range_filt], bins=50, density=True, histtype=\"step\", label=str(range1))\n",
    "ax.set_xlabel(\"Number of hits\")\n",
    "ax.set_ylabel(\"Density (particles)\")\n",
    "ax.legend()\n",
    "fig.tight_layout()\n",
    "fig.show()"
   ],
   "metadata": {
    "collapsed": false
   },
   "outputs": []
  },
  {
   "cell_type": "code",
   "execution_count": null,
   "source": [
    "len(part_energies)"
   ],
   "metadata": {
    "collapsed": false
   },
   "outputs": []
  },
  {
   "cell_type": "code",
   "execution_count": null,
   "source": [
    "len(frac_ecal_hits_all)"
   ],
   "metadata": {
    "collapsed": false
   },
   "outputs": []
  },
  {
   "cell_type": "code",
   "execution_count": null,
   "source": [
    "fig, ax = plt.subplots(figsize=(5, 4))\n",
    "im = ax.hist2d((part_energies), (frac_ecal_hits_all), bins=50, density=True, cmap=\"cividis\")\n",
    "\n",
    "ax.set_xlabel(\"$E_{true}$\")\n",
    "ax.set_ylabel(\"$(E_{ecal}/E_{ecal+hcal})$\")\n",
    "# add colorbar\n",
    "#im = ax.imshow(np.arange(100).reshape((10, 10)), cmap=\"viridis\")\n",
    "#cbar = fig.colorbar(im, ax=ax)\n",
    "cbar = fig.colorbar(im[3], ax=ax)\n",
    "cbar.set_label(\"Density\")\n",
    "#ax.yscale(\"log\")\n",
    "#ax.xscale(\"log\")\n",
    "fig.tight_layout()\n",
    "fig.show()"
   ],
   "metadata": {
    "collapsed": false
   },
   "outputs": []
  },
  {
   "cell_type": "code",
   "execution_count": 79,
   "source": [
    "fig, ax = plt.subplots(figsize=(4,3))\n",
    "ranges_ecal_frac = [(0, 0.1), (0.1, 0.5), (0.5,  0.7),  (0.7, 1)]\n",
    "for i , range1 in enumerate(ranges_ecal_frac):\n",
    "    range_filt = [i for i in np.arange(len(part_energies)) if range1[0] <= frac_ecal_hits_all[i] <= range1[1]]\n",
    "    ax.hist(np.array(part_numb_of_hits)[range_filt], bins=50, density=True, histtype=\"step\", label=str(range1))\n",
    "ax.set_xlabel(\"Number of hits\")\n",
    "ax.set_ylabel(\"Density (particles)\")\n",
    "ax.legend(title=\"$E_{ecal}/E_{ecal+hcal}$\")\n",
    "fig.tight_layout()\n",
    "fig.show()\n",
    "fig.savefig(\"/eos/home-g/gkrzmanc/summ_results_28092023/ecal_frac_histograms_1.pdf\")"
   ],
   "metadata": {
    "collapsed": false,
    "ExecuteTime": {
     "end_time": "2023-09-29T22:05:09.490276400Z",
     "start_time": "2023-09-29T22:05:08.787797900Z"
    }
   },
   "outputs": []
  },
  {
   "cell_type": "code",
   "execution_count": 129,
   "source": [
    "\n",
    "fig1, ax1 = plt.subplots(figsize=(4, 3))\n",
    "ranges_energy = [(20, 30), (30, 40), (40, 50)]\n",
    "unique_pids = list(set(part_pids))\n",
    "num_ecal_hits_per_part_all\n",
    "num_all_hits_per_part_all\n",
    "fig, ax = plt.subplots(2, len(unique_pids), figsize=(24, 7))\n",
    "for i1 , range1 in enumerate(ranges_energy):\n",
    "    i = 0\n",
    "    for j, partid in enumerate(unique_pids):\n",
    "        range_filt =  (range1[0] <= np.array(part_energies)) & (np.array(part_energies) <= range1[1])\n",
    "        pid_filt = range_filt & (np.array(part_pids) == partid)\n",
    "        ax[i, j].scatter(np.array(num_ecal_hits_per_part_all)[pid_filt], np.array(num_all_hits_per_part_all)[pid_filt]-np.array(num_ecal_hits_per_part_all)[pid_filt], label=str(range1), alpha=0.15)\n",
    "        ax[i, j].set_xlabel(\"# ECAL hits per particle\")\n",
    "        ax[i, j].set_ylabel(\"# HCAL hits per particle\")\n",
    "        ax[i, j].legend(title=\"$E_{true}$ [GeV]\")\n",
    "        ax[i, j].set_title(\"PID: \" + str(partid))\n",
    "        if i== 0 and j == 0:\n",
    "            # do the same things to ax1\n",
    "            ax1.scatter(np.array(num_ecal_hits_per_part_all)[pid_filt], np.array(num_all_hits_per_part_all)[pid_filt]-np.array(num_ecal_hits_per_part_all)[pid_filt], label=str(range1), alpha=0.15)\n",
    "            ax1.set_xlabel(\"# ECAL hits per particle\")\n",
    "            ax1.set_ylabel(\"# HCAL hits per particle\")\n",
    "            ax1.legend(title=\"$E_{true}$ [GeV]\")\n",
    "            ax1.set_title(\"PID: \" + str(partid))\n",
    "fig.tight_layout()\n",
    "fig.show()\n",
    "fig.savefig(\"/eos/home-g/gkrzmanc/summ_results_28092023/ecal_vs_hcal_hits_per_pid_and_energy_range.pdf\")"
   ],
   "metadata": {
    "collapsed": false,
    "ExecuteTime": {
     "end_time": "2023-09-30T12:20:44.812906200Z",
     "start_time": "2023-09-30T12:20:39.322768300Z"
    }
   },
   "outputs": []
  },
  {
   "cell_type": "code",
   "execution_count": 130,
   "source": [
    "fig1.tight_layout()\n",
    "fig1.show()\n",
    "fig1.savefig(\"/eos/home-g/gkrzmanc/summ_results_28092023/ecal_vs_hcal_hits_per_pid_and_energy_range_2112.pdf\")"
   ],
   "metadata": {
    "collapsed": false,
    "ExecuteTime": {
     "end_time": "2023-09-30T12:20:45.103822700Z",
     "start_time": "2023-09-30T12:20:44.812906200Z"
    }
   },
   "outputs": []
  },
  {
   "cell_type": "code",
   "execution_count": 135,
   "source": [
    "\n",
    "ranges_energy = [(20, 30), (30, 40), (40, 50)]\n",
    "unique_pids = list(set(part_pids))\n",
    "\n",
    "fig1, ax1 = plt.subplots(figsize=(4, 3))\n",
    "fig, ax = plt.subplots(2, len(unique_pids), figsize=(20, 7))\n",
    "for i1 , range1 in enumerate(ranges_energy):\n",
    "    i = 0\n",
    "    for j, partid in enumerate(unique_pids):\n",
    "        range_filt =  (range1[0] <= np.array(part_energies)) & (np.array(part_energies) <= range1[1])\n",
    "        pid_filt = range_filt & (np.array(part_pids) == partid)\n",
    "        ax[i, j].scatter((np.array(frac_ecal_hits_all)*np.array(part_energies))[pid_filt], np.array(part_energies)[pid_filt]-(np.array(frac_ecal_hits_all)*np.array(part_energies))[pid_filt], label=str(range1), alpha=0.1)\n",
    "        ax[i, j].set_xlabel(\"$Particle E_{ECAL}$ [GeV]\")\n",
    "        ax[i, j].set_ylabel(\"Particle $E_{HCAL}$ [GeV]\")\n",
    "        ax[i, j].legend()\n",
    "        ax[i, j].set_title(\"PID: \" + str(partid))\n",
    "        if i==0 and j == 0:\n",
    "            # do the same for ax1\n",
    "            ax1.scatter((np.array(frac_ecal_hits_all)*np.array(part_energies))[pid_filt], np.array(part_energies)[pid_filt]-(np.array(frac_ecal_hits_all)*np.array(part_energies))[pid_filt], label=str(range1), alpha=0.1)\n",
    "            ax1.set_xlabel(\"Particle $E_{ECAL}$ [GeV]\")\n",
    "            ax1.set_ylabel(\"Particle $E_{HCAL}$ [GeV]\")\n",
    "            ax1.legend(title=\"$E_{true}$ [GeV]\")\n",
    "            ax1.set_title(\"PID: \" + str(partid))\n",
    "fig.tight_layout()\n",
    "fig.show()\n",
    "fig.savefig(\"/eos/home-g/gkrzmanc/summ_results_28092023/ecal_vs_hcal_E_hits_per_pid_and_energy_range.pdf\")"
   ],
   "metadata": {
    "collapsed": false,
    "ExecuteTime": {
     "end_time": "2023-09-30T12:25:51.166180600Z",
     "start_time": "2023-09-30T12:25:45.934691400Z"
    }
   },
   "outputs": []
  },
  {
   "cell_type": "code",
   "execution_count": 136,
   "source": [
    "fig1.tight_layout()\n",
    "fig1.show()\n",
    "fig1.savefig(\"/eos/home-g/gkrzmanc/summ_results_28092023/ecal_vs_hcal_hits_per_pid_and_energy_range_2112_energies.pdf\")"
   ],
   "metadata": {
    "collapsed": false,
    "ExecuteTime": {
     "end_time": "2023-09-30T12:26:10.734214900Z",
     "start_time": "2023-09-30T12:25:51.166180600Z"
    }
   },
   "outputs": []
  },
  {
   "cell_type": "code",
   "execution_count": null,
   "source": [],
   "metadata": {
    "collapsed": false
   },
   "outputs": []
  }
 ],
 "metadata": {
  "kernelspec": {
   "display_name": "Python 3",
   "language": "python",
   "name": "python3"
  },
  "language_info": {
   "codemirror_mode": {
    "name": "ipython",
    "version": 2
   },
   "file_extension": ".py",
   "mimetype": "text/x-python",
   "name": "python",
   "nbconvert_exporter": "python",
   "pygments_lexer": "ipython2",
   "version": "2.7.6"
  }
 },
 "nbformat": 4,
 "nbformat_minor": 0
}
