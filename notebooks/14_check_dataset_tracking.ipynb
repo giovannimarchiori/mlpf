{
 "cells": [
  {
   "cell_type": "code",
   "execution_count": 1,
   "metadata": {
    "ExecuteTime": {
     "end_time": "2023-08-31T11:54:49.194189400Z",
     "start_time": "2023-08-31T11:54:49.153811300Z"
    },
    "collapsed": true
   },
   "outputs": [
    {
     "name": "stderr",
     "output_type": "stream",
     "text": [
      "/afs/cern.ch/work/m/mgarciam/private/miniconda/miniconda3/envs/graphgps0/lib/python3.10/site-packages/tqdm/auto.py:21: TqdmWarning: IProgress not found. Please update jupyter and ipywidgets. See https://ipywidgets.readthedocs.io/en/stable/user_install.html\n",
      "  from .autonotebook import tqdm as notebook_tqdm\n"
     ]
    }
   ],
   "source": [
    "import torch\n",
    "import sys\n",
    "import os.path as osp\n",
    "import os\n",
    "import sys\n",
    "import numpy as np\n",
    "\n",
    "sys.path.append(\"/afs/cern.ch/work/m/mgarciam/private/mlpf/\")\n",
    "from src.dataset.dataset import SimpleIterDataset\n",
    "from src.utils.utils import to_filelist\n",
    "from torch.utils.data import DataLoader\n",
    "from tqdm import tqdm\n",
    "from torch_scatter import scatter_sum\n",
    "import matplotlib.pyplot as plt\n",
    "import pickle\n",
    "import numpy as np\n",
    "import mplhep as hep\n",
    "\n",
    "\n",
    "hep.style.use(\"CMS\")\n",
    "import matplotlib\n",
    "matplotlib.rc('font', size=13)\n"
   ]
  },
  {
   "cell_type": "markdown",
   "metadata": {},
   "source": [
    "/eos/experiment/fcc/ee/datasets/DC_tracking/Pythia/gun_fakeCalo_g1/reco_gun_1000.root"
   ]
  },
  {
   "cell_type": "code",
   "execution_count": 5,
   "metadata": {
    "ExecuteTime": {
     "end_time": "2023-08-31T11:54:49.774146500Z",
     "start_time": "2023-08-31T11:54:49.652058300Z"
    },
    "collapsed": false
   },
   "outputs": [
    {
     "name": "stdout",
     "output_type": "stream",
     "text": [
      "['/eos/experiment/fcc/ee/datasets/mlpf/condor/011024_Hcard/10/tree5.root']\n",
      "['/eos/experiment/fcc/ee/datasets/mlpf/condor/011024_Hcard/10/tree5.root']\n"
     ]
    }
   ],
   "source": [
    "#\"/eos/experiment/fcc/ee/datasets/DC_tracking/Pythia_evaluation/Zcard/reco_Zcard_1.root\"\n",
    "datasets = {\n",
    "    \"test\": \"/eos/experiment/fcc/ee/datasets/mlpf/condor/011024_Hcard/10/tree5.root\",\n",
    "    \"train\": \"/eos/experiment/fcc/ee/datasets/mlpf/condor/011024_Hcard/10/tree5.root\",\n",
    "}\n",
    "\n",
    "class Args:\n",
    "    def __init__(self, datasets):\n",
    "        self.data_train = [datasets]\n",
    "        self.data_val = [datasets]\n",
    "        #self.data_train = files_train\n",
    "        self.data_config = '/afs/cern.ch/work/m/mgarciam/private/mlpf/config_files/config_hits_track_v1.yaml'\n",
    "        self.extra_selection = None\n",
    "        self.train_val_split = 1\n",
    "        self.data_fraction = 1\n",
    "        self.file_fraction = 1\n",
    "        self.fetch_by_files = False\n",
    "        self.fetch_step = 1\n",
    "        self.steps_per_epoch = None\n",
    "        self.in_memory = False\n",
    "        self.local_rank = None\n",
    "        self.copy_inputs = False\n",
    "        self.no_remake_weights = False\n",
    "        self.batch_size = 1\n",
    "        self.num_workers = 0\n",
    "        self.demo = False\n",
    "        self.laplace = False\n",
    "        self.diffs = False\n",
    "        self.class_edges = False\n",
    "\n",
    "\n",
    "args = {key: Args(value) for key, value in datasets.items()}\n",
    "\n",
    "datas = {}\n",
    "files_dict = {}\n",
    "for key in datasets:\n",
    "    train_range = (0, args[key].train_val_split)\n",
    "    train_file_dict, train_files = to_filelist(args[key], 'val')\n",
    "    train_data = SimpleIterDataset(train_file_dict, args[key].data_config, for_training=False,\n",
    "                                   extra_selection=args[key].extra_selection,\n",
    "                                   remake_weights=True,\n",
    "                                   load_range_and_fraction=(train_range, args[key].data_fraction),\n",
    "                                   file_fraction=args[key].file_fraction,\n",
    "                                   fetch_by_files=args[key].fetch_by_files,\n",
    "                                   fetch_step=args[key].fetch_step,\n",
    "                                   infinity_mode=False,\n",
    "                                   in_memory=args[key].in_memory,\n",
    "                                   async_load=False,\n",
    "                                   name='train')\n",
    "    datas[key] = train_data\n",
    "    files_dict[key] = train_files"
   ]
  },
  {
   "cell_type": "markdown",
   "metadata": {},
   "source": []
  },
  {
   "cell_type": "code",
   "execution_count": 6,
   "metadata": {
    "ExecuteTime": {
     "end_time": "2023-08-31T13:33:03.467012800Z",
     "start_time": "2023-08-31T13:33:03.373681600Z"
    },
    "collapsed": false
   },
   "outputs": [],
   "source": [
    "import plotly\n",
    "import plotly.graph_objects as go\n",
    "import plotly.offline as pyo\n",
    "from plotly.subplots import make_subplots"
   ]
  },
  {
   "cell_type": "code",
   "execution_count": 13,
   "metadata": {
    "ExecuteTime": {
     "end_time": "2023-08-31T11:54:53.560473300Z",
     "start_time": "2023-08-31T11:54:53.550078300Z"
    },
    "collapsed": false
   },
   "outputs": [
    {
     "name": "stdout",
     "output_type": "stream",
     "text": [
      "=== Restarting DataIter train, seed=None ===\n"
     ]
    }
   ],
   "source": [
    "itera = iter(train_data)"
   ]
  },
  {
   "cell_type": "code",
   "execution_count": 5,
   "metadata": {},
   "outputs": [],
   "source": [
    "# from torch_scatter import scatter_add, scatter_sum, scatter_mean\n",
    "# def make_bad_tracks_noise_tracks(g):\n",
    "#     # is_chardged =scatter_add((g.ndata[\"hit_type\"]==1).view(-1), g.ndata[\"particle_number\"].long())[1:]\n",
    "#     mask_hit_type_t1 = g.ndata[\"hit_type\"]==2\n",
    "#     mask_hit_type_t2 = g.ndata[\"hit_type\"]==1\n",
    "#     mask_all = mask_hit_type_t1\n",
    "#     # the other error could come from no hits in the ECAL for a cluster\n",
    "#     mean_pos_cluster = scatter_mean(g.ndata[\"pos_hits_xyz\"][mask_all], g.ndata[\"particle_number\"][mask_all].long().view(-1), dim=0)\n",
    "   \n",
    "#     pos_track = g.ndata[\"pos_hits_xyz\"][mask_hit_type_t2]\n",
    "#     particle_track = g.ndata[\"particle_number\"][mask_hit_type_t2]\n",
    "#     if  torch.sum(g.ndata[\"particle_number\"] == 0)==0:\n",
    "#         #then index 1 is at 0 \n",
    "#         mean_pos_cluster = mean_pos_cluster[1:,:]\n",
    "#         particle_track = particle_track-1\n",
    "#     print(mean_pos_cluster.shape, torch.unique(g.ndata[\"particle_number\"]).shape)\n",
    "#     print(\"mean_pos_cluster\", mean_pos_cluster.shape)\n",
    "#     print(\"particle_track\", particle_track)\n",
    "#     print(\"pos_track\", pos_track.shape)\n",
    "#     distance_track_cluster = torch.norm(mean_pos_cluster[particle_track.long()]-pos_track,dim=1)/1000\n",
    "#     # print(\"distance_track_cluster\", distance_track_cluster)\n",
    "#     bad_tracks = distance_track_cluster>0.21\n",
    "#     index_bad_tracks = mask_hit_type_t2.nonzero().view(-1)[bad_tracks]\n",
    "#     g.ndata[\"particle_number\"][index_bad_tracks]= 0 \n",
    "#     return g"
   ]
  },
  {
   "cell_type": "code",
   "execution_count": 7,
   "metadata": {},
   "outputs": [],
   "source": [
    "# mask_hit_type_t1 = g.ndata[\"hit_type\"]==2\n",
    "# mask_hit_type_t2 = g.ndata[\"hit_type\"]==1\n",
    "# mask_all = mask_hit_type_t1\n",
    "# # the other error could come from no hits in the ECAL for a cluster\n",
    "# mean_pos_cluster = scatter_mean(g.ndata[\"pos_hits_xyz\"][mask_all], g.ndata[\"particle_number\"][mask_all].long().view(-1), dim=0)\n",
    "\n",
    "# pos_track = g.ndata[\"pos_hits_xyz\"][mask_hit_type_t2]\n",
    "# particle_track = g.ndata[\"particle_number\"][mask_hit_type_t2]\n",
    "# if  torch.sum(g.ndata[\"particle_number\"] == 0)==0:\n",
    "#     print(\"here\")\n",
    "#     #then index 1 is at 0 \n",
    "#     mean_pos_cluster = mean_pos_cluster[1:,:]\n",
    "#     particle_track = particle_track-1"
   ]
  },
  {
   "cell_type": "code",
   "execution_count": 21,
   "metadata": {},
   "outputs": [],
   "source": [
    "g, y = next(itera)\n",
    "\n"
   ]
  },
  {
   "cell_type": "code",
   "execution_count": 6,
   "metadata": {},
   "outputs": [],
   "source": [
    "import dgl\n",
    "def calculate_delta_MC(y, batch_g):\n",
    "    graphs = dgl.unbatch(batch_g)\n",
    "    # batch_id = y.batch_number\n",
    "    df_list = []\n",
    "    for i in range(0, len(graphs)):\n",
    "        # mask = batch_id == 0\n",
    "        y_i = y\n",
    "        pseudorapidity = -torch.log(torch.tan(y_i.angle[:,0] / 2))\n",
    "        phi = y_i.angle[:,1]\n",
    "        x1 = torch.cat((pseudorapidity.view(-1, 1), phi.view(-1, 1)), dim=1)\n",
    "        distance_matrix = torch.cdist(x1, x1, p=2)\n",
    "        shape_d = distance_matrix.shape[0]\n",
    "        values, _ = torch.sort(distance_matrix, dim=1)\n",
    "        if shape_d>1:\n",
    "            delta_MC = values[:, 1]\n",
    "        else:\n",
    "            delta_MC = torch.ones((shape_d,1)).view(-1).to(y_i.device)\n",
    "        df_list.append(delta_MC)\n",
    "    delta_MC = torch.cat(df_list)\n",
    "    return delta_MC"
   ]
  },
  {
   "cell_type": "code",
   "execution_count": 8,
   "metadata": {},
   "outputs": [
    {
     "data": {
      "text/plain": [
       "tensor([0.5022, 0.2091, 0.2091, 0.3085, 0.1951, 0.5502, 0.1951, 0.4673, 0.3484,\n",
       "        0.8531, 0.3484, 0.3085, 0.3869, 0.4452, 1.5831, 1.2169])"
      ]
     },
     "execution_count": 8,
     "metadata": {},
     "output_type": "execute_result"
    }
   ],
   "source": [
    "delta_MC = calculate_delta_MC(y, g)\n",
    "delta_MC"
   ]
  },
  {
   "cell_type": "code",
   "execution_count": 39,
   "metadata": {},
   "outputs": [],
   "source": [
    "values = g.ndata['hit_type'][mask].numpy()"
   ]
  },
  {
   "cell_type": "code",
   "execution_count": 57,
   "metadata": {},
   "outputs": [
    {
     "name": "stdout",
     "output_type": "stream",
     "text": [
      "['1' '1' '1' ... '3' '4' '4']\n"
     ]
    }
   ],
   "source": [
    "value_to_color_map = {\n",
    "    1: '1',\n",
    "    2: '2',\n",
    "    3: '3',\n",
    "    4: '4'\n",
    "}\n",
    "# colors = ['rgb(255,0,0)', 'rgb(0,255,0)', 'rgb(0,0,255)']\n",
    "\n",
    "# Convert values to corresponding colors\n",
    "color_mapped = np.vectorize(value_to_color_map.get)(values)\n",
    "\n",
    "print(color_mapped)"
   ]
  },
  {
   "cell_type": "code",
   "execution_count": 60,
   "metadata": {},
   "outputs": [
    {
     "data": {
      "application/vnd.plotly.v1+json": {
       "config": {
        "plotlyServerURL": "https://plot.ly"
       },
       "data": [
        {
         "customdata": [
          [
           0
          ],
          [
           2
          ],
          [
           15
          ],
          [
           0
          ],
          [
           0
          ],
          [
           0
          ],
          [
           0
          ],
          [
           0
          ]
         ],
         "hovertemplate": "color=1<br>X=%{x}<br>Y=%{y}<br>Z=%{z}<br>features=%{marker.size}<br>tIdx=%{customdata[0]}<extra></extra>",
         "legendgroup": "1",
         "marker": {
          "color": "red",
          "line": {
           "width": 0
          },
          "size": [
           0.4649575352668762,
           1.658076524734497,
           0.7171626091003418,
           0.13529877364635468,
           0.016609562560915947,
           0.022657781839370728,
           0.007503114175051451,
           0.00551591906696558
          ],
          "sizemode": "area",
          "sizeref": 0.004145191311836243,
          "symbol": "circle"
         },
         "mode": "markers",
         "name": "1",
         "scene": "scene",
         "showlegend": true,
         "type": "scatter3d",
         "x": [
          -2150,
          -2150,
          -2150,
          -2150,
          -651.537353515625,
          -233.16714477539062,
          -50.60350799560547,
          -15.702327728271484
         ],
         "y": [
          -397.9647216796875,
          -287.56353759765625,
          -209.38023376464844,
          -77.94273376464844,
          -31.81298065185547,
          83.25706481933594,
          -92.6562271118164,
          1.8001691102981567
         ],
         "z": [
          -787.075439453125,
          -634.7096557617188,
          -533.3707885742188,
          -548.33154296875,
          -2307,
          2307,
          -2307,
          2307
         ]
        },
        {
         "customdata": [
          [
           2
          ],
          [
           2
          ],
          [
           2
          ],
          [
           2
          ],
          [
           2
          ],
          [
           2
          ],
          [
           2
          ],
          [
           2
          ],
          [
           2
          ],
          [
           2
          ],
          [
           2
          ],
          [
           2
          ],
          [
           2
          ],
          [
           2
          ],
          [
           2
          ],
          [
           2
          ],
          [
           2
          ],
          [
           2
          ],
          [
           2
          ],
          [
           2
          ],
          [
           2
          ],
          [
           2
          ],
          [
           2
          ],
          [
           2
          ],
          [
           2
          ],
          [
           2
          ],
          [
           2
          ],
          [
           2
          ],
          [
           2
          ],
          [
           2
          ],
          [
           2
          ],
          [
           2
          ],
          [
           2
          ],
          [
           2
          ],
          [
           2
          ],
          [
           2
          ],
          [
           2
          ],
          [
           2
          ],
          [
           2
          ],
          [
           2
          ],
          [
           2
          ],
          [
           2
          ],
          [
           2
          ],
          [
           2
          ],
          [
           2
          ],
          [
           2
          ],
          [
           2
          ],
          [
           2
          ],
          [
           2
          ],
          [
           2
          ],
          [
           2
          ],
          [
           2
          ],
          [
           2
          ],
          [
           2
          ],
          [
           2
          ],
          [
           15
          ],
          [
           15
          ],
          [
           15
          ],
          [
           15
          ],
          [
           15
          ],
          [
           15
          ],
          [
           15
          ],
          [
           15
          ],
          [
           15
          ],
          [
           15
          ],
          [
           15
          ],
          [
           15
          ],
          [
           15
          ],
          [
           15
          ],
          [
           15
          ],
          [
           15
          ],
          [
           15
          ],
          [
           15
          ],
          [
           15
          ],
          [
           15
          ],
          [
           15
          ],
          [
           15
          ],
          [
           15
          ],
          [
           15
          ],
          [
           15
          ],
          [
           15
          ],
          [
           15
          ],
          [
           15
          ],
          [
           15
          ],
          [
           15
          ],
          [
           15
          ],
          [
           15
          ],
          [
           15
          ],
          [
           15
          ],
          [
           15
          ],
          [
           15
          ],
          [
           15
          ],
          [
           15
          ],
          [
           15
          ],
          [
           15
          ],
          [
           15
          ],
          [
           15
          ],
          [
           15
          ],
          [
           15
          ],
          [
           15
          ],
          [
           15
          ],
          [
           15
          ],
          [
           15
          ],
          [
           15
          ],
          [
           15
          ],
          [
           0
          ],
          [
           20
          ],
          [
           20
          ],
          [
           20
          ],
          [
           20
          ],
          [
           20
          ],
          [
           20
          ],
          [
           20
          ],
          [
           23
          ],
          [
           23
          ],
          [
           23
          ],
          [
           23
          ],
          [
           23
          ],
          [
           23
          ],
          [
           23
          ],
          [
           23
          ],
          [
           23
          ],
          [
           23
          ],
          [
           23
          ],
          [
           23
          ],
          [
           23
          ],
          [
           23
          ],
          [
           23
          ],
          [
           23
          ],
          [
           23
          ],
          [
           23
          ],
          [
           23
          ],
          [
           23
          ],
          [
           23
          ],
          [
           23
          ],
          [
           23
          ],
          [
           23
          ],
          [
           23
          ],
          [
           23
          ],
          [
           23
          ],
          [
           23
          ],
          [
           23
          ],
          [
           23
          ],
          [
           23
          ],
          [
           23
          ],
          [
           23
          ],
          [
           23
          ],
          [
           23
          ],
          [
           23
          ],
          [
           23
          ],
          [
           23
          ],
          [
           23
          ],
          [
           23
          ],
          [
           23
          ],
          [
           23
          ],
          [
           23
          ],
          [
           23
          ],
          [
           23
          ],
          [
           23
          ],
          [
           23
          ],
          [
           23
          ],
          [
           23
          ],
          [
           23
          ],
          [
           23
          ],
          [
           23
          ],
          [
           23
          ],
          [
           23
          ],
          [
           23
          ],
          [
           23
          ],
          [
           23
          ],
          [
           23
          ],
          [
           23
          ],
          [
           23
          ],
          [
           23
          ],
          [
           23
          ],
          [
           23
          ],
          [
           23
          ],
          [
           23
          ],
          [
           23
          ],
          [
           23
          ],
          [
           23
          ],
          [
           23
          ],
          [
           23
          ],
          [
           23
          ],
          [
           23
          ],
          [
           23
          ],
          [
           23
          ],
          [
           23
          ],
          [
           23
          ],
          [
           23
          ],
          [
           23
          ],
          [
           23
          ],
          [
           23
          ],
          [
           23
          ],
          [
           23
          ],
          [
           23
          ],
          [
           23
          ],
          [
           23
          ],
          [
           23
          ],
          [
           23
          ],
          [
           23
          ],
          [
           23
          ],
          [
           23
          ],
          [
           23
          ],
          [
           22
          ],
          [
           22
          ],
          [
           22
          ],
          [
           22
          ],
          [
           22
          ],
          [
           22
          ],
          [
           22
          ],
          [
           22
          ],
          [
           22
          ],
          [
           22
          ],
          [
           22
          ],
          [
           22
          ],
          [
           22
          ],
          [
           22
          ],
          [
           22
          ],
          [
           22
          ],
          [
           22
          ],
          [
           22
          ],
          [
           22
          ],
          [
           22
          ],
          [
           22
          ],
          [
           22
          ],
          [
           22
          ],
          [
           22
          ],
          [
           22
          ],
          [
           22
          ],
          [
           22
          ],
          [
           22
          ],
          [
           22
          ],
          [
           22
          ],
          [
           22
          ],
          [
           22
          ],
          [
           22
          ],
          [
           22
          ],
          [
           22
          ],
          [
           22
          ],
          [
           22
          ],
          [
           22
          ],
          [
           22
          ],
          [
           22
          ],
          [
           22
          ],
          [
           22
          ],
          [
           22
          ],
          [
           22
          ],
          [
           22
          ],
          [
           22
          ],
          [
           22
          ],
          [
           22
          ],
          [
           22
          ],
          [
           22
          ],
          [
           22
          ],
          [
           22
          ],
          [
           22
          ],
          [
           22
          ],
          [
           22
          ],
          [
           22
          ],
          [
           22
          ],
          [
           22
          ],
          [
           22
          ],
          [
           22
          ],
          [
           22
          ],
          [
           22
          ],
          [
           22
          ],
          [
           22
          ],
          [
           22
          ],
          [
           22
          ],
          [
           22
          ],
          [
           22
          ],
          [
           22
          ],
          [
           22
          ],
          [
           22
          ],
          [
           22
          ],
          [
           22
          ],
          [
           22
          ],
          [
           22
          ],
          [
           22
          ],
          [
           22
          ],
          [
           22
          ],
          [
           22
          ],
          [
           22
          ],
          [
           22
          ],
          [
           21
          ],
          [
           21
          ],
          [
           21
          ],
          [
           21
          ],
          [
           21
          ],
          [
           21
          ],
          [
           21
          ],
          [
           21
          ],
          [
           21
          ],
          [
           21
          ],
          [
           21
          ],
          [
           21
          ],
          [
           21
          ],
          [
           21
          ],
          [
           21
          ],
          [
           21
          ],
          [
           21
          ],
          [
           21
          ],
          [
           21
          ],
          [
           21
          ],
          [
           21
          ],
          [
           21
          ],
          [
           21
          ],
          [
           21
          ],
          [
           21
          ],
          [
           21
          ],
          [
           21
          ],
          [
           21
          ],
          [
           21
          ],
          [
           21
          ],
          [
           21
          ],
          [
           21
          ],
          [
           21
          ],
          [
           21
          ],
          [
           21
          ],
          [
           21
          ],
          [
           21
          ],
          [
           21
          ],
          [
           21
          ],
          [
           21
          ],
          [
           21
          ],
          [
           21
          ],
          [
           21
          ],
          [
           21
          ],
          [
           21
          ],
          [
           21
          ],
          [
           21
          ],
          [
           21
          ],
          [
           21
          ],
          [
           13
          ],
          [
           13
          ],
          [
           13
          ],
          [
           13
          ],
          [
           13
          ],
          [
           13
          ],
          [
           13
          ],
          [
           13
          ],
          [
           13
          ],
          [
           13
          ],
          [
           13
          ],
          [
           13
          ],
          [
           13
          ],
          [
           13
          ],
          [
           13
          ],
          [
           13
          ],
          [
           13
          ],
          [
           13
          ],
          [
           13
          ],
          [
           13
          ],
          [
           13
          ],
          [
           13
          ],
          [
           13
          ],
          [
           13
          ],
          [
           13
          ],
          [
           13
          ],
          [
           13
          ],
          [
           13
          ],
          [
           13
          ],
          [
           13
          ],
          [
           13
          ],
          [
           13
          ],
          [
           13
          ],
          [
           13
          ],
          [
           13
          ],
          [
           13
          ],
          [
           13
          ],
          [
           13
          ],
          [
           13
          ],
          [
           13
          ],
          [
           13
          ],
          [
           13
          ],
          [
           13
          ],
          [
           13
          ],
          [
           13
          ],
          [
           13
          ],
          [
           13
          ],
          [
           13
          ],
          [
           13
          ],
          [
           13
          ],
          [
           13
          ],
          [
           13
          ],
          [
           13
          ],
          [
           13
          ],
          [
           13
          ],
          [
           13
          ],
          [
           13
          ],
          [
           13
          ],
          [
           13
          ],
          [
           13
          ],
          [
           13
          ],
          [
           13
          ],
          [
           13
          ],
          [
           13
          ],
          [
           13
          ],
          [
           13
          ],
          [
           13
          ],
          [
           13
          ],
          [
           13
          ],
          [
           13
          ],
          [
           13
          ],
          [
           13
          ],
          [
           13
          ],
          [
           13
          ],
          [
           14
          ],
          [
           14
          ],
          [
           14
          ],
          [
           14
          ],
          [
           14
          ],
          [
           14
          ],
          [
           14
          ],
          [
           14
          ],
          [
           14
          ],
          [
           14
          ],
          [
           14
          ],
          [
           14
          ],
          [
           14
          ],
          [
           14
          ],
          [
           14
          ],
          [
           14
          ],
          [
           14
          ],
          [
           12
          ],
          [
           12
          ],
          [
           12
          ],
          [
           12
          ],
          [
           12
          ],
          [
           12
          ],
          [
           12
          ],
          [
           12
          ],
          [
           12
          ],
          [
           12
          ],
          [
           12
          ],
          [
           12
          ],
          [
           12
          ],
          [
           12
          ],
          [
           12
          ],
          [
           12
          ],
          [
           12
          ],
          [
           12
          ],
          [
           12
          ],
          [
           12
          ],
          [
           12
          ],
          [
           12
          ],
          [
           12
          ],
          [
           12
          ],
          [
           12
          ],
          [
           12
          ],
          [
           12
          ],
          [
           12
          ],
          [
           12
          ],
          [
           12
          ],
          [
           12
          ],
          [
           12
          ],
          [
           12
          ],
          [
           12
          ],
          [
           12
          ],
          [
           12
          ],
          [
           12
          ],
          [
           12
          ],
          [
           12
          ],
          [
           12
          ],
          [
           12
          ],
          [
           12
          ],
          [
           12
          ],
          [
           12
          ],
          [
           12
          ],
          [
           12
          ],
          [
           12
          ],
          [
           12
          ],
          [
           12
          ],
          [
           12
          ],
          [
           12
          ],
          [
           12
          ],
          [
           12
          ],
          [
           0
          ],
          [
           0
          ],
          [
           0
          ],
          [
           0
          ],
          [
           18
          ],
          [
           18
          ],
          [
           18
          ],
          [
           18
          ],
          [
           18
          ],
          [
           18
          ],
          [
           18
          ],
          [
           18
          ],
          [
           18
          ],
          [
           18
          ],
          [
           18
          ],
          [
           18
          ],
          [
           18
          ],
          [
           18
          ],
          [
           18
          ],
          [
           18
          ],
          [
           18
          ],
          [
           18
          ],
          [
           18
          ],
          [
           18
          ],
          [
           18
          ],
          [
           18
          ],
          [
           19
          ],
          [
           19
          ],
          [
           19
          ],
          [
           19
          ],
          [
           19
          ],
          [
           19
          ],
          [
           19
          ],
          [
           19
          ],
          [
           19
          ],
          [
           19
          ],
          [
           19
          ],
          [
           19
          ],
          [
           19
          ],
          [
           19
          ],
          [
           19
          ],
          [
           19
          ],
          [
           19
          ],
          [
           19
          ],
          [
           19
          ],
          [
           19
          ],
          [
           19
          ],
          [
           19
          ],
          [
           19
          ],
          [
           19
          ],
          [
           19
          ],
          [
           19
          ],
          [
           19
          ],
          [
           19
          ],
          [
           19
          ],
          [
           0
          ],
          [
           0
          ],
          [
           0
          ],
          [
           0
          ],
          [
           0
          ]
         ],
         "hovertemplate": "color=2<br>X=%{x}<br>Y=%{y}<br>Z=%{z}<br>features=%{marker.size}<br>tIdx=%{customdata[0]}<extra></extra>",
         "legendgroup": "2",
         "marker": {
          "color": "blue",
          "line": {
           "width": 0
          },
          "size": [
           0.006103900261223316,
           0.005040679592639208,
           0.005735795944929123,
           0.008222003467381,
           0.005936990492045879,
           0.00951787456870079,
           0.005858083721250296,
           0.006983562838286161,
           0.007596733048558235,
           0.005831580143421888,
           0.007569702807813883,
           0.006400839425623417,
           0.006158338859677315,
           0.02297479473054409,
           0.005597574636340141,
           0.0058984109200537205,
           0.005269855726510286,
           0.0075301360338926315,
           0.010131224989891052,
           0.0444786474108696,
           0.005145299714058638,
           0.0062322053126990795,
           0.006626098416745663,
           0.005951473489403725,
           0.005372356623411179,
           0.010238498449325562,
           0.0052355010993778706,
           0.008756094612181187,
           0.00611095642670989,
           0.006599865388125181,
           0.013726669363677502,
           0.02515118382871151,
           0.021256597712635994,
           0.05211011692881584,
           0.01772000640630722,
           0.017057763412594795,
           0.014044548384845257,
           0.011421986855566502,
           0.005745399743318558,
           0.006361018400639296,
           0.005928296595811844,
           0.0060140276327729225,
           0.051606565713882446,
           0.023453565314412117,
           0.013719761744141579,
           0.006294870749115944,
           0.020925676450133324,
           0.028066402301192284,
           0.008506746962666512,
           0.02324407361447811,
           0.026191426441073418,
           0.022936703637242317,
           0.004135207273066044,
           0.0021282259840518236,
           0.011636516079306602,
           0.0055999611504375935,
           0.008882323279976845,
           0.006227081175893545,
           0.005447363015264273,
           0.005500575993210077,
           0.007596257608383894,
           0.007877211086452007,
           0.006640980951488018,
           0.005743630696088076,
           0.01976330205798149,
           0.005830700974911451,
           0.006283781956881285,
           0.022702014073729515,
           0.007054844871163368,
           0.01169776264578104,
           0.0057277134619653225,
           0.007560899015516043,
           0.005439423490315676,
           0.005887908861041069,
           0.00587861891835928,
           0.014603598043322563,
           0.005038425792008638,
           0.005446643102914095,
           0.005738543346524239,
           0.005652539432048798,
           0.0052039544098079205,
           0.005320804659277201,
           0.00517494510859251,
           0.006753795314580202,
           0.007974285632371902,
           0.007475260645151138,
           0.005518137477338314,
           0.005445706658065319,
           0.007353438995778561,
           0.010510442778468132,
           0.005542684346437454,
           0.005111685022711754,
           0.006659625563770533,
           0.005743906367570162,
           0.005461027380079031,
           0.0020689889788627625,
           0.008575860410928726,
           0.004596039652824402,
           0.05476187542080879,
           0.010840381495654583,
           0.0074974168092012405,
           0.0144431684166193,
           0.00724652549251914,
           0.023579059168696404,
           0.3309650421142578,
           0.0036128771025687456,
           0.01491533126682043,
           0.01211289782077074,
           0.010609534569084644,
           0.014910822734236717,
           0.011151529848575592,
           0.01685674488544464,
           0.02796991355717182,
           0.006013147532939911,
           0.017361639067530632,
           0.005668799392879009,
           0.006616803817451,
           0.006714445538818836,
           0.006630870513617992,
           0.006814062595367432,
           0.0060602352023124695,
           0.006982131395488977,
           0.00596705824136734,
           0.014784936793148518,
           0.0061566694639623165,
           0.007475655525922775,
           0.005469348281621933,
           0.00596418883651495,
           0.006964650470763445,
           0.007801872678101063,
           0.00681175896897912,
           0.007717789616435766,
           0.06179926544427872,
           0.007050811778753996,
           0.1964058130979538,
           0.0063587636686861515,
           0.007821356877684593,
           0.007068812847137451,
           0.007966459728777409,
           0.007168489042669535,
           0.008916768245398998,
           0.008537921123206615,
           0.0082319974899292,
           0.010360377840697765,
           0.003934991080313921,
           0.005786587949842215,
           0.031100479885935783,
           0.014712673611938953,
           0.02047591283917427,
           0.11294557899236679,
           0.4338519871234894,
           0.005011398810893297,
           0.009322687052190304,
           0.022589394822716713,
           0.006536233704537153,
           0.5969951152801514,
           0.0660184994339943,
           0.09098655730485916,
           0.014094370417296886,
           0.015128819271922112,
           0.01764804869890213,
           0.029585594311356544,
           0.022942164912819862,
           0.02722586691379547,
           0.02304399013519287,
           0.02998010814189911,
           0.03611685708165169,
           0.048410508781671524,
           0.010393504984676838,
           0.021330632269382477,
           0.059541862457990646,
           0.11089955270290375,
           0.010705294087529182,
           0.01478766929358244,
           0.011733552441000938,
           0.014344122260808945,
           0.011553285643458366,
           0.009900305420160294,
           0.011210789903998375,
           0.010728351771831512,
           0.011707859113812447,
           0.014053587801754475,
           0.013310298323631287,
           0.012360668741166592,
           0.007238962221890688,
           0.009412882849574089,
           0.006078498903661966,
           0.018367264419794083,
           0.005725053139030933,
           0.006255228538066149,
           0.0071281204000115395,
           0.01050571259111166,
           0.010726997628808022,
           0.006931878160685301,
           0.021129868924617767,
           0.00663816649466753,
           0.007610689383000135,
           0.0075211301445961,
           0.014536142349243164,
           0.008689476177096367,
           0.008925138972699642,
           0.03564130514860153,
           0.009868714027106762,
           0.05509817600250244,
           0.007056602742522955,
           0.005327196326106787,
           0.007186292205005884,
           0.009556612931191921,
           0.019711004570126534,
           0.006243001203984022,
           0.005981152877211571,
           0.006540331058204174,
           0.008417991921305656,
           0.005396054591983557,
           0.005518600344657898,
           0.00600285641849041,
           0.005493809934705496,
           0.005881720222532749,
           0.0054929726757109165,
           0.0077315825037658215,
           0.005349639803171158,
           0.007414520718157291,
           0.006234238855540752,
           0.006969302427023649,
           0.00663559976965189,
           0.008864077739417553,
           0.009176758117973804,
           0.00538962846621871,
           0.006106578279286623,
           0.007171222940087318,
           0.024536972865462303,
           0.005485375877469778,
           0.005209628958255053,
           0.006532460916787386,
           0.006884213071316481,
           0.007779974490404129,
           0.006398465484380722,
           0.011588115245103836,
           0.005842545535415411,
           0.003054241416975856,
           0.025529032573103905,
           0.024336084723472595,
           0.044260717928409576,
           0.016702622175216675,
           0.002852832432836294,
           0.01582639105618,
           0.0051544541493058205,
           0.12988604605197906,
           0.07445145398378372,
           0.05261669307947159,
           0.050310999155044556,
           0.001956087537109852,
           0.0020758076570928097,
           0.018567794933915138,
           0.13081830739974976,
           0.03928382694721222,
           0.7634924650192261,
           0.024979831650853157,
           0.02179398573935032,
           0.023892031982541084,
           0.02800174243748188,
           0.040879230946302414,
           0.07093711942434311,
           0.009388155303895473,
           0.008073662407696247,
           0.08404667675495148,
           0.025846188887953758,
           0.008557048626244068,
           0.03876738250255585,
           0.0700424537062645,
           0.009524857625365257,
           0.014326171018183231,
           0.009053615853190422,
           0.00902987364679575,
           0.009021684527397156,
           0.0039057754911482334,
           0.003395786741748452,
           0.007841064594686031,
           0.007164063397794962,
           0.00901690311729908,
           0.009877867996692657,
           0.009446265175938606,
           0.05083642154932022,
           0.013537307269871235,
           0.005011765286326408,
           0.0447612889111042,
           0.0022756566759198904,
           0.019883541390299797,
           0.03364744782447815,
           0.006534275133162737,
           0.007700819056481123,
           0.004929735790938139,
           0.06108711287379265,
           0.04826071858406067,
           0.0054886192083358765,
           0.007028387859463692,
           0.0031702762935310602,
           0.0065546790137887,
           0.04444790259003639,
           0.048781801015138626,
           0.006265538278967142,
           0.018124479800462723,
           0.013337849639356136,
           0.005616357084363699,
           0.006061005871742964,
           0.007103005889803171,
           0.0071066636592149734,
           0.06347721815109253,
           0.01264988537877798,
           0.009685227647423744,
           0.021571362391114235,
           0.009924978017807007,
           0.008983859792351723,
           0.005334554240107536,
           0.01318059116601944,
           0.03466004133224487,
           0.017498867586255074,
           0.009105308912694454,
           0.018397323787212372,
           0.013101739808917046,
           0.005833609029650688,
           0.006428217515349388,
           0.02749447338283062,
           0.012860734947025776,
           0.020875023677945137,
           0.005977234803140163,
           0.008846057578921318,
           0.010086928494274616,
           0.014691326767206192,
           0.022366203367710114,
           0.011023882776498795,
           0.008033289574086666,
           0.02135925553739071,
           0.015815982595086098,
           0.029122909530997276,
           0.05191775783896446,
           0.0071993921883404255,
           0.009333754889667034,
           0.007970391772687435,
           0.01105851773172617,
           0.006398702505975962,
           0.02590765245258808,
           0.04597301781177521,
           0.08736128360033035,
           0.03802603855729103,
           0.0636124312877655,
           0.007116629276424646,
           0.011449549347162247,
           0.03834390640258789,
           0.025612520053982735,
           0.04448160529136658,
           0.011097298003733158,
           0.012105435132980347,
           0.012142552062869072,
           0.0049948482774198055,
           0.005669396370649338,
           0.008716578595340252,
           0.004461873788386583,
           0.006128051318228245,
           0.009466014802455902,
           0.006256513297557831,
           0.1092594712972641,
           0.041875746101140976,
           0.022864751517772675,
           0.003419536165893078,
           0.005599176045507193,
           0.022239167243242264,
           0.012892725877463818,
           0.0068502286449074745,
           0.004866019822657108,
           0.07206989824771881,
           0.014216206967830658,
           0.010165873914957047,
           0.011596567928791046,
           0.011569707654416561,
           0.015230880118906498,
           0.006985702086240053,
           0.012699725106358528,
           0.006169395986944437,
           0.01822880655527115,
           0.02875041961669922,
           0.003788482630625367,
           0.009221017360687256,
           0.026571333408355713,
           0.00707901269197464,
           0.0021185618825256824,
           0.008227596990764141,
           0.019546065479516983,
           0.013564102351665497,
           0.024191129952669144,
           0.03671189025044441,
           0.009418277069926262,
           0.0064834896475076675,
           0.021092815324664116,
           0.011657655239105225,
           0.022781873121857643,
           0.003988584503531456,
           0.027904244139790535,
           0.028934434056282043,
           0.030731867998838425,
           0.008659768849611282,
           0.04507739469408989,
           0.008792721666395664,
           0.026558062061667442,
           0.023169398307800293,
           0.0321839340031147,
           0.005675849970430136,
           0.006303934846073389,
           0.06700412929058075,
           0.014316359534859657,
           0.008484484627842903,
           0.024625683203339577,
           0.01180249359458685,
           0.01909533143043518,
           0.015086461789906025,
           0.01911323517560959,
           0.009796812199056149,
           0.038973044604063034,
           0.011915666051208973,
           0.06515680998563766,
           0.05602104961872101,
           0.010438724420964718,
           0.016201520338654518,
           0.030075082555413246,
           0.008021929301321507,
           0.019008830189704895,
           0.006832403596490622,
           0.005192761775106192,
           0.005870218854397535,
           0.011612394824624062,
           0.007550081703811884,
           0.010420730337500572,
           0.006148612592369318,
           0.008105128072202206,
           0.0062673320062458515,
           0.006670421455055475,
           0.006609492935240269,
           0.006384687032550573,
           0.006232801359146833,
           0.006849733181297779,
           0.006971676833927631,
           0.00901859626173973,
           0.008811317384243011,
           0.006404111161828041,
           0.007501707877963781,
           0.014681500382721424,
           0.006896391976624727,
           0.0176515132188797,
           0.015621371567249298,
           0.023542087525129318,
           0.031952861696481705,
           0.07655087858438492,
           0.03966482728719711,
           0.3723113536834717,
           0.27311643958091736,
           0.06149047985672951,
           0.059046559035778046,
           0.057695452123880386,
           0.10269708931446075,
           0.016057545319199562,
           0.026130488142371178,
           0.012092686258256435,
           0.013577820733189583,
           0.010987186804413795,
           0.010596352629363537,
           0.014395970851182938,
           0.00932276900857687,
           0.021948665380477905,
           0.00939308013767004,
           0.017877081409096718,
           0.0198950357735157,
           0.011085287667810917,
           0.013404353521764278,
           0.012631264515221119,
           0.01136161107569933,
           0.014562582597136497,
           0.013231424614787102,
           0.02268632873892784,
           0.005549110006541014,
           0.026688985526561737,
           0.014139247126877308,
           0.037497181445360184,
           0.01367910671979189,
           0.006464730016887188,
           0.037346720695495605,
           0.01280571985989809,
           0.020534638315439224,
           0.014701765961945057,
           0.013008087873458862,
           0.0065107387490570545,
           0.010512248612940311,
           0.006623517256230116,
           0.007166381925344467,
           0.006585112772881985,
           0.0051337238401174545,
           0.00920150801539421,
           0.002541900612413883,
           0.022677816450595856,
           0.014246709644794464,
           0.014880860224366188,
           0.02848074771463871,
           0.010677142068743706,
           0.007753313984721899,
           0.03156987577676773,
           0.022565580904483795,
           0.11505825817584991,
           0.028538430109620094,
           0.07371177524328232,
           0.04185466468334198,
           0.02025957778096199,
           0.007183595094829798,
           0.0075045377016067505,
           0.010407094843685627,
           0.023666266351938248,
           0.02469400316476822,
           0.021658148616552353,
           0.0020461678504943848,
           0.04184671491384506,
           0.03217332437634468,
           0.03403712436556816,
           0.0034023558255285025,
           0.005979832261800766,
           0.011134707368910313,
           0.018538828939199448,
           0.026538904756307602,
           0.021748773753643036,
           0.006561570335179567,
           0.011721947230398655,
           0.015035909600555897,
           0.004852361511439085,
           0.016341915354132652,
           0.02181287668645382,
           0.006502273492515087,
           0.027556413784623146,
           0.03560106083750725,
           0.041035521775484085,
           0.04256802052259445,
           0.0658147856593132
          ],
          "sizemode": "area",
          "sizeref": 0.004145191311836243,
          "symbol": "circle"
         },
         "mode": "markers",
         "name": "2",
         "scene": "scene",
         "showlegend": true,
         "type": "scatter3d",
         "x": [
          -2152.39990234375,
          -2157.449951171875,
          -2162.5,
          -2167.550048828125,
          -2172.60009765625,
          -2177.64990234375,
          -2182.699951171875,
          -2187.75,
          -2192.800048828125,
          -2197.85009765625,
          -2202.89990234375,
          -2207.949951171875,
          -2213,
          -2218.050048828125,
          -2223.10009765625,
          -2228.14990234375,
          -2233.199951171875,
          -2238.25,
          -2243.300048828125,
          -2248.35009765625,
          -2253.39990234375,
          -2258.449951171875,
          -2263.5,
          -2268.550048828125,
          -2273.60009765625,
          -2278.64990234375,
          -2283.699951171875,
          -2288.75,
          -2293.800048828125,
          -2298.85009765625,
          -2303.89990234375,
          -2308.949951171875,
          -2314,
          -2319.050048828125,
          -2324.10009765625,
          -2329.14990234375,
          -2334.199951171875,
          -2339.25,
          -2344.300048828125,
          -2349.35009765625,
          -2334.199951171875,
          -2334.199951171875,
          -2334.199951171875,
          -2319.050048828125,
          -2324.10009765625,
          -2329.14990234375,
          -2314,
          -2339.25,
          -2339.25,
          -2324.10009765625,
          -2324.10009765625,
          -2324.10009765625,
          -2349.35009765625,
          -2324.10009765625,
          -2248.35009765625,
          -2152.39990234375,
          -2157.449951171875,
          -2162.5,
          -2167.550048828125,
          -2172.60009765625,
          -2177.64990234375,
          -2182.699951171875,
          -2187.75,
          -2192.800048828125,
          -2197.85009765625,
          -2202.89990234375,
          -2207.949951171875,
          -2213,
          -2218.050048828125,
          -2223.10009765625,
          -2228.14990234375,
          -2233.199951171875,
          -2238.25,
          -2243.300048828125,
          -2248.35009765625,
          -2253.39990234375,
          -2258.449951171875,
          -2263.5,
          -2268.550048828125,
          -2273.60009765625,
          -2278.64990234375,
          -2283.699951171875,
          -2288.75,
          -2293.800048828125,
          -2298.85009765625,
          -2303.89990234375,
          -2308.949951171875,
          -2314,
          -2319.050048828125,
          -2324.10009765625,
          -2329.14990234375,
          -2334.199951171875,
          -2339.25,
          -2344.300048828125,
          -2349.35009765625,
          -2334.199951171875,
          -2344.300048828125,
          -2344.300048828125,
          -2334.199951171875,
          -2308.949951171875,
          -2263.5,
          -2302.3466796875,
          -2253.39990234375,
          -2268.550048828125,
          -2298.85009765625,
          -2228.14990234375,
          -2152.39990234375,
          -2157.449951171875,
          -2162.5,
          -2167.550048828125,
          -2172.60009765625,
          -2177.64990234375,
          -2182.699951171875,
          -2152.39990234375,
          -2157.449951171875,
          -2162.5,
          -2167.550048828125,
          -2172.60009765625,
          -2177.64990234375,
          -2182.699951171875,
          -2187.75,
          -2192.800048828125,
          -2197.85009765625,
          -2202.89990234375,
          -2207.949951171875,
          -2213,
          -2218.050048828125,
          -2223.10009765625,
          -2228.14990234375,
          -2233.199951171875,
          -2238.25,
          -2243.300048828125,
          -2248.35009765625,
          -2253.39990234375,
          -2258.449951171875,
          -2263.5,
          -2268.550048828125,
          -2273.60009765625,
          -2278.64990234375,
          -2283.699951171875,
          -2288.75,
          -2293.800048828125,
          -2172.60009765625,
          -2278.64990234375,
          -2207.949951171875,
          -2278.64990234375,
          -2207.949951171875,
          -2298.85009765625,
          -2298.85009765625,
          -2293.800048828125,
          -2298.85009765625,
          -2334.199951171875,
          -2209.792236328125,
          -2209.792236328125,
          -2303.89990234375,
          -2298.85009765625,
          -2293.800048828125,
          -2288.75,
          -2303.89990234375,
          -2308.949951171875,
          -2314,
          -2319.050048828125,
          -2324.10009765625,
          -2329.14990234375,
          -2334.199951171875,
          -2339.25,
          -2344.300048828125,
          -2349.35009765625,
          -2258.449951171875,
          -2243.300048828125,
          -2238.25,
          -2233.199951171875,
          -2314,
          -2324.10009765625,
          -2303.89990234375,
          -2308.949951171875,
          -2314,
          -2319.050048828125,
          -2324.10009765625,
          -2329.14990234375,
          -2334.199951171875,
          -2339.25,
          -2344.300048828125,
          -2349.35009765625,
          -2253.39990234375,
          -2258.449951171875,
          -2263.5,
          -2268.550048828125,
          -2273.60009765625,
          -2278.64990234375,
          -2283.699951171875,
          -2288.75,
          -2293.800048828125,
          -2298.85009765625,
          -2303.89990234375,
          -2308.949951171875,
          -2314,
          -2319.050048828125,
          -2324.10009765625,
          -2329.14990234375,
          -2334.199951171875,
          -2329.14990234375,
          -2248.35009765625,
          -2253.39990234375,
          -2152.39990234375,
          -2157.449951171875,
          -2162.5,
          -2167.550048828125,
          -2172.60009765625,
          -2177.64990234375,
          -2182.699951171875,
          -2187.75,
          -2192.800048828125,
          -2197.85009765625,
          -2202.89990234375,
          -2207.949951171875,
          -2213,
          -2218.050048828125,
          -2223.10009765625,
          -2228.14990234375,
          -2233.199951171875,
          -2238.25,
          -2243.300048828125,
          -2248.35009765625,
          -2253.39990234375,
          -2258.449951171875,
          -2263.5,
          -2268.550048828125,
          -2273.60009765625,
          -2278.64990234375,
          -2283.699951171875,
          -2288.75,
          -2293.800048828125,
          -2298.85009765625,
          -2303.89990234375,
          -2308.949951171875,
          -2314,
          -2319.050048828125,
          -2324.10009765625,
          -2345.69677734375,
          -2339.25,
          -2324.10009765625,
          -2177.64990234375,
          -2334.199951171875,
          -2334.199951171875,
          -2334.199951171875,
          -2303.89990234375,
          -2324.10009765625,
          -2329.14990234375,
          -2324.10009765625,
          -2319.050048828125,
          -2319.050048828125,
          -2329.14990234375,
          -2319.050048828125,
          -2314,
          -2314,
          -2314,
          -2303.89990234375,
          -2324.10009765625,
          -2319.050048828125,
          -2314,
          -2308.949951171875,
          -2303.89990234375,
          -2213,
          -2278.64990234375,
          -2314,
          -2314,
          -2319.050048828125,
          -2314,
          -2308.949951171875,
          -2329.14990234375,
          -2334.199951171875,
          -2339.25,
          -2344.300048828125,
          -2349.35009765625,
          -2314,
          -2329.14990234375,
          -2329.14990234375,
          -2334.199951171875,
          -2339.25,
          -2344.300048828125,
          -2349.35009765625,
          -2283.699951171875,
          -2283.699951171875,
          -2192.800048828125,
          -2152.39990234375,
          -2152.39990234375,
          -2157.449951171875,
          -2162.5,
          -2167.550048828125,
          -2172.60009765625,
          -2202.89990234375,
          -2167.550048828125,
          -2172.60009765625,
          -2202.89990234375,
          -2187.75,
          -2207.949951171875,
          -2167.550048828125,
          -2182.699951171875,
          -2202.89990234375,
          -2182.699951171875,
          -2182.699951171875,
          -2187.75,
          -2192.800048828125,
          -2218.050048828125,
          -2197.85009765625,
          -2202.89990234375,
          -2202.89990234375,
          -2202.89990234375,
          -2202.89990234375,
          -2192.800048828125,
          -2197.85009765625,
          -2207.949951171875,
          -2213,
          -2218.050048828125,
          -2202.89990234375,
          -2213,
          -2223.10009765625,
          -2303.89990234375,
          -2283.699951171875,
          -2283.699951171875,
          -2228.14990234375,
          -2233.199951171875,
          -2228.14990234375,
          -2268.550048828125,
          -2293.800048828125,
          -2192.800048828125,
          -2207.949951171875,
          -2213,
          -2228.14990234375,
          -2177.64990234375,
          -2172.60009765625,
          -2218.050048828125,
          -2218.050048828125,
          -2157.449951171875,
          -2167.550048828125,
          -2167.550048828125,
          -2172.60009765625,
          -2177.64990234375,
          -2177.64990234375,
          -2218.050048828125,
          -2162.5,
          -2172.60009765625,
          -2177.64990234375,
          -2182.699951171875,
          -2187.75,
          -2197.85009765625,
          -2162.5,
          -2187.75,
          -2248.35009765625,
          -2228.14990234375,
          -2283.699951171875,
          -2192.800048828125,
          -2192.800048828125,
          -2334.199951171875,
          -2187.75,
          -2213,
          -2213,
          -2213,
          -2213,
          -2298.85009765625,
          -2192.800048828125,
          -2187.75,
          -2187.75,
          -2197.85009765625,
          -2172.60009765625,
          -2233.199951171875,
          -2192.800048828125,
          -2197.85009765625,
          -2202.89990234375,
          -2207.949951171875,
          -2213,
          -2213,
          -2213,
          -2228.14990234375,
          -2228.14990234375,
          -2258.449951171875,
          -2248.35009765625,
          -2207.949951171875,
          -2228.14990234375,
          -2243.300048828125,
          -2243.300048828125,
          -2213,
          -2213,
          -2187.75,
          -2182.699951171875,
          -2213,
          -2197.85009765625,
          -2213,
          -2213,
          -2207.949951171875,
          -2238.25,
          -2248.35009765625,
          -2223.10009765625,
          -2233.199951171875,
          -2233.199951171875,
          -2228.14990234375,
          -2207.949951171875,
          -2172.60009765625,
          -2192.800048828125,
          -2192.800048828125,
          -2192.800048828125,
          -2192.800048828125,
          -2182.699951171875,
          -2192.800048828125,
          -2177.64990234375,
          -2192.800048828125,
          -2248.35009765625,
          -2177.64990234375,
          -2182.699951171875,
          -2187.75,
          -2192.800048828125,
          -2197.85009765625,
          -2248.35009765625,
          -2187.75,
          -2283.699951171875,
          -2283.699951171875,
          -2192.800048828125,
          -2187.75,
          -2182.699951171875,
          -2182.699951171875,
          -2197.85009765625,
          -2197.85009765625,
          -2197.85009765625,
          -2207.949951171875,
          -2152.39990234375,
          -2157.449951171875,
          -2162.5,
          -2167.550048828125,
          -2172.60009765625,
          -2177.64990234375,
          -2182.699951171875,
          -2187.75,
          -2192.800048828125,
          -2197.85009765625,
          -2202.89990234375,
          -2207.949951171875,
          -2213,
          -2218.050048828125,
          -2223.10009765625,
          -2228.14990234375,
          -2233.199951171875,
          -2238.25,
          -2243.300048828125,
          -2248.35009765625,
          -2253.39990234375,
          -2258.449951171875,
          -2263.5,
          -2268.550048828125,
          -2273.60009765625,
          -2278.64990234375,
          -2283.699951171875,
          -2288.75,
          -2293.800048828125,
          -2303.89990234375,
          -2288.75,
          -2293.800048828125,
          -2298.85009765625,
          -2303.89990234375,
          -2283.699951171875,
          -2263.5,
          -2268.550048828125,
          -2273.60009765625,
          -2278.64990234375,
          -2283.699951171875,
          -2288.75,
          -2293.800048828125,
          -2298.85009765625,
          -2303.89990234375,
          -2308.949951171875,
          -2314,
          -2319.050048828125,
          -2324.10009765625,
          -2329.14990234375,
          -2334.199951171875,
          -2339.25,
          -2344.300048828125,
          -2349.35009765625,
          -791.6375732421875,
          -917.19775390625,
          -787.2208251953125,
          -808.6793212890625,
          -1824.3299560546875,
          -1828.703369140625,
          -1833.0767822265625,
          -1835.6268310546875,
          -1841.8236083984375,
          -1846.197021484375,
          -1850.570556640625,
          -1861.1407470703125,
          -1859.3173828125,
          -1857.493896484375,
          -1861.8673095703125,
          -1920.175048828125,
          -1870.6142578125,
          -1881.9111328125,
          -1938.7515869140625,
          -1874.9876708984375,
          -1892.4813232421875,
          -1837.4501953125,
          -1837.4501953125,
          -1836.7236328125,
          -1845.8267822265625,
          -1840.000244140625,
          -2140.530029296875,
          -2144.9033203125,
          -2149.27685546875,
          -2156.2001953125,
          -2160.57373046875,
          -2166.7705078125,
          -2198.111083984375,
          -2158.023681640625,
          -2160.57373046875,
          -2158.023681640625,
          -2154.376708984375,
          -2151.826904296875,
          -2176.243896484375,
          -2178.7939453125,
          -2156.2001953125,
          -2197.74072265625,
          -2197.74072265625,
          -2202.1142578125,
          -2234.181396484375,
          -2151.826904296875,
          -2151.826904296875,
          -2176.243896484375,
          -2180.617431640625,
          -2183.16748046875,
          -2193.737548828125,
          -2200.6611328125,
          -2184.99072265625,
          -2269.5390625,
          -2205.034423828125,
          -102,
          -102,
          -96.9000015258789,
          -96.9000015258789,
          -96.9000015258789
         ],
         "y": [
          -285.6000061035156,
          -290.70001220703125,
          -290.70001220703125,
          -290.70001220703125,
          -290.70001220703125,
          -290.70001220703125,
          -290.70001220703125,
          -290.70001220703125,
          -290.70001220703125,
          -290.70001220703125,
          -295.79998779296875,
          -295.79998779296875,
          -295.79998779296875,
          -295.79998779296875,
          -295.79998779296875,
          -295.79998779296875,
          -295.79998779296875,
          -295.79998779296875,
          -295.79998779296875,
          -300.8999938964844,
          -300.8999938964844,
          -300.8999938964844,
          -300.8999938964844,
          -300.8999938964844,
          -300.8999938964844,
          -300.8999938964844,
          -300.8999938964844,
          -300.8999938964844,
          -306,
          -306,
          -306,
          -306,
          -306,
          -306,
          -306,
          -306,
          -306,
          -311.1000061035156,
          -311.1000061035156,
          -311.1000061035156,
          -316.20001220703125,
          -295.79998779296875,
          -311.1000061035156,
          -306,
          -311.1000061035156,
          -311.1000061035156,
          -351.8999938964844,
          -311.1000061035156,
          -316.20001220703125,
          -316.20001220703125,
          -306,
          -306,
          -306,
          -300.8999938964844,
          -255,
          -209.10000610351562,
          -209.10000610351562,
          -209.10000610351562,
          -209.10000610351562,
          -209.10000610351562,
          -209.10000610351562,
          -209.10000610351562,
          -209.10000610351562,
          -209.10000610351562,
          -209.10000610351562,
          -214.1999969482422,
          -214.1999969482422,
          -214.1999969482422,
          -214.1999969482422,
          -214.1999969482422,
          -214.1999969482422,
          -214.1999969482422,
          -214.1999969482422,
          -214.1999969482422,
          -214.1999969482422,
          -214.1999969482422,
          -214.1999969482422,
          -214.1999969482422,
          -214.1999969482422,
          -214.1999969482422,
          -214.1999969482422,
          -214.1999969482422,
          -214.1999969482422,
          -214.1999969482422,
          -214.1999969482422,
          -214.1999969482422,
          -219.3000030517578,
          -219.3000030517578,
          -219.3000030517578,
          -219.3000030517578,
          -219.3000030517578,
          -219.3000030517578,
          -219.3000030517578,
          -219.3000030517578,
          -219.3000030517578,
          -163.1999969482422,
          -158.10000610351562,
          -158.10000610351562,
          -147.89999389648438,
          -326.3999938964844,
          -306,
          710.9183959960938,
          -66.30000305175781,
          -107.0999984741211,
          -244.8000030517578,
          -433.5,
          -443.70001220703125,
          -453.8999938964844,
          -453.8999938964844,
          -459,
          -464.1000061035156,
          -464.1000061035156,
          -469.20001220703125,
          -402.8999938964844,
          -402.8999938964844,
          -402.8999938964844,
          -408,
          -408,
          -408,
          -413.1000061035156,
          -413.1000061035156,
          -413.1000061035156,
          -413.1000061035156,
          -418.20001220703125,
          -418.20001220703125,
          -418.20001220703125,
          -423.29998779296875,
          -423.29998779296875,
          -423.29998779296875,
          -423.29998779296875,
          -428.3999938964844,
          -428.3999938964844,
          -428.3999938964844,
          -428.3999938964844,
          -433.5,
          -433.5,
          -433.5,
          -433.5,
          -433.5,
          -438.6000061035156,
          -438.6000061035156,
          -438.6000061035156,
          -530.4000244140625,
          -453.8999938964844,
          -535.5,
          -566.0999755859375,
          -515.0999755859375,
          -464.1000061035156,
          -438.6000061035156,
          -433.5,
          -438.6000061035156,
          -357,
          -739.9276123046875,
          -739.9276123046875,
          -459,
          -443.70001220703125,
          -428.3999938964844,
          -423.29998779296875,
          -438.6000061035156,
          -438.6000061035156,
          -438.6000061035156,
          -438.6000061035156,
          -438.6000061035156,
          -438.6000061035156,
          -433.5,
          -433.5,
          -433.5,
          -433.5,
          -438.6000061035156,
          -418.20001220703125,
          -418.20001220703125,
          -413.1000061035156,
          -357,
          -346.79998779296875,
          -443.70001220703125,
          -443.70001220703125,
          -443.70001220703125,
          -448.79998779296875,
          -448.79998779296875,
          -448.79998779296875,
          -448.79998779296875,
          -453.8999938964844,
          -453.8999938964844,
          -453.8999938964844,
          -433.5,
          -433.5,
          -433.5,
          -438.6000061035156,
          -438.6000061035156,
          -443.70001220703125,
          -443.70001220703125,
          -448.79998779296875,
          -448.79998779296875,
          -453.8999938964844,
          -453.8999938964844,
          -459,
          -459,
          -464.1000061035156,
          -469.20001220703125,
          -474.29998779296875,
          -479.3999938964844,
          -499.79998779296875,
          -428.3999938964844,
          -433.5,
          -392.70001220703125,
          -392.70001220703125,
          -397.79998779296875,
          -397.79998779296875,
          -397.79998779296875,
          -397.79998779296875,
          -397.79998779296875,
          -402.8999938964844,
          -402.8999938964844,
          -402.8999938964844,
          -402.8999938964844,
          -402.8999938964844,
          -408,
          -408,
          -408,
          -408,
          -413.1000061035156,
          -413.1000061035156,
          -413.1000061035156,
          -413.1000061035156,
          -413.1000061035156,
          -418.20001220703125,
          -418.20001220703125,
          -418.20001220703125,
          -418.20001220703125,
          -418.20001220703125,
          -423.29998779296875,
          -423.29998779296875,
          -423.29998779296875,
          -423.29998779296875,
          -428.3999938964844,
          -428.3999938964844,
          -428.3999938964844,
          -428.3999938964844,
          -428.3999938964844,
          -635.833984375,
          -402.8999938964844,
          -336.6000061035156,
          -346.79998779296875,
          -510,
          -515.0999755859375,
          -459,
          -402.8999938964844,
          -428.3999938964844,
          -433.5,
          -428.3999938964844,
          -428.3999938964844,
          -402.8999938964844,
          -453.8999938964844,
          -423.29998779296875,
          -413.1000061035156,
          -413.1000061035156,
          -413.1000061035156,
          -464.1000061035156,
          -433.5,
          -433.5,
          -433.5,
          -433.5,
          -438.6000061035156,
          -520.2000122070312,
          -504.8999938964844,
          -525.2999877929688,
          -520.2000122070312,
          -520.2000122070312,
          -535.5,
          -540.5999755859375,
          -428.3999938964844,
          -428.3999938964844,
          -428.3999938964844,
          -428.3999938964844,
          -428.3999938964844,
          -571.2000122070312,
          -581.4000244140625,
          -433.5,
          -433.5,
          -433.5,
          -433.5,
          -438.6000061035156,
          -428.3999938964844,
          -433.5,
          -402.8999938964844,
          -387.6000061035156,
          -387.6000061035156,
          -392.70001220703125,
          -392.70001220703125,
          -392.70001220703125,
          -397.79998779296875,
          -443.70001220703125,
          -392.70001220703125,
          -392.70001220703125,
          -397.79998779296875,
          -397.79998779296875,
          -402.8999938964844,
          -387.6000061035156,
          -392.70001220703125,
          -382.5,
          -392.70001220703125,
          -392.70001220703125,
          -392.70001220703125,
          -392.70001220703125,
          -392.70001220703125,
          -392.70001220703125,
          -392.70001220703125,
          -397.79998779296875,
          -397.79998779296875,
          -392.70001220703125,
          -397.79998779296875,
          -397.79998779296875,
          -408,
          -408,
          -408,
          -402.8999938964844,
          -397.79998779296875,
          -402.8999938964844,
          -413.1000061035156,
          -413.1000061035156,
          -413.1000061035156,
          -397.79998779296875,
          -402.8999938964844,
          -413.1000061035156,
          -413.1000061035156,
          -423.29998779296875,
          -402.8999938964844,
          -408,
          -408,
          -413.1000061035156,
          -392.70001220703125,
          -387.6000061035156,
          -402.8999938964844,
          -402.8999938964844,
          -372.29998779296875,
          -372.29998779296875,
          -392.70001220703125,
          -372.29998779296875,
          -377.3999938964844,
          -387.6000061035156,
          -387.6000061035156,
          -372.29998779296875,
          -377.3999938964844,
          -377.3999938964844,
          -377.3999938964844,
          -377.3999938964844,
          -387.6000061035156,
          -387.6000061035156,
          -377.3999938964844,
          -392.70001220703125,
          -372.29998779296875,
          -336.6000061035156,
          -402.8999938964844,
          -382.5,
          -433.5,
          -372.29998779296875,
          -377.3999938964844,
          -377.3999938964844,
          -377.3999938964844,
          -372.29998779296875,
          -392.70001220703125,
          -377.3999938964844,
          -382.5,
          -387.6000061035156,
          -382.5,
          -387.6000061035156,
          -408,
          -377.3999938964844,
          -382.5,
          -382.5,
          -382.5,
          -377.3999938964844,
          -372.29998779296875,
          -377.3999938964844,
          -413.1000061035156,
          -413.1000061035156,
          -382.5,
          -392.70001220703125,
          -387.6000061035156,
          -387.6000061035156,
          -387.6000061035156,
          -392.70001220703125,
          -382.5,
          -397.79998779296875,
          -382.5,
          -382.5,
          -382.5,
          -377.3999938964844,
          -372.29998779296875,
          -377.3999938964844,
          -382.5,
          -443.70001220703125,
          -428.3999938964844,
          -382.5,
          -392.70001220703125,
          -392.70001220703125,
          -372.29998779296875,
          -387.6000061035156,
          -377.3999938964844,
          -377.3999938964844,
          -372.29998779296875,
          -362.1000061035156,
          -357,
          -377.3999938964844,
          -402.8999938964844,
          -372.29998779296875,
          -413.1000061035156,
          -377.3999938964844,
          66.30000305175781,
          66.30000305175781,
          66.30000305175781,
          66.30000305175781,
          66.30000305175781,
          66.30000305175781,
          61.20000076293945,
          81.5999984741211,
          86.69999694824219,
          71.4000015258789,
          66.30000305175781,
          66.30000305175781,
          66.30000305175781,
          15.300000190734863,
          15.300000190734863,
          66.30000305175781,
          66.30000305175781,
          249.89999389648438,
          249.89999389648438,
          255,
          260.1000061035156,
          260.1000061035156,
          265.20001220703125,
          270.29998779296875,
          270.29998779296875,
          275.3999938964844,
          275.3999938964844,
          280.5,
          285.6000061035156,
          285.6000061035156,
          290.70001220703125,
          295.79998779296875,
          300.8999938964844,
          300.8999938964844,
          306,
          311.1000061035156,
          311.1000061035156,
          316.20001220703125,
          321.29998779296875,
          326.3999938964844,
          336.6000061035156,
          346.79998779296875,
          357,
          367.20001220703125,
          377.3999938964844,
          397.79998779296875,
          433.5,
          392.70001220703125,
          402.8999938964844,
          408,
          413.1000061035156,
          367.20001220703125,
          321.29998779296875,
          326.3999938964844,
          326.3999938964844,
          326.3999938964844,
          331.5,
          331.5,
          336.6000061035156,
          336.6000061035156,
          341.70001220703125,
          341.70001220703125,
          346.79998779296875,
          346.79998779296875,
          346.79998779296875,
          351.8999938964844,
          351.8999938964844,
          357,
          357,
          357,
          -2034.156494140625,
          -1955.8331298828125,
          -2036.70654296875,
          -2053.4736328125,
          1165.1678466796875,
          1167.69287109375,
          1170.2178955078125,
          1165.8011474609375,
          1175.267822265625,
          1177.7928466796875,
          1180.31787109375,
          1192.3095703125,
          1185.367919921875,
          1178.4261474609375,
          1180.951171875,
          1191.0592041015625,
          1186.0010986328125,
          1186.6343994140625,
          1148.78369140625,
          1188.526123046875,
          1198.6260986328125,
          1172.742919921875,
          1172.742919921875,
          1184.101318359375,
          1148.1341552734375,
          1168.326171875,
          617.493408203125,
          620.0183715820312,
          622.5433959960938,
          620.6516723632812,
          623.1766967773438,
          632.6433715820312,
          638.9599609375,
          627.5933837890625,
          623.1766967773438,
          627.5933837890625,
          613.7099609375,
          618.1266479492188,
          626.3349609375,
          621.918212890625,
          620.6516723632812,
          609.30126953125,
          609.30126953125,
          611.8262939453125,
          606.7843627929688,
          618.1266479492188,
          618.1266479492188,
          626.3349609375,
          628.8599243164062,
          624.4432373046875,
          636.4349365234375,
          634.543212890625,
          631.3849487304688,
          656.6430053710938,
          637.0682373046875,
          2152.39990234375,
          2157.449951171875,
          2162.5,
          2167.550048828125,
          2172.60009765625
         ],
         "z": [
          -637.5,
          -637.5,
          -637.5,
          -642.5999755859375,
          -642.5999755859375,
          -642.5999755859375,
          -642.5999755859375,
          -647.7000122070312,
          -647.7000122070312,
          -647.7000122070312,
          -652.7999877929688,
          -652.7999877929688,
          -652.7999877929688,
          -657.9000244140625,
          -657.9000244140625,
          -657.9000244140625,
          -663,
          -663,
          -663,
          -668.0999755859375,
          -668.0999755859375,
          -668.0999755859375,
          -668.0999755859375,
          -673.2000122070312,
          -673.2000122070312,
          -673.2000122070312,
          -678.2999877929688,
          -678.2999877929688,
          -678.2999877929688,
          -683.4000244140625,
          -683.4000244140625,
          -683.4000244140625,
          -688.5,
          -688.5,
          -688.5,
          -693.5999755859375,
          -693.5999755859375,
          -693.5999755859375,
          -693.5999755859375,
          -698.7000122070312,
          -693.5999755859375,
          -693.5999755859375,
          -693.5999755859375,
          -693.5999755859375,
          -688.5,
          -693.5999755859375,
          -647.7000122070312,
          -698.7000122070312,
          -693.5999755859375,
          -688.5,
          -693.5999755859375,
          -698.7000122070312,
          -749.7000122070312,
          -693.5999755859375,
          -652.7999877929688,
          -535.5,
          -535.5,
          -535.5,
          -540.5999755859375,
          -540.5999755859375,
          -540.5999755859375,
          -540.5999755859375,
          -545.7000122070312,
          -545.7000122070312,
          -545.7000122070312,
          -545.7000122070312,
          -550.7999877929688,
          -550.7999877929688,
          -550.7999877929688,
          -550.7999877929688,
          -555.9000244140625,
          -555.9000244140625,
          -555.9000244140625,
          -561,
          -561,
          -561,
          -561,
          -566.0999755859375,
          -566.0999755859375,
          -566.0999755859375,
          -566.0999755859375,
          -571.2000122070312,
          -571.2000122070312,
          -571.2000122070312,
          -576.2999877929688,
          -576.2999877929688,
          -576.2999877929688,
          -576.2999877929688,
          -581.4000244140625,
          -581.4000244140625,
          -581.4000244140625,
          -581.4000244140625,
          -586.5,
          -586.5,
          -586.5,
          -617.0999755859375,
          -622.2000122070312,
          -627.2999877929688,
          -698.7000122070312,
          -856.7999877929688,
          -591.5999755859375,
          -907.7999877929688,
          -663,
          -698.7000122070312,
          -861.9000244140625,
          -770.0999755859375,
          -872.0999755859375,
          -882.2999877929688,
          -887.4000244140625,
          -887.4000244140625,
          -892.5,
          -897.5999755859375,
          -902.7000122070312,
          -795.5999755859375,
          -800.7000122070312,
          -800.7000122070312,
          -805.7999877929688,
          -810.9000244140625,
          -810.9000244140625,
          -816,
          -816,
          -821.0999755859375,
          -821.0999755859375,
          -826.2000122070312,
          -826.2000122070312,
          -831.2999877929688,
          -831.2999877929688,
          -836.4000244140625,
          -836.4000244140625,
          -841.5,
          -841.5,
          -846.5999755859375,
          -846.5999755859375,
          -851.7000122070312,
          -856.7999877929688,
          -856.7999877929688,
          -861.9000244140625,
          -867,
          -867,
          -872.0999755859375,
          -877.2000122070312,
          -877.2000122070312,
          -790.5,
          -938.4000244140625,
          -979.2000122070312,
          -969,
          -1091.4000244140625,
          -867,
          -861.9000244140625,
          -882.2999877929688,
          -882.2999877929688,
          -918,
          -1060.800048828125,
          -1055.699951171875,
          -928.2000122070312,
          -882.2999877929688,
          -872.0999755859375,
          -861.9000244140625,
          -892.5,
          -892.5,
          -897.5999755859375,
          -902.7000122070312,
          -902.7000122070312,
          -907.7999877929688,
          -912.9000244140625,
          -912.9000244140625,
          -918,
          -923.0999755859375,
          -856.7999877929688,
          -851.7000122070312,
          -867,
          -861.9000244140625,
          -1116.9000244140625,
          -1071,
          -887.4000244140625,
          -887.4000244140625,
          -892.5,
          -892.5,
          -897.5999755859375,
          -897.5999755859375,
          -902.7000122070312,
          -902.7000122070312,
          -907.7999877929688,
          -907.7999877929688,
          -846.5999755859375,
          -846.5999755859375,
          -846.5999755859375,
          -846.5999755859375,
          -841.5,
          -841.5,
          -841.5,
          -841.5,
          -841.5,
          -841.5,
          -841.5,
          -836.4000244140625,
          -836.4000244140625,
          -836.4000244140625,
          -836.4000244140625,
          -836.4000244140625,
          -836.4000244140625,
          -897.5999755859375,
          -851.7000122070312,
          -851.7000122070312,
          -785.4000244140625,
          -785.4000244140625,
          -785.4000244140625,
          -790.5,
          -790.5,
          -790.5,
          -795.5999755859375,
          -795.5999755859375,
          -795.5999755859375,
          -800.7000122070312,
          -800.7000122070312,
          -800.7000122070312,
          -805.7999877929688,
          -805.7999877929688,
          -805.7999877929688,
          -810.9000244140625,
          -810.9000244140625,
          -810.9000244140625,
          -816,
          -816,
          -816,
          -821.0999755859375,
          -821.0999755859375,
          -821.0999755859375,
          -826.2000122070312,
          -826.2000122070312,
          -826.2000122070312,
          -831.2999877929688,
          -831.2999877929688,
          -831.2999877929688,
          -831.2999877929688,
          -836.4000244140625,
          -836.4000244140625,
          -836.4000244140625,
          -841.5,
          -831.2999877929688,
          -851.7000122070312,
          -933.2999877929688,
          -933.2999877929688,
          -877.2000122070312,
          -877.2000122070312,
          -841.5,
          -805.7999877929688,
          -846.5999755859375,
          -836.4000244140625,
          -826.2000122070312,
          -810.9000244140625,
          -816,
          -831.2999877929688,
          -851.7000122070312,
          -872.0999755859375,
          -877.2000122070312,
          -882.2999877929688,
          -821.0999755859375,
          -841.5,
          -841.5,
          -846.5999755859375,
          -846.5999755859375,
          -846.5999755859375,
          -943.5,
          -846.5999755859375,
          -872.0999755859375,
          -872.0999755859375,
          -867,
          -867,
          -867,
          -841.5,
          -836.4000244140625,
          -836.4000244140625,
          -831.2999877929688,
          -831.2999877929688,
          -1050.5999755859375,
          -1035.300048828125,
          -841.5,
          -841.5,
          -836.4000244140625,
          -836.4000244140625,
          -836.4000244140625,
          -821.0999755859375,
          -821.0999755859375,
          -800.7000122070312,
          -795.5999755859375,
          -790.5,
          -795.5999755859375,
          -800.7000122070312,
          -805.7999877929688,
          -810.9000244140625,
          -785.4000244140625,
          -800.7000122070312,
          -805.7999877929688,
          -795.5999755859375,
          -816,
          -826.2000122070312,
          -805.7999877929688,
          -810.9000244140625,
          -810.9000244140625,
          -816,
          -805.7999877929688,
          -810.9000244140625,
          -810.9000244140625,
          -816,
          -816,
          -816,
          -821.0999755859375,
          -816,
          -821.0999755859375,
          -816,
          -821.0999755859375,
          -826.2000122070312,
          -826.2000122070312,
          -826.2000122070312,
          -821.0999755859375,
          -826.2000122070312,
          -831.2999877929688,
          -902.7000122070312,
          -882.2999877929688,
          -877.2000122070312,
          -831.2999877929688,
          -836.4000244140625,
          -861.9000244140625,
          -861.9000244140625,
          -846.5999755859375,
          -816,
          -821.0999755859375,
          -821.0999755859375,
          -821.0999755859375,
          -810.9000244140625,
          -805.7999877929688,
          -826.2000122070312,
          -821.0999755859375,
          -790.5,
          -795.5999755859375,
          -790.5,
          -795.5999755859375,
          -790.5,
          -790.5,
          -805.7999877929688,
          -795.5999755859375,
          -795.5999755859375,
          -800.7000122070312,
          -800.7000122070312,
          -805.7999877929688,
          -800.7000122070312,
          -816,
          -800.7000122070312,
          -765,
          -816,
          -795.5999755859375,
          -851.7000122070312,
          -810.9000244140625,
          -816,
          -805.7999877929688,
          -826.2000122070312,
          -831.2999877929688,
          -836.4000244140625,
          -836.4000244140625,
          -923.0999755859375,
          -805.7999877929688,
          -800.7000122070312,
          -800.7000122070312,
          -805.7999877929688,
          -821.0999755859375,
          -892.5,
          -810.9000244140625,
          -810.9000244140625,
          -816,
          -816,
          -816,
          -821.0999755859375,
          -821.0999755859375,
          -795.5999755859375,
          -790.5,
          -856.7999877929688,
          -851.7000122070312,
          -821.0999755859375,
          -821.0999755859375,
          -846.5999755859375,
          -846.5999755859375,
          -810.9000244140625,
          -816,
          -805.7999877929688,
          -770.0999755859375,
          -816,
          -805.7999877929688,
          -816,
          -810.9000244140625,
          -810.9000244140625,
          -877.2000122070312,
          -826.2000122070312,
          -821.0999755859375,
          -836.4000244140625,
          -841.5,
          -826.2000122070312,
          -800.7000122070312,
          -800.7000122070312,
          -800.7000122070312,
          -800.7000122070312,
          -800.7000122070312,
          -795.5999755859375,
          -805.7999877929688,
          -821.0999755859375,
          -805.7999877929688,
          -816,
          -851.7000122070312,
          -1193.4000244140625,
          -1193.4000244140625,
          -1198.5,
          -1203.5999755859375,
          -1203.5999755859375,
          -1229.0999755859375,
          -1285.199951171875,
          -1275,
          -1280.0999755859375,
          -1203.5999755859375,
          -1193.4000244140625,
          -1198.5,
          -1203.5999755859375,
          -1234.199951171875,
          -1229.0999755859375,
          -1208.699951171875,
          -1218.9000244140625,
          -576.2999877929688,
          -581.4000244140625,
          -581.4000244140625,
          -586.5,
          -586.5,
          -586.5,
          -591.5999755859375,
          -591.5999755859375,
          -596.7000122070312,
          -596.7000122070312,
          -596.7000122070312,
          -601.7999877929688,
          -601.7999877929688,
          -606.9000244140625,
          -606.9000244140625,
          -612,
          -612,
          -612,
          -617.0999755859375,
          -617.0999755859375,
          -622.2000122070312,
          -622.2000122070312,
          -612,
          -596.7000122070312,
          -586.5,
          -566.0999755859375,
          -545.7000122070312,
          -525.2999877929688,
          -484.5,
          -459,
          -484.5,
          -484.5,
          -464.1000061035156,
          -448.79998779296875,
          -550.7999877929688,
          -627.2999877929688,
          -632.4000244140625,
          -642.5999755859375,
          -647.7000122070312,
          -652.7999877929688,
          -657.9000244140625,
          -663,
          -668.0999755859375,
          -673.2000122070312,
          -683.4000244140625,
          -688.5,
          -693.5999755859375,
          -698.7000122070312,
          -703.7999877929688,
          -708.9000244140625,
          -714,
          -724.2000122070312,
          -729.2999877929688,
          785.4000244140625,
          856.7999877929688,
          785.4000244140625,
          810.9000244140625,
          -979.2000122070312,
          -984.2999877929688,
          -984.2999877929688,
          -984.2999877929688,
          -989.4000244140625,
          -994.5,
          -994.5,
          -999.5999755859375,
          -999.5999755859375,
          -999.5999755859375,
          -999.5999755859375,
          -1020,
          -1004.7000122070312,
          -1014.9000244140625,
          -1065.9000244140625,
          -1014.9000244140625,
          -1025.0999755859375,
          -984.2999877929688,
          -989.4000244140625,
          -989.4000244140625,
          -994.5,
          -989.4000244140625,
          -708.9000244140625,
          -714,
          -714,
          -714,
          -719.0999755859375,
          -719.0999755859375,
          -729.2999877929688,
          -719.0999755859375,
          -714,
          -714,
          -714,
          -714,
          -724.2000122070312,
          -719.0999755859375,
          -708.9000244140625,
          -724.2000122070312,
          -729.2999877929688,
          -719.0999755859375,
          -714,
          -719.0999755859375,
          -708.9000244140625,
          -719.0999755859375,
          -719.0999755859375,
          -724.2000122070312,
          -714,
          -724.2000122070312,
          -724.2000122070312,
          -739.5,
          -729.2999877929688,
          1795.199951171875,
          1800.300048828125,
          1805.4000244140625,
          1810.5,
          1815.5999755859375
         ]
        },
        {
         "customdata": [
          [
           2
          ],
          [
           2
          ],
          [
           2
          ],
          [
           2
          ],
          [
           2
          ],
          [
           2
          ],
          [
           2
          ],
          [
           2
          ],
          [
           2
          ],
          [
           2
          ],
          [
           2
          ],
          [
           2
          ],
          [
           2
          ],
          [
           2
          ],
          [
           2
          ],
          [
           2
          ],
          [
           2
          ],
          [
           2
          ],
          [
           2
          ],
          [
           2
          ],
          [
           2
          ],
          [
           2
          ],
          [
           2
          ],
          [
           2
          ],
          [
           2
          ],
          [
           2
          ],
          [
           2
          ],
          [
           2
          ],
          [
           2
          ],
          [
           2
          ],
          [
           2
          ],
          [
           2
          ],
          [
           2
          ],
          [
           2
          ],
          [
           2
          ],
          [
           2
          ],
          [
           2
          ],
          [
           2
          ],
          [
           2
          ],
          [
           2
          ],
          [
           2
          ],
          [
           2
          ],
          [
           2
          ],
          [
           2
          ],
          [
           2
          ],
          [
           2
          ],
          [
           2
          ],
          [
           2
          ],
          [
           2
          ],
          [
           2
          ],
          [
           2
          ],
          [
           2
          ],
          [
           2
          ],
          [
           2
          ],
          [
           2
          ],
          [
           2
          ],
          [
           2
          ],
          [
           2
          ],
          [
           2
          ],
          [
           2
          ],
          [
           2
          ],
          [
           2
          ],
          [
           2
          ],
          [
           2
          ],
          [
           2
          ],
          [
           2
          ],
          [
           2
          ],
          [
           2
          ],
          [
           2
          ],
          [
           2
          ],
          [
           2
          ],
          [
           2
          ],
          [
           2
          ],
          [
           2
          ],
          [
           2
          ],
          [
           2
          ],
          [
           2
          ],
          [
           2
          ],
          [
           2
          ],
          [
           2
          ],
          [
           2
          ],
          [
           2
          ],
          [
           2
          ],
          [
           2
          ],
          [
           2
          ],
          [
           2
          ],
          [
           2
          ],
          [
           2
          ],
          [
           2
          ],
          [
           2
          ],
          [
           2
          ],
          [
           2
          ],
          [
           2
          ],
          [
           2
          ],
          [
           2
          ],
          [
           2
          ],
          [
           2
          ],
          [
           2
          ],
          [
           2
          ],
          [
           2
          ],
          [
           2
          ],
          [
           2
          ],
          [
           2
          ],
          [
           2
          ],
          [
           2
          ],
          [
           2
          ],
          [
           2
          ],
          [
           2
          ],
          [
           2
          ],
          [
           2
          ],
          [
           2
          ],
          [
           2
          ],
          [
           2
          ],
          [
           2
          ],
          [
           2
          ],
          [
           2
          ],
          [
           2
          ],
          [
           2
          ],
          [
           2
          ],
          [
           2
          ],
          [
           2
          ],
          [
           2
          ],
          [
           2
          ],
          [
           2
          ],
          [
           2
          ],
          [
           2
          ],
          [
           2
          ],
          [
           2
          ],
          [
           2
          ],
          [
           2
          ],
          [
           2
          ],
          [
           2
          ],
          [
           2
          ],
          [
           2
          ],
          [
           2
          ],
          [
           2
          ],
          [
           2
          ],
          [
           2
          ],
          [
           2
          ],
          [
           2
          ],
          [
           2
          ],
          [
           2
          ],
          [
           2
          ],
          [
           2
          ],
          [
           2
          ],
          [
           2
          ],
          [
           2
          ],
          [
           2
          ],
          [
           2
          ],
          [
           2
          ],
          [
           2
          ],
          [
           2
          ],
          [
           2
          ],
          [
           2
          ],
          [
           2
          ],
          [
           2
          ],
          [
           2
          ],
          [
           2
          ],
          [
           2
          ],
          [
           2
          ],
          [
           2
          ],
          [
           2
          ],
          [
           2
          ],
          [
           2
          ],
          [
           2
          ],
          [
           2
          ],
          [
           2
          ],
          [
           2
          ],
          [
           2
          ],
          [
           2
          ],
          [
           2
          ],
          [
           2
          ],
          [
           2
          ],
          [
           2
          ],
          [
           2
          ],
          [
           2
          ],
          [
           2
          ],
          [
           2
          ],
          [
           2
          ],
          [
           2
          ],
          [
           2
          ],
          [
           2
          ],
          [
           2
          ],
          [
           2
          ],
          [
           2
          ],
          [
           2
          ],
          [
           2
          ],
          [
           2
          ],
          [
           2
          ],
          [
           2
          ],
          [
           2
          ],
          [
           2
          ],
          [
           2
          ],
          [
           2
          ],
          [
           2
          ],
          [
           2
          ],
          [
           2
          ],
          [
           2
          ],
          [
           2
          ],
          [
           2
          ],
          [
           2
          ],
          [
           2
          ],
          [
           2
          ],
          [
           2
          ],
          [
           2
          ],
          [
           2
          ],
          [
           2
          ],
          [
           2
          ],
          [
           2
          ],
          [
           2
          ],
          [
           2
          ],
          [
           2
          ],
          [
           2
          ],
          [
           2
          ],
          [
           2
          ],
          [
           2
          ],
          [
           2
          ],
          [
           2
          ],
          [
           2
          ],
          [
           2
          ],
          [
           2
          ],
          [
           2
          ],
          [
           2
          ],
          [
           2
          ],
          [
           2
          ],
          [
           2
          ],
          [
           2
          ],
          [
           2
          ],
          [
           2
          ],
          [
           2
          ],
          [
           2
          ],
          [
           2
          ],
          [
           2
          ],
          [
           2
          ],
          [
           2
          ],
          [
           2
          ],
          [
           2
          ],
          [
           2
          ],
          [
           2
          ],
          [
           2
          ],
          [
           2
          ],
          [
           2
          ],
          [
           2
          ],
          [
           2
          ],
          [
           2
          ],
          [
           2
          ],
          [
           2
          ],
          [
           2
          ],
          [
           2
          ],
          [
           2
          ],
          [
           2
          ],
          [
           15
          ],
          [
           15
          ],
          [
           15
          ],
          [
           15
          ],
          [
           15
          ],
          [
           15
          ],
          [
           15
          ],
          [
           15
          ],
          [
           15
          ],
          [
           15
          ],
          [
           15
          ],
          [
           15
          ],
          [
           15
          ],
          [
           15
          ],
          [
           15
          ],
          [
           15
          ],
          [
           15
          ],
          [
           15
          ],
          [
           15
          ],
          [
           15
          ],
          [
           15
          ],
          [
           15
          ],
          [
           15
          ],
          [
           15
          ],
          [
           15
          ],
          [
           15
          ],
          [
           15
          ],
          [
           15
          ],
          [
           15
          ],
          [
           15
          ],
          [
           15
          ],
          [
           15
          ],
          [
           15
          ],
          [
           15
          ],
          [
           15
          ],
          [
           15
          ],
          [
           15
          ],
          [
           15
          ],
          [
           15
          ],
          [
           15
          ],
          [
           15
          ],
          [
           15
          ],
          [
           15
          ],
          [
           15
          ],
          [
           15
          ],
          [
           15
          ],
          [
           15
          ],
          [
           15
          ],
          [
           15
          ],
          [
           15
          ],
          [
           15
          ],
          [
           15
          ],
          [
           15
          ],
          [
           15
          ],
          [
           15
          ],
          [
           15
          ],
          [
           15
          ],
          [
           15
          ],
          [
           15
          ],
          [
           15
          ],
          [
           15
          ],
          [
           15
          ],
          [
           15
          ],
          [
           15
          ],
          [
           15
          ],
          [
           15
          ],
          [
           15
          ],
          [
           15
          ],
          [
           15
          ],
          [
           15
          ],
          [
           15
          ],
          [
           15
          ],
          [
           15
          ],
          [
           15
          ],
          [
           15
          ],
          [
           15
          ],
          [
           15
          ],
          [
           15
          ],
          [
           15
          ],
          [
           15
          ],
          [
           15
          ],
          [
           15
          ],
          [
           15
          ],
          [
           15
          ],
          [
           15
          ],
          [
           15
          ],
          [
           15
          ],
          [
           15
          ],
          [
           15
          ],
          [
           15
          ],
          [
           15
          ],
          [
           15
          ],
          [
           15
          ],
          [
           15
          ],
          [
           15
          ],
          [
           15
          ],
          [
           15
          ],
          [
           15
          ],
          [
           15
          ],
          [
           15
          ],
          [
           15
          ],
          [
           15
          ],
          [
           15
          ],
          [
           15
          ],
          [
           15
          ],
          [
           15
          ],
          [
           15
          ],
          [
           15
          ],
          [
           15
          ],
          [
           15
          ],
          [
           15
          ],
          [
           15
          ],
          [
           15
          ],
          [
           15
          ],
          [
           15
          ],
          [
           15
          ],
          [
           15
          ],
          [
           15
          ],
          [
           15
          ],
          [
           15
          ],
          [
           15
          ],
          [
           15
          ],
          [
           15
          ],
          [
           15
          ],
          [
           15
          ],
          [
           15
          ],
          [
           15
          ],
          [
           15
          ],
          [
           15
          ],
          [
           15
          ],
          [
           15
          ],
          [
           15
          ],
          [
           15
          ],
          [
           15
          ],
          [
           15
          ],
          [
           15
          ],
          [
           15
          ],
          [
           0
          ],
          [
           0
          ],
          [
           23
          ],
          [
           23
          ],
          [
           23
          ],
          [
           23
          ],
          [
           23
          ],
          [
           23
          ],
          [
           23
          ],
          [
           23
          ],
          [
           22
          ],
          [
           22
          ],
          [
           22
          ],
          [
           22
          ],
          [
           22
          ],
          [
           22
          ],
          [
           22
          ],
          [
           22
          ],
          [
           22
          ],
          [
           22
          ],
          [
           22
          ],
          [
           22
          ],
          [
           22
          ],
          [
           22
          ],
          [
           22
          ],
          [
           22
          ],
          [
           22
          ],
          [
           22
          ],
          [
           22
          ],
          [
           12
          ],
          [
           12
          ],
          [
           12
          ],
          [
           12
          ],
          [
           12
          ],
          [
           12
          ],
          [
           12
          ],
          [
           12
          ],
          [
           12
          ],
          [
           12
          ],
          [
           12
          ],
          [
           12
          ],
          [
           22
          ],
          [
           22
          ],
          [
           22
          ],
          [
           15
          ],
          [
           15
          ],
          [
           15
          ],
          [
           15
          ],
          [
           15
          ],
          [
           15
          ],
          [
           15
          ],
          [
           15
          ],
          [
           15
          ],
          [
           2
          ],
          [
           2
          ],
          [
           2
          ],
          [
           2
          ],
          [
           2
          ],
          [
           2
          ],
          [
           2
          ],
          [
           2
          ],
          [
           2
          ],
          [
           2
          ],
          [
           2
          ],
          [
           2
          ],
          [
           2
          ],
          [
           2
          ],
          [
           2
          ],
          [
           2
          ],
          [
           2
          ],
          [
           2
          ],
          [
           2
          ],
          [
           2
          ],
          [
           2
          ],
          [
           2
          ],
          [
           2
          ],
          [
           2
          ],
          [
           2
          ],
          [
           2
          ],
          [
           2
          ],
          [
           2
          ],
          [
           2
          ],
          [
           2
          ],
          [
           2
          ],
          [
           2
          ],
          [
           2
          ]
         ],
         "hovertemplate": "color=3<br>X=%{x}<br>Y=%{y}<br>Z=%{z}<br>features=%{marker.size}<br>tIdx=%{customdata[0]}<extra></extra>",
         "legendgroup": "3",
         "marker": {
          "color": "green",
          "line": {
           "width": 0
          },
          "size": [
           0.029362179338932037,
           0.02016696333885193,
           0.021772446110844612,
           0.022323409095406532,
           0.023990517482161522,
           0.02105007693171501,
           0.02400636486709118,
           0.046872563660144806,
           0.02295524626970291,
           0.025599844753742218,
           0.02107059769332409,
           0.03135664016008377,
           0.029346823692321777,
           0.08921535313129425,
           0.03570367023348808,
           0.022756244987249374,
           0.020651977509260178,
           0.025904381647706032,
           0.03067283146083355,
           0.26861947774887085,
           0.1680293083190918,
           0.12714359164237976,
           0.1042448952794075,
           0.16966618597507477,
           0.1045728549361229,
           0.03557629883289337,
           0.01837271824479103,
           0.09050913155078888,
           0.16600939631462097,
           0.12384264171123505,
           0.017956169322133064,
           0.05062154680490494,
           0.05405240133404732,
           0.061762817203998566,
           0.01498421560972929,
           0.09489801526069641,
           0.06790217012166977,
           0.05118022859096527,
           0.025531494989991188,
           0.027093689888715744,
           0.03755321726202965,
           0.03147970512509346,
           0.02946855127811432,
           0.13363415002822876,
           0.10549401491880417,
           0.12280997633934021,
           0.030432557687163353,
           0.07661797106266022,
           0.03387318551540375,
           0.01540678832679987,
           0.05657027289271355,
           0.15273278951644897,
           0.08999427407979965,
           0.02061242237687111,
           0.023192035034298897,
           0.04297899082303047,
           0.2845243811607361,
           0.02053796872496605,
           0.030648017302155495,
           0.06662090867757797,
           0.015721654519438744,
           0.6367629170417786,
           0.016348673030734062,
           0.0315360352396965,
           0.04980422556400299,
           0.050241149961948395,
           0.02979648858308792,
           0.017620962113142014,
           0.19758537411689758,
           0.020275743678212166,
           0.027250483632087708,
           0.02289755269885063,
           0.17945405840873718,
           0.017161782830953598,
           0.05881255492568016,
           0.6616764664649963,
           0.1551494598388672,
           0.031559888273477554,
           0.6122762560844421,
           0.3159502446651459,
           1.2339757680892944,
           0.06896711885929108,
           0.3829710781574249,
           0.12719972431659698,
           0.1520068496465683,
           0.015010842122137547,
           0.06005468592047691,
           0.05028250813484192,
           0.060613516718149185,
           0.029259301722049713,
           0.0643024817109108,
           0.1261979192495346,
           0.22758658230304718,
           0.039745546877384186,
           0.028829555958509445,
           0.13238291442394257,
           0.12180387228727341,
           0.041130829602479935,
           0.1251007616519928,
           0.041899845004081726,
           1.0677545070648193,
           0.8612387180328369,
           0.020868733525276184,
           0.05636421591043472,
           0.02680680900812149,
           0.03359337896108627,
           0.036997079849243164,
           0.017392689362168312,
           0.04375143721699715,
           0.07236295193433762,
           0.10271332412958145,
           0.17318439483642578,
           0.12432552874088287,
           0.01242684293538332,
           0.05979539826512337,
           0.055072635412216187,
           0.022421110421419144,
           0.027738334611058235,
           0.0221681110560894,
           0.15054655075073242,
           0.08204711973667145,
           0.03981072083115578,
           0.03141659125685692,
           0.09148602932691574,
           0.021097546443343163,
           0.06891075521707535,
           0.03632304072380066,
           0.132391095161438,
           0.022959910333156586,
           0.024523478001356125,
           0.5176533460617065,
           0.06280963122844696,
           0.11300381273031235,
           0.034214526414871216,
           0.04496880620718002,
           0.2737691104412079,
           0.10262662172317505,
           0.035450514405965805,
           0.06136363372206688,
           0.06255952268838882,
           0.0650295615196228,
           0.015018495731055737,
           0.04870352894067764,
           0.08887146413326263,
           0.05607549101114273,
           0.026584036648273468,
           0.027850281447172165,
           0.01554846577346325,
           0.04687749221920967,
           0.0469803586602211,
           0.06574025750160217,
           0.05975329875946045,
           0.01993955858051777,
           0.11745475977659225,
           0.012171619571745396,
           0.059707172214984894,
           0.04517955332994461,
           0.1299353688955307,
           0.10744592547416687,
           0.01683495007455349,
           0.022103730589151382,
           0.0756656602025032,
           0.05081469193100929,
           0.21094825863838196,
           0.05851683020591736,
           0.06217711418867111,
           0.025943368673324585,
           0.014321558177471161,
           0.02408210001885891,
           0.022164974361658096,
           0.01760864071547985,
           0.02380264736711979,
           0.020083047449588776,
           0.37009039521217346,
           0.2341637760400772,
           0.09808483719825745,
           0.03535008430480957,
           0.043035078793764114,
           0.1322573721408844,
           0.08573341369628906,
           0.028043797239661217,
           0.1274656355381012,
           0.013553597964346409,
           0.022334104403853416,
           0.019566738978028297,
           0.023735687136650085,
           0.02148418501019478,
           0.026638802140951157,
           0.03627790883183479,
           0.02153652533888817,
           0.028292149305343628,
           0.020355653017759323,
           0.0600433386862278,
           0.03533106669783592,
           0.02430160529911518,
           0.023718541488051414,
           0.03428230062127113,
           0.03324110060930252,
           0.030795836821198463,
           0.03161867335438728,
           0.03114672377705574,
           0.04490518197417259,
           0.04471556842327118,
           0.13694104552268982,
           0.12182392179965973,
           0.3144770562648773,
           0.050537291914224625,
           0.09274602681398392,
           0.04538404941558838,
           0.18540769815444946,
           0.02744399756193161,
           0.029931005090475082,
           0.0840468555688858,
           0.025509066879749298,
           0.019153766334056854,
           0.05353546142578125,
           0.05587546527385712,
           0.0263054221868515,
           0.10897265374660492,
           0.04242834448814392,
           0.23784466087818146,
           0.22181113064289093,
           0.8077394962310791,
           0.012937025167047977,
           0.8391433358192444,
           0.04029414430260658,
           0.036607805639505386,
           0.018469633534550667,
           0.0677807629108429,
           0.02478772960603237,
           0.024352317675948143,
           0.03742580860853195,
           0.03139748051762581,
           0.03191864490509033,
           0.02388792484998703,
           0.042551666498184204,
           0.05917114391922951,
           0.05917665734887123,
           0.014479102566838264,
           0.07165245711803436,
           0.07300449907779694,
           0.09979444742202759,
           0.29034197330474854,
           0.0514337494969368,
           0.07087769359350204,
           0.05222592502832413,
           0.10890619456768036,
           0.04647478088736534,
           0.027320869266986847,
           0.024155547842383385,
           0.025416186079382896,
           0.027580920606851578,
           0.05946216732263565,
           0.5776882767677307,
           0.0711556077003479,
           0.019161993637681007,
           0.3072662949562073,
           0.08248038589954376,
           0.020336588844656944,
           0.017738260328769684,
           0.09633361548185349,
           0.6127676963806152,
           0.035928502678871155,
           0.055661752820014954,
           0.10193420201539993,
           0.1157856211066246,
           0.07345856726169586,
           0.15189822018146515,
           0.4658244252204895,
           0.07272206246852875,
           0.0345165990293026,
           0.049141548573970795,
           0.03829192742705345,
           0.05624935030937195,
           0.08637396991252899,
           0.3578849732875824,
           0.025561384856700897,
           0.8122982978820801,
           0.012584436684846878,
           0.04103526845574379,
           0.026696037501096725,
           0.10067064315080643,
           0.7363647818565369,
           0.2711341679096222,
           0.04931667819619179,
           0.09241931885480881,
           0.05366823822259903,
           0.08921167254447937,
           0.09740016609430313,
           0.018405959010124207,
           0.313710480928421,
           0.023017732426524162,
           0.11114897578954697,
           0.01888725347816944,
           0.05065154656767845,
           0.04873499646782875,
           0.0427732840180397,
           0.018758472055196762,
           0.027807114645838737,
           0.031238505616784096,
           0.02935638092458248,
           0.027818145230412483,
           0.022220464423298836,
           0.02144567482173443,
           0.02300904132425785,
           0.02474726364016533,
           0.03102363459765911,
           0.022457998245954514,
           0.026075365021824837,
           0.02516353502869606,
           0.027708861976861954,
           0.028512082993984222,
           0.05752253159880638,
           0.04274795204401016,
           0.33657270669937134,
           0.04044494405388832,
           0.05826902762055397,
           0.06954765319824219,
           0.015856603160500526,
           0.018718481063842773,
           0.10429512709379196,
           0.05770226940512657,
           0.07600212842226028,
           0.11522095650434494,
           0.07566811144351959,
           0.030290935188531876,
           0.06634831428527832,
           0.012287883087992668,
           0.025077620521187782,
           0.011854480020701885,
           0.0852254182100296,
           0.04533538594841957,
           0.043943095952272415,
           0.039561785757541656,
           0.012304868549108505,
           0.13019916415214539,
           0.021738236770033836,
           0.035536184906959534,
           0.027083387598395348,
           0.0881081372499466,
           0.03936760127544403,
           0.16538573801517487,
           0.10598346590995789,
           0.023042703047394753,
           0.025893544778227806,
           0.0382305346429348,
           0.03420113027095795,
           0.24157796800136566,
           0.04844196140766144,
           0.04044773429632187,
           0.02902626432478428,
           0.02964952401816845,
           0.027017559856176376,
           0.03671685606241226,
           0.022929102182388306,
           0.026652315631508827,
           0.06478097289800644,
           0.029130825772881508,
           0.022167641669511795,
           0.020944776013493538,
           0.02633434720337391,
           0.02223394438624382,
           0.026167089119553566,
           0.027081014588475227,
           0.028275268152356148,
           0.027500325813889503,
           0.037614669650793076,
           0.025775505229830742,
           0.23636919260025024,
           0.08407273888587952,
           0.0733400210738182,
           0.330483078956604,
           0.052614666521549225,
           0.03754584491252899,
           0.11867816001176834,
           0.025731462985277176,
           0.06821798533201218,
           0.03159418702125549,
           0.03604770079255104,
           0.02573256567120552,
           0.012009948492050171,
           0.02994874119758606,
           0.07375530898571014,
           0.13270306587219238,
           0.013290032744407654,
           0.04500366747379303,
           0.02375394105911255,
           0.15505552291870117,
           0.02065092697739601,
           0.020794250071048737,
           0.09684683382511139,
           0.01528694573789835,
           0.01897544413805008,
           0.055103849619627,
           0.05185259133577347,
           0.07690107822418213,
           0.016933515667915344,
           0.05595371127128601,
           0.0459568090736866,
           0.045458756387233734,
           0.045029040426015854,
           0.05808233842253685,
           0.05955016240477562,
           0.02464435249567032,
           0.0632481724023819,
           0.05974030867218971,
           0.06289170682430267,
           0.21961086988449097,
           0.012635908089578152,
           0.09285491704940796,
           0.035020142793655396,
           0.03622473031282425,
           0.058282818645238876,
           0.0428096167743206,
           0.19422908127307892,
           0.09353894740343094,
           0.20127101242542267,
           0.06173473969101906,
           0.017111964523792267,
           0.025263430550694466,
           0.09155306965112686,
           0.019662491977214813,
           0.055684059858322144,
           0.050040122121572495,
           0.08076668530702591,
           0.05855859816074371,
           0.06819423288106918,
           0.06933090835809708,
           0.1039186492562294,
           0.05578622221946716,
           0.03481071814894676,
           0.030812233686447144,
           0.04582921043038368,
           0.03450227901339531,
           0.32940474152565,
           0.05924244597554207,
           0.047586411237716675,
           0.07110246270895004,
           0.035624030977487564,
           0.02644413337111473,
           0.062355585396289825,
           0.02355102077126503,
           0.2289288341999054,
           0.031341489404439926,
           0.03252497315406799,
           0.03078254498541355,
           0.06367575377225876,
           0.02239322103559971,
           0.1660710722208023,
           0.04791823402047157,
           0.018034545704722404,
           0.18332242965698242,
           0.01199982687830925,
           0.04851221293210983,
           0.15703989565372467,
           0.05899085849523544,
           0.3716389536857605,
           0.021019471809267998,
           0.05315537750720978,
           0.10945943742990494,
           0.17330396175384521,
           0.08257903903722763,
           0.5516566634178162,
           0.017603319138288498,
           0.08967907726764679,
           0.025224270299077034,
           0.026162901893258095,
           0.02852175571024418,
           0.08411683142185211,
           0.012700303457677364,
           0.04199356958270073,
           0.04257584735751152,
           0.045944321900606155,
           0.09292202442884445
          ],
          "sizemode": "area",
          "sizeref": 0.004145191311836243,
          "symbol": "circle"
         },
         "mode": "markers",
         "name": "3",
         "scene": "scene",
         "showlegend": true,
         "type": "scatter3d",
         "x": [
          -2421,
          -2474,
          -2500.5,
          -2527,
          -2553.5,
          -2580,
          -2606.5,
          -2633,
          -2659.5,
          -2686,
          -2712.5,
          -2739,
          -2765.5,
          -2792,
          -2818.5,
          -2845,
          -2871.5,
          -2898,
          -2924.5,
          -2951,
          -2977.5,
          -3004,
          -3030.5,
          -2977.5,
          -3004,
          -3030.5,
          -3030.5,
          -3030.5,
          -3136.5,
          -3057,
          -3083.5,
          -3083.5,
          -3004,
          -2898,
          -3004,
          -3030.5,
          -3083.5,
          -3136.5,
          -2951,
          -3004,
          -3030.5,
          -3057,
          -3083.5,
          -3136.5,
          -3269,
          -3110,
          -3057,
          -3136.5,
          -3163,
          -3189.5,
          -3189.5,
          -3136.5,
          -3507.5,
          -3348.5,
          -3216,
          -3242.5,
          -3163,
          -3163,
          -3295.5,
          -3242.5,
          -3216,
          -2977.5,
          -3110,
          -3534,
          -3454.5,
          -3269,
          -3163,
          -3189.5,
          -3189.5,
          -3216,
          -3269,
          -3295.5,
          -3348.5,
          -3375,
          -3401.5,
          -3401.5,
          -3428,
          -3481,
          -3428,
          -3454.5,
          -3375,
          -3375,
          -3163,
          -3481,
          -3375,
          -3454.5,
          -3401.5,
          -3428,
          -3454.5,
          -3401.5,
          -3507.5,
          -3242.5,
          -3481,
          -3454.5,
          -3507.5,
          -3401.5,
          -3481,
          -3481,
          -3454.5,
          -3481,
          -3401.5,
          -3428,
          -3454.5,
          -3428,
          -3560.5,
          -3375,
          -3348.5,
          -3481,
          -3454.5,
          -3428,
          -3401.5,
          -3401.5,
          -3454.5,
          -3454.5,
          -3242.5,
          -3189.5,
          -3189.5,
          -3189.5,
          -3454.5,
          -3322,
          -3454.5,
          -3428,
          -3481,
          -3507.5,
          -3269,
          -3242.5,
          -3375,
          -3481,
          -3481,
          -3454.5,
          -3454.5,
          -3481,
          -3481,
          -3534,
          -3481,
          -3481,
          -3507.5,
          -3428,
          -3534,
          -3560.5,
          -3481,
          -3560.5,
          -3481,
          -3428,
          -3454.5,
          -3534,
          -3534,
          -3454.5,
          -3560.5,
          -3534,
          -3534,
          -3454.5,
          -3507.5,
          -3507.5,
          -3401.5,
          -3507.5,
          -3401.5,
          -3481,
          -3454.5,
          -3401.5,
          -3507.5,
          -3534,
          -3216,
          -3242.5,
          -3375,
          -3428,
          -3481,
          -3348.5,
          -3428,
          -3322,
          -3295.5,
          -3269,
          -3242.5,
          -3242.5,
          -3242.5,
          -3428,
          -3428,
          -3348.5,
          -3428,
          -3401.5,
          -3269,
          -3534,
          -3534,
          -3534,
          -3057,
          -3083.5,
          -3110,
          -3136.5,
          -3216,
          -3242.5,
          -3269,
          -3295.5,
          -3322,
          -3348.5,
          -3375,
          -3454.5,
          -3481,
          -3507.5,
          -3534,
          -3560.5,
          -3030.5,
          -3083.5,
          -3057,
          -3136.5,
          -3163,
          -3189.5,
          -3242.5,
          -3136.5,
          -3136.5,
          -3163,
          -3216,
          -3242.5,
          -3242.5,
          -3189.5,
          -3295.5,
          -3242.5,
          -3295.5,
          -3083.5,
          -3004,
          -3136.5,
          -3189.5,
          -3163,
          -3189.5,
          -3216,
          -3163,
          -3242.5,
          -3295.5,
          -3295.5,
          -3030.5,
          -3216,
          -3242.5,
          -3269,
          -3295.5,
          -3348.5,
          -3136.5,
          -3216,
          -3269,
          -3216,
          -3110,
          -3216,
          -3216,
          -3269,
          -3295.5,
          -3189.5,
          -3163,
          -3242.5,
          -3295.5,
          -3030.5,
          -2659.5,
          -2898,
          -2474,
          -2421,
          -2447.5,
          -2474,
          -2500.5,
          -2447.5,
          -2580,
          -2580,
          -2659.5,
          -2500.5,
          -2553.5,
          -2500.5,
          -2527,
          -2553.5,
          -2580,
          -2606.5,
          -2606.5,
          -2606.5,
          -2845,
          -2977.5,
          -3004,
          -3030.5,
          -3057,
          -3083.5,
          -3110,
          -2977.5,
          -2951,
          -3030.5,
          -3057,
          -3004,
          -2977.5,
          -3057,
          -3083.5,
          -2500.5,
          -2500.5,
          -2527,
          -2553.5,
          -2977.5,
          -2898,
          -3454.5,
          -3428,
          -2500.5,
          -2527,
          -2553.5,
          -2580,
          -2606.5,
          -2633,
          -2659.5,
          -2686,
          -2712.5,
          -2739,
          -2765.5,
          -2792,
          -2818.5,
          -2845,
          -2871.5,
          -2898,
          -2924.5,
          -2951,
          -2977.5,
          -3004,
          -2845,
          -3030.5,
          -2951,
          -2500.5,
          -2553.5,
          -2580,
          -2606.5,
          -2580,
          -2553.5,
          -2686,
          -2739,
          -2527,
          -2580,
          -2580,
          -2527,
          -2527,
          -2500.5,
          -2659.5,
          -2474,
          -2553.5,
          -2712.5,
          -2871.5,
          -2765.5,
          -2845,
          -3004,
          -2633,
          -2633,
          -2712.5,
          -2712.5,
          -2606.5,
          -2659.5,
          -2553.5,
          -2633,
          -2659.5,
          -2792,
          -2818.5,
          -2792,
          -2686,
          -2739,
          -2765.5,
          -2792,
          -2818.5,
          -2845,
          -2871.5,
          -2898,
          -2924.5,
          -2951,
          -2977.5,
          -3004,
          -3030.5,
          -3057,
          -3083.5,
          -3110,
          -3136.5,
          -3163,
          -3189.5,
          -3242.5,
          -3189.5,
          -3189.5,
          -2553.5,
          -2474,
          -2712.5,
          -2447.5,
          -2792,
          -2898,
          -2898,
          -2659.5,
          -2686,
          -2717.94287109375,
          -2793.84228515625,
          -2748.84228515625,
          -2580,
          -2474,
          -2500.5,
          -2553.5,
          -2633,
          -2580,
          -2686,
          -2659.5,
          -2500.5,
          -2447.5,
          -2447.5,
          -2421,
          -2447.5,
          -2474,
          -2481.395751953125,
          -2480.49658203125,
          -2500.5,
          -2421,
          -2447.5,
          -2474,
          -2500.5,
          -2580,
          -2474,
          -2474,
          -2527,
          -2765.5,
          -2898,
          -2447.5,
          -2474,
          -2500.5,
          -2553.5,
          -2580,
          -2712.5,
          -2606.5,
          -2633,
          -2580,
          -2792,
          -2792,
          -2845,
          -2845,
          -2421,
          -2447.5,
          -2474,
          -2500.5,
          -2527,
          -2553.5,
          -2580,
          -2527,
          -2527,
          -2421,
          -2474,
          -2553.5,
          -2527,
          -2447.5,
          -2659.5,
          -2527,
          -2527,
          -2633,
          -2633,
          -3163,
          -3163,
          -3216,
          -3189.5,
          -3163,
          -3189.5,
          -3401.5,
          -3481,
          -3481,
          -3322,
          -3348.5,
          -3401.5,
          -3375,
          -3401.5,
          -3295.5,
          -3163,
          -3375,
          -3216,
          -3216,
          -3136.5,
          -3322,
          -3189.5,
          -3189.5,
          -3269,
          -3189.5,
          -3242.5,
          -3110,
          -3030.5,
          -3295.5,
          -2447.5,
          -3518.236328125,
          -3489.258544921875,
          -3489.258544921875
         ],
         "y": [
          -330,
          -330,
          -330,
          -330,
          -330,
          -330,
          -330,
          -330,
          -330,
          -360,
          -360,
          -360,
          -360,
          -360,
          -360,
          -360,
          -360,
          -360,
          -360,
          -360,
          -390,
          -390,
          -390,
          -360,
          -360,
          -360,
          -300,
          -360,
          -390,
          -480,
          -420,
          -450,
          -330,
          -570,
          -330,
          -360,
          -330,
          -390,
          -390,
          -390,
          -420,
          -420,
          -420,
          -450,
          -360,
          -360,
          -390,
          -480,
          -480,
          -420,
          -450,
          -450,
          -420,
          -420,
          -330,
          -510,
          -390,
          -330,
          -420,
          -390,
          -390,
          -90,
          -180,
          -570,
          -510,
          -330,
          -420,
          -570,
          -390,
          -420,
          -420,
          -420,
          -420,
          -420,
          -450,
          -450,
          -450,
          -540,
          -450,
          -450,
          -420,
          -390,
          -570,
          -420,
          -450,
          -390,
          -420,
          -420,
          -420,
          -480,
          -390,
          -480,
          -450,
          -360,
          -450,
          -450,
          -570,
          -600,
          -630,
          -660,
          -420,
          -420,
          -360,
          -420,
          -390,
          -390,
          -360,
          -270,
          -390,
          -450,
          -480,
          -510,
          -420,
          -450,
          -540,
          -360,
          -330,
          -330,
          -450,
          -420,
          -390,
          -420,
          -390,
          -450,
          -390,
          -360,
          -450,
          -510,
          -630,
          -660,
          -420,
          -420,
          -420,
          -390,
          -390,
          -360,
          -330,
          -300,
          -360,
          -360,
          -480,
          -510,
          -510,
          -330,
          -450,
          -480,
          -480,
          -540,
          -510,
          -450,
          -480,
          -390,
          -480,
          -510,
          -510,
          -360,
          -330,
          -480,
          -510,
          -600,
          -570,
          -420,
          -600,
          -690,
          -450,
          -480,
          -540,
          -630,
          -300,
          -360,
          -30,
          -630,
          -630,
          -690,
          -690,
          -360,
          -330,
          -450,
          -510,
          -480,
          -480,
          -420,
          -300,
          -30,
          -360,
          -360,
          -330,
          -330,
          -330,
          -330,
          -330,
          -300,
          -300,
          -300,
          -300,
          -300,
          -300,
          -270,
          -270,
          -240,
          -390,
          -390,
          -450,
          -420,
          -450,
          -510,
          -330,
          -360,
          -360,
          -300,
          -390,
          -420,
          -450,
          -450,
          -510,
          -330,
          -300,
          -450,
          -210,
          -390,
          -510,
          -450,
          -420,
          -330,
          -300,
          -390,
          -420,
          -330,
          -210,
          -360,
          -360,
          -360,
          -360,
          -360,
          -420,
          -270,
          -390,
          -690,
          -540,
          -300,
          -420,
          -450,
          -480,
          -480,
          -450,
          -390,
          -390,
          -420,
          -330,
          -390,
          -300,
          -210,
          -210,
          -210,
          -210,
          -210,
          -210,
          -330,
          -330,
          -480,
          -540,
          -210,
          -210,
          -210,
          -210,
          -210,
          -180,
          -180,
          -180,
          -180,
          -180,
          -210,
          -210,
          -240,
          -270,
          -150,
          -90,
          -120,
          -180,
          -150,
          -180,
          -240,
          -270,
          -180,
          -210,
          -240,
          -240,
          -240,
          -300,
          -60,
          -90,
          -180,
          -240,
          -240,
          -240,
          -240,
          -210,
          -210,
          -210,
          -210,
          -210,
          -210,
          -210,
          -210,
          -210,
          -210,
          -210,
          -210,
          -180,
          -180,
          -180,
          -300,
          -180,
          -210,
          -240,
          -270,
          -270,
          -330,
          -330,
          -330,
          -300,
          60,
          -210,
          -210,
          -240,
          -300,
          -240,
          -180,
          -120,
          -240,
          -300,
          -210,
          -360,
          -270,
          -240,
          -150,
          -210,
          -210,
          -180,
          -180,
          -210,
          -210,
          -240,
          -240,
          -240,
          -360,
          -390,
          -390,
          -240,
          -180,
          -180,
          -150,
          -150,
          -120,
          -120,
          -90,
          -90,
          -60,
          -60,
          -60,
          -60,
          -60,
          -30,
          -30,
          -30,
          -30,
          -30,
          60,
          -30,
          -60,
          -210,
          -210,
          -180,
          -180,
          -240,
          -180,
          -180,
          90,
          -300,
          -876.384765625,
          -850.9232177734375,
          -928.8655395507812,
          -180,
          -330,
          -240,
          -210,
          -210,
          -270,
          -480,
          -540,
          -450,
          -300,
          -450,
          -480,
          -480,
          -480,
          -809.0962524414062,
          -704.6539916992188,
          -510,
          -420,
          -390,
          -390,
          -390,
          -630,
          -540,
          -600,
          -360,
          -600,
          -570,
          -450,
          -450,
          -480,
          -480,
          -480,
          -480,
          -480,
          -480,
          360,
          240,
          240,
          240,
          270,
          390,
          390,
          420,
          420,
          450,
          450,
          450,
          -390,
          -480,
          -450,
          -240,
          -180,
          -210,
          -120,
          -300,
          -210,
          -510,
          -210,
          -330,
          -360,
          -390,
          -360,
          -360,
          -360,
          -360,
          -300,
          -300,
          -330,
          -360,
          -330,
          -450,
          -420,
          -510,
          -420,
          -390,
          -660,
          -450,
          -390,
          -390,
          -420,
          -390,
          -390,
          -300,
          -390,
          -420,
          -450,
          -300,
          -270,
          -330,
          663.1840209960938,
          655.41943359375,
          655.41943359375
         ],
         "z": [
          -720,
          -750,
          -750,
          -750,
          -750,
          -780,
          -780,
          -780,
          -810,
          -810,
          -810,
          -810,
          -840,
          -840,
          -840,
          -870,
          -870,
          -870,
          -870,
          -900,
          -900,
          -900,
          -900,
          -900,
          -900,
          -930,
          -930,
          -900,
          -960,
          -990,
          -990,
          -990,
          -900,
          -990,
          -870,
          -960,
          -1020,
          -990,
          -900,
          -930,
          -930,
          -960,
          -960,
          -990,
          -840,
          -990,
          -930,
          -930,
          -930,
          -990,
          -990,
          -1020,
          -1050,
          -990,
          -1050,
          -930,
          -960,
          -930,
          -1080,
          -1140,
          -1140,
          -810,
          -780,
          -990,
          -1110,
          -840,
          -1020,
          -1200,
          -960,
          -990,
          -990,
          -990,
          -1020,
          -990,
          -990,
          -1020,
          -1020,
          -1020,
          -1050,
          -1050,
          -1020,
          -1140,
          -1230,
          -1050,
          -1020,
          -1140,
          -990,
          -960,
          -930,
          -990,
          -1050,
          -960,
          -1050,
          -1020,
          -1050,
          -1050,
          -1140,
          -1170,
          -1170,
          -1140,
          -1020,
          -1020,
          -990,
          -1050,
          -1050,
          -1020,
          -1020,
          -1020,
          -1050,
          -990,
          -930,
          -930,
          -1020,
          -1080,
          -750,
          -990,
          -960,
          -990,
          -990,
          -990,
          -990,
          -990,
          -1260,
          -1320,
          -870,
          -810,
          -1050,
          -1050,
          -750,
          -690,
          -1050,
          -1080,
          -1110,
          -1140,
          -1050,
          -1050,
          -1050,
          -1050,
          -1050,
          -1050,
          -990,
          -1020,
          -1020,
          -1140,
          -1020,
          -1080,
          -1140,
          -1110,
          -1080,
          -1050,
          -1050,
          -1170,
          -1050,
          -1050,
          -990,
          -930,
          -1290,
          -1050,
          -1050,
          -1080,
          -1140,
          -1020,
          -720,
          -690,
          -990,
          -990,
          -990,
          -960,
          -1020,
          -1080,
          -990,
          -1260,
          -1470,
          -1440,
          -1470,
          -1050,
          -1050,
          -1140,
          -990,
          -900,
          -1020,
          -1080,
          -1080,
          -1770,
          -900,
          -930,
          -930,
          -930,
          -960,
          -960,
          -960,
          -990,
          -990,
          -990,
          -990,
          -1020,
          -1020,
          -1050,
          -1080,
          -1110,
          -930,
          -930,
          -960,
          -960,
          -990,
          -1020,
          -1140,
          -1020,
          -1050,
          -1200,
          -1050,
          -1020,
          -930,
          -960,
          -960,
          -870,
          -840,
          -1170,
          -1080,
          -1080,
          -1050,
          -720,
          -930,
          -1140,
          -1140,
          -900,
          -930,
          -870,
          -1110,
          -1020,
          -1020,
          -1050,
          -1050,
          -1080,
          -1020,
          -960,
          -930,
          -1050,
          -1170,
          -990,
          -960,
          -930,
          -930,
          -1020,
          -1050,
          -930,
          -930,
          -900,
          -780,
          -810,
          -720,
          -600,
          -600,
          -630,
          -570,
          -570,
          -660,
          -660,
          -720,
          -660,
          -720,
          -630,
          -660,
          -690,
          -690,
          -720,
          -720,
          -690,
          -870,
          -1050,
          -1080,
          -1080,
          -1110,
          -1110,
          -1110,
          -1080,
          -1110,
          -1080,
          -1080,
          -1200,
          -1080,
          -1140,
          -1170,
          -600,
          -600,
          -660,
          -660,
          -630,
          -600,
          -570,
          -570,
          -660,
          -630,
          -600,
          -600,
          -600,
          -570,
          -570,
          -570,
          -540,
          -540,
          -540,
          -510,
          -510,
          -510,
          -510,
          -480,
          -480,
          -480,
          -450,
          -450,
          -690,
          -420,
          -480,
          -630,
          -660,
          -690,
          -720,
          -750,
          -780,
          -630,
          -480,
          -600,
          -570,
          -540,
          -480,
          -600,
          -630,
          -690,
          -600,
          -570,
          -570,
          -660,
          -570,
          -570,
          -360,
          -690,
          -720,
          -750,
          -720,
          -690,
          -690,
          -630,
          -600,
          -600,
          -720,
          -630,
          -660,
          -600,
          -570,
          -570,
          -540,
          -540,
          -540,
          -540,
          -540,
          -510,
          -510,
          -510,
          -510,
          -510,
          -480,
          -480,
          -480,
          -480,
          -450,
          -450,
          -450,
          -420,
          -420,
          -660,
          -690,
          -1230,
          -630,
          -720,
          -690,
          -660,
          -690,
          -540,
          -840,
          -840,
          -780,
          -690,
          -780,
          -660,
          -630,
          -600,
          -630,
          -450,
          -510,
          -900,
          -780,
          -930,
          -930,
          -960,
          -960,
          -720,
          -690,
          -750,
          -810,
          -780,
          -780,
          -780,
          -1050,
          -990,
          -930,
          -960,
          -1230,
          -1320,
          -810,
          -810,
          -810,
          -780,
          -780,
          -630,
          -750,
          -750,
          -210,
          -270,
          -210,
          -270,
          -300,
          -810,
          -840,
          -870,
          -900,
          -930,
          -960,
          -990,
          -780,
          -780,
          -810,
          -630,
          -660,
          -630,
          -690,
          -660,
          -360,
          -720,
          -780,
          -690,
          -960,
          -930,
          -900,
          -900,
          -930,
          -1230,
          -990,
          -1050,
          -1050,
          -1020,
          -1080,
          -1170,
          -1050,
          -900,
          -1200,
          -990,
          -1050,
          -960,
          -930,
          -930,
          -1020,
          -930,
          -990,
          -990,
          -1020,
          -990,
          -990,
          -900,
          -1080,
          -720,
          -2374.5,
          -2401,
          -2427.5
         ]
        },
        {
         "customdata": [
          [
           2
          ],
          [
           2
          ]
         ],
         "hovertemplate": "color=4<br>X=%{x}<br>Y=%{y}<br>Z=%{z}<br>features=%{marker.size}<br>tIdx=%{customdata[0]}<extra></extra>",
         "legendgroup": "4",
         "marker": {
          "color": "yellow",
          "line": {
           "width": 0
          },
          "size": [
           0.000037425372283905745,
           0.0005151748191565275
          ],
          "sizemode": "area",
          "sizeref": 0.004145191311836243,
          "symbol": "circle"
         },
         "mode": "markers",
         "name": "4",
         "scene": "scene",
         "showlegend": true,
         "type": "scatter3d",
         "x": [
          -4703.5,
          -4486.5
         ],
         "y": [
          -330,
          -900
         ],
         "z": [
          -870,
          -1530
         ]
        }
       ],
       "layout": {
        "legend": {
         "itemsizing": "constant",
         "title": {
          "text": "color"
         },
         "tracegroupgap": 0
        },
        "margin": {
         "t": 60
        },
        "scene": {
         "domain": {
          "x": [
           0,
           1
          ],
          "y": [
           0,
           1
          ]
         },
         "xaxis": {
          "title": {
           "text": "X"
          }
         },
         "yaxis": {
          "title": {
           "text": "Y"
          }
         },
         "zaxis": {
          "title": {
           "text": "Z"
          }
         }
        },
        "template": {
         "data": {
          "bar": [
           {
            "error_x": {
             "color": "rgb(36,36,36)"
            },
            "error_y": {
             "color": "rgb(36,36,36)"
            },
            "marker": {
             "line": {
              "color": "white",
              "width": 0.5
             },
             "pattern": {
              "fillmode": "overlay",
              "size": 10,
              "solidity": 0.2
             }
            },
            "type": "bar"
           }
          ],
          "barpolar": [
           {
            "marker": {
             "line": {
              "color": "white",
              "width": 0.5
             },
             "pattern": {
              "fillmode": "overlay",
              "size": 10,
              "solidity": 0.2
             }
            },
            "type": "barpolar"
           }
          ],
          "carpet": [
           {
            "aaxis": {
             "endlinecolor": "rgb(36,36,36)",
             "gridcolor": "white",
             "linecolor": "white",
             "minorgridcolor": "white",
             "startlinecolor": "rgb(36,36,36)"
            },
            "baxis": {
             "endlinecolor": "rgb(36,36,36)",
             "gridcolor": "white",
             "linecolor": "white",
             "minorgridcolor": "white",
             "startlinecolor": "rgb(36,36,36)"
            },
            "type": "carpet"
           }
          ],
          "choropleth": [
           {
            "colorbar": {
             "outlinewidth": 1,
             "tickcolor": "rgb(36,36,36)",
             "ticks": "outside"
            },
            "type": "choropleth"
           }
          ],
          "contour": [
           {
            "colorbar": {
             "outlinewidth": 1,
             "tickcolor": "rgb(36,36,36)",
             "ticks": "outside"
            },
            "colorscale": [
             [
              0,
              "#440154"
             ],
             [
              0.1111111111111111,
              "#482878"
             ],
             [
              0.2222222222222222,
              "#3e4989"
             ],
             [
              0.3333333333333333,
              "#31688e"
             ],
             [
              0.4444444444444444,
              "#26828e"
             ],
             [
              0.5555555555555556,
              "#1f9e89"
             ],
             [
              0.6666666666666666,
              "#35b779"
             ],
             [
              0.7777777777777778,
              "#6ece58"
             ],
             [
              0.8888888888888888,
              "#b5de2b"
             ],
             [
              1,
              "#fde725"
             ]
            ],
            "type": "contour"
           }
          ],
          "contourcarpet": [
           {
            "colorbar": {
             "outlinewidth": 1,
             "tickcolor": "rgb(36,36,36)",
             "ticks": "outside"
            },
            "type": "contourcarpet"
           }
          ],
          "heatmap": [
           {
            "colorbar": {
             "outlinewidth": 1,
             "tickcolor": "rgb(36,36,36)",
             "ticks": "outside"
            },
            "colorscale": [
             [
              0,
              "#440154"
             ],
             [
              0.1111111111111111,
              "#482878"
             ],
             [
              0.2222222222222222,
              "#3e4989"
             ],
             [
              0.3333333333333333,
              "#31688e"
             ],
             [
              0.4444444444444444,
              "#26828e"
             ],
             [
              0.5555555555555556,
              "#1f9e89"
             ],
             [
              0.6666666666666666,
              "#35b779"
             ],
             [
              0.7777777777777778,
              "#6ece58"
             ],
             [
              0.8888888888888888,
              "#b5de2b"
             ],
             [
              1,
              "#fde725"
             ]
            ],
            "type": "heatmap"
           }
          ],
          "heatmapgl": [
           {
            "colorbar": {
             "outlinewidth": 1,
             "tickcolor": "rgb(36,36,36)",
             "ticks": "outside"
            },
            "colorscale": [
             [
              0,
              "#440154"
             ],
             [
              0.1111111111111111,
              "#482878"
             ],
             [
              0.2222222222222222,
              "#3e4989"
             ],
             [
              0.3333333333333333,
              "#31688e"
             ],
             [
              0.4444444444444444,
              "#26828e"
             ],
             [
              0.5555555555555556,
              "#1f9e89"
             ],
             [
              0.6666666666666666,
              "#35b779"
             ],
             [
              0.7777777777777778,
              "#6ece58"
             ],
             [
              0.8888888888888888,
              "#b5de2b"
             ],
             [
              1,
              "#fde725"
             ]
            ],
            "type": "heatmapgl"
           }
          ],
          "histogram": [
           {
            "marker": {
             "line": {
              "color": "white",
              "width": 0.6
             }
            },
            "type": "histogram"
           }
          ],
          "histogram2d": [
           {
            "colorbar": {
             "outlinewidth": 1,
             "tickcolor": "rgb(36,36,36)",
             "ticks": "outside"
            },
            "colorscale": [
             [
              0,
              "#440154"
             ],
             [
              0.1111111111111111,
              "#482878"
             ],
             [
              0.2222222222222222,
              "#3e4989"
             ],
             [
              0.3333333333333333,
              "#31688e"
             ],
             [
              0.4444444444444444,
              "#26828e"
             ],
             [
              0.5555555555555556,
              "#1f9e89"
             ],
             [
              0.6666666666666666,
              "#35b779"
             ],
             [
              0.7777777777777778,
              "#6ece58"
             ],
             [
              0.8888888888888888,
              "#b5de2b"
             ],
             [
              1,
              "#fde725"
             ]
            ],
            "type": "histogram2d"
           }
          ],
          "histogram2dcontour": [
           {
            "colorbar": {
             "outlinewidth": 1,
             "tickcolor": "rgb(36,36,36)",
             "ticks": "outside"
            },
            "colorscale": [
             [
              0,
              "#440154"
             ],
             [
              0.1111111111111111,
              "#482878"
             ],
             [
              0.2222222222222222,
              "#3e4989"
             ],
             [
              0.3333333333333333,
              "#31688e"
             ],
             [
              0.4444444444444444,
              "#26828e"
             ],
             [
              0.5555555555555556,
              "#1f9e89"
             ],
             [
              0.6666666666666666,
              "#35b779"
             ],
             [
              0.7777777777777778,
              "#6ece58"
             ],
             [
              0.8888888888888888,
              "#b5de2b"
             ],
             [
              1,
              "#fde725"
             ]
            ],
            "type": "histogram2dcontour"
           }
          ],
          "mesh3d": [
           {
            "colorbar": {
             "outlinewidth": 1,
             "tickcolor": "rgb(36,36,36)",
             "ticks": "outside"
            },
            "type": "mesh3d"
           }
          ],
          "parcoords": [
           {
            "line": {
             "colorbar": {
              "outlinewidth": 1,
              "tickcolor": "rgb(36,36,36)",
              "ticks": "outside"
             }
            },
            "type": "parcoords"
           }
          ],
          "pie": [
           {
            "automargin": true,
            "type": "pie"
           }
          ],
          "scatter": [
           {
            "fillpattern": {
             "fillmode": "overlay",
             "size": 10,
             "solidity": 0.2
            },
            "type": "scatter"
           }
          ],
          "scatter3d": [
           {
            "line": {
             "colorbar": {
              "outlinewidth": 1,
              "tickcolor": "rgb(36,36,36)",
              "ticks": "outside"
             }
            },
            "marker": {
             "colorbar": {
              "outlinewidth": 1,
              "tickcolor": "rgb(36,36,36)",
              "ticks": "outside"
             }
            },
            "type": "scatter3d"
           }
          ],
          "scattercarpet": [
           {
            "marker": {
             "colorbar": {
              "outlinewidth": 1,
              "tickcolor": "rgb(36,36,36)",
              "ticks": "outside"
             }
            },
            "type": "scattercarpet"
           }
          ],
          "scattergeo": [
           {
            "marker": {
             "colorbar": {
              "outlinewidth": 1,
              "tickcolor": "rgb(36,36,36)",
              "ticks": "outside"
             }
            },
            "type": "scattergeo"
           }
          ],
          "scattergl": [
           {
            "marker": {
             "colorbar": {
              "outlinewidth": 1,
              "tickcolor": "rgb(36,36,36)",
              "ticks": "outside"
             }
            },
            "type": "scattergl"
           }
          ],
          "scattermapbox": [
           {
            "marker": {
             "colorbar": {
              "outlinewidth": 1,
              "tickcolor": "rgb(36,36,36)",
              "ticks": "outside"
             }
            },
            "type": "scattermapbox"
           }
          ],
          "scatterpolar": [
           {
            "marker": {
             "colorbar": {
              "outlinewidth": 1,
              "tickcolor": "rgb(36,36,36)",
              "ticks": "outside"
             }
            },
            "type": "scatterpolar"
           }
          ],
          "scatterpolargl": [
           {
            "marker": {
             "colorbar": {
              "outlinewidth": 1,
              "tickcolor": "rgb(36,36,36)",
              "ticks": "outside"
             }
            },
            "type": "scatterpolargl"
           }
          ],
          "scatterternary": [
           {
            "marker": {
             "colorbar": {
              "outlinewidth": 1,
              "tickcolor": "rgb(36,36,36)",
              "ticks": "outside"
             }
            },
            "type": "scatterternary"
           }
          ],
          "surface": [
           {
            "colorbar": {
             "outlinewidth": 1,
             "tickcolor": "rgb(36,36,36)",
             "ticks": "outside"
            },
            "colorscale": [
             [
              0,
              "#440154"
             ],
             [
              0.1111111111111111,
              "#482878"
             ],
             [
              0.2222222222222222,
              "#3e4989"
             ],
             [
              0.3333333333333333,
              "#31688e"
             ],
             [
              0.4444444444444444,
              "#26828e"
             ],
             [
              0.5555555555555556,
              "#1f9e89"
             ],
             [
              0.6666666666666666,
              "#35b779"
             ],
             [
              0.7777777777777778,
              "#6ece58"
             ],
             [
              0.8888888888888888,
              "#b5de2b"
             ],
             [
              1,
              "#fde725"
             ]
            ],
            "type": "surface"
           }
          ],
          "table": [
           {
            "cells": {
             "fill": {
              "color": "rgb(237,237,237)"
             },
             "line": {
              "color": "white"
             }
            },
            "header": {
             "fill": {
              "color": "rgb(217,217,217)"
             },
             "line": {
              "color": "white"
             }
            },
            "type": "table"
           }
          ]
         },
         "layout": {
          "annotationdefaults": {
           "arrowhead": 0,
           "arrowwidth": 1
          },
          "autotypenumbers": "strict",
          "coloraxis": {
           "colorbar": {
            "outlinewidth": 1,
            "tickcolor": "rgb(36,36,36)",
            "ticks": "outside"
           }
          },
          "colorscale": {
           "diverging": [
            [
             0,
             "rgb(103,0,31)"
            ],
            [
             0.1,
             "rgb(178,24,43)"
            ],
            [
             0.2,
             "rgb(214,96,77)"
            ],
            [
             0.3,
             "rgb(244,165,130)"
            ],
            [
             0.4,
             "rgb(253,219,199)"
            ],
            [
             0.5,
             "rgb(247,247,247)"
            ],
            [
             0.6,
             "rgb(209,229,240)"
            ],
            [
             0.7,
             "rgb(146,197,222)"
            ],
            [
             0.8,
             "rgb(67,147,195)"
            ],
            [
             0.9,
             "rgb(33,102,172)"
            ],
            [
             1,
             "rgb(5,48,97)"
            ]
           ],
           "sequential": [
            [
             0,
             "#440154"
            ],
            [
             0.1111111111111111,
             "#482878"
            ],
            [
             0.2222222222222222,
             "#3e4989"
            ],
            [
             0.3333333333333333,
             "#31688e"
            ],
            [
             0.4444444444444444,
             "#26828e"
            ],
            [
             0.5555555555555556,
             "#1f9e89"
            ],
            [
             0.6666666666666666,
             "#35b779"
            ],
            [
             0.7777777777777778,
             "#6ece58"
            ],
            [
             0.8888888888888888,
             "#b5de2b"
            ],
            [
             1,
             "#fde725"
            ]
           ],
           "sequentialminus": [
            [
             0,
             "#440154"
            ],
            [
             0.1111111111111111,
             "#482878"
            ],
            [
             0.2222222222222222,
             "#3e4989"
            ],
            [
             0.3333333333333333,
             "#31688e"
            ],
            [
             0.4444444444444444,
             "#26828e"
            ],
            [
             0.5555555555555556,
             "#1f9e89"
            ],
            [
             0.6666666666666666,
             "#35b779"
            ],
            [
             0.7777777777777778,
             "#6ece58"
            ],
            [
             0.8888888888888888,
             "#b5de2b"
            ],
            [
             1,
             "#fde725"
            ]
           ]
          },
          "colorway": [
           "#1F77B4",
           "#FF7F0E",
           "#2CA02C",
           "#D62728",
           "#9467BD",
           "#8C564B",
           "#E377C2",
           "#7F7F7F",
           "#BCBD22",
           "#17BECF"
          ],
          "font": {
           "color": "rgb(36,36,36)"
          },
          "geo": {
           "bgcolor": "white",
           "lakecolor": "white",
           "landcolor": "white",
           "showlakes": true,
           "showland": true,
           "subunitcolor": "white"
          },
          "hoverlabel": {
           "align": "left"
          },
          "hovermode": "closest",
          "mapbox": {
           "style": "light"
          },
          "paper_bgcolor": "white",
          "plot_bgcolor": "white",
          "polar": {
           "angularaxis": {
            "gridcolor": "rgb(232,232,232)",
            "linecolor": "rgb(36,36,36)",
            "showgrid": false,
            "showline": true,
            "ticks": "outside"
           },
           "bgcolor": "white",
           "radialaxis": {
            "gridcolor": "rgb(232,232,232)",
            "linecolor": "rgb(36,36,36)",
            "showgrid": false,
            "showline": true,
            "ticks": "outside"
           }
          },
          "scene": {
           "xaxis": {
            "backgroundcolor": "white",
            "gridcolor": "rgb(232,232,232)",
            "gridwidth": 2,
            "linecolor": "rgb(36,36,36)",
            "showbackground": true,
            "showgrid": false,
            "showline": true,
            "ticks": "outside",
            "zeroline": false,
            "zerolinecolor": "rgb(36,36,36)"
           },
           "yaxis": {
            "backgroundcolor": "white",
            "gridcolor": "rgb(232,232,232)",
            "gridwidth": 2,
            "linecolor": "rgb(36,36,36)",
            "showbackground": true,
            "showgrid": false,
            "showline": true,
            "ticks": "outside",
            "zeroline": false,
            "zerolinecolor": "rgb(36,36,36)"
           },
           "zaxis": {
            "backgroundcolor": "white",
            "gridcolor": "rgb(232,232,232)",
            "gridwidth": 2,
            "linecolor": "rgb(36,36,36)",
            "showbackground": true,
            "showgrid": false,
            "showline": true,
            "ticks": "outside",
            "zeroline": false,
            "zerolinecolor": "rgb(36,36,36)"
           }
          },
          "shapedefaults": {
           "fillcolor": "black",
           "line": {
            "width": 0
           },
           "opacity": 0.3
          },
          "ternary": {
           "aaxis": {
            "gridcolor": "rgb(232,232,232)",
            "linecolor": "rgb(36,36,36)",
            "showgrid": false,
            "showline": true,
            "ticks": "outside"
           },
           "baxis": {
            "gridcolor": "rgb(232,232,232)",
            "linecolor": "rgb(36,36,36)",
            "showgrid": false,
            "showline": true,
            "ticks": "outside"
           },
           "bgcolor": "white",
           "caxis": {
            "gridcolor": "rgb(232,232,232)",
            "linecolor": "rgb(36,36,36)",
            "showgrid": false,
            "showline": true,
            "ticks": "outside"
           }
          },
          "title": {
           "x": 0.05
          },
          "xaxis": {
           "automargin": true,
           "gridcolor": "rgb(232,232,232)",
           "linecolor": "rgb(36,36,36)",
           "showgrid": false,
           "showline": true,
           "ticks": "outside",
           "title": {
            "standoff": 15
           },
           "zeroline": false,
           "zerolinecolor": "rgb(36,36,36)"
          },
          "yaxis": {
           "automargin": true,
           "gridcolor": "rgb(232,232,232)",
           "linecolor": "rgb(36,36,36)",
           "showgrid": false,
           "showline": true,
           "ticks": "outside",
           "title": {
            "standoff": 15
           },
           "zeroline": false,
           "zerolinecolor": "rgb(36,36,36)"
          }
         }
        }
       }
      },
      "text/html": [
       "<div>                            <div id=\"da0f13bf-7026-46ab-93b6-8ea365fd02da\" class=\"plotly-graph-div\" style=\"height:525px; width:100%;\"></div>            <script type=\"text/javascript\">                require([\"plotly\"], function(Plotly) {                    window.PLOTLYENV=window.PLOTLYENV || {};                                    if (document.getElementById(\"da0f13bf-7026-46ab-93b6-8ea365fd02da\")) {                    Plotly.newPlot(                        \"da0f13bf-7026-46ab-93b6-8ea365fd02da\",                        [{\"customdata\":[[0.0],[2.0],[15.0],[0.0],[0.0],[0.0],[0.0],[0.0]],\"hovertemplate\":\"color=1\\u003cbr\\u003eX=%{x}\\u003cbr\\u003eY=%{y}\\u003cbr\\u003eZ=%{z}\\u003cbr\\u003efeatures=%{marker.size}\\u003cbr\\u003etIdx=%{customdata[0]}\\u003cextra\\u003e\\u003c\\u002fextra\\u003e\",\"legendgroup\":\"1\",\"marker\":{\"color\":\"red\",\"size\":[0.4649575352668762,1.658076524734497,0.7171626091003418,0.13529877364635468,0.016609562560915947,0.022657781839370728,0.007503114175051451,0.00551591906696558],\"sizemode\":\"area\",\"sizeref\":0.004145191311836243,\"symbol\":\"circle\",\"line\":{\"width\":0}},\"mode\":\"markers\",\"name\":\"1\",\"scene\":\"scene\",\"showlegend\":true,\"x\":[-2150.0,-2150.0,-2150.0,-2150.0,-651.537353515625,-233.16714477539062,-50.60350799560547,-15.702327728271484],\"y\":[-397.9647216796875,-287.56353759765625,-209.38023376464844,-77.94273376464844,-31.81298065185547,83.25706481933594,-92.6562271118164,1.8001691102981567],\"z\":[-787.075439453125,-634.7096557617188,-533.3707885742188,-548.33154296875,-2307.0,2307.0,-2307.0,2307.0],\"type\":\"scatter3d\"},{\"customdata\":[[2.0],[2.0],[2.0],[2.0],[2.0],[2.0],[2.0],[2.0],[2.0],[2.0],[2.0],[2.0],[2.0],[2.0],[2.0],[2.0],[2.0],[2.0],[2.0],[2.0],[2.0],[2.0],[2.0],[2.0],[2.0],[2.0],[2.0],[2.0],[2.0],[2.0],[2.0],[2.0],[2.0],[2.0],[2.0],[2.0],[2.0],[2.0],[2.0],[2.0],[2.0],[2.0],[2.0],[2.0],[2.0],[2.0],[2.0],[2.0],[2.0],[2.0],[2.0],[2.0],[2.0],[2.0],[2.0],[15.0],[15.0],[15.0],[15.0],[15.0],[15.0],[15.0],[15.0],[15.0],[15.0],[15.0],[15.0],[15.0],[15.0],[15.0],[15.0],[15.0],[15.0],[15.0],[15.0],[15.0],[15.0],[15.0],[15.0],[15.0],[15.0],[15.0],[15.0],[15.0],[15.0],[15.0],[15.0],[15.0],[15.0],[15.0],[15.0],[15.0],[15.0],[15.0],[15.0],[15.0],[15.0],[15.0],[15.0],[15.0],[15.0],[15.0],[15.0],[15.0],[15.0],[0.0],[20.0],[20.0],[20.0],[20.0],[20.0],[20.0],[20.0],[23.0],[23.0],[23.0],[23.0],[23.0],[23.0],[23.0],[23.0],[23.0],[23.0],[23.0],[23.0],[23.0],[23.0],[23.0],[23.0],[23.0],[23.0],[23.0],[23.0],[23.0],[23.0],[23.0],[23.0],[23.0],[23.0],[23.0],[23.0],[23.0],[23.0],[23.0],[23.0],[23.0],[23.0],[23.0],[23.0],[23.0],[23.0],[23.0],[23.0],[23.0],[23.0],[23.0],[23.0],[23.0],[23.0],[23.0],[23.0],[23.0],[23.0],[23.0],[23.0],[23.0],[23.0],[23.0],[23.0],[23.0],[23.0],[23.0],[23.0],[23.0],[23.0],[23.0],[23.0],[23.0],[23.0],[23.0],[23.0],[23.0],[23.0],[23.0],[23.0],[23.0],[23.0],[23.0],[23.0],[23.0],[23.0],[23.0],[23.0],[23.0],[23.0],[23.0],[23.0],[23.0],[23.0],[23.0],[23.0],[23.0],[23.0],[23.0],[22.0],[22.0],[22.0],[22.0],[22.0],[22.0],[22.0],[22.0],[22.0],[22.0],[22.0],[22.0],[22.0],[22.0],[22.0],[22.0],[22.0],[22.0],[22.0],[22.0],[22.0],[22.0],[22.0],[22.0],[22.0],[22.0],[22.0],[22.0],[22.0],[22.0],[22.0],[22.0],[22.0],[22.0],[22.0],[22.0],[22.0],[22.0],[22.0],[22.0],[22.0],[22.0],[22.0],[22.0],[22.0],[22.0],[22.0],[22.0],[22.0],[22.0],[22.0],[22.0],[22.0],[22.0],[22.0],[22.0],[22.0],[22.0],[22.0],[22.0],[22.0],[22.0],[22.0],[22.0],[22.0],[22.0],[22.0],[22.0],[22.0],[22.0],[22.0],[22.0],[22.0],[22.0],[22.0],[22.0],[22.0],[22.0],[22.0],[22.0],[22.0],[21.0],[21.0],[21.0],[21.0],[21.0],[21.0],[21.0],[21.0],[21.0],[21.0],[21.0],[21.0],[21.0],[21.0],[21.0],[21.0],[21.0],[21.0],[21.0],[21.0],[21.0],[21.0],[21.0],[21.0],[21.0],[21.0],[21.0],[21.0],[21.0],[21.0],[21.0],[21.0],[21.0],[21.0],[21.0],[21.0],[21.0],[21.0],[21.0],[21.0],[21.0],[21.0],[21.0],[21.0],[21.0],[21.0],[21.0],[21.0],[21.0],[13.0],[13.0],[13.0],[13.0],[13.0],[13.0],[13.0],[13.0],[13.0],[13.0],[13.0],[13.0],[13.0],[13.0],[13.0],[13.0],[13.0],[13.0],[13.0],[13.0],[13.0],[13.0],[13.0],[13.0],[13.0],[13.0],[13.0],[13.0],[13.0],[13.0],[13.0],[13.0],[13.0],[13.0],[13.0],[13.0],[13.0],[13.0],[13.0],[13.0],[13.0],[13.0],[13.0],[13.0],[13.0],[13.0],[13.0],[13.0],[13.0],[13.0],[13.0],[13.0],[13.0],[13.0],[13.0],[13.0],[13.0],[13.0],[13.0],[13.0],[13.0],[13.0],[13.0],[13.0],[13.0],[13.0],[13.0],[13.0],[13.0],[13.0],[13.0],[13.0],[13.0],[13.0],[14.0],[14.0],[14.0],[14.0],[14.0],[14.0],[14.0],[14.0],[14.0],[14.0],[14.0],[14.0],[14.0],[14.0],[14.0],[14.0],[14.0],[12.0],[12.0],[12.0],[12.0],[12.0],[12.0],[12.0],[12.0],[12.0],[12.0],[12.0],[12.0],[12.0],[12.0],[12.0],[12.0],[12.0],[12.0],[12.0],[12.0],[12.0],[12.0],[12.0],[12.0],[12.0],[12.0],[12.0],[12.0],[12.0],[12.0],[12.0],[12.0],[12.0],[12.0],[12.0],[12.0],[12.0],[12.0],[12.0],[12.0],[12.0],[12.0],[12.0],[12.0],[12.0],[12.0],[12.0],[12.0],[12.0],[12.0],[12.0],[12.0],[12.0],[0.0],[0.0],[0.0],[0.0],[18.0],[18.0],[18.0],[18.0],[18.0],[18.0],[18.0],[18.0],[18.0],[18.0],[18.0],[18.0],[18.0],[18.0],[18.0],[18.0],[18.0],[18.0],[18.0],[18.0],[18.0],[18.0],[19.0],[19.0],[19.0],[19.0],[19.0],[19.0],[19.0],[19.0],[19.0],[19.0],[19.0],[19.0],[19.0],[19.0],[19.0],[19.0],[19.0],[19.0],[19.0],[19.0],[19.0],[19.0],[19.0],[19.0],[19.0],[19.0],[19.0],[19.0],[19.0],[0.0],[0.0],[0.0],[0.0],[0.0]],\"hovertemplate\":\"color=2\\u003cbr\\u003eX=%{x}\\u003cbr\\u003eY=%{y}\\u003cbr\\u003eZ=%{z}\\u003cbr\\u003efeatures=%{marker.size}\\u003cbr\\u003etIdx=%{customdata[0]}\\u003cextra\\u003e\\u003c\\u002fextra\\u003e\",\"legendgroup\":\"2\",\"marker\":{\"color\":\"blue\",\"size\":[0.006103900261223316,0.005040679592639208,0.005735795944929123,0.008222003467381,0.005936990492045879,0.00951787456870079,0.005858083721250296,0.006983562838286161,0.007596733048558235,0.005831580143421888,0.007569702807813883,0.006400839425623417,0.006158338859677315,0.02297479473054409,0.005597574636340141,0.0058984109200537205,0.005269855726510286,0.0075301360338926315,0.010131224989891052,0.0444786474108696,0.005145299714058638,0.0062322053126990795,0.006626098416745663,0.005951473489403725,0.005372356623411179,0.010238498449325562,0.0052355010993778706,0.008756094612181187,0.00611095642670989,0.006599865388125181,0.013726669363677502,0.02515118382871151,0.021256597712635994,0.05211011692881584,0.01772000640630722,0.017057763412594795,0.014044548384845257,0.011421986855566502,0.005745399743318558,0.006361018400639296,0.005928296595811844,0.0060140276327729225,0.051606565713882446,0.023453565314412117,0.013719761744141579,0.006294870749115944,0.020925676450133324,0.028066402301192284,0.008506746962666512,0.02324407361447811,0.026191426441073418,0.022936703637242317,0.004135207273066044,0.0021282259840518236,0.011636516079306602,0.0055999611504375935,0.008882323279976845,0.006227081175893545,0.005447363015264273,0.005500575993210077,0.007596257608383894,0.007877211086452007,0.006640980951488018,0.005743630696088076,0.01976330205798149,0.005830700974911451,0.006283781956881285,0.022702014073729515,0.007054844871163368,0.01169776264578104,0.0057277134619653225,0.007560899015516043,0.005439423490315676,0.005887908861041069,0.00587861891835928,0.014603598043322563,0.005038425792008638,0.005446643102914095,0.005738543346524239,0.005652539432048798,0.0052039544098079205,0.005320804659277201,0.00517494510859251,0.006753795314580202,0.007974285632371902,0.007475260645151138,0.005518137477338314,0.005445706658065319,0.007353438995778561,0.010510442778468132,0.005542684346437454,0.005111685022711754,0.006659625563770533,0.005743906367570162,0.005461027380079031,0.0020689889788627625,0.008575860410928726,0.004596039652824402,0.05476187542080879,0.010840381495654583,0.0074974168092012405,0.0144431684166193,0.00724652549251914,0.023579059168696404,0.3309650421142578,0.0036128771025687456,0.01491533126682043,0.01211289782077074,0.010609534569084644,0.014910822734236717,0.011151529848575592,0.01685674488544464,0.02796991355717182,0.006013147532939911,0.017361639067530632,0.005668799392879009,0.006616803817451,0.006714445538818836,0.006630870513617992,0.006814062595367432,0.0060602352023124695,0.006982131395488977,0.00596705824136734,0.014784936793148518,0.0061566694639623165,0.007475655525922775,0.005469348281621933,0.00596418883651495,0.006964650470763445,0.007801872678101063,0.00681175896897912,0.007717789616435766,0.06179926544427872,0.007050811778753996,0.1964058130979538,0.0063587636686861515,0.007821356877684593,0.007068812847137451,0.007966459728777409,0.007168489042669535,0.008916768245398998,0.008537921123206615,0.0082319974899292,0.010360377840697765,0.003934991080313921,0.005786587949842215,0.031100479885935783,0.014712673611938953,0.02047591283917427,0.11294557899236679,0.4338519871234894,0.005011398810893297,0.009322687052190304,0.022589394822716713,0.006536233704537153,0.5969951152801514,0.0660184994339943,0.09098655730485916,0.014094370417296886,0.015128819271922112,0.01764804869890213,0.029585594311356544,0.022942164912819862,0.02722586691379547,0.02304399013519287,0.02998010814189911,0.03611685708165169,0.048410508781671524,0.010393504984676838,0.021330632269382477,0.059541862457990646,0.11089955270290375,0.010705294087529182,0.01478766929358244,0.011733552441000938,0.014344122260808945,0.011553285643458366,0.009900305420160294,0.011210789903998375,0.010728351771831512,0.011707859113812447,0.014053587801754475,0.013310298323631287,0.012360668741166592,0.007238962221890688,0.009412882849574089,0.006078498903661966,0.018367264419794083,0.005725053139030933,0.006255228538066149,0.0071281204000115395,0.01050571259111166,0.010726997628808022,0.006931878160685301,0.021129868924617767,0.00663816649466753,0.007610689383000135,0.0075211301445961,0.014536142349243164,0.008689476177096367,0.008925138972699642,0.03564130514860153,0.009868714027106762,0.05509817600250244,0.007056602742522955,0.005327196326106787,0.007186292205005884,0.009556612931191921,0.019711004570126534,0.006243001203984022,0.005981152877211571,0.006540331058204174,0.008417991921305656,0.005396054591983557,0.005518600344657898,0.00600285641849041,0.005493809934705496,0.005881720222532749,0.0054929726757109165,0.0077315825037658215,0.005349639803171158,0.007414520718157291,0.006234238855540752,0.006969302427023649,0.00663559976965189,0.008864077739417553,0.009176758117973804,0.00538962846621871,0.006106578279286623,0.007171222940087318,0.024536972865462303,0.005485375877469778,0.005209628958255053,0.006532460916787386,0.006884213071316481,0.007779974490404129,0.006398465484380722,0.011588115245103836,0.005842545535415411,0.003054241416975856,0.025529032573103905,0.024336084723472595,0.044260717928409576,0.016702622175216675,0.002852832432836294,0.01582639105618,0.0051544541493058205,0.12988604605197906,0.07445145398378372,0.05261669307947159,0.050310999155044556,0.001956087537109852,0.0020758076570928097,0.018567794933915138,0.13081830739974976,0.03928382694721222,0.7634924650192261,0.024979831650853157,0.02179398573935032,0.023892031982541084,0.02800174243748188,0.040879230946302414,0.07093711942434311,0.009388155303895473,0.008073662407696247,0.08404667675495148,0.025846188887953758,0.008557048626244068,0.03876738250255585,0.0700424537062645,0.009524857625365257,0.014326171018183231,0.009053615853190422,0.00902987364679575,0.009021684527397156,0.0039057754911482334,0.003395786741748452,0.007841064594686031,0.007164063397794962,0.00901690311729908,0.009877867996692657,0.009446265175938606,0.05083642154932022,0.013537307269871235,0.005011765286326408,0.0447612889111042,0.0022756566759198904,0.019883541390299797,0.03364744782447815,0.006534275133162737,0.007700819056481123,0.004929735790938139,0.06108711287379265,0.04826071858406067,0.0054886192083358765,0.007028387859463692,0.0031702762935310602,0.0065546790137887,0.04444790259003639,0.048781801015138626,0.006265538278967142,0.018124479800462723,0.013337849639356136,0.005616357084363699,0.006061005871742964,0.007103005889803171,0.0071066636592149734,0.06347721815109253,0.01264988537877798,0.009685227647423744,0.021571362391114235,0.009924978017807007,0.008983859792351723,0.005334554240107536,0.01318059116601944,0.03466004133224487,0.017498867586255074,0.009105308912694454,0.018397323787212372,0.013101739808917046,0.005833609029650688,0.006428217515349388,0.02749447338283062,0.012860734947025776,0.020875023677945137,0.005977234803140163,0.008846057578921318,0.010086928494274616,0.014691326767206192,0.022366203367710114,0.011023882776498795,0.008033289574086666,0.02135925553739071,0.015815982595086098,0.029122909530997276,0.05191775783896446,0.0071993921883404255,0.009333754889667034,0.007970391772687435,0.01105851773172617,0.006398702505975962,0.02590765245258808,0.04597301781177521,0.08736128360033035,0.03802603855729103,0.0636124312877655,0.007116629276424646,0.011449549347162247,0.03834390640258789,0.025612520053982735,0.04448160529136658,0.011097298003733158,0.012105435132980347,0.012142552062869072,0.0049948482774198055,0.005669396370649338,0.008716578595340252,0.004461873788386583,0.006128051318228245,0.009466014802455902,0.006256513297557831,0.1092594712972641,0.041875746101140976,0.022864751517772675,0.003419536165893078,0.005599176045507193,0.022239167243242264,0.012892725877463818,0.0068502286449074745,0.004866019822657108,0.07206989824771881,0.014216206967830658,0.010165873914957047,0.011596567928791046,0.011569707654416561,0.015230880118906498,0.006985702086240053,0.012699725106358528,0.006169395986944437,0.01822880655527115,0.02875041961669922,0.003788482630625367,0.009221017360687256,0.026571333408355713,0.00707901269197464,0.0021185618825256824,0.008227596990764141,0.019546065479516983,0.013564102351665497,0.024191129952669144,0.03671189025044441,0.009418277069926262,0.0064834896475076675,0.021092815324664116,0.011657655239105225,0.022781873121857643,0.003988584503531456,0.027904244139790535,0.028934434056282043,0.030731867998838425,0.008659768849611282,0.04507739469408989,0.008792721666395664,0.026558062061667442,0.023169398307800293,0.0321839340031147,0.005675849970430136,0.006303934846073389,0.06700412929058075,0.014316359534859657,0.008484484627842903,0.024625683203339577,0.01180249359458685,0.01909533143043518,0.015086461789906025,0.01911323517560959,0.009796812199056149,0.038973044604063034,0.011915666051208973,0.06515680998563766,0.05602104961872101,0.010438724420964718,0.016201520338654518,0.030075082555413246,0.008021929301321507,0.019008830189704895,0.006832403596490622,0.005192761775106192,0.005870218854397535,0.011612394824624062,0.007550081703811884,0.010420730337500572,0.006148612592369318,0.008105128072202206,0.0062673320062458515,0.006670421455055475,0.006609492935240269,0.006384687032550573,0.006232801359146833,0.006849733181297779,0.006971676833927631,0.00901859626173973,0.008811317384243011,0.006404111161828041,0.007501707877963781,0.014681500382721424,0.006896391976624727,0.0176515132188797,0.015621371567249298,0.023542087525129318,0.031952861696481705,0.07655087858438492,0.03966482728719711,0.3723113536834717,0.27311643958091736,0.06149047985672951,0.059046559035778046,0.057695452123880386,0.10269708931446075,0.016057545319199562,0.026130488142371178,0.012092686258256435,0.013577820733189583,0.010987186804413795,0.010596352629363537,0.014395970851182938,0.00932276900857687,0.021948665380477905,0.00939308013767004,0.017877081409096718,0.0198950357735157,0.011085287667810917,0.013404353521764278,0.012631264515221119,0.01136161107569933,0.014562582597136497,0.013231424614787102,0.02268632873892784,0.005549110006541014,0.026688985526561737,0.014139247126877308,0.037497181445360184,0.01367910671979189,0.006464730016887188,0.037346720695495605,0.01280571985989809,0.020534638315439224,0.014701765961945057,0.013008087873458862,0.0065107387490570545,0.010512248612940311,0.006623517256230116,0.007166381925344467,0.006585112772881985,0.0051337238401174545,0.00920150801539421,0.002541900612413883,0.022677816450595856,0.014246709644794464,0.014880860224366188,0.02848074771463871,0.010677142068743706,0.007753313984721899,0.03156987577676773,0.022565580904483795,0.11505825817584991,0.028538430109620094,0.07371177524328232,0.04185466468334198,0.02025957778096199,0.007183595094829798,0.0075045377016067505,0.010407094843685627,0.023666266351938248,0.02469400316476822,0.021658148616552353,0.0020461678504943848,0.04184671491384506,0.03217332437634468,0.03403712436556816,0.0034023558255285025,0.005979832261800766,0.011134707368910313,0.018538828939199448,0.026538904756307602,0.021748773753643036,0.006561570335179567,0.011721947230398655,0.015035909600555897,0.004852361511439085,0.016341915354132652,0.02181287668645382,0.006502273492515087,0.027556413784623146,0.03560106083750725,0.041035521775484085,0.04256802052259445,0.0658147856593132],\"sizemode\":\"area\",\"sizeref\":0.004145191311836243,\"symbol\":\"circle\",\"line\":{\"width\":0}},\"mode\":\"markers\",\"name\":\"2\",\"scene\":\"scene\",\"showlegend\":true,\"x\":[-2152.39990234375,-2157.449951171875,-2162.5,-2167.550048828125,-2172.60009765625,-2177.64990234375,-2182.699951171875,-2187.75,-2192.800048828125,-2197.85009765625,-2202.89990234375,-2207.949951171875,-2213.0,-2218.050048828125,-2223.10009765625,-2228.14990234375,-2233.199951171875,-2238.25,-2243.300048828125,-2248.35009765625,-2253.39990234375,-2258.449951171875,-2263.5,-2268.550048828125,-2273.60009765625,-2278.64990234375,-2283.699951171875,-2288.75,-2293.800048828125,-2298.85009765625,-2303.89990234375,-2308.949951171875,-2314.0,-2319.050048828125,-2324.10009765625,-2329.14990234375,-2334.199951171875,-2339.25,-2344.300048828125,-2349.35009765625,-2334.199951171875,-2334.199951171875,-2334.199951171875,-2319.050048828125,-2324.10009765625,-2329.14990234375,-2314.0,-2339.25,-2339.25,-2324.10009765625,-2324.10009765625,-2324.10009765625,-2349.35009765625,-2324.10009765625,-2248.35009765625,-2152.39990234375,-2157.449951171875,-2162.5,-2167.550048828125,-2172.60009765625,-2177.64990234375,-2182.699951171875,-2187.75,-2192.800048828125,-2197.85009765625,-2202.89990234375,-2207.949951171875,-2213.0,-2218.050048828125,-2223.10009765625,-2228.14990234375,-2233.199951171875,-2238.25,-2243.300048828125,-2248.35009765625,-2253.39990234375,-2258.449951171875,-2263.5,-2268.550048828125,-2273.60009765625,-2278.64990234375,-2283.699951171875,-2288.75,-2293.800048828125,-2298.85009765625,-2303.89990234375,-2308.949951171875,-2314.0,-2319.050048828125,-2324.10009765625,-2329.14990234375,-2334.199951171875,-2339.25,-2344.300048828125,-2349.35009765625,-2334.199951171875,-2344.300048828125,-2344.300048828125,-2334.199951171875,-2308.949951171875,-2263.5,-2302.3466796875,-2253.39990234375,-2268.550048828125,-2298.85009765625,-2228.14990234375,-2152.39990234375,-2157.449951171875,-2162.5,-2167.550048828125,-2172.60009765625,-2177.64990234375,-2182.699951171875,-2152.39990234375,-2157.449951171875,-2162.5,-2167.550048828125,-2172.60009765625,-2177.64990234375,-2182.699951171875,-2187.75,-2192.800048828125,-2197.85009765625,-2202.89990234375,-2207.949951171875,-2213.0,-2218.050048828125,-2223.10009765625,-2228.14990234375,-2233.199951171875,-2238.25,-2243.300048828125,-2248.35009765625,-2253.39990234375,-2258.449951171875,-2263.5,-2268.550048828125,-2273.60009765625,-2278.64990234375,-2283.699951171875,-2288.75,-2293.800048828125,-2172.60009765625,-2278.64990234375,-2207.949951171875,-2278.64990234375,-2207.949951171875,-2298.85009765625,-2298.85009765625,-2293.800048828125,-2298.85009765625,-2334.199951171875,-2209.792236328125,-2209.792236328125,-2303.89990234375,-2298.85009765625,-2293.800048828125,-2288.75,-2303.89990234375,-2308.949951171875,-2314.0,-2319.050048828125,-2324.10009765625,-2329.14990234375,-2334.199951171875,-2339.25,-2344.300048828125,-2349.35009765625,-2258.449951171875,-2243.300048828125,-2238.25,-2233.199951171875,-2314.0,-2324.10009765625,-2303.89990234375,-2308.949951171875,-2314.0,-2319.050048828125,-2324.10009765625,-2329.14990234375,-2334.199951171875,-2339.25,-2344.300048828125,-2349.35009765625,-2253.39990234375,-2258.449951171875,-2263.5,-2268.550048828125,-2273.60009765625,-2278.64990234375,-2283.699951171875,-2288.75,-2293.800048828125,-2298.85009765625,-2303.89990234375,-2308.949951171875,-2314.0,-2319.050048828125,-2324.10009765625,-2329.14990234375,-2334.199951171875,-2329.14990234375,-2248.35009765625,-2253.39990234375,-2152.39990234375,-2157.449951171875,-2162.5,-2167.550048828125,-2172.60009765625,-2177.64990234375,-2182.699951171875,-2187.75,-2192.800048828125,-2197.85009765625,-2202.89990234375,-2207.949951171875,-2213.0,-2218.050048828125,-2223.10009765625,-2228.14990234375,-2233.199951171875,-2238.25,-2243.300048828125,-2248.35009765625,-2253.39990234375,-2258.449951171875,-2263.5,-2268.550048828125,-2273.60009765625,-2278.64990234375,-2283.699951171875,-2288.75,-2293.800048828125,-2298.85009765625,-2303.89990234375,-2308.949951171875,-2314.0,-2319.050048828125,-2324.10009765625,-2345.69677734375,-2339.25,-2324.10009765625,-2177.64990234375,-2334.199951171875,-2334.199951171875,-2334.199951171875,-2303.89990234375,-2324.10009765625,-2329.14990234375,-2324.10009765625,-2319.050048828125,-2319.050048828125,-2329.14990234375,-2319.050048828125,-2314.0,-2314.0,-2314.0,-2303.89990234375,-2324.10009765625,-2319.050048828125,-2314.0,-2308.949951171875,-2303.89990234375,-2213.0,-2278.64990234375,-2314.0,-2314.0,-2319.050048828125,-2314.0,-2308.949951171875,-2329.14990234375,-2334.199951171875,-2339.25,-2344.300048828125,-2349.35009765625,-2314.0,-2329.14990234375,-2329.14990234375,-2334.199951171875,-2339.25,-2344.300048828125,-2349.35009765625,-2283.699951171875,-2283.699951171875,-2192.800048828125,-2152.39990234375,-2152.39990234375,-2157.449951171875,-2162.5,-2167.550048828125,-2172.60009765625,-2202.89990234375,-2167.550048828125,-2172.60009765625,-2202.89990234375,-2187.75,-2207.949951171875,-2167.550048828125,-2182.699951171875,-2202.89990234375,-2182.699951171875,-2182.699951171875,-2187.75,-2192.800048828125,-2218.050048828125,-2197.85009765625,-2202.89990234375,-2202.89990234375,-2202.89990234375,-2202.89990234375,-2192.800048828125,-2197.85009765625,-2207.949951171875,-2213.0,-2218.050048828125,-2202.89990234375,-2213.0,-2223.10009765625,-2303.89990234375,-2283.699951171875,-2283.699951171875,-2228.14990234375,-2233.199951171875,-2228.14990234375,-2268.550048828125,-2293.800048828125,-2192.800048828125,-2207.949951171875,-2213.0,-2228.14990234375,-2177.64990234375,-2172.60009765625,-2218.050048828125,-2218.050048828125,-2157.449951171875,-2167.550048828125,-2167.550048828125,-2172.60009765625,-2177.64990234375,-2177.64990234375,-2218.050048828125,-2162.5,-2172.60009765625,-2177.64990234375,-2182.699951171875,-2187.75,-2197.85009765625,-2162.5,-2187.75,-2248.35009765625,-2228.14990234375,-2283.699951171875,-2192.800048828125,-2192.800048828125,-2334.199951171875,-2187.75,-2213.0,-2213.0,-2213.0,-2213.0,-2298.85009765625,-2192.800048828125,-2187.75,-2187.75,-2197.85009765625,-2172.60009765625,-2233.199951171875,-2192.800048828125,-2197.85009765625,-2202.89990234375,-2207.949951171875,-2213.0,-2213.0,-2213.0,-2228.14990234375,-2228.14990234375,-2258.449951171875,-2248.35009765625,-2207.949951171875,-2228.14990234375,-2243.300048828125,-2243.300048828125,-2213.0,-2213.0,-2187.75,-2182.699951171875,-2213.0,-2197.85009765625,-2213.0,-2213.0,-2207.949951171875,-2238.25,-2248.35009765625,-2223.10009765625,-2233.199951171875,-2233.199951171875,-2228.14990234375,-2207.949951171875,-2172.60009765625,-2192.800048828125,-2192.800048828125,-2192.800048828125,-2192.800048828125,-2182.699951171875,-2192.800048828125,-2177.64990234375,-2192.800048828125,-2248.35009765625,-2177.64990234375,-2182.699951171875,-2187.75,-2192.800048828125,-2197.85009765625,-2248.35009765625,-2187.75,-2283.699951171875,-2283.699951171875,-2192.800048828125,-2187.75,-2182.699951171875,-2182.699951171875,-2197.85009765625,-2197.85009765625,-2197.85009765625,-2207.949951171875,-2152.39990234375,-2157.449951171875,-2162.5,-2167.550048828125,-2172.60009765625,-2177.64990234375,-2182.699951171875,-2187.75,-2192.800048828125,-2197.85009765625,-2202.89990234375,-2207.949951171875,-2213.0,-2218.050048828125,-2223.10009765625,-2228.14990234375,-2233.199951171875,-2238.25,-2243.300048828125,-2248.35009765625,-2253.39990234375,-2258.449951171875,-2263.5,-2268.550048828125,-2273.60009765625,-2278.64990234375,-2283.699951171875,-2288.75,-2293.800048828125,-2303.89990234375,-2288.75,-2293.800048828125,-2298.85009765625,-2303.89990234375,-2283.699951171875,-2263.5,-2268.550048828125,-2273.60009765625,-2278.64990234375,-2283.699951171875,-2288.75,-2293.800048828125,-2298.85009765625,-2303.89990234375,-2308.949951171875,-2314.0,-2319.050048828125,-2324.10009765625,-2329.14990234375,-2334.199951171875,-2339.25,-2344.300048828125,-2349.35009765625,-791.6375732421875,-917.19775390625,-787.2208251953125,-808.6793212890625,-1824.3299560546875,-1828.703369140625,-1833.0767822265625,-1835.6268310546875,-1841.8236083984375,-1846.197021484375,-1850.570556640625,-1861.1407470703125,-1859.3173828125,-1857.493896484375,-1861.8673095703125,-1920.175048828125,-1870.6142578125,-1881.9111328125,-1938.7515869140625,-1874.9876708984375,-1892.4813232421875,-1837.4501953125,-1837.4501953125,-1836.7236328125,-1845.8267822265625,-1840.000244140625,-2140.530029296875,-2144.9033203125,-2149.27685546875,-2156.2001953125,-2160.57373046875,-2166.7705078125,-2198.111083984375,-2158.023681640625,-2160.57373046875,-2158.023681640625,-2154.376708984375,-2151.826904296875,-2176.243896484375,-2178.7939453125,-2156.2001953125,-2197.74072265625,-2197.74072265625,-2202.1142578125,-2234.181396484375,-2151.826904296875,-2151.826904296875,-2176.243896484375,-2180.617431640625,-2183.16748046875,-2193.737548828125,-2200.6611328125,-2184.99072265625,-2269.5390625,-2205.034423828125,-102.0,-102.0,-96.9000015258789,-96.9000015258789,-96.9000015258789],\"y\":[-285.6000061035156,-290.70001220703125,-290.70001220703125,-290.70001220703125,-290.70001220703125,-290.70001220703125,-290.70001220703125,-290.70001220703125,-290.70001220703125,-290.70001220703125,-295.79998779296875,-295.79998779296875,-295.79998779296875,-295.79998779296875,-295.79998779296875,-295.79998779296875,-295.79998779296875,-295.79998779296875,-295.79998779296875,-300.8999938964844,-300.8999938964844,-300.8999938964844,-300.8999938964844,-300.8999938964844,-300.8999938964844,-300.8999938964844,-300.8999938964844,-300.8999938964844,-306.0,-306.0,-306.0,-306.0,-306.0,-306.0,-306.0,-306.0,-306.0,-311.1000061035156,-311.1000061035156,-311.1000061035156,-316.20001220703125,-295.79998779296875,-311.1000061035156,-306.0,-311.1000061035156,-311.1000061035156,-351.8999938964844,-311.1000061035156,-316.20001220703125,-316.20001220703125,-306.0,-306.0,-306.0,-300.8999938964844,-255.0,-209.10000610351562,-209.10000610351562,-209.10000610351562,-209.10000610351562,-209.10000610351562,-209.10000610351562,-209.10000610351562,-209.10000610351562,-209.10000610351562,-209.10000610351562,-214.1999969482422,-214.1999969482422,-214.1999969482422,-214.1999969482422,-214.1999969482422,-214.1999969482422,-214.1999969482422,-214.1999969482422,-214.1999969482422,-214.1999969482422,-214.1999969482422,-214.1999969482422,-214.1999969482422,-214.1999969482422,-214.1999969482422,-214.1999969482422,-214.1999969482422,-214.1999969482422,-214.1999969482422,-214.1999969482422,-214.1999969482422,-219.3000030517578,-219.3000030517578,-219.3000030517578,-219.3000030517578,-219.3000030517578,-219.3000030517578,-219.3000030517578,-219.3000030517578,-219.3000030517578,-163.1999969482422,-158.10000610351562,-158.10000610351562,-147.89999389648438,-326.3999938964844,-306.0,710.9183959960938,-66.30000305175781,-107.0999984741211,-244.8000030517578,-433.5,-443.70001220703125,-453.8999938964844,-453.8999938964844,-459.0,-464.1000061035156,-464.1000061035156,-469.20001220703125,-402.8999938964844,-402.8999938964844,-402.8999938964844,-408.0,-408.0,-408.0,-413.1000061035156,-413.1000061035156,-413.1000061035156,-413.1000061035156,-418.20001220703125,-418.20001220703125,-418.20001220703125,-423.29998779296875,-423.29998779296875,-423.29998779296875,-423.29998779296875,-428.3999938964844,-428.3999938964844,-428.3999938964844,-428.3999938964844,-433.5,-433.5,-433.5,-433.5,-433.5,-438.6000061035156,-438.6000061035156,-438.6000061035156,-530.4000244140625,-453.8999938964844,-535.5,-566.0999755859375,-515.0999755859375,-464.1000061035156,-438.6000061035156,-433.5,-438.6000061035156,-357.0,-739.9276123046875,-739.9276123046875,-459.0,-443.70001220703125,-428.3999938964844,-423.29998779296875,-438.6000061035156,-438.6000061035156,-438.6000061035156,-438.6000061035156,-438.6000061035156,-438.6000061035156,-433.5,-433.5,-433.5,-433.5,-438.6000061035156,-418.20001220703125,-418.20001220703125,-413.1000061035156,-357.0,-346.79998779296875,-443.70001220703125,-443.70001220703125,-443.70001220703125,-448.79998779296875,-448.79998779296875,-448.79998779296875,-448.79998779296875,-453.8999938964844,-453.8999938964844,-453.8999938964844,-433.5,-433.5,-433.5,-438.6000061035156,-438.6000061035156,-443.70001220703125,-443.70001220703125,-448.79998779296875,-448.79998779296875,-453.8999938964844,-453.8999938964844,-459.0,-459.0,-464.1000061035156,-469.20001220703125,-474.29998779296875,-479.3999938964844,-499.79998779296875,-428.3999938964844,-433.5,-392.70001220703125,-392.70001220703125,-397.79998779296875,-397.79998779296875,-397.79998779296875,-397.79998779296875,-397.79998779296875,-402.8999938964844,-402.8999938964844,-402.8999938964844,-402.8999938964844,-402.8999938964844,-408.0,-408.0,-408.0,-408.0,-413.1000061035156,-413.1000061035156,-413.1000061035156,-413.1000061035156,-413.1000061035156,-418.20001220703125,-418.20001220703125,-418.20001220703125,-418.20001220703125,-418.20001220703125,-423.29998779296875,-423.29998779296875,-423.29998779296875,-423.29998779296875,-428.3999938964844,-428.3999938964844,-428.3999938964844,-428.3999938964844,-428.3999938964844,-635.833984375,-402.8999938964844,-336.6000061035156,-346.79998779296875,-510.0,-515.0999755859375,-459.0,-402.8999938964844,-428.3999938964844,-433.5,-428.3999938964844,-428.3999938964844,-402.8999938964844,-453.8999938964844,-423.29998779296875,-413.1000061035156,-413.1000061035156,-413.1000061035156,-464.1000061035156,-433.5,-433.5,-433.5,-433.5,-438.6000061035156,-520.2000122070312,-504.8999938964844,-525.2999877929688,-520.2000122070312,-520.2000122070312,-535.5,-540.5999755859375,-428.3999938964844,-428.3999938964844,-428.3999938964844,-428.3999938964844,-428.3999938964844,-571.2000122070312,-581.4000244140625,-433.5,-433.5,-433.5,-433.5,-438.6000061035156,-428.3999938964844,-433.5,-402.8999938964844,-387.6000061035156,-387.6000061035156,-392.70001220703125,-392.70001220703125,-392.70001220703125,-397.79998779296875,-443.70001220703125,-392.70001220703125,-392.70001220703125,-397.79998779296875,-397.79998779296875,-402.8999938964844,-387.6000061035156,-392.70001220703125,-382.5,-392.70001220703125,-392.70001220703125,-392.70001220703125,-392.70001220703125,-392.70001220703125,-392.70001220703125,-392.70001220703125,-397.79998779296875,-397.79998779296875,-392.70001220703125,-397.79998779296875,-397.79998779296875,-408.0,-408.0,-408.0,-402.8999938964844,-397.79998779296875,-402.8999938964844,-413.1000061035156,-413.1000061035156,-413.1000061035156,-397.79998779296875,-402.8999938964844,-413.1000061035156,-413.1000061035156,-423.29998779296875,-402.8999938964844,-408.0,-408.0,-413.1000061035156,-392.70001220703125,-387.6000061035156,-402.8999938964844,-402.8999938964844,-372.29998779296875,-372.29998779296875,-392.70001220703125,-372.29998779296875,-377.3999938964844,-387.6000061035156,-387.6000061035156,-372.29998779296875,-377.3999938964844,-377.3999938964844,-377.3999938964844,-377.3999938964844,-387.6000061035156,-387.6000061035156,-377.3999938964844,-392.70001220703125,-372.29998779296875,-336.6000061035156,-402.8999938964844,-382.5,-433.5,-372.29998779296875,-377.3999938964844,-377.3999938964844,-377.3999938964844,-372.29998779296875,-392.70001220703125,-377.3999938964844,-382.5,-387.6000061035156,-382.5,-387.6000061035156,-408.0,-377.3999938964844,-382.5,-382.5,-382.5,-377.3999938964844,-372.29998779296875,-377.3999938964844,-413.1000061035156,-413.1000061035156,-382.5,-392.70001220703125,-387.6000061035156,-387.6000061035156,-387.6000061035156,-392.70001220703125,-382.5,-397.79998779296875,-382.5,-382.5,-382.5,-377.3999938964844,-372.29998779296875,-377.3999938964844,-382.5,-443.70001220703125,-428.3999938964844,-382.5,-392.70001220703125,-392.70001220703125,-372.29998779296875,-387.6000061035156,-377.3999938964844,-377.3999938964844,-372.29998779296875,-362.1000061035156,-357.0,-377.3999938964844,-402.8999938964844,-372.29998779296875,-413.1000061035156,-377.3999938964844,66.30000305175781,66.30000305175781,66.30000305175781,66.30000305175781,66.30000305175781,66.30000305175781,61.20000076293945,81.5999984741211,86.69999694824219,71.4000015258789,66.30000305175781,66.30000305175781,66.30000305175781,15.300000190734863,15.300000190734863,66.30000305175781,66.30000305175781,249.89999389648438,249.89999389648438,255.0,260.1000061035156,260.1000061035156,265.20001220703125,270.29998779296875,270.29998779296875,275.3999938964844,275.3999938964844,280.5,285.6000061035156,285.6000061035156,290.70001220703125,295.79998779296875,300.8999938964844,300.8999938964844,306.0,311.1000061035156,311.1000061035156,316.20001220703125,321.29998779296875,326.3999938964844,336.6000061035156,346.79998779296875,357.0,367.20001220703125,377.3999938964844,397.79998779296875,433.5,392.70001220703125,402.8999938964844,408.0,413.1000061035156,367.20001220703125,321.29998779296875,326.3999938964844,326.3999938964844,326.3999938964844,331.5,331.5,336.6000061035156,336.6000061035156,341.70001220703125,341.70001220703125,346.79998779296875,346.79998779296875,346.79998779296875,351.8999938964844,351.8999938964844,357.0,357.0,357.0,-2034.156494140625,-1955.8331298828125,-2036.70654296875,-2053.4736328125,1165.1678466796875,1167.69287109375,1170.2178955078125,1165.8011474609375,1175.267822265625,1177.7928466796875,1180.31787109375,1192.3095703125,1185.367919921875,1178.4261474609375,1180.951171875,1191.0592041015625,1186.0010986328125,1186.6343994140625,1148.78369140625,1188.526123046875,1198.6260986328125,1172.742919921875,1172.742919921875,1184.101318359375,1148.1341552734375,1168.326171875,617.493408203125,620.0183715820312,622.5433959960938,620.6516723632812,623.1766967773438,632.6433715820312,638.9599609375,627.5933837890625,623.1766967773438,627.5933837890625,613.7099609375,618.1266479492188,626.3349609375,621.918212890625,620.6516723632812,609.30126953125,609.30126953125,611.8262939453125,606.7843627929688,618.1266479492188,618.1266479492188,626.3349609375,628.8599243164062,624.4432373046875,636.4349365234375,634.543212890625,631.3849487304688,656.6430053710938,637.0682373046875,2152.39990234375,2157.449951171875,2162.5,2167.550048828125,2172.60009765625],\"z\":[-637.5,-637.5,-637.5,-642.5999755859375,-642.5999755859375,-642.5999755859375,-642.5999755859375,-647.7000122070312,-647.7000122070312,-647.7000122070312,-652.7999877929688,-652.7999877929688,-652.7999877929688,-657.9000244140625,-657.9000244140625,-657.9000244140625,-663.0,-663.0,-663.0,-668.0999755859375,-668.0999755859375,-668.0999755859375,-668.0999755859375,-673.2000122070312,-673.2000122070312,-673.2000122070312,-678.2999877929688,-678.2999877929688,-678.2999877929688,-683.4000244140625,-683.4000244140625,-683.4000244140625,-688.5,-688.5,-688.5,-693.5999755859375,-693.5999755859375,-693.5999755859375,-693.5999755859375,-698.7000122070312,-693.5999755859375,-693.5999755859375,-693.5999755859375,-693.5999755859375,-688.5,-693.5999755859375,-647.7000122070312,-698.7000122070312,-693.5999755859375,-688.5,-693.5999755859375,-698.7000122070312,-749.7000122070312,-693.5999755859375,-652.7999877929688,-535.5,-535.5,-535.5,-540.5999755859375,-540.5999755859375,-540.5999755859375,-540.5999755859375,-545.7000122070312,-545.7000122070312,-545.7000122070312,-545.7000122070312,-550.7999877929688,-550.7999877929688,-550.7999877929688,-550.7999877929688,-555.9000244140625,-555.9000244140625,-555.9000244140625,-561.0,-561.0,-561.0,-561.0,-566.0999755859375,-566.0999755859375,-566.0999755859375,-566.0999755859375,-571.2000122070312,-571.2000122070312,-571.2000122070312,-576.2999877929688,-576.2999877929688,-576.2999877929688,-576.2999877929688,-581.4000244140625,-581.4000244140625,-581.4000244140625,-581.4000244140625,-586.5,-586.5,-586.5,-617.0999755859375,-622.2000122070312,-627.2999877929688,-698.7000122070312,-856.7999877929688,-591.5999755859375,-907.7999877929688,-663.0,-698.7000122070312,-861.9000244140625,-770.0999755859375,-872.0999755859375,-882.2999877929688,-887.4000244140625,-887.4000244140625,-892.5,-897.5999755859375,-902.7000122070312,-795.5999755859375,-800.7000122070312,-800.7000122070312,-805.7999877929688,-810.9000244140625,-810.9000244140625,-816.0,-816.0,-821.0999755859375,-821.0999755859375,-826.2000122070312,-826.2000122070312,-831.2999877929688,-831.2999877929688,-836.4000244140625,-836.4000244140625,-841.5,-841.5,-846.5999755859375,-846.5999755859375,-851.7000122070312,-856.7999877929688,-856.7999877929688,-861.9000244140625,-867.0,-867.0,-872.0999755859375,-877.2000122070312,-877.2000122070312,-790.5,-938.4000244140625,-979.2000122070312,-969.0,-1091.4000244140625,-867.0,-861.9000244140625,-882.2999877929688,-882.2999877929688,-918.0,-1060.800048828125,-1055.699951171875,-928.2000122070312,-882.2999877929688,-872.0999755859375,-861.9000244140625,-892.5,-892.5,-897.5999755859375,-902.7000122070312,-902.7000122070312,-907.7999877929688,-912.9000244140625,-912.9000244140625,-918.0,-923.0999755859375,-856.7999877929688,-851.7000122070312,-867.0,-861.9000244140625,-1116.9000244140625,-1071.0,-887.4000244140625,-887.4000244140625,-892.5,-892.5,-897.5999755859375,-897.5999755859375,-902.7000122070312,-902.7000122070312,-907.7999877929688,-907.7999877929688,-846.5999755859375,-846.5999755859375,-846.5999755859375,-846.5999755859375,-841.5,-841.5,-841.5,-841.5,-841.5,-841.5,-841.5,-836.4000244140625,-836.4000244140625,-836.4000244140625,-836.4000244140625,-836.4000244140625,-836.4000244140625,-897.5999755859375,-851.7000122070312,-851.7000122070312,-785.4000244140625,-785.4000244140625,-785.4000244140625,-790.5,-790.5,-790.5,-795.5999755859375,-795.5999755859375,-795.5999755859375,-800.7000122070312,-800.7000122070312,-800.7000122070312,-805.7999877929688,-805.7999877929688,-805.7999877929688,-810.9000244140625,-810.9000244140625,-810.9000244140625,-816.0,-816.0,-816.0,-821.0999755859375,-821.0999755859375,-821.0999755859375,-826.2000122070312,-826.2000122070312,-826.2000122070312,-831.2999877929688,-831.2999877929688,-831.2999877929688,-831.2999877929688,-836.4000244140625,-836.4000244140625,-836.4000244140625,-841.5,-831.2999877929688,-851.7000122070312,-933.2999877929688,-933.2999877929688,-877.2000122070312,-877.2000122070312,-841.5,-805.7999877929688,-846.5999755859375,-836.4000244140625,-826.2000122070312,-810.9000244140625,-816.0,-831.2999877929688,-851.7000122070312,-872.0999755859375,-877.2000122070312,-882.2999877929688,-821.0999755859375,-841.5,-841.5,-846.5999755859375,-846.5999755859375,-846.5999755859375,-943.5,-846.5999755859375,-872.0999755859375,-872.0999755859375,-867.0,-867.0,-867.0,-841.5,-836.4000244140625,-836.4000244140625,-831.2999877929688,-831.2999877929688,-1050.5999755859375,-1035.300048828125,-841.5,-841.5,-836.4000244140625,-836.4000244140625,-836.4000244140625,-821.0999755859375,-821.0999755859375,-800.7000122070312,-795.5999755859375,-790.5,-795.5999755859375,-800.7000122070312,-805.7999877929688,-810.9000244140625,-785.4000244140625,-800.7000122070312,-805.7999877929688,-795.5999755859375,-816.0,-826.2000122070312,-805.7999877929688,-810.9000244140625,-810.9000244140625,-816.0,-805.7999877929688,-810.9000244140625,-810.9000244140625,-816.0,-816.0,-816.0,-821.0999755859375,-816.0,-821.0999755859375,-816.0,-821.0999755859375,-826.2000122070312,-826.2000122070312,-826.2000122070312,-821.0999755859375,-826.2000122070312,-831.2999877929688,-902.7000122070312,-882.2999877929688,-877.2000122070312,-831.2999877929688,-836.4000244140625,-861.9000244140625,-861.9000244140625,-846.5999755859375,-816.0,-821.0999755859375,-821.0999755859375,-821.0999755859375,-810.9000244140625,-805.7999877929688,-826.2000122070312,-821.0999755859375,-790.5,-795.5999755859375,-790.5,-795.5999755859375,-790.5,-790.5,-805.7999877929688,-795.5999755859375,-795.5999755859375,-800.7000122070312,-800.7000122070312,-805.7999877929688,-800.7000122070312,-816.0,-800.7000122070312,-765.0,-816.0,-795.5999755859375,-851.7000122070312,-810.9000244140625,-816.0,-805.7999877929688,-826.2000122070312,-831.2999877929688,-836.4000244140625,-836.4000244140625,-923.0999755859375,-805.7999877929688,-800.7000122070312,-800.7000122070312,-805.7999877929688,-821.0999755859375,-892.5,-810.9000244140625,-810.9000244140625,-816.0,-816.0,-816.0,-821.0999755859375,-821.0999755859375,-795.5999755859375,-790.5,-856.7999877929688,-851.7000122070312,-821.0999755859375,-821.0999755859375,-846.5999755859375,-846.5999755859375,-810.9000244140625,-816.0,-805.7999877929688,-770.0999755859375,-816.0,-805.7999877929688,-816.0,-810.9000244140625,-810.9000244140625,-877.2000122070312,-826.2000122070312,-821.0999755859375,-836.4000244140625,-841.5,-826.2000122070312,-800.7000122070312,-800.7000122070312,-800.7000122070312,-800.7000122070312,-800.7000122070312,-795.5999755859375,-805.7999877929688,-821.0999755859375,-805.7999877929688,-816.0,-851.7000122070312,-1193.4000244140625,-1193.4000244140625,-1198.5,-1203.5999755859375,-1203.5999755859375,-1229.0999755859375,-1285.199951171875,-1275.0,-1280.0999755859375,-1203.5999755859375,-1193.4000244140625,-1198.5,-1203.5999755859375,-1234.199951171875,-1229.0999755859375,-1208.699951171875,-1218.9000244140625,-576.2999877929688,-581.4000244140625,-581.4000244140625,-586.5,-586.5,-586.5,-591.5999755859375,-591.5999755859375,-596.7000122070312,-596.7000122070312,-596.7000122070312,-601.7999877929688,-601.7999877929688,-606.9000244140625,-606.9000244140625,-612.0,-612.0,-612.0,-617.0999755859375,-617.0999755859375,-622.2000122070312,-622.2000122070312,-612.0,-596.7000122070312,-586.5,-566.0999755859375,-545.7000122070312,-525.2999877929688,-484.5,-459.0,-484.5,-484.5,-464.1000061035156,-448.79998779296875,-550.7999877929688,-627.2999877929688,-632.4000244140625,-642.5999755859375,-647.7000122070312,-652.7999877929688,-657.9000244140625,-663.0,-668.0999755859375,-673.2000122070312,-683.4000244140625,-688.5,-693.5999755859375,-698.7000122070312,-703.7999877929688,-708.9000244140625,-714.0,-724.2000122070312,-729.2999877929688,785.4000244140625,856.7999877929688,785.4000244140625,810.9000244140625,-979.2000122070312,-984.2999877929688,-984.2999877929688,-984.2999877929688,-989.4000244140625,-994.5,-994.5,-999.5999755859375,-999.5999755859375,-999.5999755859375,-999.5999755859375,-1020.0,-1004.7000122070312,-1014.9000244140625,-1065.9000244140625,-1014.9000244140625,-1025.0999755859375,-984.2999877929688,-989.4000244140625,-989.4000244140625,-994.5,-989.4000244140625,-708.9000244140625,-714.0,-714.0,-714.0,-719.0999755859375,-719.0999755859375,-729.2999877929688,-719.0999755859375,-714.0,-714.0,-714.0,-714.0,-724.2000122070312,-719.0999755859375,-708.9000244140625,-724.2000122070312,-729.2999877929688,-719.0999755859375,-714.0,-719.0999755859375,-708.9000244140625,-719.0999755859375,-719.0999755859375,-724.2000122070312,-714.0,-724.2000122070312,-724.2000122070312,-739.5,-729.2999877929688,1795.199951171875,1800.300048828125,1805.4000244140625,1810.5,1815.5999755859375],\"type\":\"scatter3d\"},{\"customdata\":[[2.0],[2.0],[2.0],[2.0],[2.0],[2.0],[2.0],[2.0],[2.0],[2.0],[2.0],[2.0],[2.0],[2.0],[2.0],[2.0],[2.0],[2.0],[2.0],[2.0],[2.0],[2.0],[2.0],[2.0],[2.0],[2.0],[2.0],[2.0],[2.0],[2.0],[2.0],[2.0],[2.0],[2.0],[2.0],[2.0],[2.0],[2.0],[2.0],[2.0],[2.0],[2.0],[2.0],[2.0],[2.0],[2.0],[2.0],[2.0],[2.0],[2.0],[2.0],[2.0],[2.0],[2.0],[2.0],[2.0],[2.0],[2.0],[2.0],[2.0],[2.0],[2.0],[2.0],[2.0],[2.0],[2.0],[2.0],[2.0],[2.0],[2.0],[2.0],[2.0],[2.0],[2.0],[2.0],[2.0],[2.0],[2.0],[2.0],[2.0],[2.0],[2.0],[2.0],[2.0],[2.0],[2.0],[2.0],[2.0],[2.0],[2.0],[2.0],[2.0],[2.0],[2.0],[2.0],[2.0],[2.0],[2.0],[2.0],[2.0],[2.0],[2.0],[2.0],[2.0],[2.0],[2.0],[2.0],[2.0],[2.0],[2.0],[2.0],[2.0],[2.0],[2.0],[2.0],[2.0],[2.0],[2.0],[2.0],[2.0],[2.0],[2.0],[2.0],[2.0],[2.0],[2.0],[2.0],[2.0],[2.0],[2.0],[2.0],[2.0],[2.0],[2.0],[2.0],[2.0],[2.0],[2.0],[2.0],[2.0],[2.0],[2.0],[2.0],[2.0],[2.0],[2.0],[2.0],[2.0],[2.0],[2.0],[2.0],[2.0],[2.0],[2.0],[2.0],[2.0],[2.0],[2.0],[2.0],[2.0],[2.0],[2.0],[2.0],[2.0],[2.0],[2.0],[2.0],[2.0],[2.0],[2.0],[2.0],[2.0],[2.0],[2.0],[2.0],[2.0],[2.0],[2.0],[2.0],[2.0],[2.0],[2.0],[2.0],[2.0],[2.0],[2.0],[2.0],[2.0],[2.0],[2.0],[2.0],[2.0],[2.0],[2.0],[2.0],[2.0],[2.0],[2.0],[2.0],[2.0],[2.0],[2.0],[2.0],[2.0],[2.0],[2.0],[2.0],[2.0],[2.0],[2.0],[2.0],[2.0],[2.0],[2.0],[2.0],[2.0],[2.0],[2.0],[2.0],[2.0],[2.0],[2.0],[2.0],[2.0],[2.0],[2.0],[2.0],[2.0],[2.0],[2.0],[2.0],[2.0],[2.0],[2.0],[2.0],[2.0],[2.0],[2.0],[2.0],[2.0],[2.0],[2.0],[2.0],[2.0],[2.0],[2.0],[2.0],[2.0],[2.0],[2.0],[2.0],[15.0],[15.0],[15.0],[15.0],[15.0],[15.0],[15.0],[15.0],[15.0],[15.0],[15.0],[15.0],[15.0],[15.0],[15.0],[15.0],[15.0],[15.0],[15.0],[15.0],[15.0],[15.0],[15.0],[15.0],[15.0],[15.0],[15.0],[15.0],[15.0],[15.0],[15.0],[15.0],[15.0],[15.0],[15.0],[15.0],[15.0],[15.0],[15.0],[15.0],[15.0],[15.0],[15.0],[15.0],[15.0],[15.0],[15.0],[15.0],[15.0],[15.0],[15.0],[15.0],[15.0],[15.0],[15.0],[15.0],[15.0],[15.0],[15.0],[15.0],[15.0],[15.0],[15.0],[15.0],[15.0],[15.0],[15.0],[15.0],[15.0],[15.0],[15.0],[15.0],[15.0],[15.0],[15.0],[15.0],[15.0],[15.0],[15.0],[15.0],[15.0],[15.0],[15.0],[15.0],[15.0],[15.0],[15.0],[15.0],[15.0],[15.0],[15.0],[15.0],[15.0],[15.0],[15.0],[15.0],[15.0],[15.0],[15.0],[15.0],[15.0],[15.0],[15.0],[15.0],[15.0],[15.0],[15.0],[15.0],[15.0],[15.0],[15.0],[15.0],[15.0],[15.0],[15.0],[15.0],[15.0],[15.0],[15.0],[15.0],[15.0],[15.0],[15.0],[15.0],[15.0],[15.0],[15.0],[15.0],[15.0],[15.0],[15.0],[15.0],[15.0],[15.0],[15.0],[15.0],[15.0],[0.0],[0.0],[23.0],[23.0],[23.0],[23.0],[23.0],[23.0],[23.0],[23.0],[22.0],[22.0],[22.0],[22.0],[22.0],[22.0],[22.0],[22.0],[22.0],[22.0],[22.0],[22.0],[22.0],[22.0],[22.0],[22.0],[22.0],[22.0],[22.0],[12.0],[12.0],[12.0],[12.0],[12.0],[12.0],[12.0],[12.0],[12.0],[12.0],[12.0],[12.0],[22.0],[22.0],[22.0],[15.0],[15.0],[15.0],[15.0],[15.0],[15.0],[15.0],[15.0],[15.0],[2.0],[2.0],[2.0],[2.0],[2.0],[2.0],[2.0],[2.0],[2.0],[2.0],[2.0],[2.0],[2.0],[2.0],[2.0],[2.0],[2.0],[2.0],[2.0],[2.0],[2.0],[2.0],[2.0],[2.0],[2.0],[2.0],[2.0],[2.0],[2.0],[2.0],[2.0],[2.0],[2.0]],\"hovertemplate\":\"color=3\\u003cbr\\u003eX=%{x}\\u003cbr\\u003eY=%{y}\\u003cbr\\u003eZ=%{z}\\u003cbr\\u003efeatures=%{marker.size}\\u003cbr\\u003etIdx=%{customdata[0]}\\u003cextra\\u003e\\u003c\\u002fextra\\u003e\",\"legendgroup\":\"3\",\"marker\":{\"color\":\"green\",\"size\":[0.029362179338932037,0.02016696333885193,0.021772446110844612,0.022323409095406532,0.023990517482161522,0.02105007693171501,0.02400636486709118,0.046872563660144806,0.02295524626970291,0.025599844753742218,0.02107059769332409,0.03135664016008377,0.029346823692321777,0.08921535313129425,0.03570367023348808,0.022756244987249374,0.020651977509260178,0.025904381647706032,0.03067283146083355,0.26861947774887085,0.1680293083190918,0.12714359164237976,0.1042448952794075,0.16966618597507477,0.1045728549361229,0.03557629883289337,0.01837271824479103,0.09050913155078888,0.16600939631462097,0.12384264171123505,0.017956169322133064,0.05062154680490494,0.05405240133404732,0.061762817203998566,0.01498421560972929,0.09489801526069641,0.06790217012166977,0.05118022859096527,0.025531494989991188,0.027093689888715744,0.03755321726202965,0.03147970512509346,0.02946855127811432,0.13363415002822876,0.10549401491880417,0.12280997633934021,0.030432557687163353,0.07661797106266022,0.03387318551540375,0.01540678832679987,0.05657027289271355,0.15273278951644897,0.08999427407979965,0.02061242237687111,0.023192035034298897,0.04297899082303047,0.2845243811607361,0.02053796872496605,0.030648017302155495,0.06662090867757797,0.015721654519438744,0.6367629170417786,0.016348673030734062,0.0315360352396965,0.04980422556400299,0.050241149961948395,0.02979648858308792,0.017620962113142014,0.19758537411689758,0.020275743678212166,0.027250483632087708,0.02289755269885063,0.17945405840873718,0.017161782830953598,0.05881255492568016,0.6616764664649963,0.1551494598388672,0.031559888273477554,0.6122762560844421,0.3159502446651459,1.2339757680892944,0.06896711885929108,0.3829710781574249,0.12719972431659698,0.1520068496465683,0.015010842122137547,0.06005468592047691,0.05028250813484192,0.060613516718149185,0.029259301722049713,0.0643024817109108,0.1261979192495346,0.22758658230304718,0.039745546877384186,0.028829555958509445,0.13238291442394257,0.12180387228727341,0.041130829602479935,0.1251007616519928,0.041899845004081726,1.0677545070648193,0.8612387180328369,0.020868733525276184,0.05636421591043472,0.02680680900812149,0.03359337896108627,0.036997079849243164,0.017392689362168312,0.04375143721699715,0.07236295193433762,0.10271332412958145,0.17318439483642578,0.12432552874088287,0.01242684293538332,0.05979539826512337,0.055072635412216187,0.022421110421419144,0.027738334611058235,0.0221681110560894,0.15054655075073242,0.08204711973667145,0.03981072083115578,0.03141659125685692,0.09148602932691574,0.021097546443343163,0.06891075521707535,0.03632304072380066,0.132391095161438,0.022959910333156586,0.024523478001356125,0.5176533460617065,0.06280963122844696,0.11300381273031235,0.034214526414871216,0.04496880620718002,0.2737691104412079,0.10262662172317505,0.035450514405965805,0.06136363372206688,0.06255952268838882,0.0650295615196228,0.015018495731055737,0.04870352894067764,0.08887146413326263,0.05607549101114273,0.026584036648273468,0.027850281447172165,0.01554846577346325,0.04687749221920967,0.0469803586602211,0.06574025750160217,0.05975329875946045,0.01993955858051777,0.11745475977659225,0.012171619571745396,0.059707172214984894,0.04517955332994461,0.1299353688955307,0.10744592547416687,0.01683495007455349,0.022103730589151382,0.0756656602025032,0.05081469193100929,0.21094825863838196,0.05851683020591736,0.06217711418867111,0.025943368673324585,0.014321558177471161,0.02408210001885891,0.022164974361658096,0.01760864071547985,0.02380264736711979,0.020083047449588776,0.37009039521217346,0.2341637760400772,0.09808483719825745,0.03535008430480957,0.043035078793764114,0.1322573721408844,0.08573341369628906,0.028043797239661217,0.1274656355381012,0.013553597964346409,0.022334104403853416,0.019566738978028297,0.023735687136650085,0.02148418501019478,0.026638802140951157,0.03627790883183479,0.02153652533888817,0.028292149305343628,0.020355653017759323,0.0600433386862278,0.03533106669783592,0.02430160529911518,0.023718541488051414,0.03428230062127113,0.03324110060930252,0.030795836821198463,0.03161867335438728,0.03114672377705574,0.04490518197417259,0.04471556842327118,0.13694104552268982,0.12182392179965973,0.3144770562648773,0.050537291914224625,0.09274602681398392,0.04538404941558838,0.18540769815444946,0.02744399756193161,0.029931005090475082,0.0840468555688858,0.025509066879749298,0.019153766334056854,0.05353546142578125,0.05587546527385712,0.0263054221868515,0.10897265374660492,0.04242834448814392,0.23784466087818146,0.22181113064289093,0.8077394962310791,0.012937025167047977,0.8391433358192444,0.04029414430260658,0.036607805639505386,0.018469633534550667,0.0677807629108429,0.02478772960603237,0.024352317675948143,0.03742580860853195,0.03139748051762581,0.03191864490509033,0.02388792484998703,0.042551666498184204,0.05917114391922951,0.05917665734887123,0.014479102566838264,0.07165245711803436,0.07300449907779694,0.09979444742202759,0.29034197330474854,0.0514337494969368,0.07087769359350204,0.05222592502832413,0.10890619456768036,0.04647478088736534,0.027320869266986847,0.024155547842383385,0.025416186079382896,0.027580920606851578,0.05946216732263565,0.5776882767677307,0.0711556077003479,0.019161993637681007,0.3072662949562073,0.08248038589954376,0.020336588844656944,0.017738260328769684,0.09633361548185349,0.6127676963806152,0.035928502678871155,0.055661752820014954,0.10193420201539993,0.1157856211066246,0.07345856726169586,0.15189822018146515,0.4658244252204895,0.07272206246852875,0.0345165990293026,0.049141548573970795,0.03829192742705345,0.05624935030937195,0.08637396991252899,0.3578849732875824,0.025561384856700897,0.8122982978820801,0.012584436684846878,0.04103526845574379,0.026696037501096725,0.10067064315080643,0.7363647818565369,0.2711341679096222,0.04931667819619179,0.09241931885480881,0.05366823822259903,0.08921167254447937,0.09740016609430313,0.018405959010124207,0.313710480928421,0.023017732426524162,0.11114897578954697,0.01888725347816944,0.05065154656767845,0.04873499646782875,0.0427732840180397,0.018758472055196762,0.027807114645838737,0.031238505616784096,0.02935638092458248,0.027818145230412483,0.022220464423298836,0.02144567482173443,0.02300904132425785,0.02474726364016533,0.03102363459765911,0.022457998245954514,0.026075365021824837,0.02516353502869606,0.027708861976861954,0.028512082993984222,0.05752253159880638,0.04274795204401016,0.33657270669937134,0.04044494405388832,0.05826902762055397,0.06954765319824219,0.015856603160500526,0.018718481063842773,0.10429512709379196,0.05770226940512657,0.07600212842226028,0.11522095650434494,0.07566811144351959,0.030290935188531876,0.06634831428527832,0.012287883087992668,0.025077620521187782,0.011854480020701885,0.0852254182100296,0.04533538594841957,0.043943095952272415,0.039561785757541656,0.012304868549108505,0.13019916415214539,0.021738236770033836,0.035536184906959534,0.027083387598395348,0.0881081372499466,0.03936760127544403,0.16538573801517487,0.10598346590995789,0.023042703047394753,0.025893544778227806,0.0382305346429348,0.03420113027095795,0.24157796800136566,0.04844196140766144,0.04044773429632187,0.02902626432478428,0.02964952401816845,0.027017559856176376,0.03671685606241226,0.022929102182388306,0.026652315631508827,0.06478097289800644,0.029130825772881508,0.022167641669511795,0.020944776013493538,0.02633434720337391,0.02223394438624382,0.026167089119553566,0.027081014588475227,0.028275268152356148,0.027500325813889503,0.037614669650793076,0.025775505229830742,0.23636919260025024,0.08407273888587952,0.0733400210738182,0.330483078956604,0.052614666521549225,0.03754584491252899,0.11867816001176834,0.025731462985277176,0.06821798533201218,0.03159418702125549,0.03604770079255104,0.02573256567120552,0.012009948492050171,0.02994874119758606,0.07375530898571014,0.13270306587219238,0.013290032744407654,0.04500366747379303,0.02375394105911255,0.15505552291870117,0.02065092697739601,0.020794250071048737,0.09684683382511139,0.01528694573789835,0.01897544413805008,0.055103849619627,0.05185259133577347,0.07690107822418213,0.016933515667915344,0.05595371127128601,0.0459568090736866,0.045458756387233734,0.045029040426015854,0.05808233842253685,0.05955016240477562,0.02464435249567032,0.0632481724023819,0.05974030867218971,0.06289170682430267,0.21961086988449097,0.012635908089578152,0.09285491704940796,0.035020142793655396,0.03622473031282425,0.058282818645238876,0.0428096167743206,0.19422908127307892,0.09353894740343094,0.20127101242542267,0.06173473969101906,0.017111964523792267,0.025263430550694466,0.09155306965112686,0.019662491977214813,0.055684059858322144,0.050040122121572495,0.08076668530702591,0.05855859816074371,0.06819423288106918,0.06933090835809708,0.1039186492562294,0.05578622221946716,0.03481071814894676,0.030812233686447144,0.04582921043038368,0.03450227901339531,0.32940474152565,0.05924244597554207,0.047586411237716675,0.07110246270895004,0.035624030977487564,0.02644413337111473,0.062355585396289825,0.02355102077126503,0.2289288341999054,0.031341489404439926,0.03252497315406799,0.03078254498541355,0.06367575377225876,0.02239322103559971,0.1660710722208023,0.04791823402047157,0.018034545704722404,0.18332242965698242,0.01199982687830925,0.04851221293210983,0.15703989565372467,0.05899085849523544,0.3716389536857605,0.021019471809267998,0.05315537750720978,0.10945943742990494,0.17330396175384521,0.08257903903722763,0.5516566634178162,0.017603319138288498,0.08967907726764679,0.025224270299077034,0.026162901893258095,0.02852175571024418,0.08411683142185211,0.012700303457677364,0.04199356958270073,0.04257584735751152,0.045944321900606155,0.09292202442884445],\"sizemode\":\"area\",\"sizeref\":0.004145191311836243,\"symbol\":\"circle\",\"line\":{\"width\":0}},\"mode\":\"markers\",\"name\":\"3\",\"scene\":\"scene\",\"showlegend\":true,\"x\":[-2421.0,-2474.0,-2500.5,-2527.0,-2553.5,-2580.0,-2606.5,-2633.0,-2659.5,-2686.0,-2712.5,-2739.0,-2765.5,-2792.0,-2818.5,-2845.0,-2871.5,-2898.0,-2924.5,-2951.0,-2977.5,-3004.0,-3030.5,-2977.5,-3004.0,-3030.5,-3030.5,-3030.5,-3136.5,-3057.0,-3083.5,-3083.5,-3004.0,-2898.0,-3004.0,-3030.5,-3083.5,-3136.5,-2951.0,-3004.0,-3030.5,-3057.0,-3083.5,-3136.5,-3269.0,-3110.0,-3057.0,-3136.5,-3163.0,-3189.5,-3189.5,-3136.5,-3507.5,-3348.5,-3216.0,-3242.5,-3163.0,-3163.0,-3295.5,-3242.5,-3216.0,-2977.5,-3110.0,-3534.0,-3454.5,-3269.0,-3163.0,-3189.5,-3189.5,-3216.0,-3269.0,-3295.5,-3348.5,-3375.0,-3401.5,-3401.5,-3428.0,-3481.0,-3428.0,-3454.5,-3375.0,-3375.0,-3163.0,-3481.0,-3375.0,-3454.5,-3401.5,-3428.0,-3454.5,-3401.5,-3507.5,-3242.5,-3481.0,-3454.5,-3507.5,-3401.5,-3481.0,-3481.0,-3454.5,-3481.0,-3401.5,-3428.0,-3454.5,-3428.0,-3560.5,-3375.0,-3348.5,-3481.0,-3454.5,-3428.0,-3401.5,-3401.5,-3454.5,-3454.5,-3242.5,-3189.5,-3189.5,-3189.5,-3454.5,-3322.0,-3454.5,-3428.0,-3481.0,-3507.5,-3269.0,-3242.5,-3375.0,-3481.0,-3481.0,-3454.5,-3454.5,-3481.0,-3481.0,-3534.0,-3481.0,-3481.0,-3507.5,-3428.0,-3534.0,-3560.5,-3481.0,-3560.5,-3481.0,-3428.0,-3454.5,-3534.0,-3534.0,-3454.5,-3560.5,-3534.0,-3534.0,-3454.5,-3507.5,-3507.5,-3401.5,-3507.5,-3401.5,-3481.0,-3454.5,-3401.5,-3507.5,-3534.0,-3216.0,-3242.5,-3375.0,-3428.0,-3481.0,-3348.5,-3428.0,-3322.0,-3295.5,-3269.0,-3242.5,-3242.5,-3242.5,-3428.0,-3428.0,-3348.5,-3428.0,-3401.5,-3269.0,-3534.0,-3534.0,-3534.0,-3057.0,-3083.5,-3110.0,-3136.5,-3216.0,-3242.5,-3269.0,-3295.5,-3322.0,-3348.5,-3375.0,-3454.5,-3481.0,-3507.5,-3534.0,-3560.5,-3030.5,-3083.5,-3057.0,-3136.5,-3163.0,-3189.5,-3242.5,-3136.5,-3136.5,-3163.0,-3216.0,-3242.5,-3242.5,-3189.5,-3295.5,-3242.5,-3295.5,-3083.5,-3004.0,-3136.5,-3189.5,-3163.0,-3189.5,-3216.0,-3163.0,-3242.5,-3295.5,-3295.5,-3030.5,-3216.0,-3242.5,-3269.0,-3295.5,-3348.5,-3136.5,-3216.0,-3269.0,-3216.0,-3110.0,-3216.0,-3216.0,-3269.0,-3295.5,-3189.5,-3163.0,-3242.5,-3295.5,-3030.5,-2659.5,-2898.0,-2474.0,-2421.0,-2447.5,-2474.0,-2500.5,-2447.5,-2580.0,-2580.0,-2659.5,-2500.5,-2553.5,-2500.5,-2527.0,-2553.5,-2580.0,-2606.5,-2606.5,-2606.5,-2845.0,-2977.5,-3004.0,-3030.5,-3057.0,-3083.5,-3110.0,-2977.5,-2951.0,-3030.5,-3057.0,-3004.0,-2977.5,-3057.0,-3083.5,-2500.5,-2500.5,-2527.0,-2553.5,-2977.5,-2898.0,-3454.5,-3428.0,-2500.5,-2527.0,-2553.5,-2580.0,-2606.5,-2633.0,-2659.5,-2686.0,-2712.5,-2739.0,-2765.5,-2792.0,-2818.5,-2845.0,-2871.5,-2898.0,-2924.5,-2951.0,-2977.5,-3004.0,-2845.0,-3030.5,-2951.0,-2500.5,-2553.5,-2580.0,-2606.5,-2580.0,-2553.5,-2686.0,-2739.0,-2527.0,-2580.0,-2580.0,-2527.0,-2527.0,-2500.5,-2659.5,-2474.0,-2553.5,-2712.5,-2871.5,-2765.5,-2845.0,-3004.0,-2633.0,-2633.0,-2712.5,-2712.5,-2606.5,-2659.5,-2553.5,-2633.0,-2659.5,-2792.0,-2818.5,-2792.0,-2686.0,-2739.0,-2765.5,-2792.0,-2818.5,-2845.0,-2871.5,-2898.0,-2924.5,-2951.0,-2977.5,-3004.0,-3030.5,-3057.0,-3083.5,-3110.0,-3136.5,-3163.0,-3189.5,-3242.5,-3189.5,-3189.5,-2553.5,-2474.0,-2712.5,-2447.5,-2792.0,-2898.0,-2898.0,-2659.5,-2686.0,-2717.94287109375,-2793.84228515625,-2748.84228515625,-2580.0,-2474.0,-2500.5,-2553.5,-2633.0,-2580.0,-2686.0,-2659.5,-2500.5,-2447.5,-2447.5,-2421.0,-2447.5,-2474.0,-2481.395751953125,-2480.49658203125,-2500.5,-2421.0,-2447.5,-2474.0,-2500.5,-2580.0,-2474.0,-2474.0,-2527.0,-2765.5,-2898.0,-2447.5,-2474.0,-2500.5,-2553.5,-2580.0,-2712.5,-2606.5,-2633.0,-2580.0,-2792.0,-2792.0,-2845.0,-2845.0,-2421.0,-2447.5,-2474.0,-2500.5,-2527.0,-2553.5,-2580.0,-2527.0,-2527.0,-2421.0,-2474.0,-2553.5,-2527.0,-2447.5,-2659.5,-2527.0,-2527.0,-2633.0,-2633.0,-3163.0,-3163.0,-3216.0,-3189.5,-3163.0,-3189.5,-3401.5,-3481.0,-3481.0,-3322.0,-3348.5,-3401.5,-3375.0,-3401.5,-3295.5,-3163.0,-3375.0,-3216.0,-3216.0,-3136.5,-3322.0,-3189.5,-3189.5,-3269.0,-3189.5,-3242.5,-3110.0,-3030.5,-3295.5,-2447.5,-3518.236328125,-3489.258544921875,-3489.258544921875],\"y\":[-330.0,-330.0,-330.0,-330.0,-330.0,-330.0,-330.0,-330.0,-330.0,-360.0,-360.0,-360.0,-360.0,-360.0,-360.0,-360.0,-360.0,-360.0,-360.0,-360.0,-390.0,-390.0,-390.0,-360.0,-360.0,-360.0,-300.0,-360.0,-390.0,-480.0,-420.0,-450.0,-330.0,-570.0,-330.0,-360.0,-330.0,-390.0,-390.0,-390.0,-420.0,-420.0,-420.0,-450.0,-360.0,-360.0,-390.0,-480.0,-480.0,-420.0,-450.0,-450.0,-420.0,-420.0,-330.0,-510.0,-390.0,-330.0,-420.0,-390.0,-390.0,-90.0,-180.0,-570.0,-510.0,-330.0,-420.0,-570.0,-390.0,-420.0,-420.0,-420.0,-420.0,-420.0,-450.0,-450.0,-450.0,-540.0,-450.0,-450.0,-420.0,-390.0,-570.0,-420.0,-450.0,-390.0,-420.0,-420.0,-420.0,-480.0,-390.0,-480.0,-450.0,-360.0,-450.0,-450.0,-570.0,-600.0,-630.0,-660.0,-420.0,-420.0,-360.0,-420.0,-390.0,-390.0,-360.0,-270.0,-390.0,-450.0,-480.0,-510.0,-420.0,-450.0,-540.0,-360.0,-330.0,-330.0,-450.0,-420.0,-390.0,-420.0,-390.0,-450.0,-390.0,-360.0,-450.0,-510.0,-630.0,-660.0,-420.0,-420.0,-420.0,-390.0,-390.0,-360.0,-330.0,-300.0,-360.0,-360.0,-480.0,-510.0,-510.0,-330.0,-450.0,-480.0,-480.0,-540.0,-510.0,-450.0,-480.0,-390.0,-480.0,-510.0,-510.0,-360.0,-330.0,-480.0,-510.0,-600.0,-570.0,-420.0,-600.0,-690.0,-450.0,-480.0,-540.0,-630.0,-300.0,-360.0,-30.0,-630.0,-630.0,-690.0,-690.0,-360.0,-330.0,-450.0,-510.0,-480.0,-480.0,-420.0,-300.0,-30.0,-360.0,-360.0,-330.0,-330.0,-330.0,-330.0,-330.0,-300.0,-300.0,-300.0,-300.0,-300.0,-300.0,-270.0,-270.0,-240.0,-390.0,-390.0,-450.0,-420.0,-450.0,-510.0,-330.0,-360.0,-360.0,-300.0,-390.0,-420.0,-450.0,-450.0,-510.0,-330.0,-300.0,-450.0,-210.0,-390.0,-510.0,-450.0,-420.0,-330.0,-300.0,-390.0,-420.0,-330.0,-210.0,-360.0,-360.0,-360.0,-360.0,-360.0,-420.0,-270.0,-390.0,-690.0,-540.0,-300.0,-420.0,-450.0,-480.0,-480.0,-450.0,-390.0,-390.0,-420.0,-330.0,-390.0,-300.0,-210.0,-210.0,-210.0,-210.0,-210.0,-210.0,-330.0,-330.0,-480.0,-540.0,-210.0,-210.0,-210.0,-210.0,-210.0,-180.0,-180.0,-180.0,-180.0,-180.0,-210.0,-210.0,-240.0,-270.0,-150.0,-90.0,-120.0,-180.0,-150.0,-180.0,-240.0,-270.0,-180.0,-210.0,-240.0,-240.0,-240.0,-300.0,-60.0,-90.0,-180.0,-240.0,-240.0,-240.0,-240.0,-210.0,-210.0,-210.0,-210.0,-210.0,-210.0,-210.0,-210.0,-210.0,-210.0,-210.0,-210.0,-180.0,-180.0,-180.0,-300.0,-180.0,-210.0,-240.0,-270.0,-270.0,-330.0,-330.0,-330.0,-300.0,60.0,-210.0,-210.0,-240.0,-300.0,-240.0,-180.0,-120.0,-240.0,-300.0,-210.0,-360.0,-270.0,-240.0,-150.0,-210.0,-210.0,-180.0,-180.0,-210.0,-210.0,-240.0,-240.0,-240.0,-360.0,-390.0,-390.0,-240.0,-180.0,-180.0,-150.0,-150.0,-120.0,-120.0,-90.0,-90.0,-60.0,-60.0,-60.0,-60.0,-60.0,-30.0,-30.0,-30.0,-30.0,-30.0,60.0,-30.0,-60.0,-210.0,-210.0,-180.0,-180.0,-240.0,-180.0,-180.0,90.0,-300.0,-876.384765625,-850.9232177734375,-928.8655395507812,-180.0,-330.0,-240.0,-210.0,-210.0,-270.0,-480.0,-540.0,-450.0,-300.0,-450.0,-480.0,-480.0,-480.0,-809.0962524414062,-704.6539916992188,-510.0,-420.0,-390.0,-390.0,-390.0,-630.0,-540.0,-600.0,-360.0,-600.0,-570.0,-450.0,-450.0,-480.0,-480.0,-480.0,-480.0,-480.0,-480.0,360.0,240.0,240.0,240.0,270.0,390.0,390.0,420.0,420.0,450.0,450.0,450.0,-390.0,-480.0,-450.0,-240.0,-180.0,-210.0,-120.0,-300.0,-210.0,-510.0,-210.0,-330.0,-360.0,-390.0,-360.0,-360.0,-360.0,-360.0,-300.0,-300.0,-330.0,-360.0,-330.0,-450.0,-420.0,-510.0,-420.0,-390.0,-660.0,-450.0,-390.0,-390.0,-420.0,-390.0,-390.0,-300.0,-390.0,-420.0,-450.0,-300.0,-270.0,-330.0,663.1840209960938,655.41943359375,655.41943359375],\"z\":[-720.0,-750.0,-750.0,-750.0,-750.0,-780.0,-780.0,-780.0,-810.0,-810.0,-810.0,-810.0,-840.0,-840.0,-840.0,-870.0,-870.0,-870.0,-870.0,-900.0,-900.0,-900.0,-900.0,-900.0,-900.0,-930.0,-930.0,-900.0,-960.0,-990.0,-990.0,-990.0,-900.0,-990.0,-870.0,-960.0,-1020.0,-990.0,-900.0,-930.0,-930.0,-960.0,-960.0,-990.0,-840.0,-990.0,-930.0,-930.0,-930.0,-990.0,-990.0,-1020.0,-1050.0,-990.0,-1050.0,-930.0,-960.0,-930.0,-1080.0,-1140.0,-1140.0,-810.0,-780.0,-990.0,-1110.0,-840.0,-1020.0,-1200.0,-960.0,-990.0,-990.0,-990.0,-1020.0,-990.0,-990.0,-1020.0,-1020.0,-1020.0,-1050.0,-1050.0,-1020.0,-1140.0,-1230.0,-1050.0,-1020.0,-1140.0,-990.0,-960.0,-930.0,-990.0,-1050.0,-960.0,-1050.0,-1020.0,-1050.0,-1050.0,-1140.0,-1170.0,-1170.0,-1140.0,-1020.0,-1020.0,-990.0,-1050.0,-1050.0,-1020.0,-1020.0,-1020.0,-1050.0,-990.0,-930.0,-930.0,-1020.0,-1080.0,-750.0,-990.0,-960.0,-990.0,-990.0,-990.0,-990.0,-990.0,-1260.0,-1320.0,-870.0,-810.0,-1050.0,-1050.0,-750.0,-690.0,-1050.0,-1080.0,-1110.0,-1140.0,-1050.0,-1050.0,-1050.0,-1050.0,-1050.0,-1050.0,-990.0,-1020.0,-1020.0,-1140.0,-1020.0,-1080.0,-1140.0,-1110.0,-1080.0,-1050.0,-1050.0,-1170.0,-1050.0,-1050.0,-990.0,-930.0,-1290.0,-1050.0,-1050.0,-1080.0,-1140.0,-1020.0,-720.0,-690.0,-990.0,-990.0,-990.0,-960.0,-1020.0,-1080.0,-990.0,-1260.0,-1470.0,-1440.0,-1470.0,-1050.0,-1050.0,-1140.0,-990.0,-900.0,-1020.0,-1080.0,-1080.0,-1770.0,-900.0,-930.0,-930.0,-930.0,-960.0,-960.0,-960.0,-990.0,-990.0,-990.0,-990.0,-1020.0,-1020.0,-1050.0,-1080.0,-1110.0,-930.0,-930.0,-960.0,-960.0,-990.0,-1020.0,-1140.0,-1020.0,-1050.0,-1200.0,-1050.0,-1020.0,-930.0,-960.0,-960.0,-870.0,-840.0,-1170.0,-1080.0,-1080.0,-1050.0,-720.0,-930.0,-1140.0,-1140.0,-900.0,-930.0,-870.0,-1110.0,-1020.0,-1020.0,-1050.0,-1050.0,-1080.0,-1020.0,-960.0,-930.0,-1050.0,-1170.0,-990.0,-960.0,-930.0,-930.0,-1020.0,-1050.0,-930.0,-930.0,-900.0,-780.0,-810.0,-720.0,-600.0,-600.0,-630.0,-570.0,-570.0,-660.0,-660.0,-720.0,-660.0,-720.0,-630.0,-660.0,-690.0,-690.0,-720.0,-720.0,-690.0,-870.0,-1050.0,-1080.0,-1080.0,-1110.0,-1110.0,-1110.0,-1080.0,-1110.0,-1080.0,-1080.0,-1200.0,-1080.0,-1140.0,-1170.0,-600.0,-600.0,-660.0,-660.0,-630.0,-600.0,-570.0,-570.0,-660.0,-630.0,-600.0,-600.0,-600.0,-570.0,-570.0,-570.0,-540.0,-540.0,-540.0,-510.0,-510.0,-510.0,-510.0,-480.0,-480.0,-480.0,-450.0,-450.0,-690.0,-420.0,-480.0,-630.0,-660.0,-690.0,-720.0,-750.0,-780.0,-630.0,-480.0,-600.0,-570.0,-540.0,-480.0,-600.0,-630.0,-690.0,-600.0,-570.0,-570.0,-660.0,-570.0,-570.0,-360.0,-690.0,-720.0,-750.0,-720.0,-690.0,-690.0,-630.0,-600.0,-600.0,-720.0,-630.0,-660.0,-600.0,-570.0,-570.0,-540.0,-540.0,-540.0,-540.0,-540.0,-510.0,-510.0,-510.0,-510.0,-510.0,-480.0,-480.0,-480.0,-480.0,-450.0,-450.0,-450.0,-420.0,-420.0,-660.0,-690.0,-1230.0,-630.0,-720.0,-690.0,-660.0,-690.0,-540.0,-840.0,-840.0,-780.0,-690.0,-780.0,-660.0,-630.0,-600.0,-630.0,-450.0,-510.0,-900.0,-780.0,-930.0,-930.0,-960.0,-960.0,-720.0,-690.0,-750.0,-810.0,-780.0,-780.0,-780.0,-1050.0,-990.0,-930.0,-960.0,-1230.0,-1320.0,-810.0,-810.0,-810.0,-780.0,-780.0,-630.0,-750.0,-750.0,-210.0,-270.0,-210.0,-270.0,-300.0,-810.0,-840.0,-870.0,-900.0,-930.0,-960.0,-990.0,-780.0,-780.0,-810.0,-630.0,-660.0,-630.0,-690.0,-660.0,-360.0,-720.0,-780.0,-690.0,-960.0,-930.0,-900.0,-900.0,-930.0,-1230.0,-990.0,-1050.0,-1050.0,-1020.0,-1080.0,-1170.0,-1050.0,-900.0,-1200.0,-990.0,-1050.0,-960.0,-930.0,-930.0,-1020.0,-930.0,-990.0,-990.0,-1020.0,-990.0,-990.0,-900.0,-1080.0,-720.0,-2374.5,-2401.0,-2427.5],\"type\":\"scatter3d\"},{\"customdata\":[[2.0],[2.0]],\"hovertemplate\":\"color=4\\u003cbr\\u003eX=%{x}\\u003cbr\\u003eY=%{y}\\u003cbr\\u003eZ=%{z}\\u003cbr\\u003efeatures=%{marker.size}\\u003cbr\\u003etIdx=%{customdata[0]}\\u003cextra\\u003e\\u003c\\u002fextra\\u003e\",\"legendgroup\":\"4\",\"marker\":{\"color\":\"yellow\",\"size\":[3.7425372283905745e-05,0.0005151748191565275],\"sizemode\":\"area\",\"sizeref\":0.004145191311836243,\"symbol\":\"circle\",\"line\":{\"width\":0}},\"mode\":\"markers\",\"name\":\"4\",\"scene\":\"scene\",\"showlegend\":true,\"x\":[-4703.5,-4486.5],\"y\":[-330.0,-900.0],\"z\":[-870.0,-1530.0],\"type\":\"scatter3d\"}],                        {\"template\":{\"data\":{\"barpolar\":[{\"marker\":{\"line\":{\"color\":\"white\",\"width\":0.5},\"pattern\":{\"fillmode\":\"overlay\",\"size\":10,\"solidity\":0.2}},\"type\":\"barpolar\"}],\"bar\":[{\"error_x\":{\"color\":\"rgb(36,36,36)\"},\"error_y\":{\"color\":\"rgb(36,36,36)\"},\"marker\":{\"line\":{\"color\":\"white\",\"width\":0.5},\"pattern\":{\"fillmode\":\"overlay\",\"size\":10,\"solidity\":0.2}},\"type\":\"bar\"}],\"carpet\":[{\"aaxis\":{\"endlinecolor\":\"rgb(36,36,36)\",\"gridcolor\":\"white\",\"linecolor\":\"white\",\"minorgridcolor\":\"white\",\"startlinecolor\":\"rgb(36,36,36)\"},\"baxis\":{\"endlinecolor\":\"rgb(36,36,36)\",\"gridcolor\":\"white\",\"linecolor\":\"white\",\"minorgridcolor\":\"white\",\"startlinecolor\":\"rgb(36,36,36)\"},\"type\":\"carpet\"}],\"choropleth\":[{\"colorbar\":{\"outlinewidth\":1,\"tickcolor\":\"rgb(36,36,36)\",\"ticks\":\"outside\"},\"type\":\"choropleth\"}],\"contourcarpet\":[{\"colorbar\":{\"outlinewidth\":1,\"tickcolor\":\"rgb(36,36,36)\",\"ticks\":\"outside\"},\"type\":\"contourcarpet\"}],\"contour\":[{\"colorbar\":{\"outlinewidth\":1,\"tickcolor\":\"rgb(36,36,36)\",\"ticks\":\"outside\"},\"colorscale\":[[0.0,\"#440154\"],[0.1111111111111111,\"#482878\"],[0.2222222222222222,\"#3e4989\"],[0.3333333333333333,\"#31688e\"],[0.4444444444444444,\"#26828e\"],[0.5555555555555556,\"#1f9e89\"],[0.6666666666666666,\"#35b779\"],[0.7777777777777778,\"#6ece58\"],[0.8888888888888888,\"#b5de2b\"],[1.0,\"#fde725\"]],\"type\":\"contour\"}],\"heatmapgl\":[{\"colorbar\":{\"outlinewidth\":1,\"tickcolor\":\"rgb(36,36,36)\",\"ticks\":\"outside\"},\"colorscale\":[[0.0,\"#440154\"],[0.1111111111111111,\"#482878\"],[0.2222222222222222,\"#3e4989\"],[0.3333333333333333,\"#31688e\"],[0.4444444444444444,\"#26828e\"],[0.5555555555555556,\"#1f9e89\"],[0.6666666666666666,\"#35b779\"],[0.7777777777777778,\"#6ece58\"],[0.8888888888888888,\"#b5de2b\"],[1.0,\"#fde725\"]],\"type\":\"heatmapgl\"}],\"heatmap\":[{\"colorbar\":{\"outlinewidth\":1,\"tickcolor\":\"rgb(36,36,36)\",\"ticks\":\"outside\"},\"colorscale\":[[0.0,\"#440154\"],[0.1111111111111111,\"#482878\"],[0.2222222222222222,\"#3e4989\"],[0.3333333333333333,\"#31688e\"],[0.4444444444444444,\"#26828e\"],[0.5555555555555556,\"#1f9e89\"],[0.6666666666666666,\"#35b779\"],[0.7777777777777778,\"#6ece58\"],[0.8888888888888888,\"#b5de2b\"],[1.0,\"#fde725\"]],\"type\":\"heatmap\"}],\"histogram2dcontour\":[{\"colorbar\":{\"outlinewidth\":1,\"tickcolor\":\"rgb(36,36,36)\",\"ticks\":\"outside\"},\"colorscale\":[[0.0,\"#440154\"],[0.1111111111111111,\"#482878\"],[0.2222222222222222,\"#3e4989\"],[0.3333333333333333,\"#31688e\"],[0.4444444444444444,\"#26828e\"],[0.5555555555555556,\"#1f9e89\"],[0.6666666666666666,\"#35b779\"],[0.7777777777777778,\"#6ece58\"],[0.8888888888888888,\"#b5de2b\"],[1.0,\"#fde725\"]],\"type\":\"histogram2dcontour\"}],\"histogram2d\":[{\"colorbar\":{\"outlinewidth\":1,\"tickcolor\":\"rgb(36,36,36)\",\"ticks\":\"outside\"},\"colorscale\":[[0.0,\"#440154\"],[0.1111111111111111,\"#482878\"],[0.2222222222222222,\"#3e4989\"],[0.3333333333333333,\"#31688e\"],[0.4444444444444444,\"#26828e\"],[0.5555555555555556,\"#1f9e89\"],[0.6666666666666666,\"#35b779\"],[0.7777777777777778,\"#6ece58\"],[0.8888888888888888,\"#b5de2b\"],[1.0,\"#fde725\"]],\"type\":\"histogram2d\"}],\"histogram\":[{\"marker\":{\"line\":{\"color\":\"white\",\"width\":0.6}},\"type\":\"histogram\"}],\"mesh3d\":[{\"colorbar\":{\"outlinewidth\":1,\"tickcolor\":\"rgb(36,36,36)\",\"ticks\":\"outside\"},\"type\":\"mesh3d\"}],\"parcoords\":[{\"line\":{\"colorbar\":{\"outlinewidth\":1,\"tickcolor\":\"rgb(36,36,36)\",\"ticks\":\"outside\"}},\"type\":\"parcoords\"}],\"pie\":[{\"automargin\":true,\"type\":\"pie\"}],\"scatter3d\":[{\"line\":{\"colorbar\":{\"outlinewidth\":1,\"tickcolor\":\"rgb(36,36,36)\",\"ticks\":\"outside\"}},\"marker\":{\"colorbar\":{\"outlinewidth\":1,\"tickcolor\":\"rgb(36,36,36)\",\"ticks\":\"outside\"}},\"type\":\"scatter3d\"}],\"scattercarpet\":[{\"marker\":{\"colorbar\":{\"outlinewidth\":1,\"tickcolor\":\"rgb(36,36,36)\",\"ticks\":\"outside\"}},\"type\":\"scattercarpet\"}],\"scattergeo\":[{\"marker\":{\"colorbar\":{\"outlinewidth\":1,\"tickcolor\":\"rgb(36,36,36)\",\"ticks\":\"outside\"}},\"type\":\"scattergeo\"}],\"scattergl\":[{\"marker\":{\"colorbar\":{\"outlinewidth\":1,\"tickcolor\":\"rgb(36,36,36)\",\"ticks\":\"outside\"}},\"type\":\"scattergl\"}],\"scattermapbox\":[{\"marker\":{\"colorbar\":{\"outlinewidth\":1,\"tickcolor\":\"rgb(36,36,36)\",\"ticks\":\"outside\"}},\"type\":\"scattermapbox\"}],\"scatterpolargl\":[{\"marker\":{\"colorbar\":{\"outlinewidth\":1,\"tickcolor\":\"rgb(36,36,36)\",\"ticks\":\"outside\"}},\"type\":\"scatterpolargl\"}],\"scatterpolar\":[{\"marker\":{\"colorbar\":{\"outlinewidth\":1,\"tickcolor\":\"rgb(36,36,36)\",\"ticks\":\"outside\"}},\"type\":\"scatterpolar\"}],\"scatter\":[{\"fillpattern\":{\"fillmode\":\"overlay\",\"size\":10,\"solidity\":0.2},\"type\":\"scatter\"}],\"scatterternary\":[{\"marker\":{\"colorbar\":{\"outlinewidth\":1,\"tickcolor\":\"rgb(36,36,36)\",\"ticks\":\"outside\"}},\"type\":\"scatterternary\"}],\"surface\":[{\"colorbar\":{\"outlinewidth\":1,\"tickcolor\":\"rgb(36,36,36)\",\"ticks\":\"outside\"},\"colorscale\":[[0.0,\"#440154\"],[0.1111111111111111,\"#482878\"],[0.2222222222222222,\"#3e4989\"],[0.3333333333333333,\"#31688e\"],[0.4444444444444444,\"#26828e\"],[0.5555555555555556,\"#1f9e89\"],[0.6666666666666666,\"#35b779\"],[0.7777777777777778,\"#6ece58\"],[0.8888888888888888,\"#b5de2b\"],[1.0,\"#fde725\"]],\"type\":\"surface\"}],\"table\":[{\"cells\":{\"fill\":{\"color\":\"rgb(237,237,237)\"},\"line\":{\"color\":\"white\"}},\"header\":{\"fill\":{\"color\":\"rgb(217,217,217)\"},\"line\":{\"color\":\"white\"}},\"type\":\"table\"}]},\"layout\":{\"annotationdefaults\":{\"arrowhead\":0,\"arrowwidth\":1},\"autotypenumbers\":\"strict\",\"coloraxis\":{\"colorbar\":{\"outlinewidth\":1,\"tickcolor\":\"rgb(36,36,36)\",\"ticks\":\"outside\"}},\"colorscale\":{\"diverging\":[[0.0,\"rgb(103,0,31)\"],[0.1,\"rgb(178,24,43)\"],[0.2,\"rgb(214,96,77)\"],[0.3,\"rgb(244,165,130)\"],[0.4,\"rgb(253,219,199)\"],[0.5,\"rgb(247,247,247)\"],[0.6,\"rgb(209,229,240)\"],[0.7,\"rgb(146,197,222)\"],[0.8,\"rgb(67,147,195)\"],[0.9,\"rgb(33,102,172)\"],[1.0,\"rgb(5,48,97)\"]],\"sequential\":[[0.0,\"#440154\"],[0.1111111111111111,\"#482878\"],[0.2222222222222222,\"#3e4989\"],[0.3333333333333333,\"#31688e\"],[0.4444444444444444,\"#26828e\"],[0.5555555555555556,\"#1f9e89\"],[0.6666666666666666,\"#35b779\"],[0.7777777777777778,\"#6ece58\"],[0.8888888888888888,\"#b5de2b\"],[1.0,\"#fde725\"]],\"sequentialminus\":[[0.0,\"#440154\"],[0.1111111111111111,\"#482878\"],[0.2222222222222222,\"#3e4989\"],[0.3333333333333333,\"#31688e\"],[0.4444444444444444,\"#26828e\"],[0.5555555555555556,\"#1f9e89\"],[0.6666666666666666,\"#35b779\"],[0.7777777777777778,\"#6ece58\"],[0.8888888888888888,\"#b5de2b\"],[1.0,\"#fde725\"]]},\"colorway\":[\"#1F77B4\",\"#FF7F0E\",\"#2CA02C\",\"#D62728\",\"#9467BD\",\"#8C564B\",\"#E377C2\",\"#7F7F7F\",\"#BCBD22\",\"#17BECF\"],\"font\":{\"color\":\"rgb(36,36,36)\"},\"geo\":{\"bgcolor\":\"white\",\"lakecolor\":\"white\",\"landcolor\":\"white\",\"showlakes\":true,\"showland\":true,\"subunitcolor\":\"white\"},\"hoverlabel\":{\"align\":\"left\"},\"hovermode\":\"closest\",\"mapbox\":{\"style\":\"light\"},\"paper_bgcolor\":\"white\",\"plot_bgcolor\":\"white\",\"polar\":{\"angularaxis\":{\"gridcolor\":\"rgb(232,232,232)\",\"linecolor\":\"rgb(36,36,36)\",\"showgrid\":false,\"showline\":true,\"ticks\":\"outside\"},\"bgcolor\":\"white\",\"radialaxis\":{\"gridcolor\":\"rgb(232,232,232)\",\"linecolor\":\"rgb(36,36,36)\",\"showgrid\":false,\"showline\":true,\"ticks\":\"outside\"}},\"scene\":{\"xaxis\":{\"backgroundcolor\":\"white\",\"gridcolor\":\"rgb(232,232,232)\",\"gridwidth\":2,\"linecolor\":\"rgb(36,36,36)\",\"showbackground\":true,\"showgrid\":false,\"showline\":true,\"ticks\":\"outside\",\"zeroline\":false,\"zerolinecolor\":\"rgb(36,36,36)\"},\"yaxis\":{\"backgroundcolor\":\"white\",\"gridcolor\":\"rgb(232,232,232)\",\"gridwidth\":2,\"linecolor\":\"rgb(36,36,36)\",\"showbackground\":true,\"showgrid\":false,\"showline\":true,\"ticks\":\"outside\",\"zeroline\":false,\"zerolinecolor\":\"rgb(36,36,36)\"},\"zaxis\":{\"backgroundcolor\":\"white\",\"gridcolor\":\"rgb(232,232,232)\",\"gridwidth\":2,\"linecolor\":\"rgb(36,36,36)\",\"showbackground\":true,\"showgrid\":false,\"showline\":true,\"ticks\":\"outside\",\"zeroline\":false,\"zerolinecolor\":\"rgb(36,36,36)\"}},\"shapedefaults\":{\"fillcolor\":\"black\",\"line\":{\"width\":0},\"opacity\":0.3},\"ternary\":{\"aaxis\":{\"gridcolor\":\"rgb(232,232,232)\",\"linecolor\":\"rgb(36,36,36)\",\"showgrid\":false,\"showline\":true,\"ticks\":\"outside\"},\"baxis\":{\"gridcolor\":\"rgb(232,232,232)\",\"linecolor\":\"rgb(36,36,36)\",\"showgrid\":false,\"showline\":true,\"ticks\":\"outside\"},\"bgcolor\":\"white\",\"caxis\":{\"gridcolor\":\"rgb(232,232,232)\",\"linecolor\":\"rgb(36,36,36)\",\"showgrid\":false,\"showline\":true,\"ticks\":\"outside\"}},\"title\":{\"x\":0.05},\"xaxis\":{\"automargin\":true,\"gridcolor\":\"rgb(232,232,232)\",\"linecolor\":\"rgb(36,36,36)\",\"showgrid\":false,\"showline\":true,\"ticks\":\"outside\",\"title\":{\"standoff\":15},\"zeroline\":false,\"zerolinecolor\":\"rgb(36,36,36)\"},\"yaxis\":{\"automargin\":true,\"gridcolor\":\"rgb(232,232,232)\",\"linecolor\":\"rgb(36,36,36)\",\"showgrid\":false,\"showline\":true,\"ticks\":\"outside\",\"title\":{\"standoff\":15},\"zeroline\":false,\"zerolinecolor\":\"rgb(36,36,36)\"}}},\"scene\":{\"domain\":{\"x\":[0.0,1.0],\"y\":[0.0,1.0]},\"xaxis\":{\"title\":{\"text\":\"X\"}},\"yaxis\":{\"title\":{\"text\":\"Y\"}},\"zaxis\":{\"title\":{\"text\":\"Z\"}}},\"legend\":{\"title\":{\"text\":\"color\"},\"tracegroupgap\":0,\"itemsizing\":\"constant\"},\"margin\":{\"t\":60}},                        {\"responsive\": true}                    ).then(function(){\n",
       "                            \n",
       "var gd = document.getElementById('da0f13bf-7026-46ab-93b6-8ea365fd02da');\n",
       "var x = new MutationObserver(function (mutations, observer) {{\n",
       "        var display = window.getComputedStyle(gd).display;\n",
       "        if (!display || display === 'none') {{\n",
       "            console.log([gd, 'removed!']);\n",
       "            Plotly.purge(gd);\n",
       "            observer.disconnect();\n",
       "        }}\n",
       "}});\n",
       "\n",
       "// Listen for the removal of the full notebook cells\n",
       "var notebookContainer = gd.closest('#notebook-container');\n",
       "if (notebookContainer) {{\n",
       "    x.observe(notebookContainer, {childList: true});\n",
       "}}\n",
       "\n",
       "// Listen for the clearing of the current output cell\n",
       "var outputEl = gd.closest('.output');\n",
       "if (outputEl) {{\n",
       "    x.observe(outputEl, {childList: true});\n",
       "}}\n",
       "\n",
       "                        })                };                });            </script>        </div>"
      ]
     },
     "metadata": {},
     "output_type": "display_data"
    }
   ],
   "source": [
    "\n",
    "import pandas as pd\n",
    "import plotly.express as px\n",
    "from src.logger.plotting_tools import shuffle_truth_colors\n",
    "\n",
    "mask = (g.ndata['particle_number'] >-1)*(g.ndata['pos_hits_xyz'][:,0]<0)   #+(g.ndata['particle_number'] ==5) #+(g.ndata['particle_number'] ==1)\n",
    "tidx =  1*(g.ndata['particle_number'][mask].view(-1,1))\n",
    "#tidx =    1*(g.ndata['hit_link_modified'][mask].view(-1,1))+1\n",
    "features =  (g.ndata['e_hits'][mask].view(-1,1)) + 0.05*g.ndata[\"h\"][mask][:,-1].view(-1,1)\n",
    "X = g.ndata[\"pos_hits_xyz\"][mask] #[mask]\n",
    "data = {\n",
    "            \"X\":X[:, 0].view(-1, 1).detach().cpu().numpy(),\n",
    "            \"Y\": X[:, 1].view(-1, 1).detach().cpu().numpy(),\n",
    "            \"Z\": X[:, 2].view(-1, 1).detach().cpu().numpy(),\n",
    "            \"tIdx\": tidx.view(-1, 1).detach().cpu().numpy(),\n",
    "            \"features\": features.view(-1, 1).detach().cpu().numpy(),\n",
    "        }\n",
    "hoverdict = {}\n",
    "# if hoverfeat is not None:\n",
    "#     for j in range(hoverfeat.shape[1]):\n",
    "#         hoverdict[\"f_\" + str(j)] = hoverfeat[:, j : j + 1]\n",
    "#     data.update(hoverdict)\n",
    "\n",
    "# if nidx is not None:\n",
    "#     data.update({\"av_same\": av_same})\n",
    "\n",
    "df = pd.DataFrame(\n",
    "np.concatenate([data[k] for k in data], axis=1),\n",
    "columns=[k for k in data],\n",
    ")\n",
    "rdst = np.random.RandomState(1234567890)  # all the same\n",
    "# shuffle_truth_colors(df, \"tIdx\", rdst)\n",
    "\n",
    "hover_data = [\"tIdx\"] #+ [k for k in hoverdict.keys()]\n",
    "# if nidx is not None:\n",
    "#     hover_data.append(\"av_same\")\n",
    "fig = px.scatter_3d(\n",
    "df,\n",
    "x=\"X\",\n",
    "y=\"Y\",\n",
    "z=\"Z\",\n",
    "color=color_mapped,\n",
    "size=\"features\",\n",
    "hover_data=hover_data,\n",
    "template=\"simple_white\",\n",
    "color_discrete_map={\n",
    "                \"1\": \"red\",\n",
    "                \"2\": \"blue\",\n",
    "                \"3\": \"green\", \n",
    "                \"4\":\"yellow\"},\n",
    ")\n",
    "fig.update_traces(marker=dict(line=dict(width=0)))"
   ]
  },
  {
   "cell_type": "code",
   "execution_count": 54,
   "metadata": {},
   "outputs": [
    {
     "data": {
      "text/plain": [
       "'[1 1 1 ... 3 4 4]'"
      ]
     },
     "execution_count": 54,
     "metadata": {},
     "output_type": "execute_result"
    }
   ],
   "source": []
  },
  {
   "cell_type": "code",
   "execution_count": 9,
   "metadata": {},
   "outputs": [
    {
     "data": {
      "text/plain": [
       "tensor([[49.3076],\n",
       "        [39.7013],\n",
       "        [ 4.5221],\n",
       "        [22.7423],\n",
       "        [33.5549],\n",
       "        [ 9.7486],\n",
       "        [29.1975],\n",
       "        [37.5797],\n",
       "        [25.0367],\n",
       "        [30.9980],\n",
       "        [40.0813],\n",
       "        [ 0.2988],\n",
       "        [ 0.4792],\n",
       "        [ 3.9224]])"
      ]
     },
     "execution_count": 9,
     "metadata": {},
     "output_type": "execute_result"
    }
   ],
   "source": [
    "y.E"
   ]
  },
  {
   "cell_type": "code",
   "execution_count": 10,
   "metadata": {},
   "outputs": [
    {
     "data": {
      "text/plain": [
       "tensor([[   13.],\n",
       "        [   11.],\n",
       "        [ -321.],\n",
       "        [   13.],\n",
       "        [  -13.],\n",
       "        [  130.],\n",
       "        [-2112.],\n",
       "        [   22.],\n",
       "        [  -11.],\n",
       "        [ 2212.],\n",
       "        [  -11.],\n",
       "        [   22.],\n",
       "        [   22.],\n",
       "        [   22.]])"
      ]
     },
     "execution_count": 10,
     "metadata": {},
     "output_type": "execute_result"
    }
   ],
   "source": [
    "y.pid"
   ]
  },
  {
   "cell_type": "markdown",
   "metadata": {},
   "source": []
  },
  {
   "cell_type": "code",
   "execution_count": null,
   "metadata": {},
   "outputs": [],
   "source": [
    "from torch_scatter import scatter_add, scatter_sum, scatter_mean\n",
    "mask_hit_type_t1 = g.ndata[\"hit_type\"]==2\n",
    "mask_hit_type_t2 = g.ndata[\"hit_type\"]==1\n",
    "mask_all = mask_hit_type_t1\n",
    "mean_pos_cluster = scatter_mean(g.ndata[\"pos_hits_xyz\"][mask_all], g.ndata[\"particle_number\"][mask_all].long().view(-1), dim=0)\n",
    "mean_pos_cluster\n",
    "pos_track = g.ndata[\"pos_hits_xyz\"][mask_hit_type_t2]\n",
    "particle_track = g.ndata[\"particle_number\"][mask_hit_type_t2]\n",
    "print(\"particle_track\", particle_track)\n",
    "distance_track_cluster = torch.norm(mean_pos_cluster[particle_track.long()]-pos_track,dim=1)/1000\n",
    "print(\"distance_track_cluster\", distance_track_cluster)\n",
    "bad_tracks = distance_track_cluster>0.25\n",
    "index_bad_tracks = mask_hit_type_t2.nonzero().view(-1)[bad_tracks]\n",
    "g.ndata[\"particle_number\"][index_bad_tracks]= 0 "
   ]
  },
  {
   "cell_type": "code",
   "execution_count": null,
   "metadata": {},
   "outputs": [],
   "source": [
    "from torch_scatter import scatter_max, scatter_add, scatter_mean\n",
    "scatter_add(torch.ones_like(g.ndata['particle_number']), g.ndata['particle_number'].long())"
   ]
  },
  {
   "cell_type": "code",
   "execution_count": null,
   "metadata": {},
   "outputs": [],
   "source": [
    "torch.atan(y.coord[32][2]/y.coord[32][1])*180/np.pi"
   ]
  },
  {
   "cell_type": "code",
   "execution_count": null,
   "metadata": {},
   "outputs": [],
   "source": [
    "import pandas as pd\n",
    "import plotly.express as px\n",
    "from src.logger.plotting_tools import shuffle_truth_colors\n",
    "mask =  (g.ndata['particle_number'] ==2) #+ (g.ndata['particle_number'] ==2)\n",
    "tidx =  g.ndata['particle_number'][mask].view(-1,1) #[mask].view(-1,1) #(labels_pandora.view(-1,1))\n",
    "features = torch.ones_like(g.ndata[\"pos_hits_xyz\"][mask][:,0]).view(-1,1)\n",
    "X =g.ndata[\"conformal\"][mask] #[mask]\n",
    "data = {\n",
    "            \"X\":X[:, 0].view(-1, 1).detach().cpu().numpy(),\n",
    "            \"Y\": X[:, 1].view(-1, 1).detach().cpu().numpy(),\n",
    "            \"Z\": X[:, 2].view(-1, 1).detach().cpu().numpy(),\n",
    "            \"tIdx\": tidx.view(-1, 1).detach().cpu().numpy(),\n",
    "            \"features\": features.view(-1, 1).detach().cpu().numpy(),\n",
    "        }\n",
    "hoverdict = {}\n",
    "# if hoverfeat is not None:\n",
    "#     for j in range(hoverfeat.shape[1]):\n",
    "#         hoverdict[\"f_\" + str(j)] = hoverfeat[:, j : j + 1]\n",
    "#     data.update(hoverdict)\n",
    "\n",
    "# if nidx is not None:\n",
    "#     data.update({\"av_same\": av_same})\n",
    "\n",
    "df = pd.DataFrame(\n",
    "np.concatenate([data[k] for k in data], axis=1),\n",
    "columns=[k for k in data],\n",
    ")\n",
    "rdst = np.random.RandomState(1234567890)  # all the same\n",
    "# shuffle_truth_colors(df, \"tIdx\", rdst)\n",
    "\n",
    "hover_data = [\"tIdx\"] #+ [k for k in hoverdict.keys()]\n",
    "# if nidx is not None:\n",
    "#     hover_data.append(\"av_same\")\n",
    "fig = px.scatter_3d(\n",
    "df,\n",
    "x=\"X\",\n",
    "y=\"Y\",\n",
    "z=\"Z\",\n",
    "color=\"tIdx\",\n",
    "size=\"features\",\n",
    "hover_data=hover_data,\n",
    "template=\"plotly_dark\",\n",
    "color_continuous_scale=px.colors.sequential.Rainbow,\n",
    ")\n",
    "fig.update_traces(marker=dict(line=dict(width=0)))"
   ]
  },
  {
   "cell_type": "code",
   "execution_count": null,
   "metadata": {},
   "outputs": [],
   "source": [
    "y[:,5][19]"
   ]
  },
  {
   "cell_type": "code",
   "execution_count": null,
   "metadata": {},
   "outputs": [],
   "source": [
    "print(diff_x)\n",
    "print(diff_x[17-1])\n"
   ]
  },
  {
   "cell_type": "code",
   "execution_count": null,
   "metadata": {},
   "outputs": [],
   "source": [
    "print(diff_z)\n",
    "print(diff_z[17-1])\n"
   ]
  },
  {
   "cell_type": "code",
   "execution_count": null,
   "metadata": {},
   "outputs": [],
   "source": [
    "1600,1700"
   ]
  },
  {
   "cell_type": "code",
   "execution_count": null,
   "metadata": {},
   "outputs": [],
   "source": [
    "# import pandas as pd\n",
    "# import plotly.express as px\n",
    "# from src.logger.plotting_tools import shuffle_truth_colors\n",
    "# tidx =  g.ndata['pandora_pfo'][mask].view(-1,1) #(labels_pandora.view(-1,1))\n",
    "# features = g.ndata[\"e_hits\"][mask]\n",
    "# X =g.ndata[\"pos_hits_xyz\"][mask]\n",
    "# data = {\n",
    "#             \"X\":X[:, 0].view(-1, 1).detach().cpu().numpy(),\n",
    "#             \"Y\": X[:, 1].view(-1, 1).detach().cpu().numpy(),\n",
    "#             \"Z\": X[:, 2].view(-1, 1).detach().cpu().numpy(),\n",
    "#             \"tIdx\": tidx.view(-1, 1).detach().cpu().numpy(),\n",
    "#             \"features\": features.view(-1, 1).detach().cpu().numpy(),\n",
    "#         }\n",
    "# hoverdict = {}\n",
    "# # if hoverfeat is not None:\n",
    "# #     for j in range(hoverfeat.shape[1]):\n",
    "# #         hoverdict[\"f_\" + str(j)] = hoverfeat[:, j : j + 1]\n",
    "# #     data.update(hoverdict)\n",
    "\n",
    "# # if nidx is not None:\n",
    "# #     data.update({\"av_same\": av_same})\n",
    "\n",
    "# df = pd.DataFrame(\n",
    "# np.concatenate([data[k] for k in data], axis=1),\n",
    "# columns=[k for k in data],\n",
    "# )\n",
    "# rdst = np.random.RandomState(1234567890)  # all the same\n",
    "# # shuffle_truth_colors(df, \"tIdx\", rdst)\n",
    "\n",
    "# hover_data = [\"tIdx\"] #+ [k for k in hoverdict.keys()]\n",
    "# # if nidx is not None:\n",
    "# #     hover_data.append(\"av_same\")\n",
    "# fig = px.scatter_3d(\n",
    "# df,\n",
    "# x=\"X\",\n",
    "# y=\"Y\",\n",
    "# z=\"Z\",\n",
    "# color=\"tIdx\",\n",
    "# size=\"features\",\n",
    "# hover_data=hover_data,\n",
    "# template=\"plotly_dark\",\n",
    "# color_continuous_scale=px.colors.sequential.Rainbow,\n",
    "# )\n",
    "# fig.update_traces(marker=dict(line=dict(width=0)))"
   ]
  },
  {
   "cell_type": "code",
   "execution_count": null,
   "metadata": {},
   "outputs": [],
   "source": []
  },
  {
   "cell_type": "code",
   "execution_count": null,
   "metadata": {},
   "outputs": [],
   "source": [
    "labels_pandora = g.ndata[\"pandora_cluster\"].long()\n",
    "labels_pandora = labels_pandora+1\n",
    "map_from = list(np.unique(labels_pandora))\n",
    "cluster_id = map(lambda x: map_from.index(x), labels_pandora)\n",
    "labels_pandora = torch.Tensor(list(cluster_id)).long()"
   ]
  },
  {
   "cell_type": "code",
   "execution_count": null,
   "metadata": {},
   "outputs": [],
   "source": [
    "from src.logger.plotting_tools import shuffle_truth_colors\n",
    "import pandas as pd\n",
    "import plotly.express as px\n",
    "tidx = g.ndata[\"particle_number\"]\n",
    "X = g.ndata[\"pos_hits_xyz\"]\n",
    "Edep = torch.ones_like(X[:,0]).view(-1,1)\n",
    "data = {\n",
    "    \"X\": X[:, 0].view(-1, 1).detach().cpu().numpy(),\n",
    "    \"Y\": X[:, 1].view(-1, 1).detach().cpu().numpy(),\n",
    "    \"Z\": X[:, 2].view(-1, 1).detach().cpu().numpy(),\n",
    "    \"tIdx\": tidx.view(-1, 1).detach().cpu().numpy(),\n",
    "    \"features\": Edep.view(-1, 1).detach().cpu().numpy(),\n",
    "}\n",
    "hoverdict = {}\n",
    "# if hoverfeat is not None:\n",
    "#     for j in range(hoverfeat.shape[1]):\n",
    "#         hoverdict[\"f_\" + str(j)] = hoverfeat[:, j : j + 1]\n",
    "#     data.update(hoverdict)\n",
    "\n",
    "# if nidx is not None:\n",
    "#     data.update({\"av_same\": av_same})\n",
    "\n",
    "df = pd.DataFrame(\n",
    "    np.concatenate([data[k] for k in data], axis=1),\n",
    "    columns=[k for k in data],\n",
    ")\n",
    "df[\"orig_tIdx\"] = df[\"tIdx\"]\n",
    "# rdst = np.random.RandomState(1234567890)  # all the same\n",
    "# shuffle_truth_colors(df, \"tIdx\", rdst)\n",
    "\n",
    "# hover_data = [\"orig_tIdx\", \"idx\"] + [k for k in hoverdict.keys()]\n",
    "# if nidx is not None:\n",
    "#     hover_data.append(\"av_same\")\n",
    "fig = px.scatter_3d(\n",
    "    df,\n",
    "    x=\"X\",\n",
    "    y=\"Y\",\n",
    "    z=\"Z\",\n",
    "    color=\"tIdx\",\n",
    "    size = \"features\",\n",
    "    # hover_data=hover_data,\n",
    "    template=\"plotly_dark\",\n",
    "    color_continuous_scale=px.colors.sequential.Rainbow,\n",
    ")\n",
    "fig.update_traces(marker=dict(line=dict(width=0)))\n",
    "# path= \"/eos/user/m/mgarciam/EVAL_REPOS/Tracking_wcoc/data/coord_n.html\"\n",
    "# fig.write_html(path)"
   ]
  },
  {
   "cell_type": "code",
   "execution_count": null,
   "metadata": {},
   "outputs": [],
   "source": [
    "12,26"
   ]
  },
  {
   "cell_type": "code",
   "execution_count": null,
   "metadata": {},
   "outputs": [],
   "source": [
    "([26, 30, 29,  2,  8, 25, 23, 12, 17, 28, 27, 24, 15,  1, 11,  9, 31, 14,\n",
    "         6, 10, \n",
    "         \n",
    "         \n",
    "         \n",
    "          4, 20,  3, 16,  5, 18,  0, 22, 21,  7, 13, 19]))"
   ]
  },
  {
   "cell_type": "code",
   "execution_count": null,
   "metadata": {},
   "outputs": [],
   "source": [
    "from src.logger.plotting_tools import shuffle_truth_colors\n",
    "import pandas as pd\n",
    "import plotly.express as px\n",
    "tidx = g.ndata[\"particle_number\"]\n",
    "X = g.ndata[\"h\"][:,0:3]\n",
    "Edep = torch.ones_like(X[:,0]).view(-1,1)*0.5\n",
    "data = {\n",
    "    \"X\": X[:, 0].view(-1, 1).detach().cpu().numpy(),\n",
    "    \"Y\": X[:, 1].view(-1, 1).detach().cpu().numpy(),\n",
    "    \"Z\": X[:, 2].view(-1, 1).detach().cpu().numpy(),\n",
    "    \"tIdx\": tidx.view(-1, 1).detach().cpu().numpy(),\n",
    "    \"features\": Edep.view(-1, 1).detach().cpu().numpy(),\n",
    "}\n",
    "hoverdict = {}\n",
    "# if hoverfeat is not None:\n",
    "#     for j in range(hoverfeat.shape[1]):\n",
    "#         hoverdict[\"f_\" + str(j)] = hoverfeat[:, j : j + 1]\n",
    "#     data.update(hoverdict)\n",
    "\n",
    "# if nidx is not None:\n",
    "#     data.update({\"av_same\": av_same})\n",
    "\n",
    "df = pd.DataFrame(\n",
    "    np.concatenate([data[k] for k in data], axis=1),\n",
    "    columns=[k for k in data],\n",
    ")\n",
    "df[\"orig_tIdx\"] = df[\"tIdx\"]\n",
    "# rdst = np.random.RandomState(1234567890)  # all the same\n",
    "# shuffle_truth_colors(df, \"tIdx\", rdst)\n",
    "\n",
    "# hover_data = [\"orig_tIdx\", \"idx\"] + [k for k in hoverdict.keys()]\n",
    "# if nidx is not None:\n",
    "#     hover_data.append(\"av_same\")\n",
    "fig = px.scatter_3d(\n",
    "    df,\n",
    "    x=\"X\",\n",
    "    y=\"Y\",\n",
    "    z=\"Z\",\n",
    "    color=\"tIdx\",\n",
    "    size = \"features\",\n",
    "    # hover_data=hover_data,\n",
    "    template=\"plotly_dark\",\n",
    "    color_continuous_scale=px.colors.sequential.Rainbow,\n",
    ")\n",
    "fig.update_traces(marker=dict(line=dict(width=0)))"
   ]
  },
  {
   "cell_type": "code",
   "execution_count": null,
   "metadata": {},
   "outputs": [],
   "source": [
    "path= \"/eos/user/m/mgarciam/EVAL_REPOS/Tracking_wcoc/data/coord.html\"\n",
    "fig.write_html(path)"
   ]
  },
  {
   "cell_type": "code",
   "execution_count": null,
   "metadata": {},
   "outputs": [],
   "source": [
    "from src.models.gravnet_3_L import GravnetModel\n",
    "load_model_weights = \"/eos/user/m/mgarciam/datasets_mlpf/models_trained_CLD/test_L_tracking9/_epoch=30.ckpt\" \n",
    "model = GravnetModel.load_from_checkpoint(\n",
    "load_model_weights, args=args, dev=0\n",
    ")"
   ]
  },
  {
   "cell_type": "code",
   "execution_count": null,
   "metadata": {},
   "outputs": [],
   "source": []
  },
  {
   "cell_type": "code",
   "execution_count": null,
   "metadata": {},
   "outputs": [],
   "source": []
  },
  {
   "cell_type": "code",
   "execution_count": null,
   "metadata": {},
   "outputs": [],
   "source": []
  }
 ],
 "metadata": {
  "kernelspec": {
   "display_name": "Python 3.10.11 ('graphgps': conda)",
   "language": "python",
   "name": "python3"
  },
  "language_info": {
   "codemirror_mode": {
    "name": "ipython",
    "version": 3
   },
   "file_extension": ".py",
   "mimetype": "text/x-python",
   "name": "python",
   "nbconvert_exporter": "python",
   "pygments_lexer": "ipython3",
   "version": "3.10.12"
  },
  "vscode": {
   "interpreter": {
    "hash": "f1db199df8f75d900d458855decbcf5956490222a21736f6416c2999d256400d"
   }
  }
 },
 "nbformat": 4,
 "nbformat_minor": 0
}
