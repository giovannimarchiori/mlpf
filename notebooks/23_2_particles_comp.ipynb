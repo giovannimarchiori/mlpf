{
 "cells": [
  {
   "cell_type": "code",
   "execution_count": 2,
   "metadata": {},
   "outputs": [],
   "source": [
    "import gzip\n",
    "import pickle \n",
    "import mplhep as hep\n",
    "hep.style.use(\"CMS\")\n",
    "import matplotlib\n",
    "matplotlib.rc('font', size=15)\n",
    "import numpy as np\n",
    "import torch \n",
    "import pandas as pd\n",
    "import numpy as np\n",
    "import plotly.express as px\n",
    "import sys\n",
    "sys.path.append(\"/afs/cern.ch/work/m/mgarciam/private/mlpf/\")\n",
    "from sklearn.cluster import DBSCAN, HDBSCAN\n",
    "from torch_scatter import scatter_max, scatter_add, scatter_mean\n",
    "from src.layers.inference_oc import get_clustering, obtain_intersection_values\n",
    "from scipy.optimize import linear_sum_assignment\n",
    "import numpy as np\n",
    "import matplotlib.pyplot as plt"
   ]
  },
  {
   "cell_type": "code",
   "execution_count": 5,
   "metadata": {},
   "outputs": [],
   "source": [
    "from src.utils.inference.pandas_helpers import open_mlpf_dataframe\n",
    "list_all_df_hdb = []\n",
    "path_hgcal = \"/eos/user/m/mgarciam/datasets_mlpf/models_trained_CLD/eval_comp_drs/showers_df_evaluation/0_0_None_hdbscan_005_cc_ee_180225.pt\"\n",
    "sd_hgb_ee_005, matched_hgb = open_mlpf_dataframe(path_hgcal, False)\n",
    "path_hgcal = \"/eos/user/m/mgarciam/datasets_mlpf/models_trained_CLD/eval_comp_drs/showers_df_evaluation/0_0_None_pandora_005_cc_ee_180225.pt\"\n",
    "sd_pandora_ee_005, matched_hgbq1 = open_mlpf_dataframe(path_hgcal, False)\n",
    "path_hgcal = \"/eos/user/m/mgarciam/datasets_mlpf/models_trained_CLD/eval_comp_drs/showers_df_evaluation/0_0_None_hdbscan_001_cc_ee_180225.pt\"\n",
    "sd_hgb_ee_001, matched_hgb = open_mlpf_dataframe(path_hgcal, False)\n",
    "path_hgcal = \"/eos/user/m/mgarciam/datasets_mlpf/models_trained_CLD/eval_comp_drs/showers_df_evaluation/0_0_None_pandora_001_cc_ee_180225.pt\"\n",
    "sd_pandora_ee_001, matched_hgbq1 = open_mlpf_dataframe(path_hgcal, False)\n",
    "path_hgcal = \"/eos/user/m/mgarciam/datasets_mlpf/models_trained_CLD/eval_comp_drs/showers_df_evaluation/0_0_None_hdbscan_01_cc_180225.pt\"\n",
    "sd_hgb_ee_01, matched_hgb = open_mlpf_dataframe(path_hgcal, False)\n",
    "path_hgcal = \"/eos/user/m/mgarciam/datasets_mlpf/models_trained_CLD/eval_comp_drs/showers_df_evaluation/0_0_None_pandora_01_cc_180225.pt\"\n",
    "sd_pandora_ee_01, matched_hgbq1 = open_mlpf_dataframe(path_hgcal, False)\n",
    "\n",
    "# path_hgcal = \"/eos/user/m/mgarciam/datasets_mlpf/models_trained_CLD/eval_comp_drs/showers_df_evaluation/0_0_None_hdbscan_005_cc_180225.pt\"\n",
    "# sd_hgb_cc_005, matched_hgb = open_mlpf_dataframe(path_hgcal, False)\n",
    "# path_hgcal = \"/eos/user/m/mgarciam/datasets_mlpf/models_trained_CLD/eval_comp_drs/showers_df_evaluation/0_0_None_pandora_005_cc_180225.pt\"\n",
    "# sd_pandora_cc_005, matched_hgbq1 = open_mlpf_dataframe(path_hgcal, False)\n",
    "path_hgcal = \"/eos/user/m/mgarciam/datasets_mlpf/models_trained_CLD/eval_comp_drs/showers_df_evaluation/0_0_None_hdbscan_001_cc_180225.pt\"\n",
    "sd_hgb_cc_001, matched_hgb = open_mlpf_dataframe(path_hgcal, False)\n",
    "path_hgcal = \"/eos/user/m/mgarciam/datasets_mlpf/models_trained_CLD/eval_comp_drs/showers_df_evaluation/0_0_None_pandora_001_cc_180225.pt\"\n",
    "sd_pandora_cc_001, matched_hgbq1 = open_mlpf_dataframe(path_hgcal, False)\n",
    "path_hgcal = \"/eos/user/m/mgarciam/datasets_mlpf/models_trained_CLD/eval_comp_drs/showers_df_evaluation/0_0_None_hdbscan_01_cc_ee_180225.pt\"\n",
    "sd_hgb_cc_01, matched_hgb = open_mlpf_dataframe(path_hgcal, False)\n",
    "path_hgcal = \"/eos/user/m/mgarciam/datasets_mlpf/models_trained_CLD/eval_comp_drs/showers_df_evaluation/0_0_None_pandora_01_cc_ee_180225.pt\"\n",
    "sd_pandora_cc_01, matched_hgbq1 = open_mlpf_dataframe(path_hgcal, False)"
   ]
  },
  {
   "cell_type": "code",
   "execution_count": 7,
   "metadata": {},
   "outputs": [],
   "source": [
    "labels_ee = [\"005 ee\", \"001 ee\", \"01 ee\", \"001 cc\", \"01 cc\"]\n",
    "sd = [sd_hgb_ee_005,sd_hgb_ee_001, sd_hgb_ee_01,sd_hgb_cc_001, sd_hgb_cc_01]\n",
    "sd_pandora = [sd_pandora_ee_005,sd_pandora_ee_001, sd_pandora_ee_01 ,sd_pandora_cc_001, sd_pandora_cc_01 ]\n",
    "pid_ckeck = [11, 11, 11, 211, 211]\n",
    "eff =[ ]\n",
    "eff_pandora =[]\n",
    "for i,dic  in enumerate(sd):\n",
    "    eff_dic = len(dic[(np.abs(dic[\"pid\"])==pid_ckeck[i])*(dic[\"true_showers_E\"]>3)*(~np.isnan(dic[\"pred_showers_E\"]))])/  len(dic[(np.abs(dic[\"pid\"])==pid_ckeck[i])*(dic[\"true_showers_E\"])>3])\n",
    "    eff.append(eff_dic)\n",
    "for i,dic  in enumerate(sd_pandora):\n",
    "    eff_dic = len(dic[(np.abs(dic[\"pid\"])==pid_ckeck[i])*(dic[\"true_showers_E\"]>3)*(~np.isnan(dic[\"pred_showers_E\"]))])/ len(dic[(np.abs(dic[\"pid\"])==pid_ckeck[i])*(dic[\"true_showers_E\"])>3])\n",
    "    eff_pandora.append(eff_dic)"
   ]
  },
  {
   "cell_type": "code",
   "execution_count": 8,
   "metadata": {},
   "outputs": [
    {
     "data": {
      "image/png": "[encoded data removed]",
      "text/plain": [
       "<Figure size 500x500 with 1 Axes>"
      ]
     },
     "metadata": {},
     "output_type": "display_data"
    }
   ],
   "source": [
    "plt.figure(figsize=(5,5))\n",
    "plt.bar(range(len(eff)), eff, align='center', fill=False,edgecolor=\"red\")\n",
    "plt.bar(range(len(eff_pandora)), eff_pandora, align='center', fill=False,edgecolor=\"blue\")\n",
    "plt.xticks(range(len(labels_ee)), labels_ee, size='small')\n",
    "plt.ylim([0.7,1.05])\n",
    "plt.show()"
   ]
  },
  {
   "cell_type": "code",
   "execution_count": 48,
   "metadata": {},
   "outputs": [
    {
     "data": {
      "text/html": [
       "<div>\n",
       "<style scoped>\n",
       "    .dataframe tbody tr th:only-of-type {\n",
       "        vertical-align: middle;\n",
       "    }\n",
       "\n",
       "    .dataframe tbody tr th {\n",
       "        vertical-align: top;\n",
       "    }\n",
       "\n",
       "    .dataframe thead th {\n",
       "        text-align: right;\n",
       "    }\n",
       "</style>\n",
       "<table border=\"1\" class=\"dataframe\">\n",
       "  <thead>\n",
       "    <tr style=\"text-align: right;\">\n",
       "      <th></th>\n",
       "      <th>true_showers_E</th>\n",
       "      <th>reco_showers_E</th>\n",
       "      <th>pred_showers_E</th>\n",
       "      <th>e_pred_and_truth</th>\n",
       "      <th>pandora_calibrated_E</th>\n",
       "      <th>pandora_calibrated_pfo</th>\n",
       "      <th>pandora_calibrated_pos</th>\n",
       "      <th>pandora_ref_pt</th>\n",
       "      <th>pid</th>\n",
       "      <th>pandora_pid</th>\n",
       "      <th>...</th>\n",
       "      <th>is_track_in_MC</th>\n",
       "      <th>distance_to_cluster_MC</th>\n",
       "      <th>vertex</th>\n",
       "      <th>ECAL_hits</th>\n",
       "      <th>HCAL_hits</th>\n",
       "      <th>ECAL_hits_true</th>\n",
       "      <th>HCAL_hits_true</th>\n",
       "      <th>delta_MC</th>\n",
       "      <th>true_pos</th>\n",
       "      <th>pid_4_class_true</th>\n",
       "    </tr>\n",
       "  </thead>\n",
       "  <tbody>\n",
       "    <tr>\n",
       "      <th>3</th>\n",
       "      <td>4.534812</td>\n",
       "      <td>7.128200</td>\n",
       "      <td>NaN</td>\n",
       "      <td>NaN</td>\n",
       "      <td>NaN</td>\n",
       "      <td>NaN</td>\n",
       "      <td>[nan, nan, nan]</td>\n",
       "      <td>[nan, nan, nan]</td>\n",
       "      <td>11.0</td>\n",
       "      <td>NaN</td>\n",
       "      <td>...</td>\n",
       "      <td>0</td>\n",
       "      <td>0.0</td>\n",
       "      <td>[913.0114135742188, 420.4281005859375, -285.76...</td>\n",
       "      <td>NaN</td>\n",
       "      <td>NaN</td>\n",
       "      <td>180.0</td>\n",
       "      <td>0.0</td>\n",
       "      <td>0.015904</td>\n",
       "      <td>[3.9686033725738525, 1.810156226158142, -1.240...</td>\n",
       "      <td>0.0</td>\n",
       "    </tr>\n",
       "    <tr>\n",
       "      <th>4</th>\n",
       "      <td>3.597209</td>\n",
       "      <td>11.687067</td>\n",
       "      <td>NaN</td>\n",
       "      <td>NaN</td>\n",
       "      <td>NaN</td>\n",
       "      <td>NaN</td>\n",
       "      <td>[nan, nan, nan]</td>\n",
       "      <td>[nan, nan, nan]</td>\n",
       "      <td>-11.0</td>\n",
       "      <td>NaN</td>\n",
       "      <td>...</td>\n",
       "      <td>0</td>\n",
       "      <td>0.0</td>\n",
       "      <td>[-533.3001098632812, -2058.228759765625, -90.4...</td>\n",
       "      <td>NaN</td>\n",
       "      <td>NaN</td>\n",
       "      <td>142.0</td>\n",
       "      <td>0.0</td>\n",
       "      <td>0.000299</td>\n",
       "      <td>[-0.8933136463165283, -3.481126070022583, -0.1...</td>\n",
       "      <td>0.0</td>\n",
       "    </tr>\n",
       "  </tbody>\n",
       "</table>\n",
       "<p>2 rows × 24 columns</p>\n",
       "</div>"
      ],
      "text/plain": [
       "   true_showers_E  reco_showers_E  pred_showers_E  e_pred_and_truth  \\\n",
       "3        4.534812        7.128200             NaN               NaN   \n",
       "4        3.597209       11.687067             NaN               NaN   \n",
       "\n",
       "   pandora_calibrated_E  pandora_calibrated_pfo pandora_calibrated_pos  \\\n",
       "3                   NaN                     NaN        [nan, nan, nan]   \n",
       "4                   NaN                     NaN        [nan, nan, nan]   \n",
       "\n",
       "    pandora_ref_pt   pid  pandora_pid  ...  is_track_in_MC  \\\n",
       "3  [nan, nan, nan]  11.0          NaN  ...               0   \n",
       "4  [nan, nan, nan] -11.0          NaN  ...               0   \n",
       "\n",
       "   distance_to_cluster_MC                                             vertex  \\\n",
       "3                     0.0  [913.0114135742188, 420.4281005859375, -285.76...   \n",
       "4                     0.0  [-533.3001098632812, -2058.228759765625, -90.4...   \n",
       "\n",
       "   ECAL_hits  HCAL_hits  ECAL_hits_true HCAL_hits_true  delta_MC  \\\n",
       "3        NaN        NaN           180.0            0.0  0.015904   \n",
       "4        NaN        NaN           142.0            0.0  0.000299   \n",
       "\n",
       "                                            true_pos  pid_4_class_true  \n",
       "3  [3.9686033725738525, 1.810156226158142, -1.240...               0.0  \n",
       "4  [-0.8933136463165283, -3.481126070022583, -0.1...               0.0  \n",
       "\n",
       "[2 rows x 24 columns]"
      ]
     },
     "execution_count": 48,
     "metadata": {},
     "output_type": "execute_result"
    }
   ],
   "source": [
    "sd_pandora_ee_001[(np.abs(sd_pandora_ee_001[\"pid\"])==11)*(sd_pandora_ee_001[\"true_showers_E\"]>3)*(np.isnan(sd_pandora_ee_001[\"pred_showers_E\"]))]"
   ]
  },
  {
   "cell_type": "code",
   "execution_count": null,
   "metadata": {},
   "outputs": [
    {
     "ename": "",
     "evalue": "",
     "output_type": "error",
     "traceback": [
      "\u001b[1;31mThe Kernel crashed while executing code in the current cell or a previous cell. \n",
      "\u001b[1;31mPlease review the code in the cell(s) to identify a possible cause of the failure. \n",
      "\u001b[1;31mClick <a href='https://aka.ms/vscodeJupyterKernelCrash'>here</a> for more info. \n",
      "\u001b[1;31mView Jupyter <a href='command:jupyter.viewOutput'>log</a> for further details."
     ]
    }
   ],
   "source": [
    "sd_hgb_ee_001[(np.abs(sd_hgb_ee_001[\"pid\"])==11)*(sd_hgb_ee_001[\"true_showers_E\"]>3)*(np.isnan(sd_hgb_ee_001[\"pred_showers_E\"]))]"
   ]
  },
  {
   "cell_type": "code",
   "execution_count": null,
   "metadata": {},
   "outputs": [],
   "source": []
  }
 ],
 "metadata": {
  "kernelspec": {
   "display_name": "Python 3.10.11 ('graphgps': conda)",
   "language": "python",
   "name": "python3"
  },
  "language_info": {
   "codemirror_mode": {
    "name": "ipython",
    "version": 3
   },
   "file_extension": ".py",
   "mimetype": "text/x-python",
   "name": "python",
   "nbconvert_exporter": "python",
   "pygments_lexer": "ipython3",
   "version": "3.10.12"
  },
  "orig_nbformat": 4,
  "vscode": {
   "interpreter": {
    "hash": "f1db199df8f75d900d458855decbcf5956490222a21736f6416c2999d256400d"
   }
  }
 },
 "nbformat": 4,
 "nbformat_minor": 2
}
